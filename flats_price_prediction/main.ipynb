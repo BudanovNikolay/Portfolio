{
 "cells": [
  {
   "cell_type": "markdown",
   "id": "GEqQaHzsZ_bA",
   "metadata": {
    "id": "GEqQaHzsZ_bA"
   },
   "source": [
    "## Предсказание стоимости жилья\n",
    "\n",
    "Нужно обучить модель линейной регрессии на данных о жилье в Калифорнии в 1990 году. На основе данных нужно предсказать медианную стоимость дома в жилом массиве. Сделать предсказания на тестовой выборке. Для оценки качества модели использовать метрики RMSE, MAE и R2."
   ]
  },
  {
   "cell_type": "code",
   "execution_count": 1,
   "id": "98e4f703",
   "metadata": {},
   "outputs": [],
   "source": [
    "import pyspark\n",
    "import pandas as pd\n",
    "from pyspark.sql import SparkSession\n",
    "from pyspark.sql.types import *\n",
    "from pyspark.sql import functions as F\n",
    "from pyspark.ml.feature import StringIndexer, VectorAssembler, StandardScaler, OneHotEncoder\n",
    "from pyspark.ml.regression import LinearRegression\n",
    "from pyspark.ml.evaluation import RegressionEvaluator"
   ]
  },
  {
   "cell_type": "code",
   "execution_count": 2,
   "id": "4c3a1eb0",
   "metadata": {},
   "outputs": [],
   "source": [
    "spark = SparkSession.builder \\\n",
    "                    .master(\"local\") \\\n",
    "                    .appName(\"Learning DataFrame Window Functions\") \\\n",
    "                    .getOrCreate()"
   ]
  },
  {
   "cell_type": "code",
   "execution_count": 3,
   "id": "92d0f271",
   "metadata": {},
   "outputs": [
    {
     "name": "stderr",
     "output_type": "stream",
     "text": [
      "                                                                                \r"
     ]
    }
   ],
   "source": [
    "main_df = spark.read.load('/datasets/housing.csv', format=\"csv\", sep=\",\", inferSchema=True, header=\"true\")\n",
    "rename_cols = False"
   ]
  },
  {
   "cell_type": "markdown",
   "id": "c97cc262",
   "metadata": {},
   "source": [
    "## Data preprocessing"
   ]
  },
  {
   "cell_type": "code",
   "execution_count": 4,
   "id": "839f5fa7",
   "metadata": {},
   "outputs": [
    {
     "name": "stdout",
     "output_type": "stream",
     "text": [
      "+---------+--------+------------------+-----------+--------------+----------+----------+-------------+------------------+---------------+\n",
      "|longitude|latitude|housing_median_age|total_rooms|total_bedrooms|population|households|median_income|median_house_value|ocean_proximity|\n",
      "+---------+--------+------------------+-----------+--------------+----------+----------+-------------+------------------+---------------+\n",
      "|  -122.23|   37.88|              41.0|      880.0|         129.0|     322.0|     126.0|       8.3252|          452600.0|       NEAR BAY|\n",
      "|  -122.22|   37.86|              21.0|     7099.0|        1106.0|    2401.0|    1138.0|       8.3014|          358500.0|       NEAR BAY|\n",
      "|  -122.24|   37.85|              52.0|     1467.0|         190.0|     496.0|     177.0|       7.2574|          352100.0|       NEAR BAY|\n",
      "|  -122.25|   37.85|              52.0|     1274.0|         235.0|     558.0|     219.0|       5.6431|          341300.0|       NEAR BAY|\n",
      "|  -122.25|   37.85|              52.0|     1627.0|         280.0|     565.0|     259.0|       3.8462|          342200.0|       NEAR BAY|\n",
      "+---------+--------+------------------+-----------+--------------+----------+----------+-------------+------------------+---------------+\n",
      "only showing top 5 rows\n",
      "\n"
     ]
    }
   ],
   "source": [
    "main_df.show(5)"
   ]
  },
  {
   "cell_type": "code",
   "execution_count": 5,
   "id": "954ccac4",
   "metadata": {},
   "outputs": [],
   "source": [
    "numeric_columns = main_df.columns\n",
    "numeric_columns.remove('ocean_proximity')\n",
    "numeric_columns.remove('median_house_value')"
   ]
  },
  {
   "cell_type": "code",
   "execution_count": 6,
   "id": "91a9f319",
   "metadata": {
    "scrolled": false
   },
   "outputs": [
    {
     "name": "stdout",
     "output_type": "stream",
     "text": [
      "root\n",
      " |-- longitude: double (nullable = true)\n",
      " |-- latitude: double (nullable = true)\n",
      " |-- housing_median_age: double (nullable = true)\n",
      " |-- total_rooms: double (nullable = true)\n",
      " |-- total_bedrooms: double (nullable = true)\n",
      " |-- population: double (nullable = true)\n",
      " |-- households: double (nullable = true)\n",
      " |-- median_income: double (nullable = true)\n",
      " |-- median_house_value: double (nullable = true)\n",
      " |-- ocean_proximity: string (nullable = true)\n",
      "\n"
     ]
    }
   ],
   "source": [
    "main_df.printSchema()"
   ]
  },
  {
   "cell_type": "code",
   "execution_count": 7,
   "id": "d69645cf",
   "metadata": {},
   "outputs": [],
   "source": [
    "for col in numeric_columns:\n",
    "        main_df = main_df.withColumn(col, main_df[col].cast(FloatType()))"
   ]
  },
  {
   "cell_type": "code",
   "execution_count": 8,
   "id": "5975c83f",
   "metadata": {},
   "outputs": [],
   "source": [
    "main_df = main_df.withColumn('median_house_value', main_df['median_house_value'].cast(FloatType()))"
   ]
  },
  {
   "cell_type": "markdown",
   "id": "23042f78",
   "metadata": {},
   "source": [
    "### Check for dublicates"
   ]
  },
  {
   "cell_type": "code",
   "execution_count": 9,
   "id": "b86be057",
   "metadata": {
    "scrolled": false
   },
   "outputs": [
    {
     "name": "stderr",
     "output_type": "stream",
     "text": [
      "[Stage 6:=================================================>     (181 + 1) / 200]\r"
     ]
    },
    {
     "name": "stdout",
     "output_type": "stream",
     "text": [
      "did not found dublicates\n"
     ]
    },
    {
     "name": "stderr",
     "output_type": "stream",
     "text": [
      "                                                                                \r"
     ]
    }
   ],
   "source": [
    "if main_df.count() > main_df.dropDuplicates().count():\n",
    "    main_df = main_df.dropDuplicates()\n",
    "    print('dublicates was delate')\n",
    "else:\n",
    "    print('did not found dublicates')"
   ]
  },
  {
   "cell_type": "markdown",
   "id": "e4b4c7e9",
   "metadata": {},
   "source": [
    "### Check for null values"
   ]
  },
  {
   "cell_type": "code",
   "execution_count": 10,
   "id": "8bb69781",
   "metadata": {
    "scrolled": true
   },
   "outputs": [
    {
     "name": "stdout",
     "output_type": "stream",
     "text": [
      "total_bedrooms\n",
      "count null values:  207\n",
      "==================\n"
     ]
    }
   ],
   "source": [
    "for col in main_df.columns:\n",
    "    null_rows = main_df.filter(F.isnull(col))\n",
    "    count_null = null_rows.count()\n",
    "    if count_null > 0:\n",
    "        print(col)\n",
    "        print('count null values: ', count_null)\n",
    "        print('==================')"
   ]
  },
  {
   "cell_type": "code",
   "execution_count": 11,
   "id": "ebff2b4a",
   "metadata": {},
   "outputs": [],
   "source": [
    "mean_total_bedrooms = main_df.select(F.mean(main_df['total_bedrooms'])).collect()[0][0]"
   ]
  },
  {
   "cell_type": "code",
   "execution_count": 12,
   "id": "312f82b4",
   "metadata": {},
   "outputs": [],
   "source": [
    "main_df = main_df.fillna({'total_bedrooms': mean_total_bedrooms})"
   ]
  },
  {
   "cell_type": "code",
   "execution_count": 13,
   "id": "4bf870e3",
   "metadata": {},
   "outputs": [
    {
     "data": {
      "text/plain": [
       "0"
      ]
     },
     "execution_count": 13,
     "metadata": {},
     "output_type": "execute_result"
    }
   ],
   "source": [
    "null_rows = main_df.filter(F.isnull('total_bedrooms'))\n",
    "null_rows.count()"
   ]
  },
  {
   "cell_type": "markdown",
   "id": "53871372",
   "metadata": {
    "id": "53871372"
   },
   "source": [
    "## Data preparation"
   ]
  },
  {
   "cell_type": "code",
   "execution_count": 14,
   "id": "4f1855c6",
   "metadata": {},
   "outputs": [],
   "source": [
    "train_data, test_data = main_df.randomSplit([0.8,0.2], seed=123456)"
   ]
  },
  {
   "cell_type": "markdown",
   "id": "6525bc95",
   "metadata": {},
   "source": [
    "<b> assembler function<b>"
   ]
  },
  {
   "cell_type": "code",
   "execution_count": 15,
   "id": "74ad059c",
   "metadata": {},
   "outputs": [],
   "source": [
    "def assembler(data, columns, values_type):\n",
    "    \n",
    "    if values_type == 'categorical':\n",
    "        asm = VectorAssembler(inputCols=[c+'_ohe' for c in columns], outputCol=\"categorical_features\")\n",
    "        return asm.transform(data)\n",
    "    \n",
    "    elif values_type == 'numeric':\n",
    "        asm = VectorAssembler(inputCols=columns, outputCol=\"numerical_features\")\n",
    "        return asm.transform(data) "
   ]
  },
  {
   "cell_type": "markdown",
   "id": "d9b033fa",
   "metadata": {
    "id": "df92e3ec"
   },
   "source": [
    "### creating DF without categorical values"
   ]
  },
  {
   "cell_type": "markdown",
   "id": "74ef07b0",
   "metadata": {},
   "source": [
    "### string Index"
   ]
  },
  {
   "cell_type": "code",
   "execution_count": 16,
   "id": "9936d4db",
   "metadata": {
    "scrolled": true
   },
   "outputs": [
    {
     "name": "stderr",
     "output_type": "stream",
     "text": [
      "                                                                                \r"
     ]
    }
   ],
   "source": [
    "indexer = StringIndexer(inputCols=['ocean_proximity'], \n",
    "                        outputCols=['ocean_proximity_idx'],\n",
    "                        handleInvalid = 'error')\n",
    "indexer_fited = indexer.fit(train_data)\n",
    "\n",
    "train_data_idx = indexer_fited.transform(train_data)\n",
    "test_data_idx = indexer_fited.transform(test_data)"
   ]
  },
  {
   "cell_type": "markdown",
   "id": "883f93dd",
   "metadata": {},
   "source": [
    "### OHE"
   ]
  },
  {
   "cell_type": "code",
   "execution_count": 17,
   "id": "b6a44f1b",
   "metadata": {},
   "outputs": [],
   "source": [
    "def ohe_transformation(data, categorical_cols):\n",
    "    encoder = OneHotEncoder(inputCols=[c+'_idx' for c in categorical_cols], \n",
    "                            outputCols=[c+'_ohe' for c in categorical_cols])\n",
    "    \n",
    "    return encoder.fit(data).transform(data)"
   ]
  },
  {
   "cell_type": "code",
   "execution_count": 18,
   "id": "44d258bd",
   "metadata": {},
   "outputs": [],
   "source": [
    "train_data_ohe = ohe_transformation(train_data_idx, ['ocean_proximity'])\n",
    "test_data_ohe = ohe_transformation(test_data_idx, ['ocean_proximity'])"
   ]
  },
  {
   "cell_type": "code",
   "execution_count": 19,
   "id": "d9b203df",
   "metadata": {},
   "outputs": [],
   "source": [
    "asm_train_data = assembler(train_data_ohe, ['ocean_proximity'], 'categorical')\n",
    "asm_test_data = assembler(test_data_ohe, ['ocean_proximity'], 'categorical')"
   ]
  },
  {
   "cell_type": "markdown",
   "id": "4c83e011",
   "metadata": {},
   "source": [
    "### standardization"
   ]
  },
  {
   "cell_type": "code",
   "execution_count": 20,
   "id": "65f2ac7a",
   "metadata": {},
   "outputs": [],
   "source": [
    "def standardization(data, input_col, output_col):\n",
    "    standard_scaler = StandardScaler(inputCol=input_col, \n",
    "                                     outputCol=output_col)\n",
    "    \n",
    "    return standard_scaler.fit(data).transform(data) "
   ]
  },
  {
   "cell_type": "code",
   "execution_count": 21,
   "id": "be69426f",
   "metadata": {},
   "outputs": [],
   "source": [
    "asm_train_data = assembler(asm_train_data, numeric_columns, 'numeric')\n",
    "asm_test_data = assembler(asm_test_data, numeric_columns, 'numeric')"
   ]
  },
  {
   "cell_type": "code",
   "execution_count": 22,
   "id": "b5e55713",
   "metadata": {
    "scrolled": true
   },
   "outputs": [],
   "source": [
    "train_data_std = standardization(asm_train_data, 'numerical_features', 'numerical_features_scaled')\n",
    "test_data_std = standardization(asm_test_data, 'numerical_features', 'numerical_features_scaled')"
   ]
  },
  {
   "cell_type": "markdown",
   "id": "111c4c65",
   "metadata": {},
   "source": [
    "### creating common assembler and vectors"
   ]
  },
  {
   "cell_type": "code",
   "execution_count": 23,
   "id": "d34a6fa4",
   "metadata": {
    "scrolled": true
   },
   "outputs": [],
   "source": [
    "all_features_col = ['categorical_features', 'numerical_features_scaled']\n",
    "final_assembler = VectorAssembler(inputCols=all_features_col, outputCol='all_features')\n",
    "\n",
    "train_final_assembler = final_assembler.transform(train_data_std)\n",
    "test_final_assembler = final_assembler.transform(test_data_std)"
   ]
  },
  {
   "cell_type": "code",
   "execution_count": 24,
   "id": "c0ae83be",
   "metadata": {
    "scrolled": false
   },
   "outputs": [],
   "source": [
    "all_train_data = train_final_assembler.select(['all_features', 'median_house_value'])\n",
    "all_test_data = test_final_assembler.select(['all_features', 'median_house_value'])"
   ]
  },
  {
   "cell_type": "code",
   "execution_count": 25,
   "id": "db4a65b4",
   "metadata": {},
   "outputs": [],
   "source": [
    "num_train_data = train_final_assembler.select(['numerical_features_scaled', 'median_house_value'])\n",
    "num_test_data = test_final_assembler.select(['numerical_features_scaled', 'median_house_value'])"
   ]
  },
  {
   "cell_type": "markdown",
   "id": "9f0a82f3",
   "metadata": {
    "id": "9f0a82f3"
   },
   "source": [
    "## Model learning"
   ]
  },
  {
   "cell_type": "code",
   "execution_count": 26,
   "id": "5abe6507",
   "metadata": {},
   "outputs": [],
   "source": [
    "TARGET = 'median_house_value'"
   ]
  },
  {
   "cell_type": "code",
   "execution_count": 27,
   "id": "1f34ea37",
   "metadata": {},
   "outputs": [],
   "source": [
    "def show_scores(prediction):   \n",
    "    scores = ['rmse', 'mae', 'r2']\n",
    "    for s in scores:\n",
    "        score = RegressionEvaluator().setLabelCol('median_house_value')\\\n",
    "            .setPredictionCol('prediction')\\\n",
    "            .setMetricName(s)\\\n",
    "            .evaluate(prediction)\n",
    "\n",
    "        print(s,': ', score)"
   ]
  },
  {
   "cell_type": "markdown",
   "id": "595cb274",
   "metadata": {},
   "source": [
    "### Learning without catecorical values"
   ]
  },
  {
   "cell_type": "code",
   "execution_count": 28,
   "id": "bddb08c4",
   "metadata": {
    "id": "bddb08c4",
    "scrolled": false
   },
   "outputs": [
    {
     "name": "stderr",
     "output_type": "stream",
     "text": [
      "23/06/18 15:15:03 WARN Instrumentation: [05d82187] regParam is zero, which might cause numerical instability and overfitting.\n",
      "23/06/18 15:15:04 WARN BLAS: Failed to load implementation from: com.github.fommil.netlib.NativeSystemBLAS\n",
      "23/06/18 15:15:04 WARN BLAS: Failed to load implementation from: com.github.fommil.netlib.NativeRefBLAS\n",
      "23/06/18 15:15:04 WARN LAPACK: Failed to load implementation from: com.github.fommil.netlib.NativeSystemLAPACK\n",
      "23/06/18 15:15:04 WARN LAPACK: Failed to load implementation from: com.github.fommil.netlib.NativeRefLAPACK\n"
     ]
    }
   ],
   "source": [
    "linear_model = LinearRegression(labelCol=TARGET, featuresCol='numerical_features_scaled')\n",
    "linear_model = linear_model.fit(num_train_data)"
   ]
  },
  {
   "cell_type": "code",
   "execution_count": 29,
   "id": "b252158f",
   "metadata": {
    "scrolled": false
   },
   "outputs": [
    {
     "name": "stdout",
     "output_type": "stream",
     "text": [
      "+------------------+------------------+\n",
      "|median_house_value|        prediction|\n",
      "+------------------+------------------+\n",
      "|           94600.0| 168166.5872017471|\n",
      "|           70000.0| 97728.27777123125|\n",
      "|          107000.0|141662.56518132845|\n",
      "|           67000.0|101120.06148363417|\n",
      "|           70200.0|117876.39872245723|\n",
      "+------------------+------------------+\n",
      "only showing top 5 rows\n",
      "\n"
     ]
    }
   ],
   "source": [
    "predictions = linear_model.transform(num_test_data)\n",
    "predictions.select(['median_house_value', 'prediction']).show(5)"
   ]
  },
  {
   "cell_type": "code",
   "execution_count": 30,
   "id": "70fe9e1c",
   "metadata": {},
   "outputs": [
    {
     "name": "stdout",
     "output_type": "stream",
     "text": [
      "rmse :  70194.92668872164\n",
      "mae :  49750.06338169492\n",
      "r2 :  0.6235062921708119\n"
     ]
    }
   ],
   "source": [
    "show_scores(predictions)"
   ]
  },
  {
   "cell_type": "markdown",
   "id": "2d033c26",
   "metadata": {},
   "source": [
    "### Learning with catecorical values"
   ]
  },
  {
   "cell_type": "code",
   "execution_count": 31,
   "id": "fac9348e",
   "metadata": {
    "scrolled": true
   },
   "outputs": [
    {
     "name": "stderr",
     "output_type": "stream",
     "text": [
      "23/06/18 15:15:07 WARN Instrumentation: [bea56b75] regParam is zero, which might cause numerical instability and overfitting.\n",
      "                                                                                \r"
     ]
    }
   ],
   "source": [
    "linear_model_2 = LinearRegression(labelCol=TARGET, featuresCol='all_features')\n",
    "linear_model_2 = linear_model_2.fit(all_train_data)"
   ]
  },
  {
   "cell_type": "code",
   "execution_count": 32,
   "id": "f4868c51",
   "metadata": {
    "scrolled": false
   },
   "outputs": [
    {
     "name": "stdout",
     "output_type": "stream",
     "text": [
      "+------------------+------------------+\n",
      "|median_house_value|        prediction|\n",
      "+------------------+------------------+\n",
      "|           94600.0|199230.31614177395|\n",
      "|           70000.0| 136921.5226259539|\n",
      "|          107000.0|177798.78258546768|\n",
      "|           67000.0|140461.95616019797|\n",
      "|           70200.0|156991.46882058075|\n",
      "+------------------+------------------+\n",
      "only showing top 5 rows\n",
      "\n"
     ]
    }
   ],
   "source": [
    "predictions_2 = linear_model_2.transform(all_test_data)\n",
    "predictions_2.select(['median_house_value', 'prediction']).show(5)"
   ]
  },
  {
   "cell_type": "code",
   "execution_count": 33,
   "id": "0f5a39af",
   "metadata": {
    "scrolled": true
   },
   "outputs": [
    {
     "name": "stdout",
     "output_type": "stream",
     "text": [
      "rmse :  67919.87353278972\n",
      "mae :  48391.5168087972\n",
      "r2 :  0.6475155115921454\n"
     ]
    }
   ],
   "source": [
    "show_scores(predictions_2)"
   ]
  },
  {
   "cell_type": "code",
   "execution_count": 34,
   "id": "dcfddc39",
   "metadata": {},
   "outputs": [],
   "source": [
    "spark.stop()"
   ]
  },
  {
   "cell_type": "markdown",
   "id": "757fd103",
   "metadata": {
    "id": "757fd103"
   },
   "source": [
    "# Анализ результатов"
   ]
  },
  {
   "cell_type": "markdown",
   "id": "8b918efb",
   "metadata": {},
   "source": [
    "Модель c категориальными признаками ожидаемо показала значениие метрик лучше чем модель без категориальный признаков.<br>\n",
    "<b> значение метрик модели с категорильными признаками: </b><br>\n",
    "rmse = 67919.87 <br>\n",
    "mae = 48391.51 <br>\n",
    "r2 = 0.64 <br>\n",
    "<b>значение метрик модели без категорильных признаков: <br></b>\n",
    "rmse =  70194.92<br>\n",
    "mae =  49750.06<br>\n",
    "r2 = 0.62<br>\n",
    "Это может говорить о том, что признак ocean_proximity - удаленность от океана влияет на медианную стоимсоть дома - median_house_value"
   ]
  }
 ],
 "metadata": {
  "ExecuteTimeLog": [
   {
    "duration": 258,
    "start_time": "2023-06-12T08:41:38.649Z"
   },
   {
    "duration": 22951,
    "start_time": "2023-06-12T08:41:47.733Z"
   },
   {
    "duration": 0,
    "start_time": "2023-06-12T08:45:04.859Z"
   },
   {
    "duration": 763,
    "start_time": "2023-06-12T08:46:54.485Z"
   },
   {
    "duration": 241,
    "start_time": "2023-06-12T08:51:35.229Z"
   },
   {
    "duration": 34,
    "start_time": "2023-06-12T08:51:50.405Z"
   },
   {
    "duration": 13,
    "start_time": "2023-06-12T08:52:04.885Z"
   },
   {
    "duration": 2945,
    "start_time": "2023-06-12T08:52:34.197Z"
   },
   {
    "duration": 26,
    "start_time": "2023-06-12T08:52:41.276Z"
   },
   {
    "duration": 838,
    "start_time": "2023-06-12T08:53:05.926Z"
   },
   {
    "duration": 2,
    "start_time": "2023-06-12T08:53:07.332Z"
   },
   {
    "duration": 5,
    "start_time": "2023-06-12T08:53:13.543Z"
   },
   {
    "duration": 692,
    "start_time": "2023-06-12T08:53:45.980Z"
   },
   {
    "duration": 5,
    "start_time": "2023-06-12T08:53:47.860Z"
   },
   {
    "duration": 3,
    "start_time": "2023-06-12T08:53:51.171Z"
   },
   {
    "duration": 5,
    "start_time": "2023-06-12T08:53:51.547Z"
   },
   {
    "duration": 854,
    "start_time": "2023-06-12T08:53:52.342Z"
   },
   {
    "duration": 881,
    "start_time": "2023-06-12T08:53:53.198Z"
   },
   {
    "duration": 62,
    "start_time": "2023-06-12T08:53:54.081Z"
   },
   {
    "duration": 2157,
    "start_time": "2023-06-12T08:54:13.908Z"
   },
   {
    "duration": 18,
    "start_time": "2023-06-12T08:54:16.067Z"
   },
   {
    "duration": 911,
    "start_time": "2023-06-12T08:58:52.042Z"
   },
   {
    "duration": 19,
    "start_time": "2023-06-12T08:58:54.034Z"
   },
   {
    "duration": 974,
    "start_time": "2023-06-12T08:59:42.218Z"
   },
   {
    "duration": 934,
    "start_time": "2023-06-12T08:59:49.833Z"
   },
   {
    "duration": 16,
    "start_time": "2023-06-12T09:00:12.218Z"
   },
   {
    "duration": 2026,
    "start_time": "2023-06-12T09:00:29.995Z"
   },
   {
    "duration": 13,
    "start_time": "2023-06-12T09:01:51.681Z"
   },
   {
    "duration": 14,
    "start_time": "2023-06-12T09:02:11.159Z"
   },
   {
    "duration": 11,
    "start_time": "2023-06-12T09:02:32.969Z"
   },
   {
    "duration": 3,
    "start_time": "2023-06-12T09:02:47.257Z"
   },
   {
    "duration": 3,
    "start_time": "2023-06-12T09:02:54.313Z"
   },
   {
    "duration": 4,
    "start_time": "2023-06-12T09:03:01.049Z"
   },
   {
    "duration": 1269,
    "start_time": "2023-06-12T09:03:13.465Z"
   },
   {
    "duration": 3,
    "start_time": "2023-06-12T09:03:32.544Z"
   },
   {
    "duration": 3,
    "start_time": "2023-06-12T09:03:34.249Z"
   },
   {
    "duration": 13,
    "start_time": "2023-06-12T09:03:47.593Z"
   },
   {
    "duration": 920,
    "start_time": "2023-06-12T09:03:52.025Z"
   },
   {
    "duration": 19,
    "start_time": "2023-06-12T09:03:58.928Z"
   },
   {
    "duration": 12,
    "start_time": "2023-06-12T09:04:00.184Z"
   },
   {
    "duration": 19,
    "start_time": "2023-06-12T09:04:17.218Z"
   },
   {
    "duration": 17,
    "start_time": "2023-06-12T09:04:17.687Z"
   },
   {
    "duration": 12,
    "start_time": "2023-06-12T09:05:12.768Z"
   },
   {
    "duration": 8,
    "start_time": "2023-06-12T09:05:58.489Z"
   },
   {
    "duration": 14,
    "start_time": "2023-06-12T09:06:00.416Z"
   },
   {
    "duration": 981,
    "start_time": "2023-06-12T09:06:07.552Z"
   },
   {
    "duration": 1144,
    "start_time": "2023-06-12T09:06:25.220Z"
   },
   {
    "duration": 7,
    "start_time": "2023-06-12T09:07:27.807Z"
   },
   {
    "duration": 3,
    "start_time": "2023-06-12T09:07:32.599Z"
   },
   {
    "duration": 5,
    "start_time": "2023-06-12T09:07:41.015Z"
   },
   {
    "duration": 8,
    "start_time": "2023-06-12T09:07:52.032Z"
   },
   {
    "duration": 4,
    "start_time": "2023-06-12T09:07:54.975Z"
   },
   {
    "duration": 17,
    "start_time": "2023-06-12T09:08:00.535Z"
   },
   {
    "duration": 8,
    "start_time": "2023-06-12T09:08:00.878Z"
   },
   {
    "duration": 5,
    "start_time": "2023-06-12T09:08:04.670Z"
   },
   {
    "duration": 22,
    "start_time": "2023-06-12T09:08:38.537Z"
   },
   {
    "duration": 4,
    "start_time": "2023-06-12T09:08:44.511Z"
   },
   {
    "duration": 13,
    "start_time": "2023-06-12T09:27:31.377Z"
   },
   {
    "duration": 9,
    "start_time": "2023-06-12T09:27:41.718Z"
   },
   {
    "duration": 136,
    "start_time": "2023-06-12T09:28:02.927Z"
   },
   {
    "duration": 5,
    "start_time": "2023-06-12T09:28:14.269Z"
   },
   {
    "duration": 461,
    "start_time": "2023-06-12T09:28:22.058Z"
   },
   {
    "duration": 15,
    "start_time": "2023-06-12T09:28:29.735Z"
   },
   {
    "duration": 50,
    "start_time": "2023-06-12T09:28:30.007Z"
   },
   {
    "duration": 448,
    "start_time": "2023-06-12T09:28:30.519Z"
   },
   {
    "duration": 10,
    "start_time": "2023-06-12T09:28:45.294Z"
   },
   {
    "duration": 4,
    "start_time": "2023-06-12T09:29:54.692Z"
   },
   {
    "duration": 1091,
    "start_time": "2023-06-12T09:44:50.370Z"
   },
   {
    "duration": 7285,
    "start_time": "2023-06-12T09:47:31.264Z"
   },
   {
    "duration": 5248,
    "start_time": "2023-06-12T09:47:57.694Z"
   },
   {
    "duration": 14,
    "start_time": "2023-06-12T10:01:37.770Z"
   },
   {
    "duration": 9,
    "start_time": "2023-06-12T10:03:17.794Z"
   },
   {
    "duration": 8,
    "start_time": "2023-06-12T10:04:24.054Z"
   },
   {
    "duration": 7,
    "start_time": "2023-06-12T10:04:44.989Z"
   },
   {
    "duration": 21,
    "start_time": "2023-06-12T10:05:47.419Z"
   },
   {
    "duration": 7,
    "start_time": "2023-06-12T10:05:54.035Z"
   },
   {
    "duration": 575,
    "start_time": "2023-06-12T10:06:09.472Z"
   },
   {
    "duration": 257,
    "start_time": "2023-06-12T10:06:17.024Z"
   },
   {
    "duration": 390,
    "start_time": "2023-06-12T10:06:24.884Z"
   },
   {
    "duration": 3,
    "start_time": "2023-06-12T10:07:01.761Z"
   },
   {
    "duration": 250,
    "start_time": "2023-06-12T10:12:37.630Z"
   },
   {
    "duration": 26,
    "start_time": "2023-06-12T10:18:06.896Z"
   },
   {
    "duration": 352,
    "start_time": "2023-06-12T10:18:10.351Z"
   },
   {
    "duration": 211,
    "start_time": "2023-06-12T10:18:29.478Z"
   },
   {
    "duration": 18,
    "start_time": "2023-06-12T10:18:53.238Z"
   },
   {
    "duration": 237,
    "start_time": "2023-06-12T10:20:28.373Z"
   },
   {
    "duration": 418,
    "start_time": "2023-06-12T15:13:35.836Z"
   },
   {
    "duration": 16238,
    "start_time": "2023-06-12T15:13:36.256Z"
   },
   {
    "duration": 10470,
    "start_time": "2023-06-12T15:13:52.496Z"
   },
   {
    "duration": 2319,
    "start_time": "2023-06-12T15:14:02.969Z"
   },
   {
    "duration": 68,
    "start_time": "2023-06-12T15:14:05.290Z"
   },
   {
    "duration": 29,
    "start_time": "2023-06-12T15:14:05.360Z"
   },
   {
    "duration": 276,
    "start_time": "2023-06-12T15:14:05.391Z"
   },
   {
    "duration": 6,
    "start_time": "2023-06-12T15:14:05.669Z"
   },
   {
    "duration": 104,
    "start_time": "2023-06-12T15:14:05.676Z"
   },
   {
    "duration": 879,
    "start_time": "2023-06-12T15:14:05.782Z"
   },
   {
    "duration": 9320,
    "start_time": "2023-06-12T15:14:06.663Z"
   },
   {
    "duration": 12,
    "start_time": "2023-06-12T15:14:16.055Z"
   },
   {
    "duration": 6,
    "start_time": "2023-06-12T15:14:16.069Z"
   },
   {
    "duration": 580,
    "start_time": "2023-06-12T15:14:16.076Z"
   },
   {
    "duration": 583,
    "start_time": "2023-06-12T15:14:36.771Z"
   },
   {
    "duration": 4872,
    "start_time": "2023-06-12T15:16:55.244Z"
   },
   {
    "duration": 4688,
    "start_time": "2023-06-12T15:37:21.613Z"
   },
   {
    "duration": 3688,
    "start_time": "2023-06-12T15:46:25.716Z"
   },
   {
    "duration": 3250,
    "start_time": "2023-06-12T15:47:26.663Z"
   },
   {
    "duration": 102,
    "start_time": "2023-06-12T15:51:00.111Z"
   },
   {
    "duration": 7,
    "start_time": "2023-06-12T15:51:21.562Z"
   },
   {
    "duration": 555,
    "start_time": "2023-06-12T15:52:24.744Z"
   },
   {
    "duration": 7,
    "start_time": "2023-06-12T15:52:35.896Z"
   },
   {
    "duration": 3,
    "start_time": "2023-06-12T15:56:04.170Z"
   },
   {
    "duration": 13,
    "start_time": "2023-06-12T15:56:18.215Z"
   },
   {
    "duration": 11,
    "start_time": "2023-06-12T15:56:53.586Z"
   },
   {
    "duration": 3,
    "start_time": "2023-06-12T15:57:10.599Z"
   },
   {
    "duration": 35,
    "start_time": "2023-06-12T15:57:14.232Z"
   },
   {
    "duration": 86,
    "start_time": "2023-06-12T16:00:41.214Z"
   },
   {
    "duration": 76,
    "start_time": "2023-06-12T16:00:48.169Z"
   },
   {
    "duration": 189,
    "start_time": "2023-06-12T16:01:27.239Z"
   },
   {
    "duration": 326,
    "start_time": "2023-06-12T16:01:39.781Z"
   },
   {
    "duration": 8,
    "start_time": "2023-06-12T16:01:53.190Z"
   },
   {
    "duration": 284,
    "start_time": "2023-06-12T16:03:31.899Z"
   },
   {
    "duration": 255,
    "start_time": "2023-06-12T16:03:36.948Z"
   },
   {
    "duration": 3,
    "start_time": "2023-06-12T16:03:42.390Z"
   },
   {
    "duration": 3,
    "start_time": "2023-06-12T16:03:52.726Z"
   },
   {
    "duration": 4,
    "start_time": "2023-06-12T16:03:56.390Z"
   },
   {
    "duration": 409,
    "start_time": "2023-06-12T16:04:08.675Z"
   },
   {
    "duration": 9,
    "start_time": "2023-06-12T16:05:16.941Z"
   },
   {
    "duration": 125,
    "start_time": "2023-06-12T16:05:28.878Z"
   },
   {
    "duration": 8,
    "start_time": "2023-06-12T16:06:29.412Z"
   },
   {
    "duration": 3,
    "start_time": "2023-06-12T16:06:39.525Z"
   },
   {
    "duration": 493,
    "start_time": "2023-06-13T11:56:35.173Z"
   },
   {
    "duration": 22055,
    "start_time": "2023-06-13T11:56:35.668Z"
   },
   {
    "duration": 13063,
    "start_time": "2023-06-13T11:56:57.726Z"
   },
   {
    "duration": 3125,
    "start_time": "2023-06-13T11:57:10.790Z"
   },
   {
    "duration": 62,
    "start_time": "2023-06-13T11:57:13.918Z"
   },
   {
    "duration": 24,
    "start_time": "2023-06-13T11:57:13.984Z"
   },
   {
    "duration": 329,
    "start_time": "2023-06-13T11:57:14.010Z"
   },
   {
    "duration": 14,
    "start_time": "2023-06-13T11:57:14.341Z"
   },
   {
    "duration": 42,
    "start_time": "2023-06-13T11:57:14.357Z"
   },
   {
    "duration": 937,
    "start_time": "2023-06-13T11:57:14.400Z"
   },
   {
    "duration": 11800,
    "start_time": "2023-06-13T11:57:15.338Z"
   },
   {
    "duration": 7865,
    "start_time": "2023-06-13T11:57:27.140Z"
   },
   {
    "duration": 120,
    "start_time": "2023-06-13T11:57:35.007Z"
   },
   {
    "duration": 26,
    "start_time": "2023-06-13T11:58:45.882Z"
   },
   {
    "duration": 844,
    "start_time": "2023-06-13T11:58:54.595Z"
   },
   {
    "duration": 4,
    "start_time": "2023-06-13T11:59:00.091Z"
   },
   {
    "duration": 369,
    "start_time": "2023-06-13T11:59:08.375Z"
   },
   {
    "duration": 7,
    "start_time": "2023-06-13T11:59:10.097Z"
   },
   {
    "duration": 856,
    "start_time": "2023-06-13T11:59:55.873Z"
   },
   {
    "duration": 35,
    "start_time": "2023-06-13T12:03:16.974Z"
   },
   {
    "duration": 874,
    "start_time": "2023-06-13T12:03:34.291Z"
   },
   {
    "duration": 9,
    "start_time": "2023-06-13T12:04:10.186Z"
   },
   {
    "duration": 62,
    "start_time": "2023-06-13T12:04:31.842Z"
   },
   {
    "duration": 13,
    "start_time": "2023-06-13T12:04:42.342Z"
   },
   {
    "duration": 511,
    "start_time": "2023-06-13T12:05:10.393Z"
   },
   {
    "duration": 17859,
    "start_time": "2023-06-13T12:05:10.906Z"
   },
   {
    "duration": 13018,
    "start_time": "2023-06-13T12:05:28.784Z"
   },
   {
    "duration": 2848,
    "start_time": "2023-06-13T12:05:41.827Z"
   },
   {
    "duration": 96,
    "start_time": "2023-06-13T12:05:44.729Z"
   },
   {
    "duration": 30,
    "start_time": "2023-06-13T12:05:44.829Z"
   },
   {
    "duration": 389,
    "start_time": "2023-06-13T12:05:44.865Z"
   },
   {
    "duration": 11,
    "start_time": "2023-06-13T12:05:45.263Z"
   },
   {
    "duration": 61,
    "start_time": "2023-06-13T12:05:45.276Z"
   },
   {
    "duration": 1053,
    "start_time": "2023-06-13T12:05:45.343Z"
   },
   {
    "duration": 12058,
    "start_time": "2023-06-13T12:05:46.399Z"
   },
   {
    "duration": 8275,
    "start_time": "2023-06-13T12:05:58.462Z"
   },
   {
    "duration": 1558,
    "start_time": "2023-06-13T12:06:06.739Z"
   },
   {
    "duration": 55,
    "start_time": "2023-06-13T12:06:08.300Z"
   },
   {
    "duration": 8,
    "start_time": "2023-06-13T12:06:08.364Z"
   },
   {
    "duration": 176,
    "start_time": "2023-06-13T12:06:49.758Z"
   },
   {
    "duration": 72,
    "start_time": "2023-06-13T12:06:54.691Z"
   },
   {
    "duration": 109,
    "start_time": "2023-06-13T12:07:30.786Z"
   },
   {
    "duration": 304,
    "start_time": "2023-06-13T12:07:40.483Z"
   },
   {
    "duration": 200,
    "start_time": "2023-06-13T12:07:55.523Z"
   },
   {
    "duration": 44,
    "start_time": "2023-06-13T12:08:23.583Z"
   },
   {
    "duration": 174,
    "start_time": "2023-06-13T12:08:42.011Z"
   },
   {
    "duration": 16,
    "start_time": "2023-06-13T12:19:27.918Z"
   },
   {
    "duration": 3,
    "start_time": "2023-06-13T12:27:52.686Z"
   },
   {
    "duration": 6,
    "start_time": "2023-06-13T12:51:10.105Z"
   },
   {
    "duration": 22,
    "start_time": "2023-06-13T12:52:50.167Z"
   },
   {
    "duration": 3,
    "start_time": "2023-06-13T12:52:58.890Z"
   },
   {
    "duration": 4,
    "start_time": "2023-06-13T12:52:59.790Z"
   },
   {
    "duration": 21,
    "start_time": "2023-06-13T12:53:00.166Z"
   },
   {
    "duration": 275,
    "start_time": "2023-06-13T12:53:24.414Z"
   },
   {
    "duration": 6,
    "start_time": "2023-06-13T12:53:43.958Z"
   },
   {
    "duration": 78,
    "start_time": "2023-06-13T12:53:48.390Z"
   },
   {
    "duration": 216,
    "start_time": "2023-06-13T12:54:03.315Z"
   },
   {
    "duration": 639,
    "start_time": "2023-06-13T16:41:22.825Z"
   },
   {
    "duration": 14160,
    "start_time": "2023-06-13T16:41:23.466Z"
   },
   {
    "duration": 7818,
    "start_time": "2023-06-13T16:41:37.629Z"
   },
   {
    "duration": 2289,
    "start_time": "2023-06-13T16:41:45.449Z"
   },
   {
    "duration": 77,
    "start_time": "2023-06-13T16:41:47.741Z"
   },
   {
    "duration": 17,
    "start_time": "2023-06-13T16:41:47.819Z"
   },
   {
    "duration": 196,
    "start_time": "2023-06-13T16:41:47.838Z"
   },
   {
    "duration": 5,
    "start_time": "2023-06-13T16:41:48.035Z"
   },
   {
    "duration": 99,
    "start_time": "2023-06-13T16:41:48.042Z"
   },
   {
    "duration": 792,
    "start_time": "2023-06-13T16:41:48.142Z"
   },
   {
    "duration": 7683,
    "start_time": "2023-06-13T16:41:48.936Z"
   },
   {
    "duration": 4602,
    "start_time": "2023-06-13T16:41:56.621Z"
   },
   {
    "duration": 838,
    "start_time": "2023-06-13T16:42:01.224Z"
   },
   {
    "duration": 80,
    "start_time": "2023-06-13T16:42:02.065Z"
   },
   {
    "duration": 195,
    "start_time": "2023-06-13T16:42:02.147Z"
   },
   {
    "duration": 99,
    "start_time": "2023-06-13T16:42:02.344Z"
   },
   {
    "duration": 75,
    "start_time": "2023-06-13T16:42:02.445Z"
   },
   {
    "duration": 29,
    "start_time": "2023-06-13T16:42:02.521Z"
   },
   {
    "duration": 23,
    "start_time": "2023-06-13T16:42:02.551Z"
   },
   {
    "duration": 2,
    "start_time": "2023-06-13T17:24:39.643Z"
   },
   {
    "duration": 3,
    "start_time": "2023-06-13T17:26:40.887Z"
   },
   {
    "duration": 68,
    "start_time": "2023-06-13T17:28:05.121Z"
   },
   {
    "duration": 156,
    "start_time": "2023-06-13T17:28:30.619Z"
   },
   {
    "duration": 2,
    "start_time": "2023-06-13T17:29:41.338Z"
   },
   {
    "duration": 2,
    "start_time": "2023-06-13T17:30:17.589Z"
   },
   {
    "duration": 4,
    "start_time": "2023-06-13T17:30:50.652Z"
   },
   {
    "duration": 6,
    "start_time": "2023-06-13T17:30:53.183Z"
   },
   {
    "duration": 7,
    "start_time": "2023-06-13T17:31:00.142Z"
   },
   {
    "duration": 3,
    "start_time": "2023-06-13T17:31:00.828Z"
   },
   {
    "duration": 3,
    "start_time": "2023-06-13T17:31:01.436Z"
   },
   {
    "duration": 3,
    "start_time": "2023-06-13T17:31:02.548Z"
   },
   {
    "duration": 135,
    "start_time": "2023-06-13T17:34:38.113Z"
   },
   {
    "duration": 3,
    "start_time": "2023-06-13T17:35:17.633Z"
   },
   {
    "duration": 1729,
    "start_time": "2023-06-13T17:35:18.122Z"
   },
   {
    "duration": 443,
    "start_time": "2023-06-13T17:35:30.841Z"
   },
   {
    "duration": 29,
    "start_time": "2023-06-13T17:37:42.282Z"
   },
   {
    "duration": 3,
    "start_time": "2023-06-13T17:37:49.137Z"
   },
   {
    "duration": 3,
    "start_time": "2023-06-13T17:37:56.418Z"
   },
   {
    "duration": 17,
    "start_time": "2023-06-13T17:38:00.841Z"
   },
   {
    "duration": 3,
    "start_time": "2023-06-13T17:40:02.000Z"
   },
   {
    "duration": 7,
    "start_time": "2023-06-13T17:40:10.284Z"
   },
   {
    "duration": 2,
    "start_time": "2023-06-13T17:40:10.888Z"
   },
   {
    "duration": 135,
    "start_time": "2023-06-13T17:40:11.217Z"
   },
   {
    "duration": 663,
    "start_time": "2023-06-13T17:40:37.087Z"
   },
   {
    "duration": 14388,
    "start_time": "2023-06-13T17:40:37.751Z"
   },
   {
    "duration": 8208,
    "start_time": "2023-06-13T17:40:52.141Z"
   },
   {
    "duration": 2076,
    "start_time": "2023-06-13T17:41:00.350Z"
   },
   {
    "duration": 24,
    "start_time": "2023-06-13T17:41:02.428Z"
   },
   {
    "duration": 17,
    "start_time": "2023-06-13T17:41:02.515Z"
   },
   {
    "duration": 207,
    "start_time": "2023-06-13T17:41:02.534Z"
   },
   {
    "duration": 5,
    "start_time": "2023-06-13T17:41:02.743Z"
   },
   {
    "duration": 26,
    "start_time": "2023-06-13T17:41:02.816Z"
   },
   {
    "duration": 778,
    "start_time": "2023-06-13T17:41:02.843Z"
   },
   {
    "duration": 8118,
    "start_time": "2023-06-13T17:41:03.623Z"
   },
   {
    "duration": 5508,
    "start_time": "2023-06-13T17:41:11.743Z"
   },
   {
    "duration": 995,
    "start_time": "2023-06-13T17:41:17.253Z"
   },
   {
    "duration": 89,
    "start_time": "2023-06-13T17:41:18.251Z"
   },
   {
    "duration": 187,
    "start_time": "2023-06-13T17:41:18.341Z"
   },
   {
    "duration": 116,
    "start_time": "2023-06-13T17:41:18.530Z"
   },
   {
    "duration": 72,
    "start_time": "2023-06-13T17:41:18.648Z"
   },
   {
    "duration": 3,
    "start_time": "2023-06-13T17:41:18.721Z"
   },
   {
    "duration": 1422,
    "start_time": "2023-06-13T17:41:18.726Z"
   },
   {
    "duration": 3,
    "start_time": "2023-06-13T17:41:20.150Z"
   },
   {
    "duration": 2,
    "start_time": "2023-06-13T17:41:20.215Z"
   },
   {
    "duration": 229,
    "start_time": "2023-06-13T17:42:44.647Z"
   },
   {
    "duration": 4,
    "start_time": "2023-06-13T17:58:09.010Z"
   },
   {
    "duration": 118,
    "start_time": "2023-06-13T17:58:12.117Z"
   },
   {
    "duration": 664,
    "start_time": "2023-06-13T17:58:34.292Z"
   },
   {
    "duration": 14502,
    "start_time": "2023-06-13T17:58:34.958Z"
   },
   {
    "duration": 8320,
    "start_time": "2023-06-13T17:58:49.516Z"
   },
   {
    "duration": 2021,
    "start_time": "2023-06-13T17:58:57.838Z"
   },
   {
    "duration": 80,
    "start_time": "2023-06-13T17:58:59.860Z"
   },
   {
    "duration": 17,
    "start_time": "2023-06-13T17:58:59.941Z"
   },
   {
    "duration": 273,
    "start_time": "2023-06-13T17:58:59.960Z"
   },
   {
    "duration": 4,
    "start_time": "2023-06-13T17:59:00.235Z"
   },
   {
    "duration": 86,
    "start_time": "2023-06-13T17:59:00.240Z"
   },
   {
    "duration": 798,
    "start_time": "2023-06-13T17:59:00.328Z"
   },
   {
    "duration": 8896,
    "start_time": "2023-06-13T17:59:01.127Z"
   },
   {
    "duration": 4725,
    "start_time": "2023-06-13T17:59:10.024Z"
   },
   {
    "duration": 1068,
    "start_time": "2023-06-13T17:59:14.750Z"
   },
   {
    "duration": 103,
    "start_time": "2023-06-13T17:59:15.820Z"
   },
   {
    "duration": 113,
    "start_time": "2023-06-13T17:59:15.924Z"
   },
   {
    "duration": 89,
    "start_time": "2023-06-13T17:59:16.039Z"
   },
   {
    "duration": 7,
    "start_time": "2023-06-13T17:59:16.130Z"
   },
   {
    "duration": 78,
    "start_time": "2023-06-13T17:59:16.138Z"
   },
   {
    "duration": 1345,
    "start_time": "2023-06-13T17:59:16.217Z"
   },
   {
    "duration": 0,
    "start_time": "2023-06-13T17:59:17.563Z"
   },
   {
    "duration": 0,
    "start_time": "2023-06-13T17:59:17.564Z"
   },
   {
    "duration": 0,
    "start_time": "2023-06-13T17:59:17.565Z"
   },
   {
    "duration": 89,
    "start_time": "2023-06-13T18:00:06.218Z"
   },
   {
    "duration": 531,
    "start_time": "2023-06-13T18:00:06.526Z"
   },
   {
    "duration": 159,
    "start_time": "2023-06-13T18:00:15.058Z"
   },
   {
    "duration": 91,
    "start_time": "2023-06-13T18:00:34.486Z"
   },
   {
    "duration": 503,
    "start_time": "2023-06-13T18:00:36.251Z"
   },
   {
    "duration": 5,
    "start_time": "2023-06-13T18:01:07.871Z"
   },
   {
    "duration": 434,
    "start_time": "2023-06-13T18:01:09.089Z"
   },
   {
    "duration": 3,
    "start_time": "2023-06-13T18:01:48.867Z"
   },
   {
    "duration": 6,
    "start_time": "2023-06-13T18:01:58.802Z"
   },
   {
    "duration": 597,
    "start_time": "2023-06-13T18:01:59.144Z"
   },
   {
    "duration": 3,
    "start_time": "2023-06-13T18:02:09.545Z"
   },
   {
    "duration": 4,
    "start_time": "2023-06-13T18:02:20.914Z"
   },
   {
    "duration": 124,
    "start_time": "2023-06-13T18:02:21.249Z"
   },
   {
    "duration": 16,
    "start_time": "2023-06-13T18:02:44.706Z"
   },
   {
    "duration": 119,
    "start_time": "2023-06-13T18:02:50.049Z"
   },
   {
    "duration": 682,
    "start_time": "2023-06-13T18:02:56.779Z"
   },
   {
    "duration": 14959,
    "start_time": "2023-06-13T18:02:57.462Z"
   },
   {
    "duration": 8320,
    "start_time": "2023-06-13T18:03:12.424Z"
   },
   {
    "duration": 2174,
    "start_time": "2023-06-13T18:03:20.746Z"
   },
   {
    "duration": 22,
    "start_time": "2023-06-13T18:03:22.922Z"
   },
   {
    "duration": 82,
    "start_time": "2023-06-13T18:03:22.946Z"
   },
   {
    "duration": 210,
    "start_time": "2023-06-13T18:03:23.030Z"
   },
   {
    "duration": 5,
    "start_time": "2023-06-13T18:03:23.242Z"
   },
   {
    "duration": 25,
    "start_time": "2023-06-13T18:03:23.315Z"
   },
   {
    "duration": 719,
    "start_time": "2023-06-13T18:03:23.342Z"
   },
   {
    "duration": 7916,
    "start_time": "2023-06-13T18:03:24.116Z"
   },
   {
    "duration": 4843,
    "start_time": "2023-06-13T18:03:32.034Z"
   },
   {
    "duration": 851,
    "start_time": "2023-06-13T18:03:36.878Z"
   },
   {
    "duration": 107,
    "start_time": "2023-06-13T18:03:37.731Z"
   },
   {
    "duration": 185,
    "start_time": "2023-06-13T18:03:37.840Z"
   },
   {
    "duration": 110,
    "start_time": "2023-06-13T18:03:38.027Z"
   },
   {
    "duration": 9,
    "start_time": "2023-06-13T18:03:38.138Z"
   },
   {
    "duration": 67,
    "start_time": "2023-06-13T18:03:38.149Z"
   },
   {
    "duration": 1721,
    "start_time": "2023-06-13T18:03:38.218Z"
   },
   {
    "duration": 74,
    "start_time": "2023-06-13T18:03:39.942Z"
   },
   {
    "duration": 676,
    "start_time": "2023-06-13T18:03:40.018Z"
   },
   {
    "duration": 0,
    "start_time": "2023-06-13T18:03:40.696Z"
   },
   {
    "duration": 13,
    "start_time": "2023-06-13T18:08:05.751Z"
   },
   {
    "duration": 536,
    "start_time": "2023-06-13T18:08:16.912Z"
   },
   {
    "duration": 591,
    "start_time": "2023-06-13T18:18:37.257Z"
   },
   {
    "duration": 15480,
    "start_time": "2023-06-13T18:18:37.850Z"
   },
   {
    "duration": 9704,
    "start_time": "2023-06-13T18:18:53.332Z"
   },
   {
    "duration": 1996,
    "start_time": "2023-06-13T18:19:03.038Z"
   },
   {
    "duration": 81,
    "start_time": "2023-06-13T18:19:05.036Z"
   },
   {
    "duration": 25,
    "start_time": "2023-06-13T18:19:05.119Z"
   },
   {
    "duration": 303,
    "start_time": "2023-06-13T18:19:05.146Z"
   },
   {
    "duration": 5,
    "start_time": "2023-06-13T18:19:05.516Z"
   },
   {
    "duration": 108,
    "start_time": "2023-06-13T18:19:05.523Z"
   },
   {
    "duration": 785,
    "start_time": "2023-06-13T18:19:05.635Z"
   },
   {
    "duration": 8319,
    "start_time": "2023-06-13T18:19:06.422Z"
   },
   {
    "duration": 5275,
    "start_time": "2023-06-13T18:19:14.743Z"
   },
   {
    "duration": 800,
    "start_time": "2023-06-13T18:19:20.020Z"
   },
   {
    "duration": 117,
    "start_time": "2023-06-13T18:19:20.822Z"
   },
   {
    "duration": 185,
    "start_time": "2023-06-13T18:19:20.940Z"
   },
   {
    "duration": 107,
    "start_time": "2023-06-13T18:19:21.126Z"
   },
   {
    "duration": 9,
    "start_time": "2023-06-13T18:19:21.234Z"
   },
   {
    "duration": 78,
    "start_time": "2023-06-13T18:19:21.244Z"
   },
   {
    "duration": 1515,
    "start_time": "2023-06-13T18:19:21.323Z"
   },
   {
    "duration": 313,
    "start_time": "2023-06-13T18:19:22.840Z"
   },
   {
    "duration": 3,
    "start_time": "2023-06-13T18:19:23.154Z"
   },
   {
    "duration": 218,
    "start_time": "2023-06-13T18:19:23.159Z"
   },
   {
    "duration": 0,
    "start_time": "2023-06-13T18:19:23.378Z"
   },
   {
    "duration": 360,
    "start_time": "2023-06-13T18:20:41.717Z"
   },
   {
    "duration": 1120,
    "start_time": "2023-06-13T18:21:03.506Z"
   },
   {
    "duration": 8,
    "start_time": "2023-06-13T18:21:22.181Z"
   },
   {
    "duration": 437,
    "start_time": "2023-06-13T18:21:27.631Z"
   },
   {
    "duration": 74,
    "start_time": "2023-06-13T18:56:00.746Z"
   },
   {
    "duration": 85,
    "start_time": "2023-06-13T18:56:07.849Z"
   },
   {
    "duration": 2,
    "start_time": "2023-06-13T18:56:12.089Z"
   },
   {
    "duration": 39,
    "start_time": "2023-06-13T18:57:00.617Z"
   },
   {
    "duration": 10,
    "start_time": "2023-06-13T18:57:05.900Z"
   },
   {
    "duration": 479,
    "start_time": "2023-06-13T18:57:20.826Z"
   },
   {
    "duration": 255,
    "start_time": "2023-06-13T18:58:38.440Z"
   },
   {
    "duration": 59,
    "start_time": "2023-06-13T19:00:51.439Z"
   },
   {
    "duration": 3,
    "start_time": "2023-06-13T19:01:05.197Z"
   },
   {
    "duration": 3,
    "start_time": "2023-06-13T19:07:26.888Z"
   },
   {
    "duration": 9,
    "start_time": "2023-06-13T19:09:08.695Z"
   },
   {
    "duration": 13,
    "start_time": "2023-06-13T19:11:00.581Z"
   },
   {
    "duration": 4,
    "start_time": "2023-06-13T19:11:18.018Z"
   },
   {
    "duration": 23,
    "start_time": "2023-06-13T19:11:27.109Z"
   },
   {
    "duration": 373,
    "start_time": "2023-06-13T19:11:41.387Z"
   },
   {
    "duration": 5,
    "start_time": "2023-06-13T19:12:06.091Z"
   },
   {
    "duration": 4,
    "start_time": "2023-06-13T19:13:21.619Z"
   },
   {
    "duration": 2,
    "start_time": "2023-06-13T19:14:38.499Z"
   },
   {
    "duration": 48,
    "start_time": "2023-06-13T19:14:47.250Z"
   },
   {
    "duration": 738,
    "start_time": "2023-06-13T19:15:36.301Z"
   },
   {
    "duration": 15381,
    "start_time": "2023-06-13T19:15:37.040Z"
   },
   {
    "duration": 8898,
    "start_time": "2023-06-13T19:15:52.423Z"
   },
   {
    "duration": 2239,
    "start_time": "2023-06-13T19:16:01.323Z"
   },
   {
    "duration": 89,
    "start_time": "2023-06-13T19:16:03.564Z"
   },
   {
    "duration": 81,
    "start_time": "2023-06-13T19:16:03.655Z"
   },
   {
    "duration": 398,
    "start_time": "2023-06-13T19:16:03.738Z"
   },
   {
    "duration": 5,
    "start_time": "2023-06-13T19:16:04.138Z"
   },
   {
    "duration": 111,
    "start_time": "2023-06-13T19:16:04.145Z"
   },
   {
    "duration": 874,
    "start_time": "2023-06-13T19:16:04.258Z"
   },
   {
    "duration": 9382,
    "start_time": "2023-06-13T19:16:05.134Z"
   },
   {
    "duration": 5126,
    "start_time": "2023-06-13T19:16:14.517Z"
   },
   {
    "duration": 970,
    "start_time": "2023-06-13T19:16:19.646Z"
   },
   {
    "duration": 101,
    "start_time": "2023-06-13T19:16:20.620Z"
   },
   {
    "duration": 114,
    "start_time": "2023-06-13T19:16:20.723Z"
   },
   {
    "duration": 177,
    "start_time": "2023-06-13T19:16:20.838Z"
   },
   {
    "duration": 7,
    "start_time": "2023-06-13T19:16:21.018Z"
   },
   {
    "duration": 17,
    "start_time": "2023-06-13T19:16:21.026Z"
   },
   {
    "duration": 11,
    "start_time": "2023-06-13T19:16:21.045Z"
   },
   {
    "duration": 1558,
    "start_time": "2023-06-13T19:16:21.058Z"
   },
   {
    "duration": 4,
    "start_time": "2023-06-13T19:16:22.618Z"
   },
   {
    "duration": 817,
    "start_time": "2023-06-13T19:16:22.623Z"
   },
   {
    "duration": 106,
    "start_time": "2023-06-13T19:16:23.442Z"
   },
   {
    "duration": 2,
    "start_time": "2023-06-13T19:16:23.550Z"
   },
   {
    "duration": 65,
    "start_time": "2023-06-13T19:16:23.554Z"
   },
   {
    "duration": 224,
    "start_time": "2023-06-13T19:16:23.621Z"
   },
   {
    "duration": 0,
    "start_time": "2023-06-13T19:16:23.846Z"
   },
   {
    "duration": 2,
    "start_time": "2023-06-13T19:19:09.953Z"
   },
   {
    "duration": 2,
    "start_time": "2023-06-13T19:19:12.670Z"
   },
   {
    "duration": 3,
    "start_time": "2023-06-13T19:19:18.441Z"
   },
   {
    "duration": 2,
    "start_time": "2023-06-13T19:19:18.898Z"
   },
   {
    "duration": 3,
    "start_time": "2023-06-13T19:19:30.111Z"
   },
   {
    "duration": 4,
    "start_time": "2023-06-13T19:19:30.480Z"
   },
   {
    "duration": 3,
    "start_time": "2023-06-13T19:19:57.257Z"
   },
   {
    "duration": 2,
    "start_time": "2023-06-13T19:20:03.713Z"
   },
   {
    "duration": 7,
    "start_time": "2023-06-13T19:20:10.001Z"
   },
   {
    "duration": 2,
    "start_time": "2023-06-13T19:20:16.567Z"
   },
   {
    "duration": 3,
    "start_time": "2023-06-13T19:20:16.936Z"
   },
   {
    "duration": 4,
    "start_time": "2023-06-13T19:20:21.323Z"
   },
   {
    "duration": 2,
    "start_time": "2023-06-13T19:22:16.899Z"
   },
   {
    "duration": 4,
    "start_time": "2023-06-13T19:22:22.403Z"
   },
   {
    "duration": 620,
    "start_time": "2023-06-13T19:22:44.330Z"
   },
   {
    "duration": 14987,
    "start_time": "2023-06-13T19:22:44.952Z"
   },
   {
    "duration": 8302,
    "start_time": "2023-06-13T19:22:59.940Z"
   },
   {
    "duration": 1997,
    "start_time": "2023-06-13T19:23:08.245Z"
   },
   {
    "duration": 89,
    "start_time": "2023-06-13T19:23:10.245Z"
   },
   {
    "duration": 17,
    "start_time": "2023-06-13T19:23:10.335Z"
   },
   {
    "duration": 279,
    "start_time": "2023-06-13T19:23:10.354Z"
   },
   {
    "duration": 5,
    "start_time": "2023-06-13T19:23:10.634Z"
   },
   {
    "duration": 97,
    "start_time": "2023-06-13T19:23:10.640Z"
   },
   {
    "duration": 677,
    "start_time": "2023-06-13T19:23:10.739Z"
   },
   {
    "duration": 8099,
    "start_time": "2023-06-13T19:23:11.418Z"
   },
   {
    "duration": 4420,
    "start_time": "2023-06-13T19:23:19.518Z"
   },
   {
    "duration": 999,
    "start_time": "2023-06-13T19:23:23.939Z"
   },
   {
    "duration": 92,
    "start_time": "2023-06-13T19:23:24.941Z"
   },
   {
    "duration": 183,
    "start_time": "2023-06-13T19:23:25.034Z"
   },
   {
    "duration": 117,
    "start_time": "2023-06-13T19:23:25.219Z"
   },
   {
    "duration": 8,
    "start_time": "2023-06-13T19:23:25.338Z"
   },
   {
    "duration": 76,
    "start_time": "2023-06-13T19:23:25.349Z"
   },
   {
    "duration": 13,
    "start_time": "2023-06-13T19:23:25.427Z"
   },
   {
    "duration": 20,
    "start_time": "2023-06-13T19:23:25.442Z"
   },
   {
    "duration": 1299,
    "start_time": "2023-06-13T19:23:25.464Z"
   },
   {
    "duration": 54,
    "start_time": "2023-06-13T19:23:26.764Z"
   },
   {
    "duration": 905,
    "start_time": "2023-06-13T19:23:26.821Z"
   },
   {
    "duration": 103,
    "start_time": "2023-06-13T19:23:27.728Z"
   },
   {
    "duration": 3,
    "start_time": "2023-06-13T19:23:27.832Z"
   },
   {
    "duration": 214,
    "start_time": "2023-06-13T19:23:27.837Z"
   },
   {
    "duration": 0,
    "start_time": "2023-06-13T19:23:28.052Z"
   },
   {
    "duration": 8,
    "start_time": "2023-06-13T19:26:24.841Z"
   },
   {
    "duration": 7,
    "start_time": "2023-06-13T19:29:10.428Z"
   },
   {
    "duration": 681,
    "start_time": "2023-06-13T19:29:29.852Z"
   },
   {
    "duration": 14891,
    "start_time": "2023-06-13T19:29:30.534Z"
   },
   {
    "duration": 8498,
    "start_time": "2023-06-13T19:29:45.426Z"
   },
   {
    "duration": 2008,
    "start_time": "2023-06-13T19:29:53.926Z"
   },
   {
    "duration": 24,
    "start_time": "2023-06-13T19:29:55.936Z"
   },
   {
    "duration": 16,
    "start_time": "2023-06-13T19:29:55.962Z"
   },
   {
    "duration": 357,
    "start_time": "2023-06-13T19:29:55.979Z"
   },
   {
    "duration": 4,
    "start_time": "2023-06-13T19:29:56.337Z"
   },
   {
    "duration": 18,
    "start_time": "2023-06-13T19:29:56.342Z"
   },
   {
    "duration": 130,
    "start_time": "2023-06-13T19:29:56.361Z"
   },
   {
    "duration": 0,
    "start_time": "2023-06-13T19:29:56.494Z"
   },
   {
    "duration": 0,
    "start_time": "2023-06-13T19:29:56.495Z"
   },
   {
    "duration": 0,
    "start_time": "2023-06-13T19:29:56.495Z"
   },
   {
    "duration": 0,
    "start_time": "2023-06-13T19:29:56.496Z"
   },
   {
    "duration": 0,
    "start_time": "2023-06-13T19:29:56.497Z"
   },
   {
    "duration": 0,
    "start_time": "2023-06-13T19:29:56.498Z"
   },
   {
    "duration": 0,
    "start_time": "2023-06-13T19:29:56.499Z"
   },
   {
    "duration": 0,
    "start_time": "2023-06-13T19:29:56.500Z"
   },
   {
    "duration": 0,
    "start_time": "2023-06-13T19:29:56.515Z"
   },
   {
    "duration": 0,
    "start_time": "2023-06-13T19:29:56.516Z"
   },
   {
    "duration": 0,
    "start_time": "2023-06-13T19:29:56.517Z"
   },
   {
    "duration": 0,
    "start_time": "2023-06-13T19:29:56.518Z"
   },
   {
    "duration": 0,
    "start_time": "2023-06-13T19:29:56.519Z"
   },
   {
    "duration": 0,
    "start_time": "2023-06-13T19:29:56.520Z"
   },
   {
    "duration": 0,
    "start_time": "2023-06-13T19:29:56.521Z"
   },
   {
    "duration": 0,
    "start_time": "2023-06-13T19:29:56.522Z"
   },
   {
    "duration": 0,
    "start_time": "2023-06-13T19:29:56.523Z"
   },
   {
    "duration": 0,
    "start_time": "2023-06-13T19:29:56.524Z"
   },
   {
    "duration": 426,
    "start_time": "2023-06-13T19:30:11.805Z"
   },
   {
    "duration": 40,
    "start_time": "2023-06-13T19:30:15.180Z"
   },
   {
    "duration": 319,
    "start_time": "2023-06-13T19:30:15.400Z"
   },
   {
    "duration": 917,
    "start_time": "2023-06-13T19:30:15.824Z"
   },
   {
    "duration": 3000,
    "start_time": "2023-06-13T19:30:16.743Z"
   },
   {
    "duration": 585,
    "start_time": "2023-06-13T19:30:19.745Z"
   },
   {
    "duration": 91,
    "start_time": "2023-06-13T19:30:20.332Z"
   },
   {
    "duration": 0,
    "start_time": "2023-06-13T19:30:20.425Z"
   },
   {
    "duration": 0,
    "start_time": "2023-06-13T19:30:20.427Z"
   },
   {
    "duration": 0,
    "start_time": "2023-06-13T19:30:20.428Z"
   },
   {
    "duration": 0,
    "start_time": "2023-06-13T19:30:20.430Z"
   },
   {
    "duration": 0,
    "start_time": "2023-06-13T19:30:20.431Z"
   },
   {
    "duration": 7,
    "start_time": "2023-06-13T19:30:20.620Z"
   },
   {
    "duration": 4,
    "start_time": "2023-06-13T19:30:31.319Z"
   },
   {
    "duration": 1139,
    "start_time": "2023-06-13T19:30:31.615Z"
   },
   {
    "duration": 3,
    "start_time": "2023-06-13T19:30:34.018Z"
   },
   {
    "duration": 357,
    "start_time": "2023-06-13T19:30:34.371Z"
   },
   {
    "duration": 8,
    "start_time": "2023-06-13T19:30:37.485Z"
   },
   {
    "duration": 4,
    "start_time": "2023-06-13T19:30:43.863Z"
   },
   {
    "duration": 39,
    "start_time": "2023-06-13T19:30:46.989Z"
   },
   {
    "duration": 2,
    "start_time": "2023-06-13T19:30:48.290Z"
   },
   {
    "duration": 30,
    "start_time": "2023-06-13T19:30:48.615Z"
   },
   {
    "duration": 10,
    "start_time": "2023-06-13T19:30:55.253Z"
   },
   {
    "duration": 55,
    "start_time": "2023-06-13T19:30:59.297Z"
   },
   {
    "duration": 45,
    "start_time": "2023-06-13T19:31:05.703Z"
   },
   {
    "duration": 632,
    "start_time": "2023-06-13T19:31:29.923Z"
   },
   {
    "duration": 14363,
    "start_time": "2023-06-13T19:31:30.557Z"
   },
   {
    "duration": 7798,
    "start_time": "2023-06-13T19:31:44.922Z"
   },
   {
    "duration": 2225,
    "start_time": "2023-06-13T19:31:52.722Z"
   },
   {
    "duration": 77,
    "start_time": "2023-06-13T19:31:54.948Z"
   },
   {
    "duration": 17,
    "start_time": "2023-06-13T19:31:55.027Z"
   },
   {
    "duration": 272,
    "start_time": "2023-06-13T19:31:55.046Z"
   },
   {
    "duration": 4,
    "start_time": "2023-06-13T19:31:55.319Z"
   },
   {
    "duration": 91,
    "start_time": "2023-06-13T19:31:55.325Z"
   },
   {
    "duration": 399,
    "start_time": "2023-06-13T19:31:55.420Z"
   },
   {
    "duration": 32,
    "start_time": "2023-06-13T19:31:55.820Z"
   },
   {
    "duration": 287,
    "start_time": "2023-06-13T19:31:55.853Z"
   },
   {
    "duration": 803,
    "start_time": "2023-06-13T19:31:56.142Z"
   },
   {
    "duration": 2292,
    "start_time": "2023-06-13T19:31:56.947Z"
   },
   {
    "duration": 401,
    "start_time": "2023-06-13T19:31:59.241Z"
   },
   {
    "duration": 153,
    "start_time": "2023-06-13T19:31:59.644Z"
   },
   {
    "duration": 0,
    "start_time": "2023-06-13T19:31:59.816Z"
   },
   {
    "duration": 0,
    "start_time": "2023-06-13T19:31:59.817Z"
   },
   {
    "duration": 0,
    "start_time": "2023-06-13T19:31:59.818Z"
   },
   {
    "duration": 0,
    "start_time": "2023-06-13T19:31:59.819Z"
   },
   {
    "duration": 0,
    "start_time": "2023-06-13T19:31:59.820Z"
   },
   {
    "duration": 0,
    "start_time": "2023-06-13T19:31:59.821Z"
   },
   {
    "duration": 0,
    "start_time": "2023-06-13T19:31:59.822Z"
   },
   {
    "duration": 0,
    "start_time": "2023-06-13T19:31:59.822Z"
   },
   {
    "duration": 1,
    "start_time": "2023-06-13T19:31:59.823Z"
   },
   {
    "duration": 0,
    "start_time": "2023-06-13T19:31:59.825Z"
   },
   {
    "duration": 0,
    "start_time": "2023-06-13T19:31:59.825Z"
   },
   {
    "duration": 0,
    "start_time": "2023-06-13T19:31:59.826Z"
   },
   {
    "duration": 612,
    "start_time": "2023-06-13T19:32:26.745Z"
   },
   {
    "duration": 14494,
    "start_time": "2023-06-13T19:32:27.359Z"
   },
   {
    "duration": 7574,
    "start_time": "2023-06-13T19:32:41.856Z"
   },
   {
    "duration": 1885,
    "start_time": "2023-06-13T19:32:49.431Z"
   },
   {
    "duration": 25,
    "start_time": "2023-06-13T19:32:51.317Z"
   },
   {
    "duration": 89,
    "start_time": "2023-06-13T19:32:51.343Z"
   },
   {
    "duration": 296,
    "start_time": "2023-06-13T19:32:51.433Z"
   },
   {
    "duration": 3,
    "start_time": "2023-06-13T19:32:51.731Z"
   },
   {
    "duration": 12,
    "start_time": "2023-06-13T19:32:51.735Z"
   },
   {
    "duration": 468,
    "start_time": "2023-06-13T19:32:51.750Z"
   },
   {
    "duration": 33,
    "start_time": "2023-06-13T19:32:52.220Z"
   },
   {
    "duration": 223,
    "start_time": "2023-06-13T19:32:52.316Z"
   },
   {
    "duration": 808,
    "start_time": "2023-06-13T19:32:52.540Z"
   },
   {
    "duration": 2110,
    "start_time": "2023-06-13T19:32:53.416Z"
   },
   {
    "duration": 413,
    "start_time": "2023-06-13T19:32:55.528Z"
   },
   {
    "duration": 204,
    "start_time": "2023-06-13T19:32:55.943Z"
   },
   {
    "duration": 0,
    "start_time": "2023-06-13T19:32:56.148Z"
   },
   {
    "duration": 0,
    "start_time": "2023-06-13T19:32:56.149Z"
   },
   {
    "duration": 0,
    "start_time": "2023-06-13T19:32:56.150Z"
   },
   {
    "duration": 0,
    "start_time": "2023-06-13T19:32:56.151Z"
   },
   {
    "duration": 0,
    "start_time": "2023-06-13T19:32:56.152Z"
   },
   {
    "duration": 0,
    "start_time": "2023-06-13T19:32:56.153Z"
   },
   {
    "duration": 0,
    "start_time": "2023-06-13T19:32:56.154Z"
   },
   {
    "duration": 0,
    "start_time": "2023-06-13T19:32:56.155Z"
   },
   {
    "duration": 0,
    "start_time": "2023-06-13T19:32:56.156Z"
   },
   {
    "duration": 0,
    "start_time": "2023-06-13T19:32:56.157Z"
   },
   {
    "duration": 0,
    "start_time": "2023-06-13T19:32:56.157Z"
   },
   {
    "duration": 0,
    "start_time": "2023-06-13T19:32:56.216Z"
   },
   {
    "duration": 624,
    "start_time": "2023-06-13T19:33:43.432Z"
   },
   {
    "duration": 14288,
    "start_time": "2023-06-13T19:33:44.058Z"
   },
   {
    "duration": 7789,
    "start_time": "2023-06-13T19:33:58.348Z"
   },
   {
    "duration": 2007,
    "start_time": "2023-06-13T19:34:06.139Z"
   },
   {
    "duration": 24,
    "start_time": "2023-06-13T19:34:08.147Z"
   },
   {
    "duration": 58,
    "start_time": "2023-06-13T19:34:08.173Z"
   },
   {
    "duration": 205,
    "start_time": "2023-06-13T19:34:08.233Z"
   },
   {
    "duration": 3,
    "start_time": "2023-06-13T19:34:08.440Z"
   },
   {
    "duration": 71,
    "start_time": "2023-06-13T19:34:08.445Z"
   },
   {
    "duration": 2,
    "start_time": "2023-06-13T19:34:08.519Z"
   },
   {
    "duration": 25,
    "start_time": "2023-06-13T19:34:08.522Z"
   },
   {
    "duration": 685,
    "start_time": "2023-06-13T19:34:08.549Z"
   },
   {
    "duration": 7506,
    "start_time": "2023-06-13T19:34:09.236Z"
   },
   {
    "duration": 4548,
    "start_time": "2023-06-13T19:34:16.743Z"
   },
   {
    "duration": 823,
    "start_time": "2023-06-13T19:34:21.292Z"
   },
   {
    "duration": 40,
    "start_time": "2023-06-13T19:34:22.117Z"
   },
   {
    "duration": 107,
    "start_time": "2023-06-13T19:34:22.216Z"
   },
   {
    "duration": 109,
    "start_time": "2023-06-13T19:34:22.324Z"
   },
   {
    "duration": 4,
    "start_time": "2023-06-13T19:34:22.435Z"
   },
   {
    "duration": 76,
    "start_time": "2023-06-13T19:34:22.441Z"
   },
   {
    "duration": 4,
    "start_time": "2023-06-13T19:34:22.519Z"
   },
   {
    "duration": 1396,
    "start_time": "2023-06-13T19:34:22.525Z"
   },
   {
    "duration": 4,
    "start_time": "2023-06-13T19:34:23.923Z"
   },
   {
    "duration": 897,
    "start_time": "2023-06-13T19:34:23.928Z"
   },
   {
    "duration": 104,
    "start_time": "2023-06-13T19:34:24.826Z"
   },
   {
    "duration": 3,
    "start_time": "2023-06-13T19:34:24.932Z"
   },
   {
    "duration": 249,
    "start_time": "2023-06-13T19:34:24.936Z"
   },
   {
    "duration": 0,
    "start_time": "2023-06-13T19:34:25.187Z"
   },
   {
    "duration": 670,
    "start_time": "2023-06-13T19:35:45.979Z"
   },
   {
    "duration": 14370,
    "start_time": "2023-06-13T19:35:46.650Z"
   },
   {
    "duration": 7925,
    "start_time": "2023-06-13T19:36:01.022Z"
   },
   {
    "duration": 1898,
    "start_time": "2023-06-13T19:36:08.948Z"
   },
   {
    "duration": 79,
    "start_time": "2023-06-13T19:36:10.848Z"
   },
   {
    "duration": 16,
    "start_time": "2023-06-13T19:36:10.928Z"
   },
   {
    "duration": 275,
    "start_time": "2023-06-13T19:36:10.945Z"
   },
   {
    "duration": 3,
    "start_time": "2023-06-13T19:36:11.221Z"
   },
   {
    "duration": 6,
    "start_time": "2023-06-13T19:36:11.226Z"
   },
   {
    "duration": 3,
    "start_time": "2023-06-13T19:36:11.234Z"
   },
   {
    "duration": 130,
    "start_time": "2023-06-13T19:36:11.238Z"
   },
   {
    "duration": 0,
    "start_time": "2023-06-13T19:36:11.371Z"
   },
   {
    "duration": 0,
    "start_time": "2023-06-13T19:36:11.372Z"
   },
   {
    "duration": 0,
    "start_time": "2023-06-13T19:36:11.372Z"
   },
   {
    "duration": 0,
    "start_time": "2023-06-13T19:36:11.373Z"
   },
   {
    "duration": 0,
    "start_time": "2023-06-13T19:36:11.374Z"
   },
   {
    "duration": 0,
    "start_time": "2023-06-13T19:36:11.375Z"
   },
   {
    "duration": 0,
    "start_time": "2023-06-13T19:36:11.376Z"
   },
   {
    "duration": 0,
    "start_time": "2023-06-13T19:36:11.376Z"
   },
   {
    "duration": 0,
    "start_time": "2023-06-13T19:36:11.377Z"
   },
   {
    "duration": 0,
    "start_time": "2023-06-13T19:36:11.378Z"
   },
   {
    "duration": 0,
    "start_time": "2023-06-13T19:36:11.379Z"
   },
   {
    "duration": 0,
    "start_time": "2023-06-13T19:36:11.380Z"
   },
   {
    "duration": 0,
    "start_time": "2023-06-13T19:36:11.381Z"
   },
   {
    "duration": 0,
    "start_time": "2023-06-13T19:36:11.381Z"
   },
   {
    "duration": 0,
    "start_time": "2023-06-13T19:36:11.382Z"
   },
   {
    "duration": 0,
    "start_time": "2023-06-13T19:36:11.383Z"
   },
   {
    "duration": 0,
    "start_time": "2023-06-13T19:36:11.384Z"
   },
   {
    "duration": 0,
    "start_time": "2023-06-13T19:36:11.385Z"
   },
   {
    "duration": 0,
    "start_time": "2023-06-13T19:36:11.386Z"
   },
   {
    "duration": 15,
    "start_time": "2023-06-13T19:36:38.616Z"
   },
   {
    "duration": 26,
    "start_time": "2023-06-13T19:36:54.812Z"
   },
   {
    "duration": 497,
    "start_time": "2023-06-13T19:37:08.152Z"
   },
   {
    "duration": 597,
    "start_time": "2023-06-13T19:38:06.855Z"
   },
   {
    "duration": 15301,
    "start_time": "2023-06-13T19:38:07.454Z"
   },
   {
    "duration": 8266,
    "start_time": "2023-06-13T19:38:22.757Z"
   },
   {
    "duration": 2206,
    "start_time": "2023-06-13T19:38:31.024Z"
   },
   {
    "duration": 24,
    "start_time": "2023-06-13T19:38:33.232Z"
   },
   {
    "duration": 15,
    "start_time": "2023-06-13T19:38:33.257Z"
   },
   {
    "duration": 255,
    "start_time": "2023-06-13T19:38:33.274Z"
   },
   {
    "duration": 4,
    "start_time": "2023-06-13T19:38:33.531Z"
   },
   {
    "duration": 7,
    "start_time": "2023-06-13T19:38:33.536Z"
   },
   {
    "duration": 21,
    "start_time": "2023-06-13T19:38:33.544Z"
   },
   {
    "duration": 41,
    "start_time": "2023-06-13T19:38:33.567Z"
   },
   {
    "duration": 425,
    "start_time": "2023-06-13T19:38:33.617Z"
   },
   {
    "duration": 883,
    "start_time": "2023-06-13T19:38:34.044Z"
   },
   {
    "duration": 8509,
    "start_time": "2023-06-13T19:38:34.935Z"
   },
   {
    "duration": 5031,
    "start_time": "2023-06-13T19:38:43.445Z"
   },
   {
    "duration": 803,
    "start_time": "2023-06-13T19:38:48.516Z"
   },
   {
    "duration": 116,
    "start_time": "2023-06-13T19:38:49.321Z"
   },
   {
    "duration": 200,
    "start_time": "2023-06-13T19:38:49.439Z"
   },
   {
    "duration": 193,
    "start_time": "2023-06-13T19:38:49.641Z"
   },
   {
    "duration": 4,
    "start_time": "2023-06-13T19:38:49.835Z"
   },
   {
    "duration": 32,
    "start_time": "2023-06-13T19:38:49.840Z"
   },
   {
    "duration": 29,
    "start_time": "2023-06-13T19:38:49.874Z"
   },
   {
    "duration": 1314,
    "start_time": "2023-06-13T19:38:49.905Z"
   },
   {
    "duration": 4,
    "start_time": "2023-06-13T19:38:51.220Z"
   },
   {
    "duration": 904,
    "start_time": "2023-06-13T19:38:51.226Z"
   },
   {
    "duration": 103,
    "start_time": "2023-06-13T19:38:52.131Z"
   },
   {
    "duration": 3,
    "start_time": "2023-06-13T19:38:52.236Z"
   },
   {
    "duration": 86,
    "start_time": "2023-06-13T19:38:52.240Z"
   },
   {
    "duration": 600,
    "start_time": "2023-06-13T19:38:52.327Z"
   },
   {
    "duration": 9,
    "start_time": "2023-06-13T19:41:57.522Z"
   },
   {
    "duration": 337,
    "start_time": "2023-06-13T19:42:03.646Z"
   },
   {
    "duration": 90,
    "start_time": "2023-06-13T19:48:20.779Z"
   },
   {
    "duration": 8,
    "start_time": "2023-06-13T19:48:32.033Z"
   },
   {
    "duration": 11,
    "start_time": "2023-06-13T19:48:51.849Z"
   },
   {
    "duration": 94,
    "start_time": "2023-06-13T19:49:05.638Z"
   },
   {
    "duration": 26,
    "start_time": "2023-06-13T19:49:58.524Z"
   },
   {
    "duration": 486,
    "start_time": "2023-06-13T19:50:08.089Z"
   },
   {
    "duration": 344,
    "start_time": "2023-06-13T19:50:56.896Z"
   },
   {
    "duration": 477,
    "start_time": "2023-06-13T19:51:33.007Z"
   },
   {
    "duration": 185,
    "start_time": "2023-06-13T19:51:49.639Z"
   },
   {
    "duration": 737,
    "start_time": "2023-06-14T07:39:38.764Z"
   },
   {
    "duration": 26154,
    "start_time": "2023-06-14T07:39:39.503Z"
   },
   {
    "duration": 10611,
    "start_time": "2023-06-14T07:40:05.659Z"
   },
   {
    "duration": 2408,
    "start_time": "2023-06-14T07:40:16.272Z"
   },
   {
    "duration": 76,
    "start_time": "2023-06-14T07:40:18.683Z"
   },
   {
    "duration": 25,
    "start_time": "2023-06-14T07:40:18.760Z"
   },
   {
    "duration": 273,
    "start_time": "2023-06-14T07:40:18.787Z"
   },
   {
    "duration": 3,
    "start_time": "2023-06-14T07:40:19.062Z"
   },
   {
    "duration": 83,
    "start_time": "2023-06-14T07:40:19.067Z"
   },
   {
    "duration": 3,
    "start_time": "2023-06-14T07:40:19.152Z"
   },
   {
    "duration": 115,
    "start_time": "2023-06-14T07:40:19.157Z"
   },
   {
    "duration": 484,
    "start_time": "2023-06-14T07:40:19.274Z"
   },
   {
    "duration": 1010,
    "start_time": "2023-06-14T07:40:19.760Z"
   },
   {
    "duration": 9570,
    "start_time": "2023-06-14T07:40:20.781Z"
   },
   {
    "duration": 5924,
    "start_time": "2023-06-14T07:40:30.353Z"
   },
   {
    "duration": 934,
    "start_time": "2023-06-14T07:40:36.279Z"
   },
   {
    "duration": 113,
    "start_time": "2023-06-14T07:40:37.246Z"
   },
   {
    "duration": 202,
    "start_time": "2023-06-14T07:40:37.361Z"
   },
   {
    "duration": 190,
    "start_time": "2023-06-14T07:40:37.565Z"
   },
   {
    "duration": 3,
    "start_time": "2023-06-14T07:40:37.757Z"
   },
   {
    "duration": 18,
    "start_time": "2023-06-14T07:40:37.762Z"
   },
   {
    "duration": 64,
    "start_time": "2023-06-14T07:40:37.782Z"
   },
   {
    "duration": 2042,
    "start_time": "2023-06-14T07:40:37.848Z"
   },
   {
    "duration": 54,
    "start_time": "2023-06-14T07:40:39.892Z"
   },
   {
    "duration": 925,
    "start_time": "2023-06-14T07:40:39.949Z"
   },
   {
    "duration": 88,
    "start_time": "2023-06-14T07:40:40.875Z"
   },
   {
    "duration": 4,
    "start_time": "2023-06-14T07:40:40.965Z"
   },
   {
    "duration": 89,
    "start_time": "2023-06-14T07:40:40.971Z"
   },
   {
    "duration": 511,
    "start_time": "2023-06-14T07:40:41.147Z"
   },
   {
    "duration": 86,
    "start_time": "2023-06-14T07:40:41.660Z"
   },
   {
    "duration": 3,
    "start_time": "2023-06-14T07:42:32.923Z"
   },
   {
    "duration": 4,
    "start_time": "2023-06-14T07:42:33.250Z"
   },
   {
    "duration": 629,
    "start_time": "2023-06-14T07:42:33.523Z"
   },
   {
    "duration": 788,
    "start_time": "2023-06-14T07:42:34.172Z"
   },
   {
    "duration": 20,
    "start_time": "2023-06-14T07:42:34.962Z"
   },
   {
    "duration": 28,
    "start_time": "2023-06-14T07:42:36.307Z"
   },
   {
    "duration": 61,
    "start_time": "2023-06-14T07:42:36.587Z"
   },
   {
    "duration": 82,
    "start_time": "2023-06-14T07:42:37.148Z"
   },
   {
    "duration": 8,
    "start_time": "2023-06-14T07:42:50.011Z"
   },
   {
    "duration": 8,
    "start_time": "2023-06-14T07:45:06.884Z"
   },
   {
    "duration": 4,
    "start_time": "2023-06-14T07:45:12.739Z"
   },
   {
    "duration": 7,
    "start_time": "2023-06-14T07:45:23.972Z"
   },
   {
    "duration": 8,
    "start_time": "2023-06-14T07:45:24.270Z"
   },
   {
    "duration": 22,
    "start_time": "2023-06-14T07:45:24.565Z"
   },
   {
    "duration": 122,
    "start_time": "2023-06-14T07:45:24.873Z"
   },
   {
    "duration": 418,
    "start_time": "2023-06-14T07:45:25.587Z"
   },
   {
    "duration": 6693,
    "start_time": "2023-06-14T07:45:26.314Z"
   },
   {
    "duration": 5665,
    "start_time": "2023-06-14T07:45:33.009Z"
   },
   {
    "duration": 829,
    "start_time": "2023-06-14T07:45:38.675Z"
   },
   {
    "duration": 81,
    "start_time": "2023-06-14T07:45:39.506Z"
   },
   {
    "duration": 106,
    "start_time": "2023-06-14T07:45:39.589Z"
   },
   {
    "duration": 154,
    "start_time": "2023-06-14T07:45:39.697Z"
   },
   {
    "duration": 5,
    "start_time": "2023-06-14T07:45:39.853Z"
   },
   {
    "duration": 56,
    "start_time": "2023-06-14T07:45:39.860Z"
   },
   {
    "duration": 773,
    "start_time": "2023-06-14T07:45:39.918Z"
   },
   {
    "duration": 3,
    "start_time": "2023-06-14T07:45:40.693Z"
   },
   {
    "duration": 452,
    "start_time": "2023-06-14T07:45:40.698Z"
   },
   {
    "duration": 24,
    "start_time": "2023-06-14T07:45:41.153Z"
   },
   {
    "duration": 47,
    "start_time": "2023-06-14T07:45:41.178Z"
   },
   {
    "duration": 65,
    "start_time": "2023-06-14T07:45:41.227Z"
   },
   {
    "duration": 80,
    "start_time": "2023-06-14T07:45:41.294Z"
   },
   {
    "duration": 633,
    "start_time": "2023-06-14T07:45:41.376Z"
   },
   {
    "duration": 7,
    "start_time": "2023-06-14T07:46:09.465Z"
   },
   {
    "duration": 705,
    "start_time": "2023-06-14T07:49:06.686Z"
   },
   {
    "duration": 17158,
    "start_time": "2023-06-14T07:49:07.393Z"
   },
   {
    "duration": 12222,
    "start_time": "2023-06-14T07:49:24.555Z"
   },
   {
    "duration": 2902,
    "start_time": "2023-06-14T07:49:36.779Z"
   },
   {
    "duration": 29,
    "start_time": "2023-06-14T07:49:39.684Z"
   },
   {
    "duration": 61,
    "start_time": "2023-06-14T07:49:39.715Z"
   },
   {
    "duration": 306,
    "start_time": "2023-06-14T07:49:39.778Z"
   },
   {
    "duration": 66,
    "start_time": "2023-06-14T07:49:40.087Z"
   },
   {
    "duration": 47,
    "start_time": "2023-06-14T07:49:40.155Z"
   },
   {
    "duration": 15,
    "start_time": "2023-06-14T07:49:40.205Z"
   },
   {
    "duration": 44,
    "start_time": "2023-06-14T07:49:40.222Z"
   },
   {
    "duration": 424,
    "start_time": "2023-06-14T07:49:40.267Z"
   },
   {
    "duration": 1072,
    "start_time": "2023-06-14T07:49:40.693Z"
   },
   {
    "duration": 12187,
    "start_time": "2023-06-14T07:49:41.790Z"
   },
   {
    "duration": 7294,
    "start_time": "2023-06-14T07:49:53.978Z"
   },
   {
    "duration": 1127,
    "start_time": "2023-06-14T07:50:01.274Z"
   },
   {
    "duration": 184,
    "start_time": "2023-06-14T07:50:02.403Z"
   },
   {
    "duration": 262,
    "start_time": "2023-06-14T07:50:02.589Z"
   },
   {
    "duration": 133,
    "start_time": "2023-06-14T07:50:02.853Z"
   },
   {
    "duration": 72,
    "start_time": "2023-06-14T07:50:02.988Z"
   },
   {
    "duration": 35,
    "start_time": "2023-06-14T07:50:03.062Z"
   },
   {
    "duration": 1764,
    "start_time": "2023-06-14T07:50:03.099Z"
   },
   {
    "duration": 9,
    "start_time": "2023-06-14T07:50:04.875Z"
   },
   {
    "duration": 1071,
    "start_time": "2023-06-14T07:50:04.886Z"
   },
   {
    "duration": 99,
    "start_time": "2023-06-14T07:50:05.959Z"
   },
   {
    "duration": 4,
    "start_time": "2023-06-14T07:50:06.060Z"
   },
   {
    "duration": 93,
    "start_time": "2023-06-14T07:50:06.066Z"
   },
   {
    "duration": 33,
    "start_time": "2023-06-14T07:50:06.161Z"
   },
   {
    "duration": 790,
    "start_time": "2023-06-14T07:50:06.248Z"
   },
   {
    "duration": 155,
    "start_time": "2023-06-14T07:50:07.051Z"
   },
   {
    "duration": 0,
    "start_time": "2023-06-14T07:50:07.208Z"
   },
   {
    "duration": 34,
    "start_time": "2023-06-14T07:51:33.430Z"
   },
   {
    "duration": 545,
    "start_time": "2023-06-14T07:51:34.008Z"
   },
   {
    "duration": 477,
    "start_time": "2023-06-14T07:51:39.528Z"
   },
   {
    "duration": 12,
    "start_time": "2023-06-14T07:53:27.697Z"
   },
   {
    "duration": 11,
    "start_time": "2023-06-14T07:56:16.324Z"
   },
   {
    "duration": 21,
    "start_time": "2023-06-14T07:59:37.575Z"
   },
   {
    "duration": 10,
    "start_time": "2023-06-14T07:59:46.182Z"
   },
   {
    "duration": 2373,
    "start_time": "2023-06-14T07:59:49.695Z"
   },
   {
    "duration": 1057,
    "start_time": "2023-06-14T07:59:57.799Z"
   },
   {
    "duration": 1730,
    "start_time": "2023-06-14T08:00:12.926Z"
   },
   {
    "duration": 10,
    "start_time": "2023-06-14T08:02:10.668Z"
   },
   {
    "duration": 8,
    "start_time": "2023-06-14T08:02:51.574Z"
   },
   {
    "duration": 3,
    "start_time": "2023-06-14T08:02:57.267Z"
   },
   {
    "duration": 299,
    "start_time": "2023-06-14T08:02:59.406Z"
   },
   {
    "duration": 196,
    "start_time": "2023-06-14T08:03:03.993Z"
   },
   {
    "duration": 436,
    "start_time": "2023-06-14T08:03:25.353Z"
   },
   {
    "duration": 644,
    "start_time": "2023-06-14T08:04:10.343Z"
   },
   {
    "duration": 792,
    "start_time": "2023-06-14T08:05:18.709Z"
   },
   {
    "duration": 16882,
    "start_time": "2023-06-14T08:05:19.503Z"
   },
   {
    "duration": 11391,
    "start_time": "2023-06-14T08:05:36.387Z"
   },
   {
    "duration": 2895,
    "start_time": "2023-06-14T08:05:47.780Z"
   },
   {
    "duration": 98,
    "start_time": "2023-06-14T08:05:50.678Z"
   },
   {
    "duration": 23,
    "start_time": "2023-06-14T08:05:50.778Z"
   },
   {
    "duration": 370,
    "start_time": "2023-06-14T08:05:50.802Z"
   },
   {
    "duration": 4,
    "start_time": "2023-06-14T08:05:51.178Z"
   },
   {
    "duration": 24,
    "start_time": "2023-06-14T08:05:51.183Z"
   },
   {
    "duration": 22,
    "start_time": "2023-06-14T08:05:51.209Z"
   },
   {
    "duration": 70,
    "start_time": "2023-06-14T08:05:51.233Z"
   },
   {
    "duration": 452,
    "start_time": "2023-06-14T08:05:51.305Z"
   },
   {
    "duration": 1212,
    "start_time": "2023-06-14T08:05:51.758Z"
   },
   {
    "duration": 11498,
    "start_time": "2023-06-14T08:05:52.984Z"
   },
   {
    "duration": 7747,
    "start_time": "2023-06-14T08:06:04.550Z"
   },
   {
    "duration": 1122,
    "start_time": "2023-06-14T08:06:12.299Z"
   },
   {
    "duration": 236,
    "start_time": "2023-06-14T08:06:13.423Z"
   },
   {
    "duration": 226,
    "start_time": "2023-06-14T08:06:13.663Z"
   },
   {
    "duration": 182,
    "start_time": "2023-06-14T08:06:13.891Z"
   },
   {
    "duration": 4,
    "start_time": "2023-06-14T08:06:14.075Z"
   },
   {
    "duration": 28,
    "start_time": "2023-06-14T08:06:14.081Z"
   },
   {
    "duration": 1574,
    "start_time": "2023-06-14T08:06:14.111Z"
   },
   {
    "duration": 63,
    "start_time": "2023-06-14T08:06:15.688Z"
   },
   {
    "duration": 1122,
    "start_time": "2023-06-14T08:06:15.752Z"
   },
   {
    "duration": 88,
    "start_time": "2023-06-14T08:06:16.876Z"
   },
   {
    "duration": 9,
    "start_time": "2023-06-14T08:06:16.965Z"
   },
   {
    "duration": 81,
    "start_time": "2023-06-14T08:06:16.976Z"
   },
   {
    "duration": 100,
    "start_time": "2023-06-14T08:06:17.060Z"
   },
   {
    "duration": 680,
    "start_time": "2023-06-14T08:06:17.162Z"
   },
   {
    "duration": 18,
    "start_time": "2023-06-14T08:06:17.844Z"
   },
   {
    "duration": 29,
    "start_time": "2023-06-14T08:06:17.864Z"
   },
   {
    "duration": 40,
    "start_time": "2023-06-14T08:06:17.895Z"
   },
   {
    "duration": 451,
    "start_time": "2023-06-14T08:06:17.938Z"
   },
   {
    "duration": 369,
    "start_time": "2023-06-14T08:06:18.391Z"
   },
   {
    "duration": 41,
    "start_time": "2023-06-14T08:17:34.680Z"
   },
   {
    "duration": 530,
    "start_time": "2023-06-14T08:17:36.307Z"
   },
   {
    "duration": 20,
    "start_time": "2023-06-14T08:17:36.839Z"
   },
   {
    "duration": 29,
    "start_time": "2023-06-14T08:17:55.745Z"
   },
   {
    "duration": 11,
    "start_time": "2023-06-14T08:18:16.018Z"
   },
   {
    "duration": 49,
    "start_time": "2023-06-14T08:19:22.533Z"
   },
   {
    "duration": 771,
    "start_time": "2023-06-14T08:19:33.793Z"
   },
   {
    "duration": 17721,
    "start_time": "2023-06-14T08:19:34.572Z"
   },
   {
    "duration": 12151,
    "start_time": "2023-06-14T08:19:52.296Z"
   },
   {
    "duration": 3215,
    "start_time": "2023-06-14T08:20:04.448Z"
   },
   {
    "duration": 88,
    "start_time": "2023-06-14T08:20:07.666Z"
   },
   {
    "duration": 48,
    "start_time": "2023-06-14T08:20:07.760Z"
   },
   {
    "duration": 437,
    "start_time": "2023-06-14T08:20:07.810Z"
   },
   {
    "duration": 17,
    "start_time": "2023-06-14T08:20:08.249Z"
   },
   {
    "duration": 36,
    "start_time": "2023-06-14T08:20:08.270Z"
   },
   {
    "duration": 73,
    "start_time": "2023-06-14T08:20:08.308Z"
   },
   {
    "duration": 79,
    "start_time": "2023-06-14T08:20:08.383Z"
   },
   {
    "duration": 508,
    "start_time": "2023-06-14T08:20:08.464Z"
   },
   {
    "duration": 1015,
    "start_time": "2023-06-14T08:20:08.974Z"
   },
   {
    "duration": 11926,
    "start_time": "2023-06-14T08:20:10.059Z"
   },
   {
    "duration": 7084,
    "start_time": "2023-06-14T08:20:21.987Z"
   },
   {
    "duration": 1111,
    "start_time": "2023-06-14T08:20:29.073Z"
   },
   {
    "duration": 183,
    "start_time": "2023-06-14T08:20:30.186Z"
   },
   {
    "duration": 281,
    "start_time": "2023-06-14T08:20:30.371Z"
   },
   {
    "duration": 193,
    "start_time": "2023-06-14T08:20:30.653Z"
   },
   {
    "duration": 11,
    "start_time": "2023-06-14T08:20:30.848Z"
   },
   {
    "duration": 148,
    "start_time": "2023-06-14T08:20:30.864Z"
   },
   {
    "duration": 1951,
    "start_time": "2023-06-14T08:20:31.014Z"
   },
   {
    "duration": 10,
    "start_time": "2023-06-14T08:20:32.966Z"
   },
   {
    "duration": 1296,
    "start_time": "2023-06-14T08:20:32.978Z"
   },
   {
    "duration": 95,
    "start_time": "2023-06-14T08:20:34.275Z"
   },
   {
    "duration": 3,
    "start_time": "2023-06-14T08:20:34.378Z"
   },
   {
    "duration": 92,
    "start_time": "2023-06-14T08:20:34.385Z"
   },
   {
    "duration": 292,
    "start_time": "2023-06-14T08:20:34.483Z"
   },
   {
    "duration": 0,
    "start_time": "2023-06-14T08:20:34.781Z"
   },
   {
    "duration": 0,
    "start_time": "2023-06-14T08:20:34.783Z"
   },
   {
    "duration": 0,
    "start_time": "2023-06-14T08:20:34.784Z"
   },
   {
    "duration": 0,
    "start_time": "2023-06-14T08:20:34.785Z"
   },
   {
    "duration": 0,
    "start_time": "2023-06-14T08:20:34.786Z"
   },
   {
    "duration": 0,
    "start_time": "2023-06-14T08:20:34.787Z"
   },
   {
    "duration": 82,
    "start_time": "2023-06-14T08:36:57.068Z"
   },
   {
    "duration": 898,
    "start_time": "2023-06-14T08:36:59.351Z"
   },
   {
    "duration": 9,
    "start_time": "2023-06-14T08:37:57.707Z"
   },
   {
    "duration": 9,
    "start_time": "2023-06-14T08:38:06.317Z"
   },
   {
    "duration": 14,
    "start_time": "2023-06-14T08:38:18.551Z"
   },
   {
    "duration": 469,
    "start_time": "2023-06-14T08:38:28.683Z"
   },
   {
    "duration": 3,
    "start_time": "2023-06-14T08:38:40.385Z"
   },
   {
    "duration": 24,
    "start_time": "2023-06-14T08:38:41.043Z"
   },
   {
    "duration": 373,
    "start_time": "2023-06-14T08:38:43.603Z"
   },
   {
    "duration": 1735,
    "start_time": "2023-06-14T08:38:57.619Z"
   },
   {
    "duration": 5023,
    "start_time": "2023-06-14T08:39:08.339Z"
   },
   {
    "duration": 2643,
    "start_time": "2023-06-14T08:41:02.235Z"
   },
   {
    "duration": 963,
    "start_time": "2023-06-14T08:43:38.842Z"
   },
   {
    "duration": 779,
    "start_time": "2023-06-14T08:48:00.911Z"
   },
   {
    "duration": 17668,
    "start_time": "2023-06-14T08:48:01.692Z"
   },
   {
    "duration": 10687,
    "start_time": "2023-06-14T08:48:19.362Z"
   },
   {
    "duration": 3116,
    "start_time": "2023-06-14T08:48:30.053Z"
   },
   {
    "duration": 30,
    "start_time": "2023-06-14T08:48:33.172Z"
   },
   {
    "duration": 58,
    "start_time": "2023-06-14T08:48:33.204Z"
   },
   {
    "duration": 291,
    "start_time": "2023-06-14T08:48:33.264Z"
   },
   {
    "duration": 4,
    "start_time": "2023-06-14T08:48:33.562Z"
   },
   {
    "duration": 79,
    "start_time": "2023-06-14T08:48:33.568Z"
   },
   {
    "duration": 66,
    "start_time": "2023-06-14T08:48:33.651Z"
   },
   {
    "duration": 78,
    "start_time": "2023-06-14T08:48:33.719Z"
   },
   {
    "duration": 380,
    "start_time": "2023-06-14T08:48:33.799Z"
   },
   {
    "duration": 1082,
    "start_time": "2023-06-14T08:48:34.181Z"
   },
   {
    "duration": 11130,
    "start_time": "2023-06-14T08:48:35.347Z"
   },
   {
    "duration": 8070,
    "start_time": "2023-06-14T08:48:46.479Z"
   },
   {
    "duration": 1433,
    "start_time": "2023-06-14T08:48:54.550Z"
   },
   {
    "duration": 162,
    "start_time": "2023-06-14T08:48:55.985Z"
   },
   {
    "duration": 211,
    "start_time": "2023-06-14T08:48:56.148Z"
   },
   {
    "duration": 200,
    "start_time": "2023-06-14T08:48:56.361Z"
   },
   {
    "duration": 7,
    "start_time": "2023-06-14T08:48:56.568Z"
   },
   {
    "duration": 45,
    "start_time": "2023-06-14T08:48:56.577Z"
   },
   {
    "duration": 1729,
    "start_time": "2023-06-14T08:48:56.625Z"
   },
   {
    "duration": 4,
    "start_time": "2023-06-14T08:48:58.356Z"
   },
   {
    "duration": 1300,
    "start_time": "2023-06-14T08:48:58.362Z"
   },
   {
    "duration": 44,
    "start_time": "2023-06-14T08:48:59.664Z"
   },
   {
    "duration": 4,
    "start_time": "2023-06-14T08:48:59.710Z"
   },
   {
    "duration": 66,
    "start_time": "2023-06-14T08:48:59.746Z"
   },
   {
    "duration": 62,
    "start_time": "2023-06-14T08:48:59.813Z"
   },
   {
    "duration": 792,
    "start_time": "2023-06-14T08:48:59.877Z"
   },
   {
    "duration": 11,
    "start_time": "2023-06-14T08:49:00.671Z"
   },
   {
    "duration": 39,
    "start_time": "2023-06-14T08:49:00.684Z"
   },
   {
    "duration": 92,
    "start_time": "2023-06-14T08:49:00.725Z"
   },
   {
    "duration": 1960,
    "start_time": "2023-06-14T08:49:00.819Z"
   },
   {
    "duration": 4493,
    "start_time": "2023-06-14T08:49:02.781Z"
   },
   {
    "duration": 1208,
    "start_time": "2023-06-14T08:49:07.276Z"
   },
   {
    "duration": 13,
    "start_time": "2023-06-14T09:01:14.533Z"
   },
   {
    "duration": 759,
    "start_time": "2023-06-14T09:02:33.220Z"
   },
   {
    "duration": 15867,
    "start_time": "2023-06-14T09:02:33.981Z"
   },
   {
    "duration": 9901,
    "start_time": "2023-06-14T09:02:49.850Z"
   },
   {
    "duration": 2306,
    "start_time": "2023-06-14T09:02:59.753Z"
   },
   {
    "duration": 28,
    "start_time": "2023-06-14T09:03:02.062Z"
   },
   {
    "duration": 23,
    "start_time": "2023-06-14T09:03:02.147Z"
   },
   {
    "duration": 382,
    "start_time": "2023-06-14T09:03:02.172Z"
   },
   {
    "duration": 5,
    "start_time": "2023-06-14T09:03:02.556Z"
   },
   {
    "duration": 86,
    "start_time": "2023-06-14T09:03:02.563Z"
   },
   {
    "duration": 51,
    "start_time": "2023-06-14T09:03:02.652Z"
   },
   {
    "duration": 71,
    "start_time": "2023-06-14T09:03:02.706Z"
   },
   {
    "duration": 468,
    "start_time": "2023-06-14T09:03:02.778Z"
   },
   {
    "duration": 817,
    "start_time": "2023-06-14T09:03:03.248Z"
   },
   {
    "duration": 9508,
    "start_time": "2023-06-14T09:03:04.146Z"
   },
   {
    "duration": 5995,
    "start_time": "2023-06-14T09:03:13.656Z"
   },
   {
    "duration": 903,
    "start_time": "2023-06-14T09:03:19.653Z"
   },
   {
    "duration": 101,
    "start_time": "2023-06-14T09:03:20.559Z"
   },
   {
    "duration": 197,
    "start_time": "2023-06-14T09:03:20.662Z"
   },
   {
    "duration": 189,
    "start_time": "2023-06-14T09:03:20.861Z"
   },
   {
    "duration": 30,
    "start_time": "2023-06-14T09:03:21.052Z"
   },
   {
    "duration": 4,
    "start_time": "2023-06-14T09:03:21.084Z"
   },
   {
    "duration": 56,
    "start_time": "2023-06-14T09:03:21.090Z"
   },
   {
    "duration": 3126,
    "start_time": "2023-06-14T09:03:21.148Z"
   },
   {
    "duration": 179,
    "start_time": "2023-06-14T09:03:24.276Z"
   },
   {
    "duration": 0,
    "start_time": "2023-06-14T09:03:24.456Z"
   },
   {
    "duration": 0,
    "start_time": "2023-06-14T09:03:24.461Z"
   },
   {
    "duration": 0,
    "start_time": "2023-06-14T09:03:24.462Z"
   },
   {
    "duration": 0,
    "start_time": "2023-06-14T09:03:24.464Z"
   },
   {
    "duration": 0,
    "start_time": "2023-06-14T09:03:24.465Z"
   },
   {
    "duration": 0,
    "start_time": "2023-06-14T09:03:24.465Z"
   },
   {
    "duration": 0,
    "start_time": "2023-06-14T09:03:24.466Z"
   },
   {
    "duration": 0,
    "start_time": "2023-06-14T09:03:24.467Z"
   },
   {
    "duration": 0,
    "start_time": "2023-06-14T09:03:24.469Z"
   },
   {
    "duration": 0,
    "start_time": "2023-06-14T09:03:24.470Z"
   },
   {
    "duration": 0,
    "start_time": "2023-06-14T09:03:24.471Z"
   },
   {
    "duration": 0,
    "start_time": "2023-06-14T09:03:24.473Z"
   },
   {
    "duration": 0,
    "start_time": "2023-06-14T09:03:24.474Z"
   },
   {
    "duration": 1083,
    "start_time": "2023-06-14T09:03:52.378Z"
   },
   {
    "duration": 8,
    "start_time": "2023-06-14T09:06:17.348Z"
   },
   {
    "duration": 4,
    "start_time": "2023-06-14T09:06:20.747Z"
   },
   {
    "duration": 2285,
    "start_time": "2023-06-14T09:06:21.081Z"
   },
   {
    "duration": 119,
    "start_time": "2023-06-14T09:06:24.755Z"
   },
   {
    "duration": 126,
    "start_time": "2023-06-14T09:07:11.521Z"
   },
   {
    "duration": 9,
    "start_time": "2023-06-14T09:08:03.140Z"
   },
   {
    "duration": 3,
    "start_time": "2023-06-14T09:08:06.224Z"
   },
   {
    "duration": 142,
    "start_time": "2023-06-14T09:08:06.499Z"
   },
   {
    "duration": 44,
    "start_time": "2023-06-14T09:08:10.147Z"
   },
   {
    "duration": 778,
    "start_time": "2023-06-14T09:08:38.620Z"
   },
   {
    "duration": 16592,
    "start_time": "2023-06-14T09:08:39.400Z"
   },
   {
    "duration": 10038,
    "start_time": "2023-06-14T09:08:56.046Z"
   },
   {
    "duration": 2533,
    "start_time": "2023-06-14T09:09:06.145Z"
   },
   {
    "duration": 82,
    "start_time": "2023-06-14T09:09:08.680Z"
   },
   {
    "duration": 23,
    "start_time": "2023-06-14T09:09:08.763Z"
   },
   {
    "duration": 363,
    "start_time": "2023-06-14T09:09:08.788Z"
   },
   {
    "duration": 4,
    "start_time": "2023-06-14T09:09:09.153Z"
   },
   {
    "duration": 26,
    "start_time": "2023-06-14T09:09:09.160Z"
   },
   {
    "duration": 57,
    "start_time": "2023-06-14T09:09:09.189Z"
   },
   {
    "duration": 37,
    "start_time": "2023-06-14T09:09:09.248Z"
   },
   {
    "duration": 583,
    "start_time": "2023-06-14T09:09:09.287Z"
   },
   {
    "duration": 1193,
    "start_time": "2023-06-14T09:09:09.872Z"
   },
   {
    "duration": 10394,
    "start_time": "2023-06-14T09:09:11.067Z"
   },
   {
    "duration": 7491,
    "start_time": "2023-06-14T09:09:21.463Z"
   },
   {
    "duration": 1029,
    "start_time": "2023-06-14T09:09:28.956Z"
   },
   {
    "duration": 162,
    "start_time": "2023-06-14T09:09:29.988Z"
   },
   {
    "duration": 221,
    "start_time": "2023-06-14T09:09:30.152Z"
   },
   {
    "duration": 173,
    "start_time": "2023-06-14T09:09:30.375Z"
   },
   {
    "duration": 100,
    "start_time": "2023-06-14T09:09:30.550Z"
   },
   {
    "duration": 3,
    "start_time": "2023-06-14T09:09:30.652Z"
   },
   {
    "duration": 43,
    "start_time": "2023-06-14T09:09:30.657Z"
   },
   {
    "duration": 3870,
    "start_time": "2023-06-14T09:09:30.702Z"
   },
   {
    "duration": 5,
    "start_time": "2023-06-14T09:09:34.574Z"
   },
   {
    "duration": 2267,
    "start_time": "2023-06-14T09:09:34.580Z"
   },
   {
    "duration": 131,
    "start_time": "2023-06-14T09:09:36.849Z"
   },
   {
    "duration": 4,
    "start_time": "2023-06-14T09:09:36.982Z"
   },
   {
    "duration": 126,
    "start_time": "2023-06-14T09:09:37.046Z"
   },
   {
    "duration": 150,
    "start_time": "2023-06-14T09:09:37.174Z"
   },
   {
    "duration": 0,
    "start_time": "2023-06-14T09:09:37.326Z"
   },
   {
    "duration": 0,
    "start_time": "2023-06-14T09:09:37.328Z"
   },
   {
    "duration": 0,
    "start_time": "2023-06-14T09:09:37.329Z"
   },
   {
    "duration": 0,
    "start_time": "2023-06-14T09:09:37.330Z"
   },
   {
    "duration": 0,
    "start_time": "2023-06-14T09:09:37.346Z"
   },
   {
    "duration": 0,
    "start_time": "2023-06-14T09:09:37.348Z"
   },
   {
    "duration": 0,
    "start_time": "2023-06-14T09:09:37.349Z"
   },
   {
    "duration": 0,
    "start_time": "2023-06-14T09:09:37.350Z"
   },
   {
    "duration": 0,
    "start_time": "2023-06-14T09:09:37.351Z"
   },
   {
    "duration": 10,
    "start_time": "2023-06-14T09:13:45.928Z"
   },
   {
    "duration": 20,
    "start_time": "2023-06-14T09:14:39.118Z"
   },
   {
    "duration": 405,
    "start_time": "2023-06-14T09:14:55.967Z"
   },
   {
    "duration": 730,
    "start_time": "2023-06-14T09:15:33.961Z"
   },
   {
    "duration": 16462,
    "start_time": "2023-06-14T09:15:34.693Z"
   },
   {
    "duration": 10802,
    "start_time": "2023-06-14T09:15:51.158Z"
   },
   {
    "duration": 2713,
    "start_time": "2023-06-14T09:16:01.962Z"
   },
   {
    "duration": 91,
    "start_time": "2023-06-14T09:16:04.678Z"
   },
   {
    "duration": 23,
    "start_time": "2023-06-14T09:16:04.771Z"
   },
   {
    "duration": 273,
    "start_time": "2023-06-14T09:16:04.796Z"
   },
   {
    "duration": 4,
    "start_time": "2023-06-14T09:16:05.071Z"
   },
   {
    "duration": 6,
    "start_time": "2023-06-14T09:16:05.147Z"
   },
   {
    "duration": 5,
    "start_time": "2023-06-14T09:16:05.154Z"
   },
   {
    "duration": 30,
    "start_time": "2023-06-14T09:16:05.160Z"
   },
   {
    "duration": 463,
    "start_time": "2023-06-14T09:16:05.192Z"
   },
   {
    "duration": 793,
    "start_time": "2023-06-14T09:16:05.657Z"
   },
   {
    "duration": 9022,
    "start_time": "2023-06-14T09:16:06.457Z"
   },
   {
    "duration": 6243,
    "start_time": "2023-06-14T09:16:15.480Z"
   },
   {
    "duration": 907,
    "start_time": "2023-06-14T09:16:21.745Z"
   },
   {
    "duration": 119,
    "start_time": "2023-06-14T09:16:22.654Z"
   },
   {
    "duration": 231,
    "start_time": "2023-06-14T09:16:22.845Z"
   },
   {
    "duration": 195,
    "start_time": "2023-06-14T09:16:23.078Z"
   },
   {
    "duration": 94,
    "start_time": "2023-06-14T09:16:23.275Z"
   },
   {
    "duration": 4,
    "start_time": "2023-06-14T09:16:23.371Z"
   },
   {
    "duration": 70,
    "start_time": "2023-06-14T09:16:23.377Z"
   },
   {
    "duration": 3006,
    "start_time": "2023-06-14T09:16:23.450Z"
   },
   {
    "duration": 3,
    "start_time": "2023-06-14T09:16:26.458Z"
   },
   {
    "duration": 2896,
    "start_time": "2023-06-14T09:16:26.463Z"
   },
   {
    "duration": 123,
    "start_time": "2023-06-14T09:16:29.361Z"
   },
   {
    "duration": 3,
    "start_time": "2023-06-14T09:16:29.486Z"
   },
   {
    "duration": 303,
    "start_time": "2023-06-14T09:16:29.490Z"
   },
   {
    "duration": 0,
    "start_time": "2023-06-14T09:16:29.795Z"
   },
   {
    "duration": 0,
    "start_time": "2023-06-14T09:16:29.796Z"
   },
   {
    "duration": 0,
    "start_time": "2023-06-14T09:16:29.797Z"
   },
   {
    "duration": 0,
    "start_time": "2023-06-14T09:16:29.799Z"
   },
   {
    "duration": 0,
    "start_time": "2023-06-14T09:16:29.800Z"
   },
   {
    "duration": 0,
    "start_time": "2023-06-14T09:16:29.801Z"
   },
   {
    "duration": 0,
    "start_time": "2023-06-14T09:16:29.803Z"
   },
   {
    "duration": 0,
    "start_time": "2023-06-14T09:16:29.804Z"
   },
   {
    "duration": 0,
    "start_time": "2023-06-14T09:16:29.805Z"
   },
   {
    "duration": 0,
    "start_time": "2023-06-14T09:16:29.807Z"
   },
   {
    "duration": 0,
    "start_time": "2023-06-14T09:16:29.808Z"
   },
   {
    "duration": 90,
    "start_time": "2023-06-14T09:17:33.486Z"
   },
   {
    "duration": 24,
    "start_time": "2023-06-14T09:17:49.964Z"
   },
   {
    "duration": 18,
    "start_time": "2023-06-14T09:18:50.533Z"
   },
   {
    "duration": 896,
    "start_time": "2023-06-14T09:18:56.293Z"
   },
   {
    "duration": 913,
    "start_time": "2023-06-15T07:45:54.567Z"
   },
   {
    "duration": 23802,
    "start_time": "2023-06-15T07:45:55.487Z"
   },
   {
    "duration": 12782,
    "start_time": "2023-06-15T07:46:19.291Z"
   },
   {
    "duration": 2714,
    "start_time": "2023-06-15T07:46:32.089Z"
   },
   {
    "duration": 42,
    "start_time": "2023-06-15T07:46:34.809Z"
   },
   {
    "duration": 58,
    "start_time": "2023-06-15T07:46:34.853Z"
   },
   {
    "duration": 358,
    "start_time": "2023-06-15T07:46:34.916Z"
   },
   {
    "duration": 5,
    "start_time": "2023-06-15T07:46:35.276Z"
   },
   {
    "duration": 37,
    "start_time": "2023-06-15T07:46:35.282Z"
   },
   {
    "duration": 4,
    "start_time": "2023-06-15T07:46:35.326Z"
   },
   {
    "duration": 98,
    "start_time": "2023-06-15T07:46:35.334Z"
   },
   {
    "duration": 950,
    "start_time": "2023-06-15T07:46:35.469Z"
   },
   {
    "duration": 11272,
    "start_time": "2023-06-15T07:46:36.421Z"
   },
   {
    "duration": 7269,
    "start_time": "2023-06-15T07:46:47.713Z"
   },
   {
    "duration": 1153,
    "start_time": "2023-06-15T07:46:54.984Z"
   },
   {
    "duration": 157,
    "start_time": "2023-06-15T07:46:56.138Z"
   },
   {
    "duration": 199,
    "start_time": "2023-06-15T07:46:56.296Z"
   },
   {
    "duration": 191,
    "start_time": "2023-06-15T07:46:56.497Z"
   },
   {
    "duration": 69,
    "start_time": "2023-06-15T07:46:56.689Z"
   },
   {
    "duration": 17,
    "start_time": "2023-06-15T07:46:56.759Z"
   },
   {
    "duration": 11,
    "start_time": "2023-06-15T07:46:56.783Z"
   },
   {
    "duration": 4128,
    "start_time": "2023-06-15T07:46:56.802Z"
   },
   {
    "duration": 6,
    "start_time": "2023-06-15T07:47:00.932Z"
   },
   {
    "duration": 2424,
    "start_time": "2023-06-15T07:47:00.969Z"
   },
   {
    "duration": 221,
    "start_time": "2023-06-15T07:47:03.394Z"
   },
   {
    "duration": 34,
    "start_time": "2023-06-15T07:47:03.617Z"
   },
   {
    "duration": 419,
    "start_time": "2023-06-15T07:47:03.655Z"
   },
   {
    "duration": 0,
    "start_time": "2023-06-15T07:47:04.080Z"
   },
   {
    "duration": 0,
    "start_time": "2023-06-15T07:47:04.086Z"
   },
   {
    "duration": 0,
    "start_time": "2023-06-15T07:47:04.092Z"
   },
   {
    "duration": 0,
    "start_time": "2023-06-15T07:47:04.094Z"
   },
   {
    "duration": 0,
    "start_time": "2023-06-15T07:47:04.102Z"
   },
   {
    "duration": 0,
    "start_time": "2023-06-15T07:47:04.106Z"
   },
   {
    "duration": 0,
    "start_time": "2023-06-15T07:47:04.107Z"
   },
   {
    "duration": 0,
    "start_time": "2023-06-15T07:47:04.108Z"
   },
   {
    "duration": 0,
    "start_time": "2023-06-15T07:47:04.111Z"
   },
   {
    "duration": 0,
    "start_time": "2023-06-15T07:47:04.114Z"
   },
   {
    "duration": 0,
    "start_time": "2023-06-15T07:47:04.115Z"
   },
   {
    "duration": 979,
    "start_time": "2023-06-15T08:37:45.619Z"
   },
   {
    "duration": 19714,
    "start_time": "2023-06-15T08:37:46.600Z"
   },
   {
    "duration": 14569,
    "start_time": "2023-06-15T08:38:06.320Z"
   },
   {
    "duration": 4228,
    "start_time": "2023-06-15T08:38:20.891Z"
   },
   {
    "duration": 91,
    "start_time": "2023-06-15T08:38:25.127Z"
   },
   {
    "duration": 40,
    "start_time": "2023-06-15T08:38:25.225Z"
   },
   {
    "duration": 502,
    "start_time": "2023-06-15T08:38:25.267Z"
   },
   {
    "duration": 23,
    "start_time": "2023-06-15T08:38:25.778Z"
   },
   {
    "duration": 26,
    "start_time": "2023-06-15T08:38:25.804Z"
   },
   {
    "duration": 3,
    "start_time": "2023-06-15T08:38:25.832Z"
   },
   {
    "duration": 64,
    "start_time": "2023-06-15T08:38:25.837Z"
   },
   {
    "duration": 552,
    "start_time": "2023-06-15T08:38:25.903Z"
   },
   {
    "duration": 2088,
    "start_time": "2023-06-15T08:38:26.460Z"
   },
   {
    "duration": 13035,
    "start_time": "2023-06-15T08:38:28.564Z"
   },
   {
    "duration": 11597,
    "start_time": "2023-06-15T08:38:41.605Z"
   },
   {
    "duration": 1721,
    "start_time": "2023-06-15T08:38:53.203Z"
   },
   {
    "duration": 229,
    "start_time": "2023-06-15T08:38:54.926Z"
   },
   {
    "duration": 228,
    "start_time": "2023-06-15T08:38:55.156Z"
   },
   {
    "duration": 188,
    "start_time": "2023-06-15T08:38:55.386Z"
   },
   {
    "duration": 67,
    "start_time": "2023-06-15T08:38:55.578Z"
   },
   {
    "duration": 10,
    "start_time": "2023-06-15T08:38:55.646Z"
   },
   {
    "duration": 17,
    "start_time": "2023-06-15T08:38:55.661Z"
   },
   {
    "duration": 4714,
    "start_time": "2023-06-15T08:38:55.683Z"
   },
   {
    "duration": 19,
    "start_time": "2023-06-15T08:39:00.399Z"
   },
   {
    "duration": 2914,
    "start_time": "2023-06-15T08:39:00.427Z"
   },
   {
    "duration": 224,
    "start_time": "2023-06-15T08:39:03.342Z"
   },
   {
    "duration": 7,
    "start_time": "2023-06-15T08:39:03.575Z"
   },
   {
    "duration": 172,
    "start_time": "2023-06-15T08:39:03.586Z"
   },
   {
    "duration": 0,
    "start_time": "2023-06-15T08:39:03.940Z"
   },
   {
    "duration": 0,
    "start_time": "2023-06-15T08:39:03.949Z"
   },
   {
    "duration": 0,
    "start_time": "2023-06-15T08:39:03.954Z"
   },
   {
    "duration": 0,
    "start_time": "2023-06-15T08:39:03.955Z"
   },
   {
    "duration": 0,
    "start_time": "2023-06-15T08:39:03.957Z"
   },
   {
    "duration": 0,
    "start_time": "2023-06-15T08:39:03.958Z"
   },
   {
    "duration": 0,
    "start_time": "2023-06-15T08:39:03.959Z"
   },
   {
    "duration": 0,
    "start_time": "2023-06-15T08:39:03.960Z"
   },
   {
    "duration": 0,
    "start_time": "2023-06-15T08:39:03.960Z"
   },
   {
    "duration": 0,
    "start_time": "2023-06-15T08:39:03.961Z"
   },
   {
    "duration": 1378,
    "start_time": "2023-06-15T08:39:31.924Z"
   },
   {
    "duration": 4,
    "start_time": "2023-06-15T08:39:53.826Z"
   },
   {
    "duration": 335,
    "start_time": "2023-06-15T08:39:54.255Z"
   },
   {
    "duration": 531,
    "start_time": "2023-06-15T08:39:58.611Z"
   },
   {
    "duration": 1010,
    "start_time": "2023-06-15T08:40:08.831Z"
   },
   {
    "duration": 18950,
    "start_time": "2023-06-15T08:40:09.843Z"
   },
   {
    "duration": 12981,
    "start_time": "2023-06-15T08:40:28.795Z"
   },
   {
    "duration": 4129,
    "start_time": "2023-06-15T08:40:41.777Z"
   },
   {
    "duration": 66,
    "start_time": "2023-06-15T08:40:45.913Z"
   },
   {
    "duration": 57,
    "start_time": "2023-06-15T08:40:45.985Z"
   },
   {
    "duration": 497,
    "start_time": "2023-06-15T08:40:46.049Z"
   },
   {
    "duration": 15,
    "start_time": "2023-06-15T08:40:46.547Z"
   },
   {
    "duration": 30,
    "start_time": "2023-06-15T08:40:46.564Z"
   },
   {
    "duration": 10,
    "start_time": "2023-06-15T08:40:46.596Z"
   },
   {
    "duration": 109,
    "start_time": "2023-06-15T08:40:46.607Z"
   },
   {
    "duration": 692,
    "start_time": "2023-06-15T08:40:46.719Z"
   },
   {
    "duration": 1602,
    "start_time": "2023-06-15T08:40:47.413Z"
   },
   {
    "duration": 15273,
    "start_time": "2023-06-15T08:40:49.049Z"
   },
   {
    "duration": 12224,
    "start_time": "2023-06-15T08:41:04.324Z"
   },
   {
    "duration": 1514,
    "start_time": "2023-06-15T08:41:16.549Z"
   },
   {
    "duration": 141,
    "start_time": "2023-06-15T08:41:18.066Z"
   },
   {
    "duration": 245,
    "start_time": "2023-06-15T08:41:18.210Z"
   },
   {
    "duration": 199,
    "start_time": "2023-06-15T08:41:18.456Z"
   },
   {
    "duration": 65,
    "start_time": "2023-06-15T08:41:18.681Z"
   },
   {
    "duration": 5,
    "start_time": "2023-06-15T08:41:18.748Z"
   },
   {
    "duration": 20,
    "start_time": "2023-06-15T08:41:18.756Z"
   },
   {
    "duration": 4935,
    "start_time": "2023-06-15T08:41:18.779Z"
   },
   {
    "duration": 13,
    "start_time": "2023-06-15T08:41:23.723Z"
   },
   {
    "duration": 3452,
    "start_time": "2023-06-15T08:41:23.738Z"
   },
   {
    "duration": 194,
    "start_time": "2023-06-15T08:41:27.193Z"
   },
   {
    "duration": 17,
    "start_time": "2023-06-15T08:41:27.392Z"
   },
   {
    "duration": 180,
    "start_time": "2023-06-15T08:41:27.419Z"
   },
   {
    "duration": 457,
    "start_time": "2023-06-15T08:41:27.602Z"
   },
   {
    "duration": 0,
    "start_time": "2023-06-15T08:41:28.061Z"
   },
   {
    "duration": 0,
    "start_time": "2023-06-15T08:41:28.063Z"
   },
   {
    "duration": 0,
    "start_time": "2023-06-15T08:41:28.064Z"
   },
   {
    "duration": 0,
    "start_time": "2023-06-15T08:41:28.065Z"
   },
   {
    "duration": 0,
    "start_time": "2023-06-15T08:41:28.066Z"
   },
   {
    "duration": 0,
    "start_time": "2023-06-15T08:41:28.071Z"
   },
   {
    "duration": 0,
    "start_time": "2023-06-15T08:41:28.076Z"
   },
   {
    "duration": 0,
    "start_time": "2023-06-15T08:41:28.086Z"
   },
   {
    "duration": 0,
    "start_time": "2023-06-15T08:41:28.088Z"
   },
   {
    "duration": 24,
    "start_time": "2023-06-15T08:43:48.121Z"
   },
   {
    "duration": 8,
    "start_time": "2023-06-15T08:44:02.288Z"
   },
   {
    "duration": 30,
    "start_time": "2023-06-15T08:44:04.060Z"
   },
   {
    "duration": 9,
    "start_time": "2023-06-15T08:44:21.463Z"
   },
   {
    "duration": 5650,
    "start_time": "2023-06-15T08:44:23.639Z"
   },
   {
    "duration": 1887,
    "start_time": "2023-06-15T08:44:29.407Z"
   },
   {
    "duration": 915,
    "start_time": "2023-06-15T08:44:39.534Z"
   },
   {
    "duration": 18,
    "start_time": "2023-06-15T08:45:28.342Z"
   },
   {
    "duration": 275,
    "start_time": "2023-06-15T08:46:40.055Z"
   },
   {
    "duration": 295,
    "start_time": "2023-06-15T08:46:57.639Z"
   },
   {
    "duration": 190,
    "start_time": "2023-06-15T08:49:38.151Z"
   },
   {
    "duration": 1420,
    "start_time": "2023-06-15T08:49:47.182Z"
   },
   {
    "duration": 11,
    "start_time": "2023-06-15T08:50:43.265Z"
   },
   {
    "duration": 8312,
    "start_time": "2023-06-15T08:50:44.014Z"
   },
   {
    "duration": 22,
    "start_time": "2023-06-15T08:50:54.358Z"
   },
   {
    "duration": 2062,
    "start_time": "2023-06-15T08:51:07.151Z"
   },
   {
    "duration": 4174,
    "start_time": "2023-06-15T08:51:54.427Z"
   },
   {
    "duration": 1069,
    "start_time": "2023-06-15T08:52:50.901Z"
   },
   {
    "duration": 10,
    "start_time": "2023-06-15T09:25:22.770Z"
   },
   {
    "duration": 51,
    "start_time": "2023-06-15T09:27:33.597Z"
   },
   {
    "duration": 392,
    "start_time": "2023-06-15T09:43:14.029Z"
   },
   {
    "duration": 928,
    "start_time": "2023-06-15T09:43:27.570Z"
   },
   {
    "duration": 19269,
    "start_time": "2023-06-15T09:43:28.505Z"
   },
   {
    "duration": 12702,
    "start_time": "2023-06-15T09:43:47.776Z"
   },
   {
    "duration": 2951,
    "start_time": "2023-06-15T09:44:00.489Z"
   },
   {
    "duration": 36,
    "start_time": "2023-06-15T09:44:03.442Z"
   },
   {
    "duration": 58,
    "start_time": "2023-06-15T09:44:03.480Z"
   },
   {
    "duration": 374,
    "start_time": "2023-06-15T09:44:03.541Z"
   },
   {
    "duration": 10,
    "start_time": "2023-06-15T09:44:03.917Z"
   },
   {
    "duration": 69,
    "start_time": "2023-06-15T09:44:03.933Z"
   },
   {
    "duration": 10,
    "start_time": "2023-06-15T09:44:04.007Z"
   },
   {
    "duration": 62,
    "start_time": "2023-06-15T09:44:04.020Z"
   },
   {
    "duration": 681,
    "start_time": "2023-06-15T09:44:04.084Z"
   },
   {
    "duration": 1317,
    "start_time": "2023-06-15T09:44:04.767Z"
   },
   {
    "duration": 13113,
    "start_time": "2023-06-15T09:44:06.087Z"
   },
   {
    "duration": 8220,
    "start_time": "2023-06-15T09:44:19.202Z"
   },
   {
    "duration": 1414,
    "start_time": "2023-06-15T09:44:27.424Z"
   },
   {
    "duration": 263,
    "start_time": "2023-06-15T09:44:28.840Z"
   },
   {
    "duration": 268,
    "start_time": "2023-06-15T09:44:29.105Z"
   },
   {
    "duration": 243,
    "start_time": "2023-06-15T09:44:29.375Z"
   },
   {
    "duration": 114,
    "start_time": "2023-06-15T09:44:29.620Z"
   },
   {
    "duration": 10,
    "start_time": "2023-06-15T09:44:29.740Z"
   },
   {
    "duration": 25,
    "start_time": "2023-06-15T09:44:29.753Z"
   },
   {
    "duration": 4312,
    "start_time": "2023-06-15T09:44:29.784Z"
   },
   {
    "duration": 12,
    "start_time": "2023-06-15T09:44:34.098Z"
   },
   {
    "duration": 2866,
    "start_time": "2023-06-15T09:44:34.117Z"
   },
   {
    "duration": 167,
    "start_time": "2023-06-15T09:44:36.984Z"
   },
   {
    "duration": 41,
    "start_time": "2023-06-15T09:44:37.153Z"
   },
   {
    "duration": 117,
    "start_time": "2023-06-15T09:44:37.206Z"
   },
   {
    "duration": 4070,
    "start_time": "2023-06-15T09:44:37.324Z"
   },
   {
    "duration": 19,
    "start_time": "2023-06-15T09:44:41.395Z"
   },
   {
    "duration": 194,
    "start_time": "2023-06-15T09:44:41.415Z"
   },
   {
    "duration": 610,
    "start_time": "2023-06-15T09:44:41.613Z"
   },
   {
    "duration": 0,
    "start_time": "2023-06-15T09:44:42.228Z"
   },
   {
    "duration": 0,
    "start_time": "2023-06-15T09:44:42.280Z"
   },
   {
    "duration": 0,
    "start_time": "2023-06-15T09:44:42.281Z"
   },
   {
    "duration": 0,
    "start_time": "2023-06-15T09:44:42.283Z"
   },
   {
    "duration": 0,
    "start_time": "2023-06-15T09:44:42.284Z"
   },
   {
    "duration": 231,
    "start_time": "2023-06-15T09:44:49.143Z"
   },
   {
    "duration": 17,
    "start_time": "2023-06-15T09:45:17.603Z"
   },
   {
    "duration": 12,
    "start_time": "2023-06-15T09:45:52.035Z"
   },
   {
    "duration": 11,
    "start_time": "2023-06-15T09:49:47.737Z"
   },
   {
    "duration": 21,
    "start_time": "2023-06-15T09:50:12.420Z"
   },
   {
    "duration": 1306,
    "start_time": "2023-06-15T09:50:35.435Z"
   },
   {
    "duration": 65,
    "start_time": "2023-06-15T09:50:55.799Z"
   },
   {
    "duration": 1631,
    "start_time": "2023-06-15T09:50:56.557Z"
   },
   {
    "duration": 428,
    "start_time": "2023-06-15T09:51:28.552Z"
   },
   {
    "duration": 1204,
    "start_time": "2023-06-15T09:51:38.521Z"
   },
   {
    "duration": 12,
    "start_time": "2023-06-15T10:19:19.229Z"
   },
   {
    "duration": 917,
    "start_time": "2023-06-15T10:19:30.937Z"
   },
   {
    "duration": 44,
    "start_time": "2023-06-15T10:20:30.791Z"
   },
   {
    "duration": 40,
    "start_time": "2023-06-15T10:21:21.526Z"
   },
   {
    "duration": 734,
    "start_time": "2023-06-15T10:21:28.119Z"
   },
   {
    "duration": 20,
    "start_time": "2023-06-15T10:22:31.119Z"
   },
   {
    "duration": 3,
    "start_time": "2023-06-15T10:22:33.822Z"
   },
   {
    "duration": 558,
    "start_time": "2023-06-15T10:22:34.534Z"
   },
   {
    "duration": 18,
    "start_time": "2023-06-15T10:23:07.630Z"
   },
   {
    "duration": 4217,
    "start_time": "2023-06-15T10:23:20.472Z"
   },
   {
    "duration": 703,
    "start_time": "2023-06-15T10:23:49.610Z"
   },
   {
    "duration": 1008,
    "start_time": "2023-06-15T10:24:01.919Z"
   },
   {
    "duration": 4057,
    "start_time": "2023-06-15T10:24:59.339Z"
   },
   {
    "duration": 831,
    "start_time": "2023-06-15T10:25:07.363Z"
   },
   {
    "duration": 787,
    "start_time": "2023-06-15T10:25:54.747Z"
   },
   {
    "duration": 46,
    "start_time": "2023-06-15T10:27:33.940Z"
   },
   {
    "duration": 5088,
    "start_time": "2023-06-15T10:27:57.993Z"
   },
   {
    "duration": 767,
    "start_time": "2023-06-15T10:28:34.919Z"
   },
   {
    "duration": 18,
    "start_time": "2023-06-15T10:29:13.509Z"
   },
   {
    "duration": 917,
    "start_time": "2023-06-15T10:29:30.522Z"
   },
   {
    "duration": 15,
    "start_time": "2023-06-15T10:29:44.697Z"
   },
   {
    "duration": 690,
    "start_time": "2023-06-15T10:30:31.744Z"
   },
   {
    "duration": 19,
    "start_time": "2023-06-15T10:30:42.197Z"
   },
   {
    "duration": 677,
    "start_time": "2023-06-15T10:30:45.259Z"
   },
   {
    "duration": 607,
    "start_time": "2023-06-15T10:31:18.236Z"
   },
   {
    "duration": 605,
    "start_time": "2023-06-15T10:31:30.026Z"
   },
   {
    "duration": 499,
    "start_time": "2023-06-15T10:32:32.024Z"
   },
   {
    "duration": 627,
    "start_time": "2023-06-15T10:32:48.655Z"
   },
   {
    "duration": 510,
    "start_time": "2023-06-15T10:33:10.438Z"
   },
   {
    "duration": 552,
    "start_time": "2023-06-15T10:33:26.666Z"
   },
   {
    "duration": 1684,
    "start_time": "2023-06-15T10:39:00.695Z"
   },
   {
    "duration": 22878,
    "start_time": "2023-06-15T10:39:02.381Z"
   },
   {
    "duration": 11328,
    "start_time": "2023-06-15T10:39:25.262Z"
   },
   {
    "duration": 2405,
    "start_time": "2023-06-15T10:39:36.591Z"
   },
   {
    "duration": 88,
    "start_time": "2023-06-15T10:39:38.999Z"
   },
   {
    "duration": 30,
    "start_time": "2023-06-15T10:39:39.089Z"
   },
   {
    "duration": 299,
    "start_time": "2023-06-15T10:39:39.120Z"
   },
   {
    "duration": 6,
    "start_time": "2023-06-15T10:39:39.420Z"
   },
   {
    "duration": 11,
    "start_time": "2023-06-15T10:39:39.481Z"
   },
   {
    "duration": 10,
    "start_time": "2023-06-15T10:39:39.493Z"
   },
   {
    "duration": 100,
    "start_time": "2023-06-15T10:39:39.505Z"
   },
   {
    "duration": 476,
    "start_time": "2023-06-15T10:39:39.606Z"
   },
   {
    "duration": 903,
    "start_time": "2023-06-15T10:39:40.084Z"
   },
   {
    "duration": 10877,
    "start_time": "2023-06-15T10:39:40.998Z"
   },
   {
    "duration": 6023,
    "start_time": "2023-06-15T10:39:51.876Z"
   },
   {
    "duration": 924,
    "start_time": "2023-06-15T10:39:57.900Z"
   },
   {
    "duration": 152,
    "start_time": "2023-06-15T10:39:58.826Z"
   },
   {
    "duration": 201,
    "start_time": "2023-06-15T10:39:58.979Z"
   },
   {
    "duration": 138,
    "start_time": "2023-06-15T10:39:59.182Z"
   },
   {
    "duration": 48,
    "start_time": "2023-06-15T10:39:59.370Z"
   },
   {
    "duration": 6,
    "start_time": "2023-06-15T10:39:59.419Z"
   },
   {
    "duration": 4,
    "start_time": "2023-06-15T10:39:59.426Z"
   },
   {
    "duration": 4301,
    "start_time": "2023-06-15T10:39:59.431Z"
   },
   {
    "duration": 3,
    "start_time": "2023-06-15T10:40:03.734Z"
   },
   {
    "duration": 382,
    "start_time": "2023-06-15T10:40:03.738Z"
   },
   {
    "duration": 92,
    "start_time": "2023-06-15T10:40:04.121Z"
   },
   {
    "duration": 5,
    "start_time": "2023-06-15T10:40:04.214Z"
   },
   {
    "duration": 155,
    "start_time": "2023-06-15T10:40:04.220Z"
   },
   {
    "duration": 2928,
    "start_time": "2023-06-15T10:40:04.377Z"
   },
   {
    "duration": 140,
    "start_time": "2023-06-15T10:40:07.309Z"
   },
   {
    "duration": 29,
    "start_time": "2023-06-15T10:40:07.473Z"
   },
   {
    "duration": 23,
    "start_time": "2023-06-15T10:40:07.503Z"
   },
   {
    "duration": 2,
    "start_time": "2023-06-15T10:40:07.528Z"
   },
   {
    "duration": 3748,
    "start_time": "2023-06-15T10:40:07.531Z"
   },
   {
    "duration": 747,
    "start_time": "2023-06-15T10:40:11.284Z"
   },
   {
    "duration": 4785,
    "start_time": "2023-06-15T10:40:12.033Z"
   },
   {
    "duration": 61,
    "start_time": "2023-06-15T10:40:16.823Z"
   },
   {
    "duration": 639,
    "start_time": "2023-06-15T10:42:13.267Z"
   },
   {
    "duration": 873,
    "start_time": "2023-06-15T10:42:27.669Z"
   },
   {
    "duration": 773,
    "start_time": "2023-06-15T10:45:57.229Z"
   },
   {
    "duration": 16234,
    "start_time": "2023-06-15T10:45:58.004Z"
   },
   {
    "duration": 10162,
    "start_time": "2023-06-15T10:46:14.240Z"
   },
   {
    "duration": 2506,
    "start_time": "2023-06-15T10:46:24.408Z"
   },
   {
    "duration": 26,
    "start_time": "2023-06-15T10:46:26.916Z"
   },
   {
    "duration": 20,
    "start_time": "2023-06-15T10:46:26.943Z"
   },
   {
    "duration": 344,
    "start_time": "2023-06-15T10:46:26.965Z"
   },
   {
    "duration": 14,
    "start_time": "2023-06-15T10:46:27.313Z"
   },
   {
    "duration": 8,
    "start_time": "2023-06-15T10:46:27.328Z"
   },
   {
    "duration": 21,
    "start_time": "2023-06-15T10:46:27.369Z"
   },
   {
    "duration": 46,
    "start_time": "2023-06-15T10:46:27.392Z"
   },
   {
    "duration": 443,
    "start_time": "2023-06-15T10:46:27.439Z"
   },
   {
    "duration": 1107,
    "start_time": "2023-06-15T10:46:27.884Z"
   },
   {
    "duration": 10540,
    "start_time": "2023-06-15T10:46:28.992Z"
   },
   {
    "duration": 6433,
    "start_time": "2023-06-15T10:46:39.534Z"
   },
   {
    "duration": 948,
    "start_time": "2023-06-15T10:46:45.977Z"
   },
   {
    "duration": 83,
    "start_time": "2023-06-15T10:46:46.927Z"
   },
   {
    "duration": 218,
    "start_time": "2023-06-15T10:46:47.019Z"
   },
   {
    "duration": 197,
    "start_time": "2023-06-15T10:46:47.239Z"
   },
   {
    "duration": 86,
    "start_time": "2023-06-15T10:46:47.438Z"
   },
   {
    "duration": 3,
    "start_time": "2023-06-15T10:46:47.526Z"
   },
   {
    "duration": 7,
    "start_time": "2023-06-15T10:46:47.531Z"
   },
   {
    "duration": 3888,
    "start_time": "2023-06-15T10:46:47.540Z"
   },
   {
    "duration": 41,
    "start_time": "2023-06-15T10:46:51.430Z"
   },
   {
    "duration": 404,
    "start_time": "2023-06-15T10:46:51.476Z"
   },
   {
    "duration": 263,
    "start_time": "2023-06-15T10:46:51.886Z"
   },
   {
    "duration": 0,
    "start_time": "2023-06-15T10:46:52.152Z"
   },
   {
    "duration": 0,
    "start_time": "2023-06-15T10:46:52.153Z"
   },
   {
    "duration": 0,
    "start_time": "2023-06-15T10:46:52.154Z"
   },
   {
    "duration": 0,
    "start_time": "2023-06-15T10:46:52.155Z"
   },
   {
    "duration": 0,
    "start_time": "2023-06-15T10:46:52.155Z"
   },
   {
    "duration": 0,
    "start_time": "2023-06-15T10:46:52.156Z"
   },
   {
    "duration": 0,
    "start_time": "2023-06-15T10:46:52.157Z"
   },
   {
    "duration": 0,
    "start_time": "2023-06-15T10:46:52.158Z"
   },
   {
    "duration": 0,
    "start_time": "2023-06-15T10:46:52.159Z"
   },
   {
    "duration": 0,
    "start_time": "2023-06-15T10:46:52.160Z"
   },
   {
    "duration": 0,
    "start_time": "2023-06-15T10:46:52.161Z"
   },
   {
    "duration": 57,
    "start_time": "2023-06-15T10:47:57.635Z"
   },
   {
    "duration": 15,
    "start_time": "2023-06-15T10:48:27.214Z"
   },
   {
    "duration": 697,
    "start_time": "2023-06-15T10:48:43.529Z"
   },
   {
    "duration": 16789,
    "start_time": "2023-06-15T10:48:44.228Z"
   },
   {
    "duration": 10603,
    "start_time": "2023-06-15T10:49:01.019Z"
   },
   {
    "duration": 2526,
    "start_time": "2023-06-15T10:49:11.624Z"
   },
   {
    "duration": 50,
    "start_time": "2023-06-15T10:49:14.172Z"
   },
   {
    "duration": 47,
    "start_time": "2023-06-15T10:49:14.228Z"
   },
   {
    "duration": 308,
    "start_time": "2023-06-15T10:49:14.278Z"
   },
   {
    "duration": 22,
    "start_time": "2023-06-15T10:49:14.588Z"
   },
   {
    "duration": 20,
    "start_time": "2023-06-15T10:49:14.612Z"
   },
   {
    "duration": 5,
    "start_time": "2023-06-15T10:49:14.636Z"
   },
   {
    "duration": 72,
    "start_time": "2023-06-15T10:49:14.642Z"
   },
   {
    "duration": 587,
    "start_time": "2023-06-15T10:49:14.715Z"
   },
   {
    "duration": 1089,
    "start_time": "2023-06-15T10:49:15.304Z"
   },
   {
    "duration": 10419,
    "start_time": "2023-06-15T10:49:16.396Z"
   },
   {
    "duration": 6108,
    "start_time": "2023-06-15T10:49:26.816Z"
   },
   {
    "duration": 1048,
    "start_time": "2023-06-15T10:49:32.929Z"
   },
   {
    "duration": 123,
    "start_time": "2023-06-15T10:49:33.984Z"
   },
   {
    "duration": 268,
    "start_time": "2023-06-15T10:49:34.109Z"
   },
   {
    "duration": 135,
    "start_time": "2023-06-15T10:49:34.381Z"
   },
   {
    "duration": 91,
    "start_time": "2023-06-15T10:49:34.525Z"
   },
   {
    "duration": 3,
    "start_time": "2023-06-15T10:49:34.618Z"
   },
   {
    "duration": 9,
    "start_time": "2023-06-15T10:49:34.629Z"
   },
   {
    "duration": 3547,
    "start_time": "2023-06-15T10:49:34.671Z"
   },
   {
    "duration": 5,
    "start_time": "2023-06-15T10:49:38.219Z"
   },
   {
    "duration": 392,
    "start_time": "2023-06-15T10:49:38.226Z"
   },
   {
    "duration": 12,
    "start_time": "2023-06-15T10:49:38.623Z"
   },
   {
    "duration": 107,
    "start_time": "2023-06-15T10:49:38.636Z"
   },
   {
    "duration": 43,
    "start_time": "2023-06-15T10:49:38.775Z"
   },
   {
    "duration": 3,
    "start_time": "2023-06-15T10:49:38.822Z"
   },
   {
    "duration": 100,
    "start_time": "2023-06-15T10:49:38.827Z"
   },
   {
    "duration": 2847,
    "start_time": "2023-06-15T10:49:38.929Z"
   },
   {
    "duration": 109,
    "start_time": "2023-06-15T10:49:41.793Z"
   },
   {
    "duration": 67,
    "start_time": "2023-06-15T10:49:41.904Z"
   },
   {
    "duration": 28,
    "start_time": "2023-06-15T10:49:41.973Z"
   },
   {
    "duration": 9,
    "start_time": "2023-06-15T10:49:42.003Z"
   },
   {
    "duration": 5089,
    "start_time": "2023-06-15T10:49:42.013Z"
   },
   {
    "duration": 831,
    "start_time": "2023-06-15T10:49:47.106Z"
   },
   {
    "duration": 4208,
    "start_time": "2023-06-15T10:49:47.968Z"
   },
   {
    "duration": 937,
    "start_time": "2023-06-15T10:49:52.181Z"
   },
   {
    "duration": 666,
    "start_time": "2023-06-15T10:51:42.779Z"
   },
   {
    "duration": 16556,
    "start_time": "2023-06-15T10:51:43.475Z"
   },
   {
    "duration": 10065,
    "start_time": "2023-06-15T10:52:00.033Z"
   },
   {
    "duration": 2879,
    "start_time": "2023-06-15T10:52:10.113Z"
   },
   {
    "duration": 118,
    "start_time": "2023-06-15T10:52:12.996Z"
   },
   {
    "duration": 41,
    "start_time": "2023-06-15T10:52:13.119Z"
   },
   {
    "duration": 257,
    "start_time": "2023-06-15T10:52:13.162Z"
   },
   {
    "duration": 11,
    "start_time": "2023-06-15T10:52:13.421Z"
   },
   {
    "duration": 62,
    "start_time": "2023-06-15T10:52:13.433Z"
   },
   {
    "duration": 18,
    "start_time": "2023-06-15T10:52:13.504Z"
   },
   {
    "duration": 35,
    "start_time": "2023-06-15T10:52:13.527Z"
   },
   {
    "duration": 531,
    "start_time": "2023-06-15T10:52:13.563Z"
   },
   {
    "duration": 1091,
    "start_time": "2023-06-15T10:52:14.095Z"
   },
   {
    "duration": 10796,
    "start_time": "2023-06-15T10:52:15.187Z"
   },
   {
    "duration": 6256,
    "start_time": "2023-06-15T10:52:25.984Z"
   },
   {
    "duration": 897,
    "start_time": "2023-06-15T10:52:32.242Z"
   },
   {
    "duration": 157,
    "start_time": "2023-06-15T10:52:33.141Z"
   },
   {
    "duration": 310,
    "start_time": "2023-06-15T10:52:33.300Z"
   },
   {
    "duration": 108,
    "start_time": "2023-06-15T10:52:33.612Z"
   },
   {
    "duration": 89,
    "start_time": "2023-06-15T10:52:33.722Z"
   },
   {
    "duration": 5,
    "start_time": "2023-06-15T10:52:33.812Z"
   },
   {
    "duration": 7,
    "start_time": "2023-06-15T10:52:33.819Z"
   },
   {
    "duration": 3518,
    "start_time": "2023-06-15T10:52:33.829Z"
   },
   {
    "duration": 5,
    "start_time": "2023-06-15T10:52:37.348Z"
   },
   {
    "duration": 373,
    "start_time": "2023-06-15T10:52:37.355Z"
   },
   {
    "duration": 12,
    "start_time": "2023-06-15T10:52:37.730Z"
   },
   {
    "duration": 286,
    "start_time": "2023-06-15T10:52:37.767Z"
   },
   {
    "duration": 0,
    "start_time": "2023-06-15T10:52:38.055Z"
   },
   {
    "duration": 0,
    "start_time": "2023-06-15T10:52:38.056Z"
   },
   {
    "duration": 0,
    "start_time": "2023-06-15T10:52:38.057Z"
   },
   {
    "duration": 0,
    "start_time": "2023-06-15T10:52:38.058Z"
   },
   {
    "duration": 0,
    "start_time": "2023-06-15T10:52:38.059Z"
   },
   {
    "duration": 0,
    "start_time": "2023-06-15T10:52:38.060Z"
   },
   {
    "duration": 0,
    "start_time": "2023-06-15T10:52:38.060Z"
   },
   {
    "duration": 0,
    "start_time": "2023-06-15T10:52:38.062Z"
   },
   {
    "duration": 0,
    "start_time": "2023-06-15T10:52:38.063Z"
   },
   {
    "duration": 0,
    "start_time": "2023-06-15T10:52:38.064Z"
   },
   {
    "duration": 0,
    "start_time": "2023-06-15T10:52:38.064Z"
   },
   {
    "duration": 0,
    "start_time": "2023-06-15T10:52:38.065Z"
   },
   {
    "duration": 87,
    "start_time": "2023-06-15T10:53:11.489Z"
   },
   {
    "duration": 10,
    "start_time": "2023-06-15T10:53:42.186Z"
   },
   {
    "duration": 1723,
    "start_time": "2023-06-15T10:54:55.656Z"
   },
   {
    "duration": 3,
    "start_time": "2023-06-15T10:55:29.243Z"
   },
   {
    "duration": 59,
    "start_time": "2023-06-15T10:55:29.721Z"
   },
   {
    "duration": 3167,
    "start_time": "2023-06-15T10:55:30.115Z"
   },
   {
    "duration": 45,
    "start_time": "2023-06-15T10:55:34.833Z"
   },
   {
    "duration": 21,
    "start_time": "2023-06-15T10:55:35.313Z"
   },
   {
    "duration": 19,
    "start_time": "2023-06-15T10:55:35.745Z"
   },
   {
    "duration": 3,
    "start_time": "2023-06-15T10:55:39.327Z"
   },
   {
    "duration": 4461,
    "start_time": "2023-06-15T10:55:42.464Z"
   },
   {
    "duration": 1317,
    "start_time": "2023-06-15T10:55:46.929Z"
   },
   {
    "duration": 4799,
    "start_time": "2023-06-15T10:55:51.617Z"
   },
   {
    "duration": 1072,
    "start_time": "2023-06-15T10:55:56.419Z"
   },
   {
    "duration": 693,
    "start_time": "2023-06-15T10:59:10.776Z"
   },
   {
    "duration": 4,
    "start_time": "2023-06-15T11:18:34.658Z"
   },
   {
    "duration": 5,
    "start_time": "2023-06-15T11:19:27.283Z"
   },
   {
    "duration": 718,
    "start_time": "2023-06-15T11:21:49.806Z"
   },
   {
    "duration": 95,
    "start_time": "2023-06-15T11:22:13.054Z"
   },
   {
    "duration": 712,
    "start_time": "2023-06-15T11:22:19.586Z"
   },
   {
    "duration": 701,
    "start_time": "2023-06-15T11:24:00.517Z"
   },
   {
    "duration": 103,
    "start_time": "2023-06-15T11:26:12.180Z"
   },
   {
    "duration": 17,
    "start_time": "2023-06-15T11:26:25.744Z"
   },
   {
    "duration": 5,
    "start_time": "2023-06-15T11:26:29.748Z"
   },
   {
    "duration": 1578,
    "start_time": "2023-06-15T11:26:29.996Z"
   },
   {
    "duration": 3,
    "start_time": "2023-06-15T11:26:39.549Z"
   },
   {
    "duration": 1317,
    "start_time": "2023-06-15T11:26:40.027Z"
   },
   {
    "duration": 1306,
    "start_time": "2023-06-15T14:23:20.894Z"
   },
   {
    "duration": 26538,
    "start_time": "2023-06-15T14:23:22.203Z"
   },
   {
    "duration": 686,
    "start_time": "2023-06-15T14:23:48.743Z"
   },
   {
    "duration": 8,
    "start_time": "2023-06-15T14:30:05.834Z"
   },
   {
    "duration": 54,
    "start_time": "2023-06-15T14:31:11.075Z"
   },
   {
    "duration": 13300,
    "start_time": "2023-06-15T14:31:35.402Z"
   },
   {
    "duration": 1635,
    "start_time": "2023-06-15T14:32:21.359Z"
   },
   {
    "duration": 1815,
    "start_time": "2023-06-15T14:32:47.355Z"
   },
   {
    "duration": 75,
    "start_time": "2023-06-16T08:01:26.562Z"
   },
   {
    "duration": 1090,
    "start_time": "2023-06-16T08:01:29.569Z"
   },
   {
    "duration": 1400,
    "start_time": "2023-06-16T08:01:43.515Z"
   },
   {
    "duration": 19867,
    "start_time": "2023-06-16T08:01:44.926Z"
   },
   {
    "duration": 9012,
    "start_time": "2023-06-16T08:02:04.796Z"
   },
   {
    "duration": 2222,
    "start_time": "2023-06-16T08:02:13.819Z"
   },
   {
    "duration": 83,
    "start_time": "2023-06-16T08:02:16.043Z"
   },
   {
    "duration": 85,
    "start_time": "2023-06-16T08:02:16.133Z"
   },
   {
    "duration": 294,
    "start_time": "2023-06-16T08:02:16.223Z"
   },
   {
    "duration": 5,
    "start_time": "2023-06-16T08:02:16.518Z"
   },
   {
    "duration": 15,
    "start_time": "2023-06-16T08:02:16.524Z"
   },
   {
    "duration": 10,
    "start_time": "2023-06-16T08:02:16.541Z"
   },
   {
    "duration": 60,
    "start_time": "2023-06-16T08:02:16.552Z"
   },
   {
    "duration": 401,
    "start_time": "2023-06-16T08:02:16.618Z"
   },
   {
    "duration": 918,
    "start_time": "2023-06-16T08:02:17.022Z"
   },
   {
    "duration": 9508,
    "start_time": "2023-06-16T08:02:17.942Z"
   },
   {
    "duration": 5664,
    "start_time": "2023-06-16T08:02:27.452Z"
   },
   {
    "duration": 704,
    "start_time": "2023-06-16T08:02:33.118Z"
   },
   {
    "duration": 99,
    "start_time": "2023-06-16T08:02:33.824Z"
   },
   {
    "duration": 221,
    "start_time": "2023-06-16T08:02:33.925Z"
   },
   {
    "duration": 172,
    "start_time": "2023-06-16T08:02:34.148Z"
   },
   {
    "duration": 105,
    "start_time": "2023-06-16T08:02:34.321Z"
   },
   {
    "duration": 12,
    "start_time": "2023-06-16T08:02:34.427Z"
   },
   {
    "duration": 12,
    "start_time": "2023-06-16T08:02:34.440Z"
   },
   {
    "duration": 3192,
    "start_time": "2023-06-16T08:02:34.454Z"
   },
   {
    "duration": 3,
    "start_time": "2023-06-16T08:02:37.648Z"
   },
   {
    "duration": 299,
    "start_time": "2023-06-16T08:02:37.652Z"
   },
   {
    "duration": 0,
    "start_time": "2023-06-16T08:02:37.953Z"
   },
   {
    "duration": 0,
    "start_time": "2023-06-16T08:02:37.954Z"
   },
   {
    "duration": 0,
    "start_time": "2023-06-16T08:02:37.955Z"
   },
   {
    "duration": 0,
    "start_time": "2023-06-16T08:02:37.956Z"
   },
   {
    "duration": 0,
    "start_time": "2023-06-16T08:02:37.957Z"
   },
   {
    "duration": 0,
    "start_time": "2023-06-16T08:02:37.958Z"
   },
   {
    "duration": 0,
    "start_time": "2023-06-16T08:02:37.959Z"
   },
   {
    "duration": 0,
    "start_time": "2023-06-16T08:02:37.960Z"
   },
   {
    "duration": 0,
    "start_time": "2023-06-16T08:02:37.961Z"
   },
   {
    "duration": 0,
    "start_time": "2023-06-16T08:02:37.961Z"
   },
   {
    "duration": 0,
    "start_time": "2023-06-16T08:02:37.962Z"
   },
   {
    "duration": 0,
    "start_time": "2023-06-16T08:02:37.963Z"
   },
   {
    "duration": 0,
    "start_time": "2023-06-16T08:02:37.964Z"
   },
   {
    "duration": 0,
    "start_time": "2023-06-16T08:02:37.965Z"
   },
   {
    "duration": 3,
    "start_time": "2023-06-16T08:09:54.395Z"
   },
   {
    "duration": 153,
    "start_time": "2023-06-16T08:10:13.346Z"
   },
   {
    "duration": 614,
    "start_time": "2023-06-16T08:10:45.838Z"
   },
   {
    "duration": 16960,
    "start_time": "2023-06-16T08:10:46.455Z"
   },
   {
    "duration": 10412,
    "start_time": "2023-06-16T08:11:03.417Z"
   },
   {
    "duration": 2413,
    "start_time": "2023-06-16T08:11:13.830Z"
   },
   {
    "duration": 29,
    "start_time": "2023-06-16T08:11:16.246Z"
   },
   {
    "duration": 46,
    "start_time": "2023-06-16T08:11:16.277Z"
   },
   {
    "duration": 286,
    "start_time": "2023-06-16T08:11:16.329Z"
   },
   {
    "duration": 14,
    "start_time": "2023-06-16T08:11:16.617Z"
   },
   {
    "duration": 16,
    "start_time": "2023-06-16T08:11:16.635Z"
   },
   {
    "duration": 16,
    "start_time": "2023-06-16T08:11:16.652Z"
   },
   {
    "duration": 63,
    "start_time": "2023-06-16T08:11:16.670Z"
   },
   {
    "duration": 315,
    "start_time": "2023-06-16T08:11:16.735Z"
   },
   {
    "duration": 1093,
    "start_time": "2023-06-16T08:11:17.052Z"
   },
   {
    "duration": 11115,
    "start_time": "2023-06-16T08:11:18.212Z"
   },
   {
    "duration": 6413,
    "start_time": "2023-06-16T08:11:29.329Z"
   },
   {
    "duration": 1035,
    "start_time": "2023-06-16T08:11:35.744Z"
   },
   {
    "duration": 131,
    "start_time": "2023-06-16T08:11:36.808Z"
   },
   {
    "duration": 232,
    "start_time": "2023-06-16T08:11:36.942Z"
   },
   {
    "duration": 167,
    "start_time": "2023-06-16T08:11:37.176Z"
   },
   {
    "duration": 90,
    "start_time": "2023-06-16T08:11:37.345Z"
   },
   {
    "duration": 7,
    "start_time": "2023-06-16T08:11:37.437Z"
   },
   {
    "duration": 13,
    "start_time": "2023-06-16T08:11:37.447Z"
   },
   {
    "duration": 3868,
    "start_time": "2023-06-16T08:11:37.465Z"
   },
   {
    "duration": 5,
    "start_time": "2023-06-16T08:11:41.336Z"
   },
   {
    "duration": 492,
    "start_time": "2023-06-16T08:11:41.343Z"
   },
   {
    "duration": 183,
    "start_time": "2023-06-16T08:11:41.836Z"
   },
   {
    "duration": 4,
    "start_time": "2023-06-16T08:11:42.023Z"
   },
   {
    "duration": 220,
    "start_time": "2023-06-16T08:11:42.029Z"
   },
   {
    "duration": 2994,
    "start_time": "2023-06-16T08:11:42.252Z"
   },
   {
    "duration": 293,
    "start_time": "2023-06-16T08:11:45.252Z"
   },
   {
    "duration": 0,
    "start_time": "2023-06-16T08:11:45.547Z"
   },
   {
    "duration": 0,
    "start_time": "2023-06-16T08:11:45.548Z"
   },
   {
    "duration": 0,
    "start_time": "2023-06-16T08:11:45.550Z"
   },
   {
    "duration": 0,
    "start_time": "2023-06-16T08:11:45.550Z"
   },
   {
    "duration": 0,
    "start_time": "2023-06-16T08:11:45.551Z"
   },
   {
    "duration": 0,
    "start_time": "2023-06-16T08:11:45.552Z"
   },
   {
    "duration": 0,
    "start_time": "2023-06-16T08:11:45.553Z"
   },
   {
    "duration": 0,
    "start_time": "2023-06-16T08:11:45.553Z"
   },
   {
    "duration": 0,
    "start_time": "2023-06-16T08:11:45.554Z"
   },
   {
    "duration": 4,
    "start_time": "2023-06-16T08:13:39.586Z"
   },
   {
    "duration": 663,
    "start_time": "2023-06-16T08:13:44.392Z"
   },
   {
    "duration": 15567,
    "start_time": "2023-06-16T08:13:45.058Z"
   },
   {
    "duration": 8800,
    "start_time": "2023-06-16T08:14:00.627Z"
   },
   {
    "duration": 2513,
    "start_time": "2023-06-16T08:14:09.433Z"
   },
   {
    "duration": 80,
    "start_time": "2023-06-16T08:14:11.948Z"
   },
   {
    "duration": 19,
    "start_time": "2023-06-16T08:14:12.030Z"
   },
   {
    "duration": 375,
    "start_time": "2023-06-16T08:14:12.051Z"
   },
   {
    "duration": 6,
    "start_time": "2023-06-16T08:14:12.430Z"
   },
   {
    "duration": 6,
    "start_time": "2023-06-16T08:14:12.439Z"
   },
   {
    "duration": 63,
    "start_time": "2023-06-16T08:14:12.448Z"
   },
   {
    "duration": 36,
    "start_time": "2023-06-16T08:14:12.513Z"
   },
   {
    "duration": 456,
    "start_time": "2023-06-16T08:14:12.551Z"
   },
   {
    "duration": 737,
    "start_time": "2023-06-16T08:14:13.009Z"
   },
   {
    "duration": 8808,
    "start_time": "2023-06-16T08:14:13.806Z"
   },
   {
    "duration": 5391,
    "start_time": "2023-06-16T08:14:22.615Z"
   },
   {
    "duration": 831,
    "start_time": "2023-06-16T08:14:28.008Z"
   },
   {
    "duration": 177,
    "start_time": "2023-06-16T08:14:28.841Z"
   },
   {
    "duration": 207,
    "start_time": "2023-06-16T08:14:29.020Z"
   },
   {
    "duration": 182,
    "start_time": "2023-06-16T08:14:29.229Z"
   },
   {
    "duration": 27,
    "start_time": "2023-06-16T08:14:29.414Z"
   },
   {
    "duration": 3,
    "start_time": "2023-06-16T08:14:29.443Z"
   },
   {
    "duration": 36,
    "start_time": "2023-06-16T08:14:29.506Z"
   },
   {
    "duration": 2812,
    "start_time": "2023-06-16T08:14:29.544Z"
   },
   {
    "duration": 4,
    "start_time": "2023-06-16T08:14:32.358Z"
   },
   {
    "duration": 331,
    "start_time": "2023-06-16T08:14:32.408Z"
   },
   {
    "duration": 120,
    "start_time": "2023-06-16T08:14:32.742Z"
   },
   {
    "duration": 46,
    "start_time": "2023-06-16T08:14:32.863Z"
   },
   {
    "duration": 96,
    "start_time": "2023-06-16T08:14:32.923Z"
   },
   {
    "duration": 2626,
    "start_time": "2023-06-16T08:14:33.023Z"
   },
   {
    "duration": 102,
    "start_time": "2023-06-16T08:14:35.651Z"
   },
   {
    "duration": 76,
    "start_time": "2023-06-16T08:14:35.755Z"
   },
   {
    "duration": 17,
    "start_time": "2023-06-16T08:14:35.833Z"
   },
   {
    "duration": 64,
    "start_time": "2023-06-16T08:14:35.851Z"
   },
   {
    "duration": 3717,
    "start_time": "2023-06-16T08:14:35.919Z"
   },
   {
    "duration": 691,
    "start_time": "2023-06-16T08:14:39.638Z"
   },
   {
    "duration": 2,
    "start_time": "2023-06-16T08:14:40.332Z"
   },
   {
    "duration": 2283,
    "start_time": "2023-06-16T08:14:40.336Z"
   },
   {
    "duration": 4192,
    "start_time": "2023-06-16T08:14:42.623Z"
   },
   {
    "duration": 1027,
    "start_time": "2023-06-16T08:14:46.816Z"
   },
   {
    "duration": 667,
    "start_time": "2023-06-16T08:15:05.667Z"
   },
   {
    "duration": 15577,
    "start_time": "2023-06-16T08:15:06.336Z"
   },
   {
    "duration": 8730,
    "start_time": "2023-06-16T08:15:21.915Z"
   },
   {
    "duration": 2473,
    "start_time": "2023-06-16T08:15:30.650Z"
   },
   {
    "duration": 33,
    "start_time": "2023-06-16T08:15:33.125Z"
   },
   {
    "duration": 19,
    "start_time": "2023-06-16T08:15:33.160Z"
   },
   {
    "duration": 275,
    "start_time": "2023-06-16T08:15:33.181Z"
   },
   {
    "duration": 55,
    "start_time": "2023-06-16T08:15:33.458Z"
   },
   {
    "duration": 10,
    "start_time": "2023-06-16T08:15:33.517Z"
   },
   {
    "duration": 26,
    "start_time": "2023-06-16T08:15:33.535Z"
   },
   {
    "duration": 56,
    "start_time": "2023-06-16T08:15:33.563Z"
   },
   {
    "duration": 402,
    "start_time": "2023-06-16T08:15:33.621Z"
   },
   {
    "duration": 1017,
    "start_time": "2023-06-16T08:15:34.025Z"
   },
   {
    "duration": 9595,
    "start_time": "2023-06-16T08:15:35.045Z"
   },
   {
    "duration": 5470,
    "start_time": "2023-06-16T08:15:44.641Z"
   },
   {
    "duration": 767,
    "start_time": "2023-06-16T08:15:50.113Z"
   },
   {
    "duration": 225,
    "start_time": "2023-06-16T08:15:50.881Z"
   },
   {
    "duration": 208,
    "start_time": "2023-06-16T08:15:51.108Z"
   },
   {
    "duration": 121,
    "start_time": "2023-06-16T08:15:51.317Z"
   },
   {
    "duration": 25,
    "start_time": "2023-06-16T08:15:51.440Z"
   },
   {
    "duration": 43,
    "start_time": "2023-06-16T08:15:51.467Z"
   },
   {
    "duration": 18,
    "start_time": "2023-06-16T08:15:51.512Z"
   },
   {
    "duration": 2926,
    "start_time": "2023-06-16T08:15:51.532Z"
   },
   {
    "duration": 4,
    "start_time": "2023-06-16T08:15:54.512Z"
   },
   {
    "duration": 335,
    "start_time": "2023-06-16T08:15:54.518Z"
   },
   {
    "duration": 115,
    "start_time": "2023-06-16T08:15:54.855Z"
   },
   {
    "duration": 5,
    "start_time": "2023-06-16T08:15:55.006Z"
   },
   {
    "duration": 130,
    "start_time": "2023-06-16T08:15:55.014Z"
   },
   {
    "duration": 2494,
    "start_time": "2023-06-16T08:15:55.146Z"
   },
   {
    "duration": 242,
    "start_time": "2023-06-16T08:15:57.641Z"
   },
   {
    "duration": 0,
    "start_time": "2023-06-16T08:15:57.885Z"
   },
   {
    "duration": 0,
    "start_time": "2023-06-16T08:15:57.886Z"
   },
   {
    "duration": 0,
    "start_time": "2023-06-16T08:15:57.887Z"
   },
   {
    "duration": 0,
    "start_time": "2023-06-16T08:15:57.892Z"
   },
   {
    "duration": 0,
    "start_time": "2023-06-16T08:15:57.893Z"
   },
   {
    "duration": 0,
    "start_time": "2023-06-16T08:15:57.894Z"
   },
   {
    "duration": 0,
    "start_time": "2023-06-16T08:15:57.895Z"
   },
   {
    "duration": 0,
    "start_time": "2023-06-16T08:15:57.896Z"
   },
   {
    "duration": 0,
    "start_time": "2023-06-16T08:15:57.898Z"
   },
   {
    "duration": 13,
    "start_time": "2023-06-16T08:17:38.672Z"
   },
   {
    "duration": 11,
    "start_time": "2023-06-16T08:17:48.412Z"
   },
   {
    "duration": 5,
    "start_time": "2023-06-16T08:17:54.744Z"
   },
   {
    "duration": 3,
    "start_time": "2023-06-16T08:18:30.425Z"
   },
   {
    "duration": 4,
    "start_time": "2023-06-16T08:19:49.653Z"
   },
   {
    "duration": 592,
    "start_time": "2023-06-16T08:21:21.752Z"
   },
   {
    "duration": 15367,
    "start_time": "2023-06-16T08:21:22.346Z"
   },
   {
    "duration": 8512,
    "start_time": "2023-06-16T08:21:37.714Z"
   },
   {
    "duration": 2382,
    "start_time": "2023-06-16T08:21:46.227Z"
   },
   {
    "duration": 28,
    "start_time": "2023-06-16T08:21:48.613Z"
   },
   {
    "duration": 82,
    "start_time": "2023-06-16T08:21:48.642Z"
   },
   {
    "duration": 304,
    "start_time": "2023-06-16T08:21:48.726Z"
   },
   {
    "duration": 4,
    "start_time": "2023-06-16T08:21:49.031Z"
   },
   {
    "duration": 75,
    "start_time": "2023-06-16T08:21:49.036Z"
   },
   {
    "duration": 5,
    "start_time": "2023-06-16T08:21:49.112Z"
   },
   {
    "duration": 19,
    "start_time": "2023-06-16T08:21:49.119Z"
   },
   {
    "duration": 72,
    "start_time": "2023-06-16T08:21:49.140Z"
   },
   {
    "duration": 318,
    "start_time": "2023-06-16T08:21:49.214Z"
   },
   {
    "duration": 17,
    "start_time": "2023-06-16T08:21:49.606Z"
   },
   {
    "duration": 1002,
    "start_time": "2023-06-16T08:21:49.625Z"
   },
   {
    "duration": 9104,
    "start_time": "2023-06-16T08:21:50.628Z"
   },
   {
    "duration": 5484,
    "start_time": "2023-06-16T08:21:59.734Z"
   },
   {
    "duration": 890,
    "start_time": "2023-06-16T08:22:05.219Z"
   },
   {
    "duration": 126,
    "start_time": "2023-06-16T08:22:06.111Z"
   },
   {
    "duration": 199,
    "start_time": "2023-06-16T08:22:06.243Z"
   },
   {
    "duration": 182,
    "start_time": "2023-06-16T08:22:06.444Z"
   },
   {
    "duration": 34,
    "start_time": "2023-06-16T08:22:06.628Z"
   },
   {
    "duration": 3,
    "start_time": "2023-06-16T08:22:06.664Z"
   },
   {
    "duration": 8,
    "start_time": "2023-06-16T08:22:06.709Z"
   },
   {
    "duration": 3302,
    "start_time": "2023-06-16T08:22:06.719Z"
   },
   {
    "duration": 4,
    "start_time": "2023-06-16T08:22:10.023Z"
   },
   {
    "duration": 327,
    "start_time": "2023-06-16T08:22:10.030Z"
   },
   {
    "duration": 177,
    "start_time": "2023-06-16T08:22:10.358Z"
   },
   {
    "duration": 2,
    "start_time": "2023-06-16T08:22:10.537Z"
   },
   {
    "duration": 169,
    "start_time": "2023-06-16T08:22:10.541Z"
   },
   {
    "duration": 2314,
    "start_time": "2023-06-16T08:22:10.712Z"
   },
   {
    "duration": 3,
    "start_time": "2023-06-16T08:22:13.028Z"
   },
   {
    "duration": 99,
    "start_time": "2023-06-16T08:22:13.033Z"
   },
   {
    "duration": 89,
    "start_time": "2023-06-16T08:22:13.133Z"
   },
   {
    "duration": 21,
    "start_time": "2023-06-16T08:22:13.224Z"
   },
   {
    "duration": 12,
    "start_time": "2023-06-16T08:22:13.247Z"
   },
   {
    "duration": 3546,
    "start_time": "2023-06-16T08:22:13.261Z"
   },
   {
    "duration": 937,
    "start_time": "2023-06-16T08:22:16.809Z"
   },
   {
    "duration": 3,
    "start_time": "2023-06-16T08:22:17.806Z"
   },
   {
    "duration": 2445,
    "start_time": "2023-06-16T08:22:17.810Z"
   },
   {
    "duration": 3404,
    "start_time": "2023-06-16T08:22:20.258Z"
   },
   {
    "duration": 861,
    "start_time": "2023-06-16T08:22:23.664Z"
   },
   {
    "duration": 738,
    "start_time": "2023-06-16T11:22:32.705Z"
   },
   {
    "duration": 15999,
    "start_time": "2023-06-16T11:22:33.445Z"
   },
   {
    "duration": 9458,
    "start_time": "2023-06-16T11:22:49.447Z"
   },
   {
    "duration": 2105,
    "start_time": "2023-06-16T11:22:58.907Z"
   },
   {
    "duration": 90,
    "start_time": "2023-06-16T11:23:01.020Z"
   },
   {
    "duration": 22,
    "start_time": "2023-06-16T11:23:01.112Z"
   },
   {
    "duration": 295,
    "start_time": "2023-06-16T11:23:01.136Z"
   },
   {
    "duration": 3,
    "start_time": "2023-06-16T11:23:01.433Z"
   },
   {
    "duration": 56,
    "start_time": "2023-06-16T11:23:01.438Z"
   },
   {
    "duration": 34,
    "start_time": "2023-06-16T11:23:01.495Z"
   },
   {
    "duration": 48,
    "start_time": "2023-06-16T11:23:01.530Z"
   },
   {
    "duration": 52,
    "start_time": "2023-06-16T11:23:01.580Z"
   },
   {
    "duration": 409,
    "start_time": "2023-06-16T11:23:01.634Z"
   },
   {
    "duration": 16,
    "start_time": "2023-06-16T11:23:02.115Z"
   },
   {
    "duration": 1188,
    "start_time": "2023-06-16T11:23:02.133Z"
   },
   {
    "duration": 9394,
    "start_time": "2023-06-16T11:23:03.323Z"
   },
   {
    "duration": 6144,
    "start_time": "2023-06-16T11:23:12.718Z"
   },
   {
    "duration": 901,
    "start_time": "2023-06-16T11:23:18.906Z"
   },
   {
    "duration": 130,
    "start_time": "2023-06-16T11:23:19.811Z"
   },
   {
    "duration": 273,
    "start_time": "2023-06-16T11:23:19.943Z"
   },
   {
    "duration": 193,
    "start_time": "2023-06-16T11:23:20.217Z"
   },
   {
    "duration": 30,
    "start_time": "2023-06-16T11:23:20.411Z"
   },
   {
    "duration": 10,
    "start_time": "2023-06-16T11:23:20.443Z"
   },
   {
    "duration": 54,
    "start_time": "2023-06-16T11:23:20.454Z"
   },
   {
    "duration": 2099,
    "start_time": "2023-06-16T11:23:20.509Z"
   },
   {
    "duration": 4,
    "start_time": "2023-06-16T11:23:22.610Z"
   },
   {
    "duration": 562,
    "start_time": "2023-06-16T11:23:22.616Z"
   },
   {
    "duration": 0,
    "start_time": "2023-06-16T11:23:23.179Z"
   },
   {
    "duration": 0,
    "start_time": "2023-06-16T11:23:23.180Z"
   },
   {
    "duration": 0,
    "start_time": "2023-06-16T11:23:23.181Z"
   },
   {
    "duration": 0,
    "start_time": "2023-06-16T11:23:23.182Z"
   },
   {
    "duration": 0,
    "start_time": "2023-06-16T11:23:23.183Z"
   },
   {
    "duration": 0,
    "start_time": "2023-06-16T11:23:23.184Z"
   },
   {
    "duration": 0,
    "start_time": "2023-06-16T11:23:23.185Z"
   },
   {
    "duration": 0,
    "start_time": "2023-06-16T11:23:23.186Z"
   },
   {
    "duration": 0,
    "start_time": "2023-06-16T11:23:23.187Z"
   },
   {
    "duration": 0,
    "start_time": "2023-06-16T11:23:23.188Z"
   },
   {
    "duration": 0,
    "start_time": "2023-06-16T11:23:23.189Z"
   },
   {
    "duration": 0,
    "start_time": "2023-06-16T11:23:23.190Z"
   },
   {
    "duration": 0,
    "start_time": "2023-06-16T11:23:23.191Z"
   },
   {
    "duration": 0,
    "start_time": "2023-06-16T11:23:23.192Z"
   },
   {
    "duration": 0,
    "start_time": "2023-06-16T11:23:23.195Z"
   },
   {
    "duration": 722,
    "start_time": "2023-06-16T11:27:48.402Z"
   },
   {
    "duration": 15935,
    "start_time": "2023-06-16T11:27:49.125Z"
   },
   {
    "duration": 9165,
    "start_time": "2023-06-16T11:28:05.105Z"
   },
   {
    "duration": 2553,
    "start_time": "2023-06-16T11:28:14.272Z"
   },
   {
    "duration": 87,
    "start_time": "2023-06-16T11:28:16.828Z"
   },
   {
    "duration": 26,
    "start_time": "2023-06-16T11:28:16.917Z"
   },
   {
    "duration": 376,
    "start_time": "2023-06-16T11:28:16.944Z"
   },
   {
    "duration": 5,
    "start_time": "2023-06-16T11:28:17.321Z"
   },
   {
    "duration": 15,
    "start_time": "2023-06-16T11:28:17.328Z"
   },
   {
    "duration": 8,
    "start_time": "2023-06-16T11:28:17.346Z"
   },
   {
    "duration": 5,
    "start_time": "2023-06-16T11:28:17.355Z"
   },
   {
    "duration": 109,
    "start_time": "2023-06-16T11:28:17.407Z"
   },
   {
    "duration": 506,
    "start_time": "2023-06-16T11:28:17.519Z"
   },
   {
    "duration": 15,
    "start_time": "2023-06-16T11:28:18.036Z"
   },
   {
    "duration": 858,
    "start_time": "2023-06-16T11:28:18.053Z"
   },
   {
    "duration": 9529,
    "start_time": "2023-06-16T11:28:18.913Z"
   },
   {
    "duration": 5670,
    "start_time": "2023-06-16T11:28:28.443Z"
   },
   {
    "duration": 913,
    "start_time": "2023-06-16T11:28:34.121Z"
   },
   {
    "duration": 114,
    "start_time": "2023-06-16T11:28:35.039Z"
   },
   {
    "duration": 260,
    "start_time": "2023-06-16T11:28:35.155Z"
   },
   {
    "duration": 134,
    "start_time": "2023-06-16T11:28:35.416Z"
   },
   {
    "duration": 40,
    "start_time": "2023-06-16T11:28:35.608Z"
   },
   {
    "duration": 4,
    "start_time": "2023-06-16T11:28:35.650Z"
   },
   {
    "duration": 39,
    "start_time": "2023-06-16T11:28:35.655Z"
   },
   {
    "duration": 30,
    "start_time": "2023-06-16T11:28:35.695Z"
   },
   {
    "duration": 166,
    "start_time": "2023-06-16T11:28:35.730Z"
   },
   {
    "duration": 0,
    "start_time": "2023-06-16T11:28:35.898Z"
   },
   {
    "duration": 0,
    "start_time": "2023-06-16T11:28:35.899Z"
   },
   {
    "duration": 0,
    "start_time": "2023-06-16T11:28:35.900Z"
   },
   {
    "duration": 0,
    "start_time": "2023-06-16T11:28:35.900Z"
   },
   {
    "duration": 0,
    "start_time": "2023-06-16T11:28:35.901Z"
   },
   {
    "duration": 0,
    "start_time": "2023-06-16T11:28:35.902Z"
   },
   {
    "duration": 0,
    "start_time": "2023-06-16T11:28:35.903Z"
   },
   {
    "duration": 0,
    "start_time": "2023-06-16T11:28:35.904Z"
   },
   {
    "duration": 0,
    "start_time": "2023-06-16T11:28:35.905Z"
   },
   {
    "duration": 0,
    "start_time": "2023-06-16T11:28:35.908Z"
   },
   {
    "duration": 0,
    "start_time": "2023-06-16T11:28:35.909Z"
   },
   {
    "duration": 0,
    "start_time": "2023-06-16T11:28:35.910Z"
   },
   {
    "duration": 0,
    "start_time": "2023-06-16T11:28:35.911Z"
   },
   {
    "duration": 0,
    "start_time": "2023-06-16T11:28:35.912Z"
   },
   {
    "duration": 0,
    "start_time": "2023-06-16T11:28:35.914Z"
   },
   {
    "duration": 0,
    "start_time": "2023-06-16T11:28:35.915Z"
   },
   {
    "duration": 0,
    "start_time": "2023-06-16T11:28:35.917Z"
   },
   {
    "duration": 51,
    "start_time": "2023-06-16T11:30:05.533Z"
   },
   {
    "duration": 22,
    "start_time": "2023-06-16T11:30:08.634Z"
   },
   {
    "duration": 2032,
    "start_time": "2023-06-16T11:30:51.552Z"
   },
   {
    "duration": 754,
    "start_time": "2023-06-16T11:31:27.257Z"
   },
   {
    "duration": 130,
    "start_time": "2023-06-16T11:31:53.255Z"
   },
   {
    "duration": 602,
    "start_time": "2023-06-16T11:32:15.122Z"
   },
   {
    "duration": 15825,
    "start_time": "2023-06-16T11:32:15.726Z"
   },
   {
    "duration": 9301,
    "start_time": "2023-06-16T11:32:31.553Z"
   },
   {
    "duration": 2397,
    "start_time": "2023-06-16T11:32:40.855Z"
   },
   {
    "duration": 78,
    "start_time": "2023-06-16T11:32:43.254Z"
   },
   {
    "duration": 72,
    "start_time": "2023-06-16T11:32:43.334Z"
   },
   {
    "duration": 234,
    "start_time": "2023-06-16T11:32:43.408Z"
   },
   {
    "duration": 3,
    "start_time": "2023-06-16T11:32:43.644Z"
   },
   {
    "duration": 13,
    "start_time": "2023-06-16T11:32:43.707Z"
   },
   {
    "duration": 10,
    "start_time": "2023-06-16T11:32:43.722Z"
   },
   {
    "duration": 18,
    "start_time": "2023-06-16T11:32:43.733Z"
   },
   {
    "duration": 68,
    "start_time": "2023-06-16T11:32:43.753Z"
   },
   {
    "duration": 404,
    "start_time": "2023-06-16T11:32:43.823Z"
   },
   {
    "duration": 87,
    "start_time": "2023-06-16T11:32:44.237Z"
   },
   {
    "duration": 881,
    "start_time": "2023-06-16T11:32:44.326Z"
   },
   {
    "duration": 8931,
    "start_time": "2023-06-16T11:32:45.209Z"
   },
   {
    "duration": 5337,
    "start_time": "2023-06-16T11:32:54.141Z"
   },
   {
    "duration": 791,
    "start_time": "2023-06-16T11:32:59.480Z"
   },
   {
    "duration": 134,
    "start_time": "2023-06-16T11:33:00.273Z"
   },
   {
    "duration": 224,
    "start_time": "2023-06-16T11:33:00.409Z"
   },
   {
    "duration": 186,
    "start_time": "2023-06-16T11:33:00.637Z"
   },
   {
    "duration": 23,
    "start_time": "2023-06-16T11:33:00.827Z"
   },
   {
    "duration": 21,
    "start_time": "2023-06-16T11:33:00.852Z"
   },
   {
    "duration": 30,
    "start_time": "2023-06-16T11:33:00.905Z"
   },
   {
    "duration": 72,
    "start_time": "2023-06-16T11:33:00.936Z"
   },
   {
    "duration": 2366,
    "start_time": "2023-06-16T11:33:01.012Z"
   },
   {
    "duration": 0,
    "start_time": "2023-06-16T11:33:03.379Z"
   },
   {
    "duration": 0,
    "start_time": "2023-06-16T11:33:03.381Z"
   },
   {
    "duration": 0,
    "start_time": "2023-06-16T11:33:03.382Z"
   },
   {
    "duration": 0,
    "start_time": "2023-06-16T11:33:03.383Z"
   },
   {
    "duration": 0,
    "start_time": "2023-06-16T11:33:03.384Z"
   },
   {
    "duration": 0,
    "start_time": "2023-06-16T11:33:03.385Z"
   },
   {
    "duration": 0,
    "start_time": "2023-06-16T11:33:03.386Z"
   },
   {
    "duration": 0,
    "start_time": "2023-06-16T11:33:03.387Z"
   },
   {
    "duration": 0,
    "start_time": "2023-06-16T11:33:03.388Z"
   },
   {
    "duration": 0,
    "start_time": "2023-06-16T11:33:03.390Z"
   },
   {
    "duration": 0,
    "start_time": "2023-06-16T11:33:03.391Z"
   },
   {
    "duration": 0,
    "start_time": "2023-06-16T11:33:03.392Z"
   },
   {
    "duration": 0,
    "start_time": "2023-06-16T11:33:03.393Z"
   },
   {
    "duration": 0,
    "start_time": "2023-06-16T11:33:03.394Z"
   },
   {
    "duration": 0,
    "start_time": "2023-06-16T11:33:03.395Z"
   },
   {
    "duration": 0,
    "start_time": "2023-06-16T11:33:03.396Z"
   },
   {
    "duration": 0,
    "start_time": "2023-06-16T11:33:03.397Z"
   },
   {
    "duration": 125,
    "start_time": "2023-06-16T11:35:05.744Z"
   },
   {
    "duration": 121,
    "start_time": "2023-06-16T11:35:40.022Z"
   },
   {
    "duration": 745,
    "start_time": "2023-06-16T11:36:06.505Z"
   },
   {
    "duration": 14714,
    "start_time": "2023-06-16T11:36:07.252Z"
   },
   {
    "duration": 8352,
    "start_time": "2023-06-16T11:36:21.968Z"
   },
   {
    "duration": 2106,
    "start_time": "2023-06-16T11:36:30.322Z"
   },
   {
    "duration": 33,
    "start_time": "2023-06-16T11:36:32.431Z"
   },
   {
    "duration": 24,
    "start_time": "2023-06-16T11:36:32.466Z"
   },
   {
    "duration": 319,
    "start_time": "2023-06-16T11:36:32.491Z"
   },
   {
    "duration": 9,
    "start_time": "2023-06-16T11:36:32.811Z"
   },
   {
    "duration": 10,
    "start_time": "2023-06-16T11:36:32.821Z"
   },
   {
    "duration": 8,
    "start_time": "2023-06-16T11:36:32.833Z"
   },
   {
    "duration": 3,
    "start_time": "2023-06-16T11:36:32.842Z"
   },
   {
    "duration": 67,
    "start_time": "2023-06-16T11:36:32.847Z"
   },
   {
    "duration": 404,
    "start_time": "2023-06-16T11:36:32.916Z"
   },
   {
    "duration": 13,
    "start_time": "2023-06-16T11:36:33.324Z"
   },
   {
    "duration": 827,
    "start_time": "2023-06-16T11:36:33.339Z"
   },
   {
    "duration": 8166,
    "start_time": "2023-06-16T11:36:34.167Z"
   },
   {
    "duration": 4717,
    "start_time": "2023-06-16T11:36:42.335Z"
   },
   {
    "duration": 857,
    "start_time": "2023-06-16T11:36:47.054Z"
   },
   {
    "duration": 116,
    "start_time": "2023-06-16T11:36:47.912Z"
   },
   {
    "duration": 210,
    "start_time": "2023-06-16T11:36:48.030Z"
   },
   {
    "duration": 175,
    "start_time": "2023-06-16T11:36:48.242Z"
   },
   {
    "duration": 30,
    "start_time": "2023-06-16T11:36:48.418Z"
   },
   {
    "duration": 58,
    "start_time": "2023-06-16T11:36:48.450Z"
   },
   {
    "duration": 20,
    "start_time": "2023-06-16T11:36:48.510Z"
   },
   {
    "duration": 11,
    "start_time": "2023-06-16T11:36:48.532Z"
   },
   {
    "duration": 1712,
    "start_time": "2023-06-16T11:36:48.545Z"
   },
   {
    "duration": 282,
    "start_time": "2023-06-16T11:36:50.259Z"
   },
   {
    "duration": 0,
    "start_time": "2023-06-16T11:36:50.542Z"
   },
   {
    "duration": 0,
    "start_time": "2023-06-16T11:36:50.544Z"
   },
   {
    "duration": 0,
    "start_time": "2023-06-16T11:36:50.544Z"
   },
   {
    "duration": 0,
    "start_time": "2023-06-16T11:36:50.546Z"
   },
   {
    "duration": 0,
    "start_time": "2023-06-16T11:36:50.546Z"
   },
   {
    "duration": 0,
    "start_time": "2023-06-16T11:36:50.547Z"
   },
   {
    "duration": 0,
    "start_time": "2023-06-16T11:36:50.548Z"
   },
   {
    "duration": 0,
    "start_time": "2023-06-16T11:36:50.550Z"
   },
   {
    "duration": 0,
    "start_time": "2023-06-16T11:36:50.550Z"
   },
   {
    "duration": 1,
    "start_time": "2023-06-16T11:36:50.551Z"
   },
   {
    "duration": 0,
    "start_time": "2023-06-16T11:36:50.553Z"
   },
   {
    "duration": 0,
    "start_time": "2023-06-16T11:36:50.553Z"
   },
   {
    "duration": 0,
    "start_time": "2023-06-16T11:36:50.554Z"
   },
   {
    "duration": 0,
    "start_time": "2023-06-16T11:36:50.555Z"
   },
   {
    "duration": 0,
    "start_time": "2023-06-16T11:36:50.556Z"
   },
   {
    "duration": 0,
    "start_time": "2023-06-16T11:36:50.558Z"
   },
   {
    "duration": 0,
    "start_time": "2023-06-16T11:36:50.559Z"
   },
   {
    "duration": 126,
    "start_time": "2023-06-16T11:37:31.647Z"
   },
   {
    "duration": 13,
    "start_time": "2023-06-16T11:37:38.004Z"
   },
   {
    "duration": 166,
    "start_time": "2023-06-16T11:39:41.519Z"
   },
   {
    "duration": 114,
    "start_time": "2023-06-16T11:39:56.359Z"
   },
   {
    "duration": 7,
    "start_time": "2023-06-16T11:40:46.937Z"
   },
   {
    "duration": 130,
    "start_time": "2023-06-16T11:42:17.604Z"
   },
   {
    "duration": 127,
    "start_time": "2023-06-16T11:45:24.150Z"
   },
   {
    "duration": 818,
    "start_time": "2023-06-16T11:45:42.118Z"
   },
   {
    "duration": 6,
    "start_time": "2023-06-16T11:45:57.373Z"
   },
   {
    "duration": 808,
    "start_time": "2023-06-16T11:46:07.021Z"
   },
   {
    "duration": 13,
    "start_time": "2023-06-16T11:46:38.618Z"
   },
   {
    "duration": 4,
    "start_time": "2023-06-16T11:46:42.160Z"
   },
   {
    "duration": 4,
    "start_time": "2023-06-16T11:47:03.606Z"
   },
   {
    "duration": 297,
    "start_time": "2023-06-16T11:47:05.125Z"
   },
   {
    "duration": 51,
    "start_time": "2023-06-16T11:47:05.958Z"
   },
   {
    "duration": 4,
    "start_time": "2023-06-16T11:47:11.171Z"
   },
   {
    "duration": 86,
    "start_time": "2023-06-16T11:47:11.621Z"
   },
   {
    "duration": 2762,
    "start_time": "2023-06-16T11:47:12.148Z"
   },
   {
    "duration": 56,
    "start_time": "2023-06-16T11:47:16.750Z"
   },
   {
    "duration": 20,
    "start_time": "2023-06-16T11:47:17.277Z"
   },
   {
    "duration": 24,
    "start_time": "2023-06-16T11:47:17.797Z"
   },
   {
    "duration": 3,
    "start_time": "2023-06-16T11:47:19.269Z"
   },
   {
    "duration": 3567,
    "start_time": "2023-06-16T11:47:21.549Z"
   },
   {
    "duration": 695,
    "start_time": "2023-06-16T11:47:25.118Z"
   },
   {
    "duration": 2,
    "start_time": "2023-06-16T11:47:33.142Z"
   },
   {
    "duration": 1960,
    "start_time": "2023-06-16T11:47:33.773Z"
   },
   {
    "duration": 3026,
    "start_time": "2023-06-16T11:47:40.501Z"
   },
   {
    "duration": 682,
    "start_time": "2023-06-16T11:47:43.529Z"
   },
   {
    "duration": 11,
    "start_time": "2023-06-16T11:50:35.586Z"
   },
   {
    "duration": 3,
    "start_time": "2023-06-16T11:50:36.380Z"
   },
   {
    "duration": 2,
    "start_time": "2023-06-16T11:50:41.700Z"
   },
   {
    "duration": 2,
    "start_time": "2023-06-16T11:50:42.020Z"
   },
   {
    "duration": 761,
    "start_time": "2023-06-16T11:50:42.385Z"
   },
   {
    "duration": 674,
    "start_time": "2023-06-16T11:50:43.148Z"
   },
   {
    "duration": 3,
    "start_time": "2023-06-16T11:50:46.931Z"
   },
   {
    "duration": 70,
    "start_time": "2023-06-16T11:50:47.340Z"
   },
   {
    "duration": 36,
    "start_time": "2023-06-16T11:50:47.700Z"
   },
   {
    "duration": 2,
    "start_time": "2023-06-16T11:50:48.444Z"
   },
   {
    "duration": 39,
    "start_time": "2023-06-16T11:50:48.790Z"
   },
   {
    "duration": 1732,
    "start_time": "2023-06-16T11:50:49.175Z"
   },
   {
    "duration": 4,
    "start_time": "2023-06-16T11:50:50.909Z"
   },
   {
    "duration": 47,
    "start_time": "2023-06-16T11:50:50.914Z"
   },
   {
    "duration": 31,
    "start_time": "2023-06-16T11:50:57.092Z"
   },
   {
    "duration": 19,
    "start_time": "2023-06-16T11:50:57.527Z"
   },
   {
    "duration": 16,
    "start_time": "2023-06-16T11:50:58.133Z"
   },
   {
    "duration": 3,
    "start_time": "2023-06-16T11:50:59.488Z"
   },
   {
    "duration": 2227,
    "start_time": "2023-06-16T11:51:00.230Z"
   },
   {
    "duration": 694,
    "start_time": "2023-06-16T11:51:02.459Z"
   },
   {
    "duration": 3,
    "start_time": "2023-06-16T11:51:12.435Z"
   },
   {
    "duration": 1524,
    "start_time": "2023-06-16T11:51:12.790Z"
   },
   {
    "duration": 2014,
    "start_time": "2023-06-16T11:51:15.995Z"
   },
   {
    "duration": 538,
    "start_time": "2023-06-16T11:51:19.652Z"
   },
   {
    "duration": 9,
    "start_time": "2023-06-16T11:51:43.972Z"
   },
   {
    "duration": 3,
    "start_time": "2023-06-16T11:51:44.801Z"
   },
   {
    "duration": 2,
    "start_time": "2023-06-16T11:51:45.956Z"
   },
   {
    "duration": 2,
    "start_time": "2023-06-16T11:51:46.233Z"
   },
   {
    "duration": 511,
    "start_time": "2023-06-16T11:51:46.542Z"
   },
   {
    "duration": 866,
    "start_time": "2023-06-16T11:51:47.054Z"
   },
   {
    "duration": 2,
    "start_time": "2023-06-16T11:51:48.462Z"
   },
   {
    "duration": 61,
    "start_time": "2023-06-16T11:51:48.852Z"
   },
   {
    "duration": 27,
    "start_time": "2023-06-16T11:51:49.170Z"
   },
   {
    "duration": 3,
    "start_time": "2023-06-16T11:51:49.866Z"
   },
   {
    "duration": 39,
    "start_time": "2023-06-16T11:51:50.126Z"
   },
   {
    "duration": 1314,
    "start_time": "2023-06-16T11:51:50.435Z"
   },
   {
    "duration": 32,
    "start_time": "2023-06-16T11:51:51.813Z"
   },
   {
    "duration": 17,
    "start_time": "2023-06-16T11:51:51.955Z"
   },
   {
    "duration": 19,
    "start_time": "2023-06-16T11:51:52.289Z"
   },
   {
    "duration": 10,
    "start_time": "2023-06-16T11:51:53.624Z"
   },
   {
    "duration": 1703,
    "start_time": "2023-06-16T11:51:54.051Z"
   },
   {
    "duration": 538,
    "start_time": "2023-06-16T11:51:55.756Z"
   },
   {
    "duration": 3,
    "start_time": "2023-06-16T11:51:58.833Z"
   },
   {
    "duration": 1708,
    "start_time": "2023-06-16T11:51:59.349Z"
   },
   {
    "duration": 1948,
    "start_time": "2023-06-16T11:52:01.835Z"
   },
   {
    "duration": 662,
    "start_time": "2023-06-16T11:52:03.807Z"
   },
   {
    "duration": 11,
    "start_time": "2023-06-16T11:52:27.296Z"
   },
   {
    "duration": 6,
    "start_time": "2023-06-16T11:52:28.130Z"
   },
   {
    "duration": 3,
    "start_time": "2023-06-16T11:52:29.204Z"
   },
   {
    "duration": 2,
    "start_time": "2023-06-16T11:52:29.473Z"
   },
   {
    "duration": 615,
    "start_time": "2023-06-16T11:52:29.800Z"
   },
   {
    "duration": 493,
    "start_time": "2023-06-16T11:52:30.420Z"
   },
   {
    "duration": 4,
    "start_time": "2023-06-16T11:52:32.539Z"
   },
   {
    "duration": 48,
    "start_time": "2023-06-16T11:52:32.928Z"
   },
   {
    "duration": 30,
    "start_time": "2023-06-16T11:52:33.265Z"
   },
   {
    "duration": 3,
    "start_time": "2023-06-16T11:52:33.832Z"
   },
   {
    "duration": 51,
    "start_time": "2023-06-16T11:52:34.104Z"
   },
   {
    "duration": 1040,
    "start_time": "2023-06-16T11:52:34.500Z"
   },
   {
    "duration": 53,
    "start_time": "2023-06-16T11:52:35.606Z"
   },
   {
    "duration": 21,
    "start_time": "2023-06-16T11:52:36.102Z"
   },
   {
    "duration": 21,
    "start_time": "2023-06-16T11:52:36.593Z"
   },
   {
    "duration": 3,
    "start_time": "2023-06-16T11:52:37.825Z"
   },
   {
    "duration": 1532,
    "start_time": "2023-06-16T11:52:38.491Z"
   },
   {
    "duration": 465,
    "start_time": "2023-06-16T11:52:40.026Z"
   },
   {
    "duration": 2,
    "start_time": "2023-06-16T11:52:40.493Z"
   },
   {
    "duration": 1369,
    "start_time": "2023-06-16T11:52:40.529Z"
   },
   {
    "duration": 1665,
    "start_time": "2023-06-16T11:52:54.571Z"
   },
   {
    "duration": 478,
    "start_time": "2023-06-16T11:52:56.239Z"
   },
   {
    "duration": 228,
    "start_time": "2023-06-16T11:57:46.522Z"
   },
   {
    "duration": 169,
    "start_time": "2023-06-16T11:57:55.698Z"
   },
   {
    "duration": 220,
    "start_time": "2023-06-16T11:58:12.097Z"
   },
   {
    "duration": 670,
    "start_time": "2023-06-16T11:58:17.070Z"
   },
   {
    "duration": 14178,
    "start_time": "2023-06-16T11:58:17.742Z"
   },
   {
    "duration": 8314,
    "start_time": "2023-06-16T11:58:31.922Z"
   },
   {
    "duration": 2105,
    "start_time": "2023-06-16T11:58:40.238Z"
   },
   {
    "duration": 74,
    "start_time": "2023-06-16T11:58:42.344Z"
   },
   {
    "duration": 23,
    "start_time": "2023-06-16T11:58:42.420Z"
   },
   {
    "duration": 286,
    "start_time": "2023-06-16T11:58:42.446Z"
   },
   {
    "duration": 3,
    "start_time": "2023-06-16T11:58:42.734Z"
   },
   {
    "duration": 69,
    "start_time": "2023-06-16T11:58:42.738Z"
   },
   {
    "duration": 12,
    "start_time": "2023-06-16T11:58:42.810Z"
   },
   {
    "duration": 5,
    "start_time": "2023-06-16T11:58:42.824Z"
   },
   {
    "duration": 49,
    "start_time": "2023-06-16T11:58:42.830Z"
   },
   {
    "duration": 338,
    "start_time": "2023-06-16T11:58:42.881Z"
   },
   {
    "duration": 15,
    "start_time": "2023-06-16T11:58:43.220Z"
   },
   {
    "duration": 780,
    "start_time": "2023-06-16T11:58:43.236Z"
   },
   {
    "duration": 7927,
    "start_time": "2023-06-16T11:58:44.017Z"
   },
   {
    "duration": 5167,
    "start_time": "2023-06-16T11:58:51.946Z"
   },
   {
    "duration": 855,
    "start_time": "2023-06-16T11:58:57.114Z"
   },
   {
    "duration": 143,
    "start_time": "2023-06-16T11:58:57.972Z"
   },
   {
    "duration": 220,
    "start_time": "2023-06-16T11:58:58.117Z"
   },
   {
    "duration": 177,
    "start_time": "2023-06-16T11:58:58.338Z"
   },
   {
    "duration": 29,
    "start_time": "2023-06-16T11:58:58.516Z"
   },
   {
    "duration": 4,
    "start_time": "2023-06-16T11:58:58.546Z"
   },
   {
    "duration": 13,
    "start_time": "2023-06-16T11:58:58.551Z"
   },
   {
    "duration": 3,
    "start_time": "2023-06-16T11:58:58.605Z"
   },
   {
    "duration": 1915,
    "start_time": "2023-06-16T11:58:58.610Z"
   },
   {
    "duration": 809,
    "start_time": "2023-06-16T11:59:00.526Z"
   },
   {
    "duration": 4,
    "start_time": "2023-06-16T11:59:01.406Z"
   },
   {
    "duration": 330,
    "start_time": "2023-06-16T11:59:01.412Z"
   },
   {
    "duration": 164,
    "start_time": "2023-06-16T11:59:01.744Z"
   },
   {
    "duration": 4,
    "start_time": "2023-06-16T11:59:01.910Z"
   },
   {
    "duration": 107,
    "start_time": "2023-06-16T11:59:01.916Z"
   },
   {
    "duration": 2400,
    "start_time": "2023-06-16T11:59:02.025Z"
   },
   {
    "duration": 106,
    "start_time": "2023-06-16T11:59:04.427Z"
   },
   {
    "duration": 0,
    "start_time": "2023-06-16T11:59:04.661Z"
   },
   {
    "duration": 0,
    "start_time": "2023-06-16T11:59:04.663Z"
   },
   {
    "duration": 0,
    "start_time": "2023-06-16T11:59:04.664Z"
   },
   {
    "duration": 0,
    "start_time": "2023-06-16T11:59:04.665Z"
   },
   {
    "duration": 0,
    "start_time": "2023-06-16T11:59:04.666Z"
   },
   {
    "duration": 0,
    "start_time": "2023-06-16T11:59:04.666Z"
   },
   {
    "duration": 0,
    "start_time": "2023-06-16T11:59:04.667Z"
   },
   {
    "duration": 0,
    "start_time": "2023-06-16T11:59:04.668Z"
   },
   {
    "duration": 0,
    "start_time": "2023-06-16T11:59:04.669Z"
   },
   {
    "duration": 0,
    "start_time": "2023-06-16T11:59:04.670Z"
   },
   {
    "duration": 658,
    "start_time": "2023-06-16T12:00:00.380Z"
   },
   {
    "duration": 14888,
    "start_time": "2023-06-16T12:00:01.040Z"
   },
   {
    "duration": 7977,
    "start_time": "2023-06-16T12:00:15.930Z"
   },
   {
    "duration": 2017,
    "start_time": "2023-06-16T12:00:23.909Z"
   },
   {
    "duration": 79,
    "start_time": "2023-06-16T12:00:25.928Z"
   },
   {
    "duration": 19,
    "start_time": "2023-06-16T12:00:26.009Z"
   },
   {
    "duration": 210,
    "start_time": "2023-06-16T12:00:26.029Z"
   },
   {
    "duration": 3,
    "start_time": "2023-06-16T12:00:26.307Z"
   },
   {
    "duration": 11,
    "start_time": "2023-06-16T12:00:26.312Z"
   },
   {
    "duration": 14,
    "start_time": "2023-06-16T12:00:26.324Z"
   },
   {
    "duration": 15,
    "start_time": "2023-06-16T12:00:26.340Z"
   },
   {
    "duration": 73,
    "start_time": "2023-06-16T12:00:26.356Z"
   },
   {
    "duration": 384,
    "start_time": "2023-06-16T12:00:26.431Z"
   },
   {
    "duration": 14,
    "start_time": "2023-06-16T12:00:26.822Z"
   },
   {
    "duration": 885,
    "start_time": "2023-06-16T12:00:26.838Z"
   },
   {
    "duration": 8681,
    "start_time": "2023-06-16T12:00:27.725Z"
   },
   {
    "duration": 5052,
    "start_time": "2023-06-16T12:00:36.408Z"
   },
   {
    "duration": 849,
    "start_time": "2023-06-16T12:00:41.461Z"
   },
   {
    "duration": 124,
    "start_time": "2023-06-16T12:00:42.312Z"
   },
   {
    "duration": 198,
    "start_time": "2023-06-16T12:00:42.438Z"
   },
   {
    "duration": 177,
    "start_time": "2023-06-16T12:00:42.637Z"
   },
   {
    "duration": 23,
    "start_time": "2023-06-16T12:00:42.816Z"
   },
   {
    "duration": 3,
    "start_time": "2023-06-16T12:00:42.906Z"
   },
   {
    "duration": 17,
    "start_time": "2023-06-16T12:00:42.910Z"
   },
   {
    "duration": 15,
    "start_time": "2023-06-16T12:00:42.928Z"
   },
   {
    "duration": 1885,
    "start_time": "2023-06-16T12:00:42.945Z"
   },
   {
    "duration": 874,
    "start_time": "2023-06-16T12:00:44.832Z"
   },
   {
    "duration": 4,
    "start_time": "2023-06-16T12:00:45.708Z"
   },
   {
    "duration": 394,
    "start_time": "2023-06-16T12:00:45.713Z"
   },
   {
    "duration": 49,
    "start_time": "2023-06-16T12:00:46.109Z"
   },
   {
    "duration": 47,
    "start_time": "2023-06-16T12:00:46.160Z"
   },
   {
    "duration": 102,
    "start_time": "2023-06-16T12:00:46.209Z"
   },
   {
    "duration": 2114,
    "start_time": "2023-06-16T12:00:46.313Z"
   },
   {
    "duration": 106,
    "start_time": "2023-06-16T12:00:48.429Z"
   },
   {
    "duration": 709,
    "start_time": "2023-06-16T12:00:48.536Z"
   },
   {
    "duration": 75,
    "start_time": "2023-06-16T12:00:49.247Z"
   },
   {
    "duration": 16,
    "start_time": "2023-06-16T12:00:49.323Z"
   },
   {
    "duration": 3,
    "start_time": "2023-06-16T12:00:49.341Z"
   },
   {
    "duration": 3100,
    "start_time": "2023-06-16T12:00:49.345Z"
   },
   {
    "duration": 965,
    "start_time": "2023-06-16T12:00:52.447Z"
   },
   {
    "duration": 3,
    "start_time": "2023-06-16T12:00:53.416Z"
   },
   {
    "duration": 1900,
    "start_time": "2023-06-16T12:00:53.420Z"
   },
   {
    "duration": 3586,
    "start_time": "2023-06-16T12:00:55.321Z"
   },
   {
    "duration": 649,
    "start_time": "2023-06-16T12:00:58.908Z"
   },
   {
    "duration": 721,
    "start_time": "2023-06-16T12:01:58.208Z"
   },
   {
    "duration": 14781,
    "start_time": "2023-06-16T12:01:58.930Z"
   },
   {
    "duration": 8608,
    "start_time": "2023-06-16T12:02:13.713Z"
   },
   {
    "duration": 2326,
    "start_time": "2023-06-16T12:02:22.322Z"
   },
   {
    "duration": 76,
    "start_time": "2023-06-16T12:02:24.651Z"
   },
   {
    "duration": 18,
    "start_time": "2023-06-16T12:02:24.729Z"
   },
   {
    "duration": 275,
    "start_time": "2023-06-16T12:02:24.748Z"
   },
   {
    "duration": 4,
    "start_time": "2023-06-16T12:02:25.024Z"
   },
   {
    "duration": 18,
    "start_time": "2023-06-16T12:02:25.029Z"
   },
   {
    "duration": 22,
    "start_time": "2023-06-16T12:02:25.048Z"
   },
   {
    "duration": 6,
    "start_time": "2023-06-16T12:02:25.105Z"
   },
   {
    "duration": 33,
    "start_time": "2023-06-16T12:02:25.113Z"
   },
   {
    "duration": 300,
    "start_time": "2023-06-16T12:02:25.147Z"
   },
   {
    "duration": 18,
    "start_time": "2023-06-16T12:02:25.510Z"
   },
   {
    "duration": 976,
    "start_time": "2023-06-16T12:02:25.530Z"
   },
   {
    "duration": 9115,
    "start_time": "2023-06-16T12:02:26.508Z"
   },
   {
    "duration": 5291,
    "start_time": "2023-06-16T12:02:35.627Z"
   },
   {
    "duration": 876,
    "start_time": "2023-06-16T12:02:40.919Z"
   },
   {
    "duration": 138,
    "start_time": "2023-06-16T12:02:41.796Z"
   },
   {
    "duration": 274,
    "start_time": "2023-06-16T12:02:41.935Z"
   },
   {
    "duration": 122,
    "start_time": "2023-06-16T12:02:42.211Z"
   },
   {
    "duration": 91,
    "start_time": "2023-06-16T12:02:42.335Z"
   },
   {
    "duration": 5,
    "start_time": "2023-06-16T12:02:42.427Z"
   },
   {
    "duration": 5,
    "start_time": "2023-06-16T12:02:42.434Z"
   },
   {
    "duration": 5,
    "start_time": "2023-06-16T12:02:42.441Z"
   },
   {
    "duration": 2259,
    "start_time": "2023-06-16T12:02:42.448Z"
   },
   {
    "duration": 825,
    "start_time": "2023-06-16T12:02:44.709Z"
   },
   {
    "duration": 4,
    "start_time": "2023-06-16T12:02:45.536Z"
   },
   {
    "duration": 394,
    "start_time": "2023-06-16T12:02:45.542Z"
   },
   {
    "duration": 115,
    "start_time": "2023-06-16T12:02:45.938Z"
   },
   {
    "duration": 52,
    "start_time": "2023-06-16T12:02:46.055Z"
   },
   {
    "duration": 109,
    "start_time": "2023-06-16T12:02:46.109Z"
   },
   {
    "duration": 2412,
    "start_time": "2023-06-16T12:02:46.220Z"
   },
   {
    "duration": 100,
    "start_time": "2023-06-16T12:02:48.634Z"
   },
   {
    "duration": 672,
    "start_time": "2023-06-16T12:02:48.736Z"
   },
   {
    "duration": 18,
    "start_time": "2023-06-16T12:02:49.410Z"
   },
   {
    "duration": 23,
    "start_time": "2023-06-16T12:02:49.430Z"
   },
   {
    "duration": 10,
    "start_time": "2023-06-16T12:02:49.455Z"
   },
   {
    "duration": 3351,
    "start_time": "2023-06-16T12:02:49.467Z"
   },
   {
    "duration": 693,
    "start_time": "2023-06-16T12:02:52.820Z"
   },
   {
    "duration": 3,
    "start_time": "2023-06-16T12:02:53.516Z"
   },
   {
    "duration": 1908,
    "start_time": "2023-06-16T12:02:53.521Z"
   },
   {
    "duration": 2447,
    "start_time": "2023-06-16T12:02:55.430Z"
   },
   {
    "duration": 602,
    "start_time": "2023-06-16T12:02:57.879Z"
   },
   {
    "duration": 689,
    "start_time": "2023-06-16T12:04:15.039Z"
   },
   {
    "duration": 14504,
    "start_time": "2023-06-16T12:04:15.730Z"
   },
   {
    "duration": 9003,
    "start_time": "2023-06-16T12:04:30.236Z"
   },
   {
    "duration": 2101,
    "start_time": "2023-06-16T12:04:39.241Z"
   },
   {
    "duration": 77,
    "start_time": "2023-06-16T12:04:41.344Z"
   },
   {
    "duration": 20,
    "start_time": "2023-06-16T12:04:41.423Z"
   },
   {
    "duration": 265,
    "start_time": "2023-06-16T12:04:41.444Z"
   },
   {
    "duration": 3,
    "start_time": "2023-06-16T12:04:41.711Z"
   },
   {
    "duration": 6,
    "start_time": "2023-06-16T12:04:41.716Z"
   },
   {
    "duration": 15,
    "start_time": "2023-06-16T12:04:41.725Z"
   },
   {
    "duration": 4,
    "start_time": "2023-06-16T12:04:41.741Z"
   },
   {
    "duration": 60,
    "start_time": "2023-06-16T12:04:41.746Z"
   },
   {
    "duration": 414,
    "start_time": "2023-06-16T12:04:41.808Z"
   },
   {
    "duration": 12,
    "start_time": "2023-06-16T12:04:42.225Z"
   },
   {
    "duration": 975,
    "start_time": "2023-06-16T12:04:42.239Z"
   },
   {
    "duration": 8016,
    "start_time": "2023-06-16T12:04:43.216Z"
   },
   {
    "duration": 5522,
    "start_time": "2023-06-16T12:04:51.233Z"
   },
   {
    "duration": 798,
    "start_time": "2023-06-16T12:04:56.757Z"
   },
   {
    "duration": 83,
    "start_time": "2023-06-16T12:04:57.557Z"
   },
   {
    "duration": 193,
    "start_time": "2023-06-16T12:04:57.641Z"
   },
   {
    "duration": 185,
    "start_time": "2023-06-16T12:04:57.836Z"
   },
   {
    "duration": 85,
    "start_time": "2023-06-16T12:04:58.023Z"
   },
   {
    "duration": 4,
    "start_time": "2023-06-16T12:04:58.109Z"
   },
   {
    "duration": 16,
    "start_time": "2023-06-16T12:04:58.115Z"
   },
   {
    "duration": 7,
    "start_time": "2023-06-16T12:04:58.132Z"
   },
   {
    "duration": 1774,
    "start_time": "2023-06-16T12:04:58.141Z"
   },
   {
    "duration": 789,
    "start_time": "2023-06-16T12:04:59.917Z"
   },
   {
    "duration": 68,
    "start_time": "2023-06-16T12:05:00.709Z"
   },
   {
    "duration": 0,
    "start_time": "2023-06-16T12:05:00.779Z"
   },
   {
    "duration": 0,
    "start_time": "2023-06-16T12:05:00.780Z"
   },
   {
    "duration": 0,
    "start_time": "2023-06-16T12:05:00.781Z"
   },
   {
    "duration": 0,
    "start_time": "2023-06-16T12:05:00.782Z"
   },
   {
    "duration": 0,
    "start_time": "2023-06-16T12:05:00.783Z"
   },
   {
    "duration": 0,
    "start_time": "2023-06-16T12:05:00.806Z"
   },
   {
    "duration": 0,
    "start_time": "2023-06-16T12:05:00.807Z"
   },
   {
    "duration": 0,
    "start_time": "2023-06-16T12:05:00.808Z"
   },
   {
    "duration": 0,
    "start_time": "2023-06-16T12:05:00.809Z"
   },
   {
    "duration": 0,
    "start_time": "2023-06-16T12:05:00.809Z"
   },
   {
    "duration": 0,
    "start_time": "2023-06-16T12:05:00.810Z"
   },
   {
    "duration": 0,
    "start_time": "2023-06-16T12:05:00.811Z"
   },
   {
    "duration": 0,
    "start_time": "2023-06-16T12:05:00.812Z"
   },
   {
    "duration": 0,
    "start_time": "2023-06-16T12:05:00.813Z"
   },
   {
    "duration": 0,
    "start_time": "2023-06-16T12:05:00.814Z"
   },
   {
    "duration": 0,
    "start_time": "2023-06-16T12:05:00.814Z"
   },
   {
    "duration": 0,
    "start_time": "2023-06-16T12:05:00.815Z"
   },
   {
    "duration": 738,
    "start_time": "2023-06-16T12:05:34.025Z"
   },
   {
    "duration": 804,
    "start_time": "2023-06-16T12:10:40.953Z"
   },
   {
    "duration": 16559,
    "start_time": "2023-06-16T12:10:41.760Z"
   },
   {
    "duration": 10899,
    "start_time": "2023-06-16T12:10:58.322Z"
   },
   {
    "duration": 2531,
    "start_time": "2023-06-16T12:11:09.223Z"
   },
   {
    "duration": 83,
    "start_time": "2023-06-16T12:11:11.758Z"
   },
   {
    "duration": 31,
    "start_time": "2023-06-16T12:11:11.844Z"
   },
   {
    "duration": 332,
    "start_time": "2023-06-16T12:11:11.877Z"
   },
   {
    "duration": 4,
    "start_time": "2023-06-16T12:11:12.211Z"
   },
   {
    "duration": 16,
    "start_time": "2023-06-16T12:11:12.217Z"
   },
   {
    "duration": 32,
    "start_time": "2023-06-16T12:11:12.235Z"
   },
   {
    "duration": 6,
    "start_time": "2023-06-16T12:11:12.269Z"
   },
   {
    "duration": 82,
    "start_time": "2023-06-16T12:11:12.277Z"
   },
   {
    "duration": 452,
    "start_time": "2023-06-16T12:11:12.361Z"
   },
   {
    "duration": 84,
    "start_time": "2023-06-16T12:11:12.824Z"
   },
   {
    "duration": 1009,
    "start_time": "2023-06-16T12:11:12.910Z"
   },
   {
    "duration": 10328,
    "start_time": "2023-06-16T12:11:13.921Z"
   },
   {
    "duration": 6263,
    "start_time": "2023-06-16T12:11:24.252Z"
   },
   {
    "duration": 1033,
    "start_time": "2023-06-16T12:11:30.517Z"
   },
   {
    "duration": 160,
    "start_time": "2023-06-16T12:11:31.552Z"
   },
   {
    "duration": 217,
    "start_time": "2023-06-16T12:11:31.715Z"
   },
   {
    "duration": 107,
    "start_time": "2023-06-16T12:11:31.934Z"
   },
   {
    "duration": 31,
    "start_time": "2023-06-16T12:11:32.107Z"
   },
   {
    "duration": 5,
    "start_time": "2023-06-16T12:11:32.140Z"
   },
   {
    "duration": 33,
    "start_time": "2023-06-16T12:11:32.147Z"
   },
   {
    "duration": 22,
    "start_time": "2023-06-16T12:11:32.183Z"
   },
   {
    "duration": 2922,
    "start_time": "2023-06-16T12:11:32.207Z"
   },
   {
    "duration": 994,
    "start_time": "2023-06-16T12:11:35.132Z"
   },
   {
    "duration": 4,
    "start_time": "2023-06-16T12:11:36.129Z"
   },
   {
    "duration": 482,
    "start_time": "2023-06-16T12:11:36.135Z"
   },
   {
    "duration": 205,
    "start_time": "2023-06-16T12:11:36.619Z"
   },
   {
    "duration": 4,
    "start_time": "2023-06-16T12:11:36.826Z"
   },
   {
    "duration": 199,
    "start_time": "2023-06-16T12:11:36.832Z"
   },
   {
    "duration": 2997,
    "start_time": "2023-06-16T12:11:37.034Z"
   },
   {
    "duration": 177,
    "start_time": "2023-06-16T12:11:40.033Z"
   },
   {
    "duration": 1001,
    "start_time": "2023-06-16T12:11:40.212Z"
   },
   {
    "duration": 22,
    "start_time": "2023-06-16T12:11:41.214Z"
   },
   {
    "duration": 84,
    "start_time": "2023-06-16T12:11:41.239Z"
   },
   {
    "duration": 3,
    "start_time": "2023-06-16T12:11:41.326Z"
   },
   {
    "duration": 4084,
    "start_time": "2023-06-16T12:11:41.330Z"
   },
   {
    "duration": 890,
    "start_time": "2023-06-16T12:11:45.419Z"
   },
   {
    "duration": 3,
    "start_time": "2023-06-16T12:11:46.313Z"
   },
   {
    "duration": 2309,
    "start_time": "2023-06-16T12:11:46.318Z"
   },
   {
    "duration": 3482,
    "start_time": "2023-06-16T12:11:48.628Z"
   },
   {
    "duration": 926,
    "start_time": "2023-06-16T12:11:52.112Z"
   },
   {
    "duration": 6,
    "start_time": "2023-06-16T12:35:24.123Z"
   },
   {
    "duration": 4,
    "start_time": "2023-06-16T12:35:24.722Z"
   },
   {
    "duration": 362,
    "start_time": "2023-06-16T12:35:25.042Z"
   },
   {
    "duration": 242,
    "start_time": "2023-06-16T12:35:35.257Z"
   },
   {
    "duration": 761,
    "start_time": "2023-06-16T12:35:43.754Z"
   },
   {
    "duration": 139,
    "start_time": "2023-06-16T12:42:59.494Z"
   },
   {
    "duration": 137,
    "start_time": "2023-06-16T12:43:05.595Z"
   },
   {
    "duration": 55,
    "start_time": "2023-06-16T12:46:04.106Z"
   },
   {
    "duration": 15,
    "start_time": "2023-06-16T12:46:09.341Z"
   },
   {
    "duration": 9,
    "start_time": "2023-06-16T12:46:20.438Z"
   },
   {
    "duration": 379,
    "start_time": "2023-06-16T12:46:46.272Z"
   },
   {
    "duration": 12,
    "start_time": "2023-06-16T12:46:48.290Z"
   },
   {
    "duration": 3,
    "start_time": "2023-06-16T12:46:51.275Z"
   },
   {
    "duration": 3,
    "start_time": "2023-06-16T12:47:10.368Z"
   },
   {
    "duration": 3,
    "start_time": "2023-06-16T12:47:27.498Z"
   },
   {
    "duration": 4,
    "start_time": "2023-06-16T12:47:36.953Z"
   },
   {
    "duration": 4,
    "start_time": "2023-06-16T12:47:40.124Z"
   },
   {
    "duration": 16,
    "start_time": "2023-06-16T12:48:08.442Z"
   },
   {
    "duration": 90,
    "start_time": "2023-06-16T12:49:42.004Z"
   },
   {
    "duration": 97,
    "start_time": "2023-06-16T12:49:46.873Z"
   },
   {
    "duration": 114,
    "start_time": "2023-06-16T12:50:00.905Z"
   },
   {
    "duration": 103,
    "start_time": "2023-06-16T12:50:26.334Z"
   },
   {
    "duration": 114,
    "start_time": "2023-06-16T12:50:40.390Z"
   },
   {
    "duration": 276,
    "start_time": "2023-06-16T12:52:47.406Z"
   },
   {
    "duration": 4,
    "start_time": "2023-06-16T12:52:54.894Z"
   },
   {
    "duration": 220,
    "start_time": "2023-06-16T12:53:22.511Z"
   },
   {
    "duration": 4,
    "start_time": "2023-06-16T12:53:23.963Z"
   },
   {
    "duration": 234,
    "start_time": "2023-06-16T12:53:28.991Z"
   },
   {
    "duration": 4,
    "start_time": "2023-06-16T12:53:30.520Z"
   },
   {
    "duration": 25,
    "start_time": "2023-06-16T12:53:38.246Z"
   },
   {
    "duration": 3,
    "start_time": "2023-06-16T12:53:44.069Z"
   },
   {
    "duration": 12,
    "start_time": "2023-06-16T12:53:44.611Z"
   },
   {
    "duration": 194,
    "start_time": "2023-06-16T12:54:37.444Z"
   },
   {
    "duration": 3,
    "start_time": "2023-06-16T12:57:38.973Z"
   },
   {
    "duration": 611,
    "start_time": "2023-06-16T12:57:57.127Z"
   },
   {
    "duration": 15195,
    "start_time": "2023-06-16T12:57:57.739Z"
   },
   {
    "duration": 8974,
    "start_time": "2023-06-16T12:58:12.935Z"
   },
   {
    "duration": 1200,
    "start_time": "2023-06-16T12:58:21.911Z"
   },
   {
    "duration": 214,
    "start_time": "2023-06-16T12:58:23.114Z"
   },
   {
    "duration": 88,
    "start_time": "2023-06-16T12:58:23.330Z"
   },
   {
    "duration": 5,
    "start_time": "2023-06-16T12:58:23.419Z"
   },
   {
    "duration": 30,
    "start_time": "2023-06-16T12:58:23.426Z"
   },
   {
    "duration": 70,
    "start_time": "2023-06-16T12:58:23.457Z"
   },
   {
    "duration": 400,
    "start_time": "2023-06-16T12:58:23.528Z"
   },
   {
    "duration": 13,
    "start_time": "2023-06-16T12:58:23.930Z"
   },
   {
    "duration": 980,
    "start_time": "2023-06-16T12:58:23.945Z"
   },
   {
    "duration": 8883,
    "start_time": "2023-06-16T12:58:24.927Z"
   },
   {
    "duration": 5121,
    "start_time": "2023-06-16T12:58:33.817Z"
   },
   {
    "duration": 835,
    "start_time": "2023-06-16T12:58:38.940Z"
   },
   {
    "duration": 142,
    "start_time": "2023-06-16T12:58:39.777Z"
   },
   {
    "duration": 211,
    "start_time": "2023-06-16T12:58:39.921Z"
   },
   {
    "duration": 178,
    "start_time": "2023-06-16T12:58:40.133Z"
   },
   {
    "duration": 26,
    "start_time": "2023-06-16T12:58:40.314Z"
   },
   {
    "duration": 70,
    "start_time": "2023-06-16T12:58:40.341Z"
   },
   {
    "duration": 7,
    "start_time": "2023-06-16T12:58:40.413Z"
   },
   {
    "duration": 8,
    "start_time": "2023-06-16T12:58:40.422Z"
   },
   {
    "duration": 2007,
    "start_time": "2023-06-16T12:58:40.432Z"
   },
   {
    "duration": 802,
    "start_time": "2023-06-16T12:58:42.442Z"
   },
   {
    "duration": 69,
    "start_time": "2023-06-16T12:58:43.246Z"
   },
   {
    "duration": 499,
    "start_time": "2023-06-16T12:58:43.316Z"
   },
   {
    "duration": 196,
    "start_time": "2023-06-16T12:58:43.816Z"
   },
   {
    "duration": 6,
    "start_time": "2023-06-16T12:58:44.015Z"
   },
   {
    "duration": 124,
    "start_time": "2023-06-16T12:58:44.026Z"
   },
   {
    "duration": 2783,
    "start_time": "2023-06-16T12:58:44.151Z"
   },
   {
    "duration": 171,
    "start_time": "2023-06-16T12:58:46.936Z"
   },
   {
    "duration": 662,
    "start_time": "2023-06-16T12:58:47.111Z"
   },
   {
    "duration": 56,
    "start_time": "2023-06-16T12:58:47.775Z"
   },
   {
    "duration": 17,
    "start_time": "2023-06-16T12:58:47.833Z"
   },
   {
    "duration": 3,
    "start_time": "2023-06-16T12:58:47.853Z"
   },
   {
    "duration": 3425,
    "start_time": "2023-06-16T12:58:47.905Z"
   },
   {
    "duration": 698,
    "start_time": "2023-06-16T12:58:51.332Z"
   },
   {
    "duration": 2,
    "start_time": "2023-06-16T12:58:52.032Z"
   },
   {
    "duration": 1907,
    "start_time": "2023-06-16T12:58:52.035Z"
   },
   {
    "duration": 3383,
    "start_time": "2023-06-16T12:58:53.944Z"
   },
   {
    "duration": 645,
    "start_time": "2023-06-16T12:58:57.330Z"
   },
   {
    "duration": 10,
    "start_time": "2023-06-16T13:02:04.675Z"
   },
   {
    "duration": 4,
    "start_time": "2023-06-16T13:02:05.419Z"
   },
   {
    "duration": 2,
    "start_time": "2023-06-16T13:02:06.666Z"
   },
   {
    "duration": 2,
    "start_time": "2023-06-16T13:02:06.874Z"
   },
   {
    "duration": 1405,
    "start_time": "2023-06-16T13:02:07.208Z"
   },
   {
    "duration": 1193,
    "start_time": "2023-06-16T13:02:16.716Z"
   },
   {
    "duration": 8,
    "start_time": "2023-06-16T13:02:33.204Z"
   },
   {
    "duration": 7,
    "start_time": "2023-06-16T13:02:43.602Z"
   },
   {
    "duration": 619,
    "start_time": "2023-06-16T13:03:50.008Z"
   },
   {
    "duration": 15033,
    "start_time": "2023-06-16T13:03:50.629Z"
   },
   {
    "duration": 8779,
    "start_time": "2023-06-16T13:04:05.664Z"
   },
   {
    "duration": 974,
    "start_time": "2023-06-16T13:04:14.445Z"
   },
   {
    "duration": 222,
    "start_time": "2023-06-16T13:04:15.421Z"
   },
   {
    "duration": 95,
    "start_time": "2023-06-16T13:04:15.645Z"
   },
   {
    "duration": 4,
    "start_time": "2023-06-16T13:04:15.742Z"
   },
   {
    "duration": 69,
    "start_time": "2023-06-16T13:04:15.748Z"
   },
   {
    "duration": 5,
    "start_time": "2023-06-16T13:04:15.818Z"
   },
   {
    "duration": 420,
    "start_time": "2023-06-16T13:04:15.825Z"
   },
   {
    "duration": 65,
    "start_time": "2023-06-16T13:04:16.246Z"
   },
   {
    "duration": 900,
    "start_time": "2023-06-16T13:04:16.312Z"
   },
   {
    "duration": 9529,
    "start_time": "2023-06-16T13:04:17.213Z"
   },
   {
    "duration": 5311,
    "start_time": "2023-06-16T13:04:26.746Z"
   },
   {
    "duration": 893,
    "start_time": "2023-06-16T13:04:32.058Z"
   },
   {
    "duration": 162,
    "start_time": "2023-06-16T13:04:32.953Z"
   },
   {
    "duration": 145,
    "start_time": "2023-06-16T13:04:33.120Z"
   },
   {
    "duration": 164,
    "start_time": "2023-06-16T13:04:33.267Z"
   },
   {
    "duration": 26,
    "start_time": "2023-06-16T13:04:33.433Z"
   },
   {
    "duration": 5,
    "start_time": "2023-06-16T13:04:33.461Z"
   },
   {
    "duration": 27,
    "start_time": "2023-06-16T13:04:33.506Z"
   },
   {
    "duration": 22,
    "start_time": "2023-06-16T13:04:33.535Z"
   },
   {
    "duration": 2856,
    "start_time": "2023-06-16T13:04:33.559Z"
   },
   {
    "duration": 16,
    "start_time": "2023-06-16T13:04:36.416Z"
   },
   {
    "duration": 324,
    "start_time": "2023-06-16T13:04:36.434Z"
   },
   {
    "duration": 152,
    "start_time": "2023-06-16T13:04:36.759Z"
   },
   {
    "duration": 6,
    "start_time": "2023-06-16T13:04:36.912Z"
   },
   {
    "duration": 128,
    "start_time": "2023-06-16T13:04:36.920Z"
   },
   {
    "duration": 2706,
    "start_time": "2023-06-16T13:04:37.049Z"
   },
   {
    "duration": 106,
    "start_time": "2023-06-16T13:04:39.757Z"
   },
   {
    "duration": 879,
    "start_time": "2023-06-16T13:04:39.907Z"
   },
   {
    "duration": 54,
    "start_time": "2023-06-16T13:04:40.787Z"
   },
   {
    "duration": 17,
    "start_time": "2023-06-16T13:04:40.842Z"
   },
   {
    "duration": 48,
    "start_time": "2023-06-16T13:04:40.861Z"
   },
   {
    "duration": 3609,
    "start_time": "2023-06-16T13:04:40.912Z"
   },
   {
    "duration": 755,
    "start_time": "2023-06-16T13:04:44.524Z"
   },
   {
    "duration": 114,
    "start_time": "2023-06-16T13:04:45.280Z"
   },
   {
    "duration": 0,
    "start_time": "2023-06-16T13:04:45.395Z"
   },
   {
    "duration": 0,
    "start_time": "2023-06-16T13:04:45.396Z"
   },
   {
    "duration": 6,
    "start_time": "2023-06-16T13:06:45.106Z"
   },
   {
    "duration": 2425,
    "start_time": "2023-06-16T13:06:53.630Z"
   },
   {
    "duration": 3,
    "start_time": "2023-06-16T13:07:11.644Z"
   },
   {
    "duration": 2715,
    "start_time": "2023-06-16T13:07:21.953Z"
   },
   {
    "duration": 643,
    "start_time": "2023-06-16T13:07:25.531Z"
   },
   {
    "duration": 1552,
    "start_time": "2023-06-16T13:07:43.249Z"
   },
   {
    "duration": 114,
    "start_time": "2023-06-16T13:08:40.613Z"
   },
   {
    "duration": 1372,
    "start_time": "2023-06-16T13:08:43.795Z"
   },
   {
    "duration": 1141,
    "start_time": "2023-06-16T13:08:58.050Z"
   },
   {
    "duration": 1264,
    "start_time": "2023-06-16T13:09:24.659Z"
   },
   {
    "duration": 1222,
    "start_time": "2023-06-16T13:09:57.561Z"
   },
   {
    "duration": 788,
    "start_time": "2023-06-16T13:14:17.324Z"
   },
   {
    "duration": 701,
    "start_time": "2023-06-16T13:14:58.331Z"
   },
   {
    "duration": 15495,
    "start_time": "2023-06-16T13:14:59.038Z"
   },
   {
    "duration": 9082,
    "start_time": "2023-06-16T13:15:14.535Z"
   },
   {
    "duration": 1327,
    "start_time": "2023-06-16T13:15:23.619Z"
   },
   {
    "duration": 265,
    "start_time": "2023-06-16T13:15:24.949Z"
   },
   {
    "duration": 40,
    "start_time": "2023-06-16T13:15:25.215Z"
   },
   {
    "duration": 62,
    "start_time": "2023-06-16T13:15:25.256Z"
   },
   {
    "duration": 4,
    "start_time": "2023-06-16T13:15:25.320Z"
   },
   {
    "duration": 4,
    "start_time": "2023-06-16T13:15:25.326Z"
   },
   {
    "duration": 499,
    "start_time": "2023-06-16T13:15:25.332Z"
   },
   {
    "duration": 85,
    "start_time": "2023-06-16T13:15:25.832Z"
   },
   {
    "duration": 1094,
    "start_time": "2023-06-16T13:15:25.919Z"
   },
   {
    "duration": 9853,
    "start_time": "2023-06-16T13:15:27.015Z"
   },
   {
    "duration": 5819,
    "start_time": "2023-06-16T13:15:36.871Z"
   },
   {
    "duration": 1089,
    "start_time": "2023-06-16T13:15:42.691Z"
   },
   {
    "duration": 108,
    "start_time": "2023-06-16T13:15:43.782Z"
   },
   {
    "duration": 233,
    "start_time": "2023-06-16T13:15:43.892Z"
   },
   {
    "duration": 205,
    "start_time": "2023-06-16T13:15:44.127Z"
   },
   {
    "duration": 89,
    "start_time": "2023-06-16T13:15:44.337Z"
   },
   {
    "duration": 11,
    "start_time": "2023-06-16T13:15:44.428Z"
   },
   {
    "duration": 15,
    "start_time": "2023-06-16T13:15:44.441Z"
   },
   {
    "duration": 5,
    "start_time": "2023-06-16T13:15:44.458Z"
   },
   {
    "duration": 2468,
    "start_time": "2023-06-16T13:15:44.465Z"
   },
   {
    "duration": 15,
    "start_time": "2023-06-16T13:15:46.935Z"
   },
   {
    "duration": 376,
    "start_time": "2023-06-16T13:15:46.953Z"
   },
   {
    "duration": 158,
    "start_time": "2023-06-16T13:15:47.331Z"
   },
   {
    "duration": 18,
    "start_time": "2023-06-16T13:15:47.490Z"
   },
   {
    "duration": 162,
    "start_time": "2023-06-16T13:15:47.509Z"
   },
   {
    "duration": 3450,
    "start_time": "2023-06-16T13:15:47.672Z"
   },
   {
    "duration": 87,
    "start_time": "2023-06-16T13:15:51.123Z"
   },
   {
    "duration": 843,
    "start_time": "2023-06-16T13:15:51.211Z"
   },
   {
    "duration": 69,
    "start_time": "2023-06-16T13:15:52.058Z"
   },
   {
    "duration": 32,
    "start_time": "2023-06-16T13:15:52.134Z"
   },
   {
    "duration": 42,
    "start_time": "2023-06-16T13:15:52.167Z"
   },
   {
    "duration": 16,
    "start_time": "2023-06-16T13:15:52.211Z"
   },
   {
    "duration": 4403,
    "start_time": "2023-06-16T13:15:52.232Z"
   },
   {
    "duration": 729,
    "start_time": "2023-06-16T13:15:56.643Z"
   },
   {
    "duration": 2608,
    "start_time": "2023-06-16T13:15:57.374Z"
   },
   {
    "duration": 4127,
    "start_time": "2023-06-16T13:15:59.985Z"
   },
   {
    "duration": 803,
    "start_time": "2023-06-16T13:16:04.121Z"
   },
   {
    "duration": 1864,
    "start_time": "2023-06-16T13:16:04.930Z"
   },
   {
    "duration": 179,
    "start_time": "2023-06-16T13:19:21.848Z"
   },
   {
    "duration": 2216,
    "start_time": "2023-06-16T13:19:28.149Z"
   },
   {
    "duration": 1873,
    "start_time": "2023-06-16T13:19:36.249Z"
   },
   {
    "duration": 1790,
    "start_time": "2023-06-16T13:19:43.731Z"
   },
   {
    "duration": 841,
    "start_time": "2023-06-16T17:38:44.046Z"
   },
   {
    "duration": 22172,
    "start_time": "2023-06-16T17:38:44.888Z"
   },
   {
    "duration": 11450,
    "start_time": "2023-06-16T17:39:07.062Z"
   },
   {
    "duration": 1099,
    "start_time": "2023-06-16T17:39:18.514Z"
   },
   {
    "duration": 350,
    "start_time": "2023-06-16T17:39:19.615Z"
   },
   {
    "duration": 91,
    "start_time": "2023-06-16T17:39:19.969Z"
   },
   {
    "duration": 57,
    "start_time": "2023-06-16T17:39:20.062Z"
   },
   {
    "duration": 26,
    "start_time": "2023-06-16T17:39:20.123Z"
   },
   {
    "duration": 17,
    "start_time": "2023-06-16T17:39:20.152Z"
   },
   {
    "duration": 543,
    "start_time": "2023-06-16T17:39:20.171Z"
   },
   {
    "duration": 28,
    "start_time": "2023-06-16T17:39:20.716Z"
   },
   {
    "duration": 975,
    "start_time": "2023-06-16T17:39:20.746Z"
   },
   {
    "duration": 12007,
    "start_time": "2023-06-16T17:39:21.723Z"
   },
   {
    "duration": 6984,
    "start_time": "2023-06-16T17:39:33.738Z"
   },
   {
    "duration": 1117,
    "start_time": "2023-06-16T17:39:40.724Z"
   },
   {
    "duration": 177,
    "start_time": "2023-06-16T17:39:41.843Z"
   },
   {
    "duration": 247,
    "start_time": "2023-06-16T17:39:42.022Z"
   },
   {
    "duration": 211,
    "start_time": "2023-06-16T17:39:42.318Z"
   },
   {
    "duration": 95,
    "start_time": "2023-06-16T17:39:42.531Z"
   },
   {
    "duration": 116,
    "start_time": "2023-06-16T17:39:42.628Z"
   },
   {
    "duration": 33,
    "start_time": "2023-06-16T17:39:42.746Z"
   },
   {
    "duration": 23,
    "start_time": "2023-06-16T17:39:42.782Z"
   },
   {
    "duration": 3022,
    "start_time": "2023-06-16T17:39:42.807Z"
   },
   {
    "duration": 5,
    "start_time": "2023-06-16T17:39:45.831Z"
   },
   {
    "duration": 328,
    "start_time": "2023-06-16T17:39:45.838Z"
   },
   {
    "duration": 115,
    "start_time": "2023-06-16T17:39:46.217Z"
   },
   {
    "duration": 3,
    "start_time": "2023-06-16T17:39:46.334Z"
   },
   {
    "duration": 178,
    "start_time": "2023-06-16T17:39:46.339Z"
   },
   {
    "duration": 3405,
    "start_time": "2023-06-16T17:39:46.520Z"
   },
   {
    "duration": 132,
    "start_time": "2023-06-16T17:39:49.927Z"
   },
   {
    "duration": 821,
    "start_time": "2023-06-16T17:39:50.062Z"
   },
   {
    "duration": 66,
    "start_time": "2023-06-16T17:39:50.885Z"
   },
   {
    "duration": 77,
    "start_time": "2023-06-16T17:39:50.953Z"
   },
   {
    "duration": 8,
    "start_time": "2023-06-16T17:39:51.034Z"
   },
   {
    "duration": 12,
    "start_time": "2023-06-16T17:39:51.045Z"
   },
   {
    "duration": 4494,
    "start_time": "2023-06-16T17:39:51.062Z"
   },
   {
    "duration": 768,
    "start_time": "2023-06-16T17:39:55.557Z"
   },
   {
    "duration": 2094,
    "start_time": "2023-06-16T17:39:56.328Z"
   },
   {
    "duration": 3293,
    "start_time": "2023-06-16T17:39:58.426Z"
   },
   {
    "duration": 877,
    "start_time": "2023-06-16T17:40:01.721Z"
   },
   {
    "duration": 2227,
    "start_time": "2023-06-16T17:40:05.609Z"
   },
   {
    "duration": 4,
    "start_time": "2023-06-16T17:40:37.645Z"
   },
   {
    "duration": 4,
    "start_time": "2023-06-16T17:40:45.228Z"
   },
   {
    "duration": 5,
    "start_time": "2023-06-16T17:40:45.675Z"
   },
   {
    "duration": 635,
    "start_time": "2023-06-16T17:40:45.939Z"
   },
   {
    "duration": 255,
    "start_time": "2023-06-16T17:40:49.328Z"
   },
   {
    "duration": 40,
    "start_time": "2023-06-16T17:40:49.741Z"
   },
   {
    "duration": 11,
    "start_time": "2023-06-16T17:40:50.155Z"
   },
   {
    "duration": 5,
    "start_time": "2023-06-16T17:40:57.669Z"
   },
   {
    "duration": 83,
    "start_time": "2023-06-16T17:41:52.306Z"
   },
   {
    "duration": 10,
    "start_time": "2023-06-16T17:41:59.549Z"
   },
   {
    "duration": 9,
    "start_time": "2023-06-16T17:42:01.860Z"
   },
   {
    "duration": 9,
    "start_time": "2023-06-16T17:42:02.262Z"
   },
   {
    "duration": 8,
    "start_time": "2023-06-16T17:42:04.684Z"
   },
   {
    "duration": 5,
    "start_time": "2023-06-16T17:42:44.188Z"
   },
   {
    "duration": 7,
    "start_time": "2023-06-16T17:43:34.094Z"
   },
   {
    "duration": 8,
    "start_time": "2023-06-16T17:47:13.538Z"
   },
   {
    "duration": 7,
    "start_time": "2023-06-16T17:47:31.676Z"
   },
   {
    "duration": 804,
    "start_time": "2023-06-16T17:47:37.930Z"
   },
   {
    "duration": 16599,
    "start_time": "2023-06-16T17:47:38.736Z"
   },
   {
    "duration": 10000,
    "start_time": "2023-06-16T17:47:55.337Z"
   },
   {
    "duration": 1189,
    "start_time": "2023-06-16T17:48:05.340Z"
   },
   {
    "duration": 304,
    "start_time": "2023-06-16T17:48:06.531Z"
   },
   {
    "duration": 89,
    "start_time": "2023-06-16T17:48:06.836Z"
   },
   {
    "duration": 7,
    "start_time": "2023-06-16T17:48:06.926Z"
   },
   {
    "duration": 15,
    "start_time": "2023-06-16T17:48:06.936Z"
   },
   {
    "duration": 68,
    "start_time": "2023-06-16T17:48:06.953Z"
   },
   {
    "duration": 8,
    "start_time": "2023-06-16T17:48:07.024Z"
   },
   {
    "duration": 504,
    "start_time": "2023-06-16T17:48:07.034Z"
   },
   {
    "duration": 85,
    "start_time": "2023-06-16T17:48:07.540Z"
   },
   {
    "duration": 920,
    "start_time": "2023-06-16T17:48:07.626Z"
   },
   {
    "duration": 10497,
    "start_time": "2023-06-16T17:48:08.548Z"
   },
   {
    "duration": 6210,
    "start_time": "2023-06-16T17:48:19.047Z"
   },
   {
    "duration": 907,
    "start_time": "2023-06-16T17:48:25.314Z"
   },
   {
    "duration": 128,
    "start_time": "2023-06-16T17:48:26.222Z"
   },
   {
    "duration": 284,
    "start_time": "2023-06-16T17:48:26.352Z"
   },
   {
    "duration": 192,
    "start_time": "2023-06-16T17:48:26.638Z"
   },
   {
    "duration": 87,
    "start_time": "2023-06-16T17:48:26.832Z"
   },
   {
    "duration": 16,
    "start_time": "2023-06-16T17:48:26.922Z"
   },
   {
    "duration": 75,
    "start_time": "2023-06-16T17:48:26.940Z"
   },
   {
    "duration": 15,
    "start_time": "2023-06-16T17:48:27.019Z"
   },
   {
    "duration": 16,
    "start_time": "2023-06-16T17:48:27.036Z"
   },
   {
    "duration": 2207,
    "start_time": "2023-06-16T17:48:27.054Z"
   },
   {
    "duration": 9,
    "start_time": "2023-06-16T17:48:29.316Z"
   },
   {
    "duration": 5,
    "start_time": "2023-06-16T17:48:29.332Z"
   },
   {
    "duration": 387,
    "start_time": "2023-06-16T17:48:29.340Z"
   },
   {
    "duration": 115,
    "start_time": "2023-06-16T17:48:29.732Z"
   },
   {
    "duration": 3,
    "start_time": "2023-06-16T17:48:29.849Z"
   },
   {
    "duration": 196,
    "start_time": "2023-06-16T17:48:29.854Z"
   },
   {
    "duration": 3096,
    "start_time": "2023-06-16T17:48:30.052Z"
   },
   {
    "duration": 309,
    "start_time": "2023-06-16T17:48:33.150Z"
   },
   {
    "duration": 0,
    "start_time": "2023-06-16T17:48:33.461Z"
   },
   {
    "duration": 0,
    "start_time": "2023-06-16T17:48:33.466Z"
   },
   {
    "duration": 0,
    "start_time": "2023-06-16T17:48:33.467Z"
   },
   {
    "duration": 0,
    "start_time": "2023-06-16T17:48:33.469Z"
   },
   {
    "duration": 0,
    "start_time": "2023-06-16T17:48:33.471Z"
   },
   {
    "duration": 0,
    "start_time": "2023-06-16T17:48:33.473Z"
   },
   {
    "duration": 0,
    "start_time": "2023-06-16T17:48:33.474Z"
   },
   {
    "duration": 0,
    "start_time": "2023-06-16T17:48:33.475Z"
   },
   {
    "duration": 0,
    "start_time": "2023-06-16T17:48:33.477Z"
   },
   {
    "duration": 0,
    "start_time": "2023-06-16T17:48:33.478Z"
   },
   {
    "duration": 0,
    "start_time": "2023-06-16T17:48:33.480Z"
   },
   {
    "duration": 43,
    "start_time": "2023-06-16T17:50:10.428Z"
   },
   {
    "duration": 793,
    "start_time": "2023-06-16T17:50:11.831Z"
   },
   {
    "duration": 255,
    "start_time": "2023-06-16T17:50:12.626Z"
   },
   {
    "duration": 0,
    "start_time": "2023-06-16T17:50:12.883Z"
   },
   {
    "duration": 705,
    "start_time": "2023-06-16T17:51:04.424Z"
   },
   {
    "duration": 17731,
    "start_time": "2023-06-16T17:51:05.131Z"
   },
   {
    "duration": 11159,
    "start_time": "2023-06-16T17:51:22.864Z"
   },
   {
    "duration": 1127,
    "start_time": "2023-06-16T17:51:34.032Z"
   },
   {
    "duration": 294,
    "start_time": "2023-06-16T17:51:35.160Z"
   },
   {
    "duration": 100,
    "start_time": "2023-06-16T17:51:35.456Z"
   },
   {
    "duration": 4,
    "start_time": "2023-06-16T17:51:35.558Z"
   },
   {
    "duration": 70,
    "start_time": "2023-06-16T17:51:35.564Z"
   },
   {
    "duration": 7,
    "start_time": "2023-06-16T17:51:35.636Z"
   },
   {
    "duration": 15,
    "start_time": "2023-06-16T17:51:35.646Z"
   },
   {
    "duration": 473,
    "start_time": "2023-06-16T17:51:35.663Z"
   },
   {
    "duration": 20,
    "start_time": "2023-06-16T17:51:36.138Z"
   },
   {
    "duration": 1004,
    "start_time": "2023-06-16T17:51:36.217Z"
   },
   {
    "duration": 10415,
    "start_time": "2023-06-16T17:51:37.230Z"
   },
   {
    "duration": 6015,
    "start_time": "2023-06-16T17:51:47.646Z"
   },
   {
    "duration": 989,
    "start_time": "2023-06-16T17:51:53.663Z"
   },
   {
    "duration": 184,
    "start_time": "2023-06-16T17:51:54.654Z"
   },
   {
    "duration": 228,
    "start_time": "2023-06-16T17:51:54.839Z"
   },
   {
    "duration": 182,
    "start_time": "2023-06-16T17:51:55.069Z"
   },
   {
    "duration": 85,
    "start_time": "2023-06-16T17:51:55.253Z"
   },
   {
    "duration": 9,
    "start_time": "2023-06-16T17:51:55.341Z"
   },
   {
    "duration": 7,
    "start_time": "2023-06-16T17:51:55.357Z"
   },
   {
    "duration": 5,
    "start_time": "2023-06-16T17:51:55.366Z"
   },
   {
    "duration": 44,
    "start_time": "2023-06-16T17:51:55.373Z"
   },
   {
    "duration": 2241,
    "start_time": "2023-06-16T17:51:55.419Z"
   },
   {
    "duration": 56,
    "start_time": "2023-06-16T17:51:57.662Z"
   },
   {
    "duration": 7,
    "start_time": "2023-06-16T17:51:57.719Z"
   },
   {
    "duration": 400,
    "start_time": "2023-06-16T17:51:57.730Z"
   },
   {
    "duration": 116,
    "start_time": "2023-06-16T17:51:58.132Z"
   },
   {
    "duration": 5,
    "start_time": "2023-06-16T17:51:58.249Z"
   },
   {
    "duration": 183,
    "start_time": "2023-06-16T17:51:58.256Z"
   },
   {
    "duration": 3606,
    "start_time": "2023-06-16T17:51:58.441Z"
   },
   {
    "duration": 112,
    "start_time": "2023-06-16T17:52:02.049Z"
   },
   {
    "duration": 1036,
    "start_time": "2023-06-16T17:52:02.213Z"
   },
   {
    "duration": 83,
    "start_time": "2023-06-16T17:52:03.252Z"
   },
   {
    "duration": 26,
    "start_time": "2023-06-16T17:52:03.340Z"
   },
   {
    "duration": 65,
    "start_time": "2023-06-16T17:52:03.367Z"
   },
   {
    "duration": 12,
    "start_time": "2023-06-16T17:52:03.434Z"
   },
   {
    "duration": 4626,
    "start_time": "2023-06-16T17:52:03.448Z"
   },
   {
    "duration": 801,
    "start_time": "2023-06-16T17:52:08.117Z"
   },
   {
    "duration": 2518,
    "start_time": "2023-06-16T17:52:08.919Z"
   },
   {
    "duration": 3936,
    "start_time": "2023-06-16T17:52:11.439Z"
   },
   {
    "duration": 824,
    "start_time": "2023-06-16T17:52:15.377Z"
   },
   {
    "duration": 2519,
    "start_time": "2023-06-16T17:52:16.204Z"
   },
   {
    "duration": 5,
    "start_time": "2023-06-16T17:57:05.989Z"
   },
   {
    "duration": 1937,
    "start_time": "2023-06-16T17:57:25.197Z"
   },
   {
    "duration": 5,
    "start_time": "2023-06-16T17:57:37.635Z"
   },
   {
    "duration": 1446,
    "start_time": "2023-06-16T17:57:41.348Z"
   },
   {
    "duration": 1346,
    "start_time": "2023-06-16T17:57:54.348Z"
   },
   {
    "duration": 1431,
    "start_time": "2023-06-16T17:58:17.372Z"
   },
   {
    "duration": 3,
    "start_time": "2023-06-16T17:58:33.196Z"
   },
   {
    "duration": 1249,
    "start_time": "2023-06-16T17:58:47.388Z"
   },
   {
    "duration": 1869,
    "start_time": "2023-06-16T17:58:50.748Z"
   },
   {
    "duration": 1123,
    "start_time": "2023-06-17T08:41:25.534Z"
   },
   {
    "duration": 36615,
    "start_time": "2023-06-17T08:41:26.659Z"
   },
   {
    "duration": 1048,
    "start_time": "2023-06-17T08:42:03.276Z"
   },
   {
    "duration": 46,
    "start_time": "2023-06-17T09:02:11.189Z"
   },
   {
    "duration": 667,
    "start_time": "2023-06-17T09:02:38.848Z"
   },
   {
    "duration": 14065,
    "start_time": "2023-06-17T09:02:39.517Z"
   },
   {
    "duration": 7811,
    "start_time": "2023-06-17T09:02:53.583Z"
   },
   {
    "duration": 997,
    "start_time": "2023-06-17T09:03:01.396Z"
   },
   {
    "duration": 209,
    "start_time": "2023-06-17T09:03:02.395Z"
   },
   {
    "duration": 26,
    "start_time": "2023-06-17T09:03:02.669Z"
   },
   {
    "duration": 5,
    "start_time": "2023-06-17T09:03:02.697Z"
   },
   {
    "duration": 67,
    "start_time": "2023-06-17T09:03:02.704Z"
   },
   {
    "duration": 406,
    "start_time": "2023-06-17T09:03:02.773Z"
   },
   {
    "duration": 12,
    "start_time": "2023-06-17T09:03:03.181Z"
   },
   {
    "duration": 530,
    "start_time": "2023-06-17T09:03:03.268Z"
   },
   {
    "duration": 7987,
    "start_time": "2023-06-17T09:03:03.799Z"
   },
   {
    "duration": 5181,
    "start_time": "2023-06-17T09:03:11.788Z"
   },
   {
    "duration": 858,
    "start_time": "2023-06-17T09:03:16.975Z"
   },
   {
    "duration": 140,
    "start_time": "2023-06-17T09:03:17.835Z"
   },
   {
    "duration": 205,
    "start_time": "2023-06-17T09:03:17.978Z"
   },
   {
    "duration": 197,
    "start_time": "2023-06-17T09:03:18.185Z"
   },
   {
    "duration": 87,
    "start_time": "2023-06-17T09:03:18.384Z"
   },
   {
    "duration": 7,
    "start_time": "2023-06-17T09:03:18.473Z"
   },
   {
    "duration": 1892,
    "start_time": "2023-06-17T09:03:18.482Z"
   },
   {
    "duration": 6,
    "start_time": "2023-06-17T09:03:20.375Z"
   },
   {
    "duration": 318,
    "start_time": "2023-06-17T09:03:20.382Z"
   },
   {
    "duration": 174,
    "start_time": "2023-06-17T09:03:20.701Z"
   },
   {
    "duration": 2,
    "start_time": "2023-06-17T09:03:20.877Z"
   },
   {
    "duration": 123,
    "start_time": "2023-06-17T09:03:20.881Z"
   },
   {
    "duration": 2074,
    "start_time": "2023-06-17T09:03:21.006Z"
   },
   {
    "duration": 31,
    "start_time": "2023-06-17T09:03:23.082Z"
   },
   {
    "duration": 72,
    "start_time": "2023-06-17T09:03:23.114Z"
   },
   {
    "duration": 17,
    "start_time": "2023-06-17T09:03:23.188Z"
   },
   {
    "duration": 4,
    "start_time": "2023-06-17T09:03:23.267Z"
   },
   {
    "duration": 9,
    "start_time": "2023-06-17T09:03:23.273Z"
   },
   {
    "duration": 3087,
    "start_time": "2023-06-17T09:03:23.284Z"
   },
   {
    "duration": 796,
    "start_time": "2023-06-17T09:03:26.373Z"
   },
   {
    "duration": 1621,
    "start_time": "2023-06-17T09:03:27.172Z"
   },
   {
    "duration": 2476,
    "start_time": "2023-06-17T09:03:28.795Z"
   },
   {
    "duration": 605,
    "start_time": "2023-06-17T09:03:31.273Z"
   },
   {
    "duration": 1657,
    "start_time": "2023-06-17T09:03:31.880Z"
   },
   {
    "duration": 249,
    "start_time": "2023-06-17T09:03:33.539Z"
   },
   {
    "duration": 757,
    "start_time": "2023-06-18T05:14:57.967Z"
   },
   {
    "duration": 15151,
    "start_time": "2023-06-18T05:14:58.727Z"
   },
   {
    "duration": 663,
    "start_time": "2023-06-18T05:15:13.881Z"
   },
   {
    "duration": 0,
    "start_time": "2023-06-18T05:15:14.548Z"
   },
   {
    "duration": 0,
    "start_time": "2023-06-18T05:15:14.549Z"
   },
   {
    "duration": 0,
    "start_time": "2023-06-18T05:15:14.550Z"
   },
   {
    "duration": 0,
    "start_time": "2023-06-18T05:15:14.551Z"
   },
   {
    "duration": 0,
    "start_time": "2023-06-18T05:15:14.552Z"
   },
   {
    "duration": 0,
    "start_time": "2023-06-18T05:15:14.553Z"
   },
   {
    "duration": 0,
    "start_time": "2023-06-18T05:15:14.554Z"
   },
   {
    "duration": 0,
    "start_time": "2023-06-18T05:15:14.555Z"
   },
   {
    "duration": 0,
    "start_time": "2023-06-18T05:15:14.556Z"
   },
   {
    "duration": 0,
    "start_time": "2023-06-18T05:15:14.558Z"
   },
   {
    "duration": 0,
    "start_time": "2023-06-18T05:15:14.559Z"
   },
   {
    "duration": 0,
    "start_time": "2023-06-18T05:15:14.560Z"
   },
   {
    "duration": 0,
    "start_time": "2023-06-18T05:15:14.561Z"
   },
   {
    "duration": 0,
    "start_time": "2023-06-18T05:15:14.562Z"
   },
   {
    "duration": 0,
    "start_time": "2023-06-18T05:15:14.563Z"
   },
   {
    "duration": 0,
    "start_time": "2023-06-18T05:15:14.564Z"
   },
   {
    "duration": 0,
    "start_time": "2023-06-18T05:15:14.565Z"
   },
   {
    "duration": 0,
    "start_time": "2023-06-18T05:15:14.566Z"
   },
   {
    "duration": 0,
    "start_time": "2023-06-18T05:15:14.575Z"
   },
   {
    "duration": 0,
    "start_time": "2023-06-18T05:15:14.575Z"
   },
   {
    "duration": 0,
    "start_time": "2023-06-18T05:15:14.576Z"
   },
   {
    "duration": 0,
    "start_time": "2023-06-18T05:15:14.577Z"
   },
   {
    "duration": 0,
    "start_time": "2023-06-18T05:15:14.578Z"
   },
   {
    "duration": 0,
    "start_time": "2023-06-18T05:15:14.580Z"
   },
   {
    "duration": 0,
    "start_time": "2023-06-18T05:15:14.581Z"
   },
   {
    "duration": 0,
    "start_time": "2023-06-18T05:15:14.582Z"
   },
   {
    "duration": 0,
    "start_time": "2023-06-18T05:15:14.583Z"
   },
   {
    "duration": 0,
    "start_time": "2023-06-18T05:15:14.584Z"
   },
   {
    "duration": 0,
    "start_time": "2023-06-18T05:15:14.585Z"
   },
   {
    "duration": 0,
    "start_time": "2023-06-18T05:15:14.586Z"
   },
   {
    "duration": 0,
    "start_time": "2023-06-18T05:15:14.587Z"
   },
   {
    "duration": 0,
    "start_time": "2023-06-18T05:15:14.588Z"
   },
   {
    "duration": 0,
    "start_time": "2023-06-18T05:15:14.589Z"
   },
   {
    "duration": 0,
    "start_time": "2023-06-18T05:15:14.590Z"
   },
   {
    "duration": 0,
    "start_time": "2023-06-18T05:15:14.591Z"
   },
   {
    "duration": 8857,
    "start_time": "2023-06-18T05:16:11.332Z"
   },
   {
    "duration": 161,
    "start_time": "2023-06-18T05:16:28.617Z"
   },
   {
    "duration": 8,
    "start_time": "2023-06-18T05:16:29.477Z"
   },
   {
    "duration": 715,
    "start_time": "2023-06-18T05:17:00.906Z"
   },
   {
    "duration": 15358,
    "start_time": "2023-06-18T05:17:01.624Z"
   },
   {
    "duration": 577,
    "start_time": "2023-06-18T05:17:16.984Z"
   },
   {
    "duration": 0,
    "start_time": "2023-06-18T05:17:17.564Z"
   },
   {
    "duration": 0,
    "start_time": "2023-06-18T05:17:17.566Z"
   },
   {
    "duration": 0,
    "start_time": "2023-06-18T05:17:17.568Z"
   },
   {
    "duration": 0,
    "start_time": "2023-06-18T05:17:17.569Z"
   },
   {
    "duration": 0,
    "start_time": "2023-06-18T05:17:17.570Z"
   },
   {
    "duration": 0,
    "start_time": "2023-06-18T05:17:17.571Z"
   },
   {
    "duration": 0,
    "start_time": "2023-06-18T05:17:17.572Z"
   },
   {
    "duration": 0,
    "start_time": "2023-06-18T05:17:17.573Z"
   },
   {
    "duration": 0,
    "start_time": "2023-06-18T05:17:17.575Z"
   },
   {
    "duration": 0,
    "start_time": "2023-06-18T05:17:17.577Z"
   },
   {
    "duration": 0,
    "start_time": "2023-06-18T05:17:17.579Z"
   },
   {
    "duration": 0,
    "start_time": "2023-06-18T05:17:17.580Z"
   },
   {
    "duration": 0,
    "start_time": "2023-06-18T05:17:17.581Z"
   },
   {
    "duration": 0,
    "start_time": "2023-06-18T05:17:17.583Z"
   },
   {
    "duration": 0,
    "start_time": "2023-06-18T05:17:17.584Z"
   },
   {
    "duration": 0,
    "start_time": "2023-06-18T05:17:17.585Z"
   },
   {
    "duration": 0,
    "start_time": "2023-06-18T05:17:17.586Z"
   },
   {
    "duration": 0,
    "start_time": "2023-06-18T05:17:17.587Z"
   },
   {
    "duration": 0,
    "start_time": "2023-06-18T05:17:17.588Z"
   },
   {
    "duration": 0,
    "start_time": "2023-06-18T05:17:17.589Z"
   },
   {
    "duration": 0,
    "start_time": "2023-06-18T05:17:17.590Z"
   },
   {
    "duration": 1,
    "start_time": "2023-06-18T05:17:17.591Z"
   },
   {
    "duration": 0,
    "start_time": "2023-06-18T05:17:17.593Z"
   },
   {
    "duration": 0,
    "start_time": "2023-06-18T05:17:17.594Z"
   },
   {
    "duration": 0,
    "start_time": "2023-06-18T05:17:17.595Z"
   },
   {
    "duration": 0,
    "start_time": "2023-06-18T05:17:17.596Z"
   },
   {
    "duration": 0,
    "start_time": "2023-06-18T05:17:17.597Z"
   },
   {
    "duration": 0,
    "start_time": "2023-06-18T05:17:17.598Z"
   },
   {
    "duration": 0,
    "start_time": "2023-06-18T05:17:17.599Z"
   },
   {
    "duration": 0,
    "start_time": "2023-06-18T05:17:17.600Z"
   },
   {
    "duration": 0,
    "start_time": "2023-06-18T05:17:17.601Z"
   },
   {
    "duration": 0,
    "start_time": "2023-06-18T05:17:17.602Z"
   },
   {
    "duration": 0,
    "start_time": "2023-06-18T05:17:17.603Z"
   },
   {
    "duration": 0,
    "start_time": "2023-06-18T05:17:17.604Z"
   },
   {
    "duration": 0,
    "start_time": "2023-06-18T05:17:17.605Z"
   },
   {
    "duration": 8784,
    "start_time": "2023-06-18T05:17:26.126Z"
   },
   {
    "duration": 142,
    "start_time": "2023-06-18T05:17:37.697Z"
   },
   {
    "duration": 711,
    "start_time": "2023-06-18T05:17:57.807Z"
   },
   {
    "duration": 14962,
    "start_time": "2023-06-18T05:17:58.520Z"
   },
   {
    "duration": 698,
    "start_time": "2023-06-18T05:18:27.116Z"
   },
   {
    "duration": 14986,
    "start_time": "2023-06-18T05:18:27.816Z"
   },
   {
    "duration": 584,
    "start_time": "2023-06-18T05:18:42.805Z"
   },
   {
    "duration": 718,
    "start_time": "2023-06-18T06:14:07.344Z"
   },
   {
    "duration": 14538,
    "start_time": "2023-06-18T06:14:08.505Z"
   },
   {
    "duration": 8801,
    "start_time": "2023-06-18T06:14:23.099Z"
   },
   {
    "duration": 915,
    "start_time": "2023-06-18T06:14:50.918Z"
   },
   {
    "duration": 505,
    "start_time": "2023-06-18T06:14:58.111Z"
   },
   {
    "duration": 2,
    "start_time": "2023-06-18T06:16:02.412Z"
   },
   {
    "duration": 3,
    "start_time": "2023-06-18T06:16:03.140Z"
   },
   {
    "duration": 405,
    "start_time": "2023-06-18T06:16:03.549Z"
   },
   {
    "duration": 869,
    "start_time": "2023-06-18T06:16:35.581Z"
   },
   {
    "duration": 3,
    "start_time": "2023-06-18T06:16:50.134Z"
   },
   {
    "duration": 108,
    "start_time": "2023-06-18T06:17:07.328Z"
   },
   {
    "duration": 22,
    "start_time": "2023-06-18T06:17:37.037Z"
   },
   {
    "duration": 415,
    "start_time": "2023-06-18T06:17:44.821Z"
   },
   {
    "duration": 605,
    "start_time": "2023-06-18T06:18:10.940Z"
   },
   {
    "duration": 14291,
    "start_time": "2023-06-18T06:18:11.547Z"
   },
   {
    "duration": 8108,
    "start_time": "2023-06-18T06:18:25.840Z"
   },
   {
    "duration": 6,
    "start_time": "2023-06-18T06:18:34.003Z"
   },
   {
    "duration": 701,
    "start_time": "2023-06-18T06:18:34.012Z"
   },
   {
    "duration": 120,
    "start_time": "2023-06-18T06:18:34.715Z"
   },
   {
    "duration": 0,
    "start_time": "2023-06-18T06:18:34.837Z"
   },
   {
    "duration": 0,
    "start_time": "2023-06-18T06:18:34.838Z"
   },
   {
    "duration": 0,
    "start_time": "2023-06-18T06:18:34.839Z"
   },
   {
    "duration": 0,
    "start_time": "2023-06-18T06:18:34.839Z"
   },
   {
    "duration": 0,
    "start_time": "2023-06-18T06:18:34.840Z"
   },
   {
    "duration": 0,
    "start_time": "2023-06-18T06:18:34.841Z"
   },
   {
    "duration": 0,
    "start_time": "2023-06-18T06:18:34.841Z"
   },
   {
    "duration": 0,
    "start_time": "2023-06-18T06:18:34.842Z"
   },
   {
    "duration": 0,
    "start_time": "2023-06-18T06:18:34.843Z"
   },
   {
    "duration": 0,
    "start_time": "2023-06-18T06:18:34.844Z"
   },
   {
    "duration": 0,
    "start_time": "2023-06-18T06:18:34.844Z"
   },
   {
    "duration": 0,
    "start_time": "2023-06-18T06:18:34.845Z"
   },
   {
    "duration": 0,
    "start_time": "2023-06-18T06:18:34.845Z"
   },
   {
    "duration": 0,
    "start_time": "2023-06-18T06:18:34.846Z"
   },
   {
    "duration": 0,
    "start_time": "2023-06-18T06:18:34.847Z"
   },
   {
    "duration": 0,
    "start_time": "2023-06-18T06:18:34.848Z"
   },
   {
    "duration": 0,
    "start_time": "2023-06-18T06:18:34.849Z"
   },
   {
    "duration": 0,
    "start_time": "2023-06-18T06:18:34.849Z"
   },
   {
    "duration": 0,
    "start_time": "2023-06-18T06:18:34.850Z"
   },
   {
    "duration": 0,
    "start_time": "2023-06-18T06:18:34.851Z"
   },
   {
    "duration": 0,
    "start_time": "2023-06-18T06:18:34.851Z"
   },
   {
    "duration": 0,
    "start_time": "2023-06-18T06:18:34.852Z"
   },
   {
    "duration": 0,
    "start_time": "2023-06-18T06:18:34.853Z"
   },
   {
    "duration": 0,
    "start_time": "2023-06-18T06:18:34.854Z"
   },
   {
    "duration": 0,
    "start_time": "2023-06-18T06:18:34.854Z"
   },
   {
    "duration": 0,
    "start_time": "2023-06-18T06:18:34.855Z"
   },
   {
    "duration": 0,
    "start_time": "2023-06-18T06:18:34.856Z"
   },
   {
    "duration": 0,
    "start_time": "2023-06-18T06:18:34.856Z"
   },
   {
    "duration": 0,
    "start_time": "2023-06-18T06:18:34.857Z"
   },
   {
    "duration": 0,
    "start_time": "2023-06-18T06:18:34.858Z"
   },
   {
    "duration": 0,
    "start_time": "2023-06-18T06:18:34.900Z"
   },
   {
    "duration": 0,
    "start_time": "2023-06-18T06:18:34.908Z"
   },
   {
    "duration": 0,
    "start_time": "2023-06-18T06:18:34.909Z"
   },
   {
    "duration": 592,
    "start_time": "2023-06-18T06:18:57.944Z"
   },
   {
    "duration": 14501,
    "start_time": "2023-06-18T06:18:58.538Z"
   },
   {
    "duration": 7872,
    "start_time": "2023-06-18T06:19:13.040Z"
   },
   {
    "duration": 2,
    "start_time": "2023-06-18T06:19:20.914Z"
   },
   {
    "duration": 680,
    "start_time": "2023-06-18T06:19:20.921Z"
   },
   {
    "duration": 2,
    "start_time": "2023-06-18T06:19:21.604Z"
   },
   {
    "duration": 125,
    "start_time": "2023-06-18T06:19:21.607Z"
   },
   {
    "duration": 66,
    "start_time": "2023-06-18T06:19:21.734Z"
   },
   {
    "duration": 26,
    "start_time": "2023-06-18T06:19:21.802Z"
   },
   {
    "duration": 198,
    "start_time": "2023-06-18T06:19:21.830Z"
   },
   {
    "duration": 78,
    "start_time": "2023-06-18T06:19:22.029Z"
   },
   {
    "duration": 230,
    "start_time": "2023-06-18T06:19:22.109Z"
   },
   {
    "duration": 758,
    "start_time": "2023-06-18T06:19:22.341Z"
   },
   {
    "duration": 1805,
    "start_time": "2023-06-18T06:19:23.102Z"
   },
   {
    "duration": 602,
    "start_time": "2023-06-18T06:19:24.909Z"
   },
   {
    "duration": 0,
    "start_time": "2023-06-18T06:19:25.513Z"
   },
   {
    "duration": 0,
    "start_time": "2023-06-18T06:19:25.514Z"
   },
   {
    "duration": 0,
    "start_time": "2023-06-18T06:19:25.516Z"
   },
   {
    "duration": 1,
    "start_time": "2023-06-18T06:19:25.516Z"
   },
   {
    "duration": 0,
    "start_time": "2023-06-18T06:19:25.518Z"
   },
   {
    "duration": 0,
    "start_time": "2023-06-18T06:19:25.519Z"
   },
   {
    "duration": 0,
    "start_time": "2023-06-18T06:19:25.523Z"
   },
   {
    "duration": 0,
    "start_time": "2023-06-18T06:19:25.525Z"
   },
   {
    "duration": 0,
    "start_time": "2023-06-18T06:19:25.526Z"
   },
   {
    "duration": 0,
    "start_time": "2023-06-18T06:19:25.527Z"
   },
   {
    "duration": 0,
    "start_time": "2023-06-18T06:19:25.529Z"
   },
   {
    "duration": 0,
    "start_time": "2023-06-18T06:19:25.530Z"
   },
   {
    "duration": 0,
    "start_time": "2023-06-18T06:19:25.531Z"
   },
   {
    "duration": 0,
    "start_time": "2023-06-18T06:19:25.532Z"
   },
   {
    "duration": 0,
    "start_time": "2023-06-18T06:19:25.533Z"
   },
   {
    "duration": 0,
    "start_time": "2023-06-18T06:19:25.534Z"
   },
   {
    "duration": 0,
    "start_time": "2023-06-18T06:19:25.535Z"
   },
   {
    "duration": 0,
    "start_time": "2023-06-18T06:19:25.536Z"
   },
   {
    "duration": 0,
    "start_time": "2023-06-18T06:19:25.537Z"
   },
   {
    "duration": 0,
    "start_time": "2023-06-18T06:19:25.538Z"
   },
   {
    "duration": 0,
    "start_time": "2023-06-18T06:19:25.539Z"
   },
   {
    "duration": 0,
    "start_time": "2023-06-18T06:19:25.540Z"
   },
   {
    "duration": 0,
    "start_time": "2023-06-18T06:19:25.541Z"
   },
   {
    "duration": 0,
    "start_time": "2023-06-18T06:19:25.542Z"
   },
   {
    "duration": 2,
    "start_time": "2023-06-18T06:21:28.719Z"
   },
   {
    "duration": 4,
    "start_time": "2023-06-18T06:21:32.717Z"
   },
   {
    "duration": 4,
    "start_time": "2023-06-18T06:21:33.195Z"
   },
   {
    "duration": 670,
    "start_time": "2023-06-18T06:21:33.430Z"
   },
   {
    "duration": 2,
    "start_time": "2023-06-18T06:21:35.580Z"
   },
   {
    "duration": 226,
    "start_time": "2023-06-18T06:21:36.084Z"
   },
   {
    "duration": 2,
    "start_time": "2023-06-18T06:21:37.259Z"
   },
   {
    "duration": 2,
    "start_time": "2023-06-18T06:21:37.571Z"
   },
   {
    "duration": 3,
    "start_time": "2023-06-18T06:21:37.788Z"
   },
   {
    "duration": 4,
    "start_time": "2023-06-18T06:21:38.340Z"
   },
   {
    "duration": 102,
    "start_time": "2023-06-18T06:21:39.510Z"
   },
   {
    "duration": 13,
    "start_time": "2023-06-18T06:21:39.908Z"
   },
   {
    "duration": 289,
    "start_time": "2023-06-18T06:21:40.212Z"
   },
   {
    "duration": 6435,
    "start_time": "2023-06-18T06:21:45.091Z"
   },
   {
    "duration": 2864,
    "start_time": "2023-06-18T06:21:53.652Z"
   },
   {
    "duration": 368,
    "start_time": "2023-06-18T06:21:56.518Z"
   },
   {
    "duration": 10,
    "start_time": "2023-06-18T06:22:25.995Z"
   },
   {
    "duration": 282,
    "start_time": "2023-06-18T06:22:26.016Z"
   },
   {
    "duration": 10,
    "start_time": "2023-06-18T06:22:29.597Z"
   },
   {
    "duration": 190,
    "start_time": "2023-06-18T06:22:46.929Z"
   },
   {
    "duration": 215,
    "start_time": "2023-06-18T06:23:02.692Z"
   },
   {
    "duration": 27,
    "start_time": "2023-06-18T06:23:03.427Z"
   },
   {
    "duration": 46,
    "start_time": "2023-06-18T06:23:03.787Z"
   },
   {
    "duration": 42,
    "start_time": "2023-06-18T06:23:10.058Z"
   },
   {
    "duration": 24,
    "start_time": "2023-06-18T06:23:10.891Z"
   },
   {
    "duration": 3,
    "start_time": "2023-06-18T06:23:11.942Z"
   },
   {
    "duration": 2136,
    "start_time": "2023-06-18T06:23:14.883Z"
   },
   {
    "duration": 3,
    "start_time": "2023-06-18T06:23:21.140Z"
   },
   {
    "duration": 211,
    "start_time": "2023-06-18T06:23:21.540Z"
   },
   {
    "duration": 55,
    "start_time": "2023-06-18T06:23:21.868Z"
   },
   {
    "duration": 3,
    "start_time": "2023-06-18T06:23:22.874Z"
   },
   {
    "duration": 49,
    "start_time": "2023-06-18T06:23:23.579Z"
   },
   {
    "duration": 1916,
    "start_time": "2023-06-18T06:23:24.091Z"
   },
   {
    "duration": 33,
    "start_time": "2023-06-18T06:23:26.884Z"
   },
   {
    "duration": 16,
    "start_time": "2023-06-18T06:23:27.395Z"
   },
   {
    "duration": 22,
    "start_time": "2023-06-18T06:23:27.734Z"
   },
   {
    "duration": 3,
    "start_time": "2023-06-18T06:23:28.424Z"
   },
   {
    "duration": 4,
    "start_time": "2023-06-18T06:23:28.691Z"
   },
   {
    "duration": 2468,
    "start_time": "2023-06-18T06:23:29.331Z"
   },
   {
    "duration": 464,
    "start_time": "2023-06-18T06:23:31.802Z"
   },
   {
    "duration": 1371,
    "start_time": "2023-06-18T06:23:32.267Z"
   },
   {
    "duration": 2454,
    "start_time": "2023-06-18T06:23:36.260Z"
   },
   {
    "duration": 631,
    "start_time": "2023-06-18T06:23:38.719Z"
   },
   {
    "duration": 1549,
    "start_time": "2023-06-18T06:23:39.352Z"
   },
   {
    "duration": 439,
    "start_time": "2023-06-18T06:23:40.903Z"
   },
   {
    "duration": 664,
    "start_time": "2023-06-18T06:26:26.165Z"
   },
   {
    "duration": 15105,
    "start_time": "2023-06-18T06:26:26.831Z"
   },
   {
    "duration": 10093,
    "start_time": "2023-06-18T06:26:41.938Z"
   },
   {
    "duration": 673,
    "start_time": "2023-06-18T06:26:52.033Z"
   },
   {
    "duration": 25,
    "start_time": "2023-06-18T06:26:52.708Z"
   },
   {
    "duration": 13,
    "start_time": "2023-06-18T06:26:52.735Z"
   },
   {
    "duration": 290,
    "start_time": "2023-06-18T06:26:52.750Z"
   },
   {
    "duration": 16,
    "start_time": "2023-06-18T06:26:53.101Z"
   },
   {
    "duration": 8380,
    "start_time": "2023-06-18T06:26:53.120Z"
   },
   {
    "duration": 3634,
    "start_time": "2023-06-18T06:27:01.502Z"
   },
   {
    "duration": 499,
    "start_time": "2023-06-18T06:27:05.137Z"
   },
   {
    "duration": 94,
    "start_time": "2023-06-18T06:27:05.638Z"
   },
   {
    "duration": 211,
    "start_time": "2023-06-18T06:27:05.734Z"
   },
   {
    "duration": 70,
    "start_time": "2023-06-18T06:27:05.950Z"
   },
   {
    "duration": 6,
    "start_time": "2023-06-18T06:27:06.022Z"
   },
   {
    "duration": 1874,
    "start_time": "2023-06-18T06:27:06.030Z"
   },
   {
    "duration": 7,
    "start_time": "2023-06-18T06:27:07.906Z"
   },
   {
    "duration": 303,
    "start_time": "2023-06-18T06:27:07.914Z"
   },
   {
    "duration": 109,
    "start_time": "2023-06-18T06:27:08.219Z"
   },
   {
    "duration": 4,
    "start_time": "2023-06-18T06:27:08.330Z"
   },
   {
    "duration": 114,
    "start_time": "2023-06-18T06:27:08.402Z"
   },
   {
    "duration": 2284,
    "start_time": "2023-06-18T06:27:08.517Z"
   },
   {
    "duration": 105,
    "start_time": "2023-06-18T06:27:10.803Z"
   },
   {
    "duration": 23,
    "start_time": "2023-06-18T06:27:10.911Z"
   },
   {
    "duration": 75,
    "start_time": "2023-06-18T06:27:10.935Z"
   },
   {
    "duration": 2,
    "start_time": "2023-06-18T06:27:11.012Z"
   },
   {
    "duration": 8,
    "start_time": "2023-06-18T06:27:11.016Z"
   },
   {
    "duration": 2603,
    "start_time": "2023-06-18T06:27:11.026Z"
   },
   {
    "duration": 579,
    "start_time": "2023-06-18T06:27:13.630Z"
   },
   {
    "duration": 1394,
    "start_time": "2023-06-18T06:27:14.210Z"
   },
   {
    "duration": 2496,
    "start_time": "2023-06-18T06:27:15.606Z"
   },
   {
    "duration": 527,
    "start_time": "2023-06-18T06:27:18.103Z"
   },
   {
    "duration": 1330,
    "start_time": "2023-06-18T06:27:18.632Z"
   },
   {
    "duration": 164,
    "start_time": "2023-06-18T06:27:19.964Z"
   },
   {
    "duration": 645,
    "start_time": "2023-06-18T15:14:21.991Z"
   },
   {
    "duration": 14771,
    "start_time": "2023-06-18T15:14:22.637Z"
   },
   {
    "duration": 8134,
    "start_time": "2023-06-18T15:14:37.410Z"
   },
   {
    "duration": 693,
    "start_time": "2023-06-18T15:14:45.546Z"
   },
   {
    "duration": 33,
    "start_time": "2023-06-18T15:14:46.306Z"
   },
   {
    "duration": 5,
    "start_time": "2023-06-18T15:14:46.340Z"
   },
   {
    "duration": 368,
    "start_time": "2023-06-18T15:14:46.347Z"
   },
   {
    "duration": 16,
    "start_time": "2023-06-18T15:14:46.717Z"
   },
   {
    "duration": 7684,
    "start_time": "2023-06-18T15:14:46.735Z"
   },
   {
    "duration": 3587,
    "start_time": "2023-06-18T15:14:54.421Z"
   },
   {
    "duration": 431,
    "start_time": "2023-06-18T15:14:58.009Z"
   },
   {
    "duration": 84,
    "start_time": "2023-06-18T15:14:58.442Z"
   },
   {
    "duration": 193,
    "start_time": "2023-06-18T15:14:58.528Z"
   },
   {
    "duration": 87,
    "start_time": "2023-06-18T15:14:58.722Z"
   },
   {
    "duration": 5,
    "start_time": "2023-06-18T15:14:58.811Z"
   },
   {
    "duration": 1896,
    "start_time": "2023-06-18T15:14:58.817Z"
   },
   {
    "duration": 7,
    "start_time": "2023-06-18T15:15:00.715Z"
   },
   {
    "duration": 310,
    "start_time": "2023-06-18T15:15:00.724Z"
   },
   {
    "duration": 196,
    "start_time": "2023-06-18T15:15:01.036Z"
   },
   {
    "duration": 3,
    "start_time": "2023-06-18T15:15:01.233Z"
   },
   {
    "duration": 169,
    "start_time": "2023-06-18T15:15:01.238Z"
   },
   {
    "duration": 1709,
    "start_time": "2023-06-18T15:15:01.409Z"
   },
   {
    "duration": 94,
    "start_time": "2023-06-18T15:15:03.120Z"
   },
   {
    "duration": 37,
    "start_time": "2023-06-18T15:15:03.215Z"
   },
   {
    "duration": 126,
    "start_time": "2023-06-18T15:15:03.254Z"
   },
   {
    "duration": 3,
    "start_time": "2023-06-18T15:15:03.381Z"
   },
   {
    "duration": 8,
    "start_time": "2023-06-18T15:15:03.385Z"
   },
   {
    "duration": 2147,
    "start_time": "2023-06-18T15:15:03.395Z"
   },
   {
    "duration": 467,
    "start_time": "2023-06-18T15:15:05.544Z"
   },
   {
    "duration": 1402,
    "start_time": "2023-06-18T15:15:06.012Z"
   },
   {
    "duration": 2313,
    "start_time": "2023-06-18T15:15:07.416Z"
   },
   {
    "duration": 547,
    "start_time": "2023-06-18T15:15:09.731Z"
   },
   {
    "duration": 1545,
    "start_time": "2023-06-18T15:15:10.280Z"
   },
   {
    "duration": 296,
    "start_time": "2023-06-18T15:15:11.826Z"
   }
  ],
  "colab": {
   "name": "PySparkSprint.ipynb",
   "provenance": []
  },
  "kernelspec": {
   "display_name": "Python 3 (ipykernel)",
   "language": "python",
   "name": "python3"
  },
  "language_info": {
   "codemirror_mode": {
    "name": "ipython",
    "version": 3
   },
   "file_extension": ".py",
   "mimetype": "text/x-python",
   "name": "python",
   "nbconvert_exporter": "python",
   "pygments_lexer": "ipython3",
   "version": "3.10.9"
  },
  "toc": {
   "base_numbering": 1,
   "nav_menu": {},
   "number_sections": true,
   "sideBar": true,
   "skip_h1_title": true,
   "title_cell": "Table of Contents",
   "title_sidebar": "Contents",
   "toc_cell": false,
   "toc_position": {},
   "toc_section_display": true,
   "toc_window_display": false
  }
 },
 "nbformat": 4,
 "nbformat_minor": 5
}
