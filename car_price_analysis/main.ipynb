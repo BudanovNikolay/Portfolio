{
 "cells": [
  {
   "cell_type": "code",
   "execution_count": 22,
   "id": "e06664da",
   "metadata": {},
   "outputs": [],
   "source": [
    "import pandas as pd\n",
    "import numpy as np\n",
    "import warnings\n",
    "import matplotlib.pyplot as plt\n",
    "from scipy.stats import pearsonr\n",
    "import math\n",
    "import statsmodels.api as sm\n",
    "from sklearn.linear_model import LinearRegression\n",
    "from scipy.stats import shapiro\n",
    "from statsmodels.stats.diagnostic import het_white\n",
    "import statsmodels.stats.api as sms\n",
    "from sklearn.model_selection import train_test_split\n",
    "from sklearn.preprocessing import OrdinalEncoder\n",
    "from sklearn.preprocessing import StandardScaler\n",
    "from sklearn.model_selection import cross_val_score\n",
    "from sklearn.ensemble import RandomForestRegressor\n",
    "from sklearn.pipeline import Pipeline, make_pipeline\n",
    "from sklearn.model_selection import GridSearchCV, RandomizedSearchCV\n",
    "from sklearn.preprocessing import OrdinalEncoder, OneHotEncoder\n",
    "import sklearn\n",
    "from sklearn.metrics import mean_squared_error, mean_absolute_percentage_error, r2_score\n",
    "from sklearn.pipeline import Pipeline\n",
    "import lightgbm as lgb\n",
    "from sklearn.linear_model import LinearRegression"
   ]
  },
  {
   "cell_type": "markdown",
   "id": "7092f024",
   "metadata": {},
   "source": [
    "# Используемые функции "
   ]
  },
  {
   "cell_type": "markdown",
   "id": "c5b72b41",
   "metadata": {},
   "source": [
    "##### Correlation"
   ]
  },
  {
   "cell_type": "code",
   "execution_count": 23,
   "id": "343dbf92",
   "metadata": {},
   "outputs": [],
   "source": [
    "def correlation(x_data, y_data, return_result=False, print_result=False):\n",
    "    result_dict = {'cof_correlation': None,\n",
    "                  'p_value': None,\n",
    "                  'is_significant_corr': False}\n",
    "    \n",
    "    result = pearsonr(x_data, y_data)\n",
    "    \n",
    "    result_dict['cof_correlation'] = result[0]\n",
    "    result_dict['p_value'] = result[1]\n",
    "    \n",
    "    if print_result:\n",
    "        print('coef correlation = ', result_dict['cof_correlation'] )\n",
    "        print('p-value =', result_dict['p_value'])\n",
    "    \n",
    "    if result_dict['p_value'] > 0.05:\n",
    "        if print_result:\n",
    "            print('стaтистически НЕзначемый коэфицент')\n",
    "    \n",
    "    else:\n",
    "        if print_result:\n",
    "            print('стaтистически значемый коэфицент')\n",
    "        result_dict['is_significant_corr'] = True\n",
    "    \n",
    "    if return_result:\n",
    "        return result_dict"
   ]
  },
  {
   "cell_type": "markdown",
   "id": "ecad5fd9",
   "metadata": {},
   "source": [
    "##### logarithm transformation"
   ]
  },
  {
   "cell_type": "code",
   "execution_count": 24,
   "id": "0ba1d2b9",
   "metadata": {},
   "outputs": [],
   "source": [
    "def log_transformation(col):\n",
    "    return math.log(col)"
   ]
  },
  {
   "cell_type": "markdown",
   "id": "19643067",
   "metadata": {},
   "source": [
    "##### check for normal distribution"
   ]
  },
  {
   "cell_type": "code",
   "execution_count": 25,
   "id": "538f1f8c",
   "metadata": {},
   "outputs": [],
   "source": [
    "def check_for_normal(data, return_result=False, print_result=False):\n",
    "    result_dict = {\n",
    "        'is_normal_distribution':False,\n",
    "        'p_value': None\n",
    "    }\n",
    "    \n",
    "    result = shapiro(data)\n",
    "    result_dict['p_value'] = result.pvalue\n",
    "    \n",
    "    if result.pvalue > 0.05:\n",
    "        result_dict['is_normal_distribution'] = True\n",
    "        \n",
    "    if  print_result:\n",
    "        \n",
    "        plt = sm.qqplot(data, line='45')\n",
    "        plt.show()\n",
    "        \n",
    "        print('p-value = ', result.pvalue)\n",
    "        if result.pvalue > 0.05:\n",
    "            print('у нас не достаточно оснований отвергнуть H0. Данные распределены НОРМАЛЬНО')\n",
    "\n",
    "        else:\n",
    "            print('у нас не достаточно оснований принять H0. Данные  НЕ распределены НОРМАЛЬНО')\n",
    "            \n",
    "    if return_result:\n",
    "        return result_dict"
   ]
  },
  {
   "cell_type": "markdown",
   "id": "e00899ce",
   "metadata": {},
   "source": [
    "##### Проверка на гомоскедастичность"
   ]
  },
  {
   "cell_type": "code",
   "execution_count": 26,
   "id": "264b2234",
   "metadata": {},
   "outputs": [],
   "source": [
    "def homo_test(data, exog, return_result=False, print_result=False):\n",
    "    result_dict = {'homo': False,\n",
    "                  'p_value': None}\n",
    "    \n",
    "    white_test = het_white(data, exog)\n",
    "    result_dict['p_value'] = white_test[1]\n",
    "    \n",
    "    if white_test[1] > 0.05:\n",
    "        result_dict['homo'] = True\n",
    "        \n",
    "    if print_result:\n",
    "        if white_test[1] > 0.05:\n",
    "            print('У нас не достаточно оснований отклонить H0 гипотизу. Остатки гомоскеданстичны')\n",
    "        \n",
    "        else:\n",
    "            print('У нас не достаточно принять H0 гипотизу. Остатки НЕ гомоскеданстичны')\n",
    "    \n",
    "    if return_result:\n",
    "        return result_dict"
   ]
  },
  {
   "cell_type": "markdown",
   "id": "77baab5a",
   "metadata": {},
   "source": [
    "# Начало проекта "
   ]
  },
  {
   "cell_type": "code",
   "execution_count": 27,
   "id": "98a935ff",
   "metadata": {},
   "outputs": [],
   "source": [
    "submission_data  = pd.read_csv('sample_submission.csv')\n",
    "train_data = pd.read_csv('train.csv')\n",
    "test_data = pd.read_csv('test.csv')"
   ]
  },
  {
   "cell_type": "code",
   "execution_count": 28,
   "id": "f2114c87",
   "metadata": {},
   "outputs": [
    {
     "data": {
      "text/plain": [
       "(110058, 15)"
      ]
     },
     "execution_count": 28,
     "metadata": {},
     "output_type": "execute_result"
    }
   ],
   "source": [
    "test_data = test_data.merge(submission_data, how='inner', on='vin')\n",
    "test_data.shape"
   ]
  },
  {
   "cell_type": "code",
   "execution_count": 29,
   "id": "a7f52519",
   "metadata": {},
   "outputs": [],
   "source": [
    "all_data = pd.concat([test_data, train_data])"
   ]
  },
  {
   "cell_type": "code",
   "execution_count": 30,
   "id": "72e14f1a",
   "metadata": {
    "scrolled": false
   },
   "outputs": [
    {
     "data": {
      "text/html": [
       "<div>\n",
       "<style scoped>\n",
       "    .dataframe tbody tr th:only-of-type {\n",
       "        vertical-align: middle;\n",
       "    }\n",
       "\n",
       "    .dataframe tbody tr th {\n",
       "        vertical-align: top;\n",
       "    }\n",
       "\n",
       "    .dataframe thead th {\n",
       "        text-align: right;\n",
       "    }\n",
       "</style>\n",
       "<table border=\"1\" class=\"dataframe\">\n",
       "  <thead>\n",
       "    <tr style=\"text-align: right;\">\n",
       "      <th></th>\n",
       "      <th>year</th>\n",
       "      <th>make</th>\n",
       "      <th>model</th>\n",
       "      <th>trim</th>\n",
       "      <th>body</th>\n",
       "      <th>transmission</th>\n",
       "      <th>vin</th>\n",
       "      <th>state</th>\n",
       "      <th>condition</th>\n",
       "      <th>odometer</th>\n",
       "      <th>color</th>\n",
       "      <th>interior</th>\n",
       "      <th>seller</th>\n",
       "      <th>saledate</th>\n",
       "      <th>sellingprice</th>\n",
       "    </tr>\n",
       "  </thead>\n",
       "  <tbody>\n",
       "    <tr>\n",
       "      <th>0</th>\n",
       "      <td>2005</td>\n",
       "      <td>Cadillac</td>\n",
       "      <td>CTS</td>\n",
       "      <td>Base</td>\n",
       "      <td>Sedan</td>\n",
       "      <td>automatic</td>\n",
       "      <td>1g6dp567450124779</td>\n",
       "      <td>ca</td>\n",
       "      <td>2.7</td>\n",
       "      <td>116970.0</td>\n",
       "      <td>silver</td>\n",
       "      <td>black</td>\n",
       "      <td>lexus of stevens creek</td>\n",
       "      <td>Wed Jan 14 2015 04:30:00 GMT-0800 (PST)</td>\n",
       "      <td>13592.209588</td>\n",
       "    </tr>\n",
       "    <tr>\n",
       "      <th>1</th>\n",
       "      <td>2014</td>\n",
       "      <td>GMC</td>\n",
       "      <td>Savana Cargo</td>\n",
       "      <td>2500</td>\n",
       "      <td>Van</td>\n",
       "      <td>NaN</td>\n",
       "      <td>1gtw7fca7e1902207</td>\n",
       "      <td>pa</td>\n",
       "      <td>4.4</td>\n",
       "      <td>6286.0</td>\n",
       "      <td>white</td>\n",
       "      <td>gray</td>\n",
       "      <td>u-haul</td>\n",
       "      <td>Fri Feb 27 2015 01:00:00 GMT-0800 (PST)</td>\n",
       "      <td>13592.209588</td>\n",
       "    </tr>\n",
       "    <tr>\n",
       "      <th>2</th>\n",
       "      <td>2013</td>\n",
       "      <td>Nissan</td>\n",
       "      <td>Murano</td>\n",
       "      <td>S</td>\n",
       "      <td>SUV</td>\n",
       "      <td>automatic</td>\n",
       "      <td>jn8az1mw6dw303497</td>\n",
       "      <td>oh</td>\n",
       "      <td>4.6</td>\n",
       "      <td>11831.0</td>\n",
       "      <td>gray</td>\n",
       "      <td>black</td>\n",
       "      <td>nissan-infiniti lt</td>\n",
       "      <td>Tue Feb 24 2015 01:30:00 GMT-0800 (PST)</td>\n",
       "      <td>13592.209588</td>\n",
       "    </tr>\n",
       "    <tr>\n",
       "      <th>3</th>\n",
       "      <td>2013</td>\n",
       "      <td>Chevrolet</td>\n",
       "      <td>Impala</td>\n",
       "      <td>LS Fleet</td>\n",
       "      <td>Sedan</td>\n",
       "      <td>automatic</td>\n",
       "      <td>2g1wf5e34d1160703</td>\n",
       "      <td>fl</td>\n",
       "      <td>2.3</td>\n",
       "      <td>57105.0</td>\n",
       "      <td>silver</td>\n",
       "      <td>black</td>\n",
       "      <td>onemain rem/auto club of miami inc dba north dad</td>\n",
       "      <td>Fri Mar 06 2015 02:00:00 GMT-0800 (PST)</td>\n",
       "      <td>13592.209588</td>\n",
       "    </tr>\n",
       "    <tr>\n",
       "      <th>4</th>\n",
       "      <td>2013</td>\n",
       "      <td>Nissan</td>\n",
       "      <td>Titan</td>\n",
       "      <td>SV</td>\n",
       "      <td>Crew Cab</td>\n",
       "      <td>automatic</td>\n",
       "      <td>1n6aa0ec3dn301209</td>\n",
       "      <td>tn</td>\n",
       "      <td>2.9</td>\n",
       "      <td>31083.0</td>\n",
       "      <td>black</td>\n",
       "      <td>black</td>\n",
       "      <td>nissan north america inc.</td>\n",
       "      <td>Wed Jun 03 2015 03:30:00 GMT-0700 (PDT)</td>\n",
       "      <td>13592.209588</td>\n",
       "    </tr>\n",
       "  </tbody>\n",
       "</table>\n",
       "</div>"
      ],
      "text/plain": [
       "   year       make         model      trim      body transmission  \\\n",
       "0  2005   Cadillac           CTS      Base     Sedan    automatic   \n",
       "1  2014        GMC  Savana Cargo      2500       Van          NaN   \n",
       "2  2013     Nissan        Murano         S       SUV    automatic   \n",
       "3  2013  Chevrolet        Impala  LS Fleet     Sedan    automatic   \n",
       "4  2013     Nissan         Titan        SV  Crew Cab    automatic   \n",
       "\n",
       "                 vin state  condition  odometer   color interior  \\\n",
       "0  1g6dp567450124779    ca        2.7  116970.0  silver    black   \n",
       "1  1gtw7fca7e1902207    pa        4.4    6286.0   white     gray   \n",
       "2  jn8az1mw6dw303497    oh        4.6   11831.0    gray    black   \n",
       "3  2g1wf5e34d1160703    fl        2.3   57105.0  silver    black   \n",
       "4  1n6aa0ec3dn301209    tn        2.9   31083.0   black    black   \n",
       "\n",
       "                                             seller  \\\n",
       "0                            lexus of stevens creek   \n",
       "1                                            u-haul   \n",
       "2                                nissan-infiniti lt   \n",
       "3  onemain rem/auto club of miami inc dba north dad   \n",
       "4                         nissan north america inc.   \n",
       "\n",
       "                                  saledate  sellingprice  \n",
       "0  Wed Jan 14 2015 04:30:00 GMT-0800 (PST)  13592.209588  \n",
       "1  Fri Feb 27 2015 01:00:00 GMT-0800 (PST)  13592.209588  \n",
       "2  Tue Feb 24 2015 01:30:00 GMT-0800 (PST)  13592.209588  \n",
       "3  Fri Mar 06 2015 02:00:00 GMT-0800 (PST)  13592.209588  \n",
       "4  Wed Jun 03 2015 03:30:00 GMT-0700 (PDT)  13592.209588  "
      ]
     },
     "execution_count": 30,
     "metadata": {},
     "output_type": "execute_result"
    }
   ],
   "source": [
    "all_data.head()"
   ]
  },
  {
   "cell_type": "code",
   "execution_count": 31,
   "id": "f2aff089",
   "metadata": {},
   "outputs": [
    {
     "data": {
      "text/plain": [
       "(550294, 15)"
      ]
     },
     "execution_count": 31,
     "metadata": {},
     "output_type": "execute_result"
    }
   ],
   "source": [
    "all_data.shape"
   ]
  },
  {
   "cell_type": "markdown",
   "id": "656d1833",
   "metadata": {},
   "source": [
    "# 1. Предобработка данных"
   ]
  },
  {
   "cell_type": "code",
   "execution_count": 32,
   "id": "4edadaaa",
   "metadata": {},
   "outputs": [
    {
     "name": "stdout",
     "output_type": "stream",
     "text": [
      "<class 'pandas.core.frame.DataFrame'>\n",
      "Int64Index: 550294 entries, 0 to 440235\n",
      "Data columns (total 15 columns):\n",
      " #   Column        Non-Null Count   Dtype  \n",
      "---  ------        --------------   -----  \n",
      " 0   year          550294 non-null  int64  \n",
      " 1   make          540190 non-null  object \n",
      " 2   model         540092 non-null  object \n",
      " 3   trim          539843 non-null  object \n",
      " 4   body          537307 non-null  object \n",
      " 5   transmission  485822 non-null  object \n",
      " 6   vin           550294 non-null  object \n",
      " 7   state         550294 non-null  object \n",
      " 8   condition     538510 non-null  float64\n",
      " 9   odometer      550206 non-null  float64\n",
      " 10  color         549550 non-null  object \n",
      " 11  interior      549550 non-null  object \n",
      " 12  seller        550294 non-null  object \n",
      " 13  saledate      550294 non-null  object \n",
      " 14  sellingprice  550294 non-null  float64\n",
      "dtypes: float64(3), int64(1), object(11)\n",
      "memory usage: 67.2+ MB\n"
     ]
    }
   ],
   "source": [
    "all_data.info()"
   ]
  },
  {
   "cell_type": "markdown",
   "id": "4112603e",
   "metadata": {},
   "source": [
    "## 1.1 Приведем все значения в колонках к нижнму регистру"
   ]
  },
  {
   "cell_type": "code",
   "execution_count": 33,
   "id": "ba0d63f2",
   "metadata": {},
   "outputs": [],
   "source": [
    "string_columns = all_data.columns\n",
    "string_columns = np.delete(string_columns, [0, 8, 13, 9, 14])"
   ]
  },
  {
   "cell_type": "code",
   "execution_count": 34,
   "id": "11a78d33",
   "metadata": {},
   "outputs": [
    {
     "data": {
      "text/plain": [
       "Index(['make', 'model', 'trim', 'body', 'transmission', 'vin', 'state',\n",
       "       'color', 'interior', 'seller'],\n",
       "      dtype='object')"
      ]
     },
     "execution_count": 34,
     "metadata": {},
     "output_type": "execute_result"
    }
   ],
   "source": [
    "string_columns"
   ]
  },
  {
   "cell_type": "code",
   "execution_count": 35,
   "id": "6cac9807",
   "metadata": {},
   "outputs": [],
   "source": [
    "for col in string_columns:\n",
    "    all_data[col] = all_data[col].str.lower()"
   ]
  },
  {
   "cell_type": "markdown",
   "id": "863a542c",
   "metadata": {},
   "source": [
    "## 1.2 Найдем дубликаты"
   ]
  },
  {
   "cell_type": "markdown",
   "id": "12189443",
   "metadata": {},
   "source": [
    "### 1.2.1 Явные дубликаты"
   ]
  },
  {
   "cell_type": "code",
   "execution_count": 36,
   "id": "2ece089f",
   "metadata": {},
   "outputs": [
    {
     "data": {
      "text/plain": [
       "0"
      ]
     },
     "execution_count": 36,
     "metadata": {},
     "output_type": "execute_result"
    }
   ],
   "source": [
    "all_data.duplicated(keep='last').sum()"
   ]
  },
  {
   "cell_type": "markdown",
   "id": "ee138aba",
   "metadata": {},
   "source": [
    "### 1.2.2 Неявные дубликаты"
   ]
  },
  {
   "cell_type": "code",
   "execution_count": 37,
   "id": "c54b8684",
   "metadata": {},
   "outputs": [
    {
     "name": "stdout",
     "output_type": "stream",
     "text": [
      "=============== make =================\n",
      "ford         92532\n",
      "chevrolet    59619\n",
      "nissan       53351\n",
      "toyota       39439\n",
      "dodge        30482\n",
      "             ...  \n",
      "ford tk          1\n",
      "dodge tk         1\n",
      "mazda tk         1\n",
      "dot              1\n",
      "airstream        1\n",
      "Name: make, Length: 66, dtype: int64\n",
      "================================\n",
      "=============== model =================\n",
      "altima       19190\n",
      "f-150        14145\n",
      "fusion       12797\n",
      "camry        12423\n",
      "escape       11743\n",
      "             ...  \n",
      "42c              1\n",
      "tlx              1\n",
      "fleetwood        1\n",
      "leganza          1\n",
      "g500             1\n",
      "Name: model, Length: 851, dtype: int64\n",
      "================================\n",
      "=============== trim =================\n",
      "base                54885\n",
      "se                  43223\n",
      "lx                  20609\n",
      "limited             18052\n",
      "lt                  16711\n",
      "                    ...  \n",
      "gt sulev                1\n",
      "740ld xdrive            1\n",
      "xdrive28d               1\n",
      "ext base                1\n",
      "4x4 v6 xlt sport        1\n",
      "Name: trim, Length: 1901, dtype: int64\n",
      "================================\n",
      "=============== body =================\n",
      "sedan                      238345\n",
      "suv                        141337\n",
      "hatchback                   25867\n",
      "minivan                     25205\n",
      "coupe                       17399\n",
      "crew cab                    15975\n",
      "wagon                       15876\n",
      "convertible                 10242\n",
      "supercrew                    8812\n",
      "g sedan                      7345\n",
      "supercab                     5188\n",
      "regular cab                  4779\n",
      "van                          4463\n",
      "extended cab                 4422\n",
      "quad cab                     4003\n",
      "e-series van                 1813\n",
      "g coupe                      1581\n",
      "double cab                   1566\n",
      "crewmax cab                   546\n",
      "king cab                      513\n",
      "g convertible                 320\n",
      "genesis coupe                 289\n",
      "access cab                    286\n",
      "koup                          178\n",
      "club cab                      176\n",
      "cts coupe                     153\n",
      "mega cab                      111\n",
      "elantra coupe                 103\n",
      "promaster cargo van            59\n",
      "beetle convertible             59\n",
      "xtracab                        43\n",
      "q60 convertible                42\n",
      "tsx sport wagon                36\n",
      "q60 coupe                      36\n",
      "cts-v coupe                    35\n",
      "g37 convertible                20\n",
      "transit van                    19\n",
      "regular-cab                    15\n",
      "granturismo convertible        13\n",
      "cts wagon                      13\n",
      "g37 coupe                      12\n",
      "cab plus 4                      6\n",
      "cab plus                        4\n",
      "ram van                         1\n",
      "cts-v wagon                     1\n",
      "Name: body, dtype: int64\n",
      "================================\n",
      "=============== transmission =================\n",
      "automatic    468645\n",
      "manual        17177\n",
      "Name: transmission, dtype: int64\n",
      "================================\n",
      "=============== vin =================\n",
      "1g6dp567450124779    1\n",
      "1n4az0cp7dc401848    1\n",
      "1g1pc5sb0e7117053    1\n",
      "1g1je6sb0e4189040    1\n",
      "3fa6p0d93fr139875    1\n",
      "                    ..\n",
      "1fmeu74887ua62196    1\n",
      "jn1cv6ek6dm922785    1\n",
      "1j8gn58k48w288125    1\n",
      "5tbjn321x2s235284    1\n",
      "jn8as5mt9dw038107    1\n",
      "Name: vin, Length: 550294, dtype: int64\n",
      "================================\n",
      "=============== state =================\n",
      "fl    81913\n",
      "ca    71611\n",
      "pa    53206\n",
      "tx    45048\n",
      "ga    34003\n",
      "nj    27624\n",
      "il    23307\n",
      "nc    21252\n",
      "oh    21189\n",
      "tn    20231\n",
      "mo    15784\n",
      "mi    15410\n",
      "nv    12373\n",
      "va    11820\n",
      "md    11054\n",
      "wi     9787\n",
      "mn     9340\n",
      "az     8635\n",
      "co     7666\n",
      "wa     7364\n",
      "ma     6695\n",
      "ny     5663\n",
      "in     4296\n",
      "sc     4208\n",
      "ne     3977\n",
      "on     3436\n",
      "pr     2704\n",
      "la     2172\n",
      "ms     1838\n",
      "ut     1822\n",
      "qc     1240\n",
      "hi     1233\n",
      "or     1148\n",
      "ab      919\n",
      "nm      171\n",
      "ok       72\n",
      "ns       61\n",
      "al       22\n",
      "Name: state, dtype: int64\n",
      "================================\n",
      "=============== color =================\n",
      "black        109121\n",
      "white        105077\n",
      "silver        82027\n",
      "gray          81632\n",
      "blue          50417\n",
      "red           42898\n",
      "—             24468\n",
      "green         11245\n",
      "gold          11141\n",
      "beige          9083\n",
      "burgundy       8818\n",
      "brown          6620\n",
      "orange         2036\n",
      "purple         1534\n",
      "off-white      1418\n",
      "yellow         1253\n",
      "charcoal        473\n",
      "turquoise       232\n",
      "pink             42\n",
      "lime             15\n",
      "Name: color, dtype: int64\n",
      "================================\n",
      "=============== interior =================\n",
      "black        240618\n",
      "gray         175827\n",
      "beige         58809\n",
      "tan           43367\n",
      "—             16943\n",
      "brown          8482\n",
      "red            1334\n",
      "blue           1126\n",
      "silver         1069\n",
      "off-white       480\n",
      "purple          334\n",
      "gold            320\n",
      "white           248\n",
      "green           242\n",
      "burgundy        189\n",
      "orange          142\n",
      "yellow           20\n",
      "Name: interior, dtype: int64\n",
      "================================\n",
      "=============== seller =================\n",
      "nissan-infiniti lt                       19675\n",
      "ford motor credit company,llc            19134\n",
      "the hertz corporation                    18284\n",
      "santander consumer                       15273\n",
      "avis corporation                         12528\n",
      "                                         ...  \n",
      "courtesy auto sales                          1\n",
      "titlemax/alexandria va4                      1\n",
      "pioneer financial corp                       1\n",
      "southern cascades finance corporation        1\n",
      "studio city auto group                       1\n",
      "Name: seller, Length: 14093, dtype: int64\n",
      "================================\n"
     ]
    }
   ],
   "source": [
    "for col in string_columns:\n",
    "    print('===============', col, '=================')\n",
    "    print(all_data[col].value_counts())\n",
    "    print('================================')"
   ]
  },
  {
   "cell_type": "markdown",
   "id": "ed59eabf",
   "metadata": {},
   "source": [
    "## 1.3 Устранение выбросов"
   ]
  },
  {
   "cell_type": "markdown",
   "id": "66817d29",
   "metadata": {},
   "source": [
    "<b> устраним выбросы в odometer, sellingprice</b>"
   ]
  },
  {
   "cell_type": "markdown",
   "id": "ea024789",
   "metadata": {},
   "source": [
    "### 1.3.1 odometer"
   ]
  },
  {
   "cell_type": "code",
   "execution_count": 38,
   "id": "ca838605",
   "metadata": {
    "scrolled": false
   },
   "outputs": [
    {
     "data": {
      "text/plain": [
       "count    550206.000000\n",
       "mean      68290.404683\n",
       "std       53538.021892\n",
       "min           1.000000\n",
       "25%       28267.000000\n",
       "50%       52061.000000\n",
       "75%       99197.000000\n",
       "max      999999.000000\n",
       "Name: odometer, dtype: float64"
      ]
     },
     "execution_count": 38,
     "metadata": {},
     "output_type": "execute_result"
    },
    {
     "data": {
      "image/png": "[encoded data removed]",
      "text/plain": [
       "<Figure size 640x480 with 1 Axes>"
      ]
     },
     "metadata": {},
     "output_type": "display_data"
    }
   ],
   "source": [
    "\n",
    "all_data['odometer'].plot(kind='box')\n",
    "all_data['odometer'].describe()"
   ]
  },
  {
   "cell_type": "code",
   "execution_count": 39,
   "id": "49feacb0",
   "metadata": {},
   "outputs": [],
   "source": [
    "all_data = all_data.loc[all_data['odometer'] < 350_000]\n",
    "all_data = all_data.loc[all_data['odometer'] > 1000]"
   ]
  },
  {
   "cell_type": "markdown",
   "id": "9860ab40",
   "metadata": {},
   "source": [
    "### 1.3.2 Sellingprice"
   ]
  },
  {
   "cell_type": "code",
   "execution_count": 40,
   "id": "89babf8b",
   "metadata": {},
   "outputs": [],
   "source": [
    "all_data['sellingprice'] = all_data['sellingprice'] / 10"
   ]
  },
  {
   "cell_type": "code",
   "execution_count": 41,
   "id": "e815d10b",
   "metadata": {
    "scrolled": true
   },
   "outputs": [
    {
     "data": {
      "text/plain": [
       "count    547416.000000\n",
       "mean       1359.488531\n",
       "std         866.690742\n",
       "min          10.000000\n",
       "25%         850.000000\n",
       "50%        1359.220959\n",
       "75%        1630.000000\n",
       "max       23000.000000\n",
       "Name: sellingprice, dtype: float64"
      ]
     },
     "execution_count": 41,
     "metadata": {},
     "output_type": "execute_result"
    },
    {
     "data": {
      "image/png": "[encoded data removed]",
      "text/plain": [
       "<Figure size 640x480 with 1 Axes>"
      ]
     },
     "metadata": {},
     "output_type": "display_data"
    }
   ],
   "source": [
    "plt.boxplot(all_data['sellingprice'])\n",
    "all_data['sellingprice'].describe()"
   ]
  },
  {
   "cell_type": "code",
   "execution_count": 42,
   "id": "ab08f19b",
   "metadata": {},
   "outputs": [
    {
     "data": {
      "text/plain": [
       "41"
      ]
     },
     "execution_count": 42,
     "metadata": {},
     "output_type": "execute_result"
    }
   ],
   "source": [
    "all_data.loc[all_data['sellingprice'] > 12_500]['sellingprice'].count()"
   ]
  },
  {
   "cell_type": "code",
   "execution_count": 43,
   "id": "d7e240e9",
   "metadata": {},
   "outputs": [],
   "source": [
    "all_data = all_data.loc[all_data['sellingprice'] < 12_500]\n",
    "all_data = all_data.loc[all_data['sellingprice'] > 20]"
   ]
  },
  {
   "cell_type": "markdown",
   "id": "cdb80c95",
   "metadata": {},
   "source": [
    "## 1.4 Заполнение пропусков"
   ]
  },
  {
   "cell_type": "markdown",
   "id": "0d5b3b84",
   "metadata": {},
   "source": [
    "<b>есть пропущенные значения в transmission, make, model,trim,body, condition, color, interior, odometer</b>"
   ]
  },
  {
   "cell_type": "markdown",
   "id": "1918f493",
   "metadata": {},
   "source": [
    "удалим пропущенные значения из make"
   ]
  },
  {
   "cell_type": "code",
   "execution_count": 44,
   "id": "7661cc56",
   "metadata": {},
   "outputs": [],
   "source": [
    "all_data = all_data.loc[all_data['make'].isna() == False]"
   ]
  },
  {
   "cell_type": "markdown",
   "id": "8dd37887",
   "metadata": {},
   "source": [
    "заполним пропущенные значения в color, interior взяв самый часто встречающийся цвет и интерьер"
   ]
  },
  {
   "cell_type": "code",
   "execution_count": 45,
   "id": "d439158f",
   "metadata": {},
   "outputs": [],
   "source": [
    "all_data = all_data.loc[all_data['body'].isna() == False]"
   ]
  },
  {
   "cell_type": "code",
   "execution_count": 46,
   "id": "d9195976",
   "metadata": {},
   "outputs": [],
   "source": [
    "all_data = all_data.loc[all_data['model'].isna() == False]"
   ]
  },
  {
   "cell_type": "markdown",
   "id": "ce58c313",
   "metadata": {},
   "source": [
    "заполним пропуски в transmission замым частым значением automatic"
   ]
  },
  {
   "cell_type": "code",
   "execution_count": 47,
   "id": "d4dec992",
   "metadata": {},
   "outputs": [],
   "source": [
    "all_data['transmission'] = all_data['transmission'].fillna('automatic')"
   ]
  },
  {
   "cell_type": "markdown",
   "id": "b9e9a308",
   "metadata": {},
   "source": [
    "заполним пропуски в interior и color замым частым значением black и white"
   ]
  },
  {
   "cell_type": "code",
   "execution_count": 48,
   "id": "63e67ded",
   "metadata": {},
   "outputs": [],
   "source": [
    "import random\n",
    "def add_interior_color(col):\n",
    "    if pd.isna(col) or col == '—':\n",
    "        return random.choice(['black', 'gray'])\n",
    "    else:\n",
    "        return col"
   ]
  },
  {
   "cell_type": "code",
   "execution_count": 49,
   "id": "20a7b037",
   "metadata": {},
   "outputs": [],
   "source": [
    "import random\n",
    "def add_cars_color(col):\n",
    "    if pd.isna(col) or col == '—':\n",
    "        return random.choice(['black', 'white'])\n",
    "    else:\n",
    "        return col"
   ]
  },
  {
   "cell_type": "code",
   "execution_count": 50,
   "id": "50ea3b3d",
   "metadata": {},
   "outputs": [],
   "source": [
    "all_data['interior'] = all_data['interior'].apply(add_interior_color)\n",
    "all_data['color'] = all_data['color'].apply(add_interior_color)"
   ]
  },
  {
   "cell_type": "markdown",
   "id": "1ee49a5c",
   "metadata": {},
   "source": [
    "### 1.4.1 Регрессионый анализ condition и odometer"
   ]
  },
  {
   "cell_type": "markdown",
   "id": "3b5303a8",
   "metadata": {},
   "source": [
    "<b>Для заполнения пропусков в condition и odometer проведем регрессионый анализ, и на основе построенной регрессии восполним пропущенные значения"
   ]
  },
  {
   "cell_type": "code",
   "execution_count": 51,
   "id": "a3ad86c4",
   "metadata": {},
   "outputs": [],
   "source": [
    "condition_odometer = all_data[['condition', 'odometer', 'sellingprice']]\n",
    "condition_odometer = condition_odometer.loc[(condition_odometer['condition'].isnull() == False) &\n",
    "                                           (condition_odometer['odometer'].isnull() == False)]"
   ]
  },
  {
   "cell_type": "markdown",
   "id": "df2999fb",
   "metadata": {},
   "source": [
    "#### correlation between condition and sellingprice"
   ]
  },
  {
   "cell_type": "code",
   "execution_count": 52,
   "id": "80950078",
   "metadata": {},
   "outputs": [
    {
     "data": {
      "image/png": "[encoded data removed]",
      "text/plain": [
       "<Figure size 640x480 with 1 Axes>"
      ]
     },
     "metadata": {},
     "output_type": "display_data"
    }
   ],
   "source": [
    "plt.scatter(condition_odometer['condition'], condition_odometer['sellingprice'])\n",
    "plt.show()"
   ]
  },
  {
   "cell_type": "code",
   "execution_count": 53,
   "id": "559258b3",
   "metadata": {
    "scrolled": true
   },
   "outputs": [],
   "source": [
    "correlation(condition_odometer['condition'], condition_odometer['sellingprice'])"
   ]
  },
  {
   "cell_type": "markdown",
   "id": "bd1c415b",
   "metadata": {},
   "source": [
    "мы имеем небольшой статистически незначемый коэфицент корреляции. Отсда делаем вывод, что в наших данных нету сильной зависимости между этими признаками. Но для заполнения пробелов все же построим регрессию, проведя логорифмическая трансформацию"
   ]
  },
  {
   "cell_type": "markdown",
   "id": "5fb2b37a",
   "metadata": {},
   "source": [
    "### correlation between condition and odometer"
   ]
  },
  {
   "cell_type": "code",
   "execution_count": 54,
   "id": "c450fa0d",
   "metadata": {},
   "outputs": [
    {
     "data": {
      "image/png": "[encoded data removed]",
      "text/plain": [
       "<Figure size 640x480 with 1 Axes>"
      ]
     },
     "metadata": {},
     "output_type": "display_data"
    }
   ],
   "source": [
    "plt.scatter(condition_odometer['condition'], condition_odometer['odometer'])\n",
    "plt.show()"
   ]
  },
  {
   "cell_type": "code",
   "execution_count": 55,
   "id": "42c5ed68",
   "metadata": {},
   "outputs": [],
   "source": [
    "correlation(condition_odometer['condition'], condition_odometer['odometer'])"
   ]
  },
  {
   "cell_type": "markdown",
   "id": "0f045d5b",
   "metadata": {},
   "source": [
    "имеем небольшой статистически значимый коэфицент корреляции. Но для заполнения пробелов все же построим регрессию, проведя логорифмическая трансформацию"
   ]
  },
  {
   "cell_type": "markdown",
   "id": "1757d34e",
   "metadata": {},
   "source": [
    "<b>Логорифмическая трансформация</b>"
   ]
  },
  {
   "cell_type": "code",
   "execution_count": 56,
   "id": "f50a1c25",
   "metadata": {
    "scrolled": true
   },
   "outputs": [],
   "source": [
    "condition_odometer['condition'] = condition_odometer['condition'].apply(log_transformation)\n",
    "condition_odometer['sellingprice'] = condition_odometer['sellingprice'].apply(log_transformation)"
   ]
  },
  {
   "cell_type": "code",
   "execution_count": 57,
   "id": "d720d4f9",
   "metadata": {},
   "outputs": [
    {
     "data": {
      "image/png": "[encoded data removed]",
      "text/plain": [
       "<Figure size 640x480 with 1 Axes>"
      ]
     },
     "metadata": {},
     "output_type": "display_data"
    }
   ],
   "source": [
    "plt.scatter(condition_odometer['condition'], condition_odometer['sellingprice'])\n",
    "plt.show()"
   ]
  },
  {
   "cell_type": "code",
   "execution_count": 58,
   "id": "6e75c2b8",
   "metadata": {},
   "outputs": [],
   "source": [
    "correlation(condition_odometer['condition'], condition_odometer['sellingprice'])"
   ]
  },
  {
   "cell_type": "code",
   "execution_count": 59,
   "id": "aa3c7fdd",
   "metadata": {},
   "outputs": [
    {
     "name": "stdout",
     "output_type": "stream",
     "text": [
      "======= correalation condition with condition ======\n",
      "coef correlation =  1.0\n",
      "p-value = 0.0\n",
      "стaтистически значемый коэфицент\n",
      "====================================================\n",
      "======= correalation odometer with condition ======\n",
      "coef correlation =  -0.5350336522933603\n",
      "p-value = 0.0\n",
      "стaтистически значемый коэфицент\n",
      "====================================================\n",
      "======= correalation sellingprice with condition ======\n",
      "coef correlation =  0.5575780652072561\n",
      "p-value = 0.0\n",
      "стaтистически значемый коэфицент\n",
      "====================================================\n"
     ]
    }
   ],
   "source": [
    "for col in condition_odometer.columns:\n",
    "    print('======= correalation', col, 'with condition ======')\n",
    "    correlation(condition_odometer['condition'], condition_odometer[col], print_result=True)\n",
    "    print('====================================================')"
   ]
  },
  {
   "cell_type": "markdown",
   "id": "f99b75ce",
   "metadata": {},
   "source": [
    "проверим на мультиколлиниарность предикторы odometer и sellingprice"
   ]
  },
  {
   "cell_type": "code",
   "execution_count": 60,
   "id": "8871430f",
   "metadata": {},
   "outputs": [],
   "source": [
    "correlation(condition_odometer['odometer'], condition_odometer['sellingprice'])"
   ]
  },
  {
   "cell_type": "markdown",
   "id": "3c892889",
   "metadata": {},
   "source": [
    "корреляция по модулю < 0.8 => мультиколлиниарность отсутсвует"
   ]
  },
  {
   "cell_type": "markdown",
   "id": "4015e2b3",
   "metadata": {},
   "source": [
    "### Построение регрессии"
   ]
  },
  {
   "cell_type": "code",
   "execution_count": 61,
   "id": "b4788b62",
   "metadata": {},
   "outputs": [],
   "source": [
    "model = LinearRegression()"
   ]
  },
  {
   "cell_type": "code",
   "execution_count": 62,
   "id": "846a3e9f",
   "metadata": {},
   "outputs": [
    {
     "name": "stdout",
     "output_type": "stream",
     "text": [
      "intercept:  0.3081184415185285\n",
      "odometer:  -1.8417105631786329e-06\n",
      "sellingprice:  0.14347791743309796\n"
     ]
    }
   ],
   "source": [
    "Y = condition_odometer['condition']\n",
    "X = condition_odometer[['odometer', 'sellingprice']]\n",
    "\n",
    "model = LinearRegression().fit(X, Y)\n",
    "print('intercept: ', model.intercept_)\n",
    "print('odometer: ',model.coef_[0])\n",
    "print('sellingprice: ', model.coef_[1])\n"
   ]
  },
  {
   "cell_type": "markdown",
   "id": "8f342249",
   "metadata": {},
   "source": [
    "имеем уравнение видa: log(C) = 0.3081184415185285 -1.8417105631786329e-06 * log(O) + 0.14347791743309796 * log(S), где <br>\n",
    "C - condition<br>\n",
    "O - odometer<br>\n",
    "S - sellingprice"
   ]
  },
  {
   "cell_type": "markdown",
   "id": "fe0289cb",
   "metadata": {},
   "source": [
    "теперь постром уровнение для odometer выразим эту переменную через имеющиеся уравнение регрессии "
   ]
  },
  {
   "cell_type": "code",
   "execution_count": 63,
   "id": "31d20443",
   "metadata": {},
   "outputs": [],
   "source": [
    "intercept = 0.3081184415185285/1.8417105631786329e-06\n",
    "condition = -(1 / 1.8417105631786329e-06)\n",
    "sellingprice = 0.14347791743309796 / 1.8417105631786329e-06"
   ]
  },
  {
   "cell_type": "code",
   "execution_count": 64,
   "id": "5e3953b1",
   "metadata": {
    "scrolled": true
   },
   "outputs": [
    {
     "name": "stdout",
     "output_type": "stream",
     "text": [
      "intercept = 167300.1435072093\n",
      "condition =  -542973.4834523003\n",
      "sellingprice =  77904.70462713072\n"
     ]
    }
   ],
   "source": [
    "print('intercept =',intercept)\n",
    "print('condition = ', condition)\n",
    "print('sellingprice = ', sellingprice)"
   ]
  },
  {
   "cell_type": "markdown",
   "id": "86d382c7",
   "metadata": {},
   "source": [
    "уравнение имеет вид log(O) = 167300.1435072093 - 542973.4834523003* log(C) + 77904.70462713072 * log(S), где <br>\n",
    "C - condition<br>\n",
    "O - odometer<br>\n",
    "S - sellingprice"
   ]
  },
  {
   "cell_type": "markdown",
   "id": "3235af16",
   "metadata": {},
   "source": [
    "### 1.4.2 Заполнение пропусков в odometer и condition "
   ]
  },
  {
   "cell_type": "code",
   "execution_count": 65,
   "id": "8527025a",
   "metadata": {},
   "outputs": [],
   "source": [
    "def add_odometer(row):\n",
    "    if pd.isnull(row['odometer']) and (pd.isnull(row['condition']) == False):\n",
    "        C = row['condition']\n",
    "        S = row['sellingprice']\n",
    "        O = 167300.1435072093 - 542973.4834523003* matm.log(C) + 77904.70462713072 * math.log(S)\n",
    "        return mapth.exp(O)\n",
    "    \n",
    "    else:\n",
    "        return row['odometer']\n",
    "        "
   ]
  },
  {
   "cell_type": "code",
   "execution_count": 66,
   "id": "7a29fe98",
   "metadata": {},
   "outputs": [],
   "source": [
    "def add_condition(row):\n",
    "    if pd.isnull(row['condition']) and (pd.isnull(row['odometer']) == False):\n",
    "        O = row['odometer']\n",
    "        S = row['sellingprice']\n",
    "        C = 0.3081184415185285 - 1.8417105631786329e-06 * math.log(O) + 0.14347791743309796 * math.log(S)\n",
    "        return round(math.exp(C), 1)\n",
    "        \n",
    "    else:\n",
    "        return row['condition']"
   ]
  },
  {
   "cell_type": "code",
   "execution_count": 67,
   "id": "5d48b7d9",
   "metadata": {},
   "outputs": [],
   "source": [
    "all_data['condition'] = all_data.apply(add_condition, axis=1)"
   ]
  },
  {
   "cell_type": "code",
   "execution_count": 68,
   "id": "303c78c3",
   "metadata": {},
   "outputs": [
    {
     "data": {
      "text/plain": [
       "0"
      ]
     },
     "execution_count": 68,
     "metadata": {},
     "output_type": "execute_result"
    }
   ],
   "source": [
    "all_data['condition'].isnull().sum()"
   ]
  },
  {
   "cell_type": "code",
   "execution_count": 69,
   "id": "691af125",
   "metadata": {},
   "outputs": [
    {
     "data": {
      "text/plain": [
       "0"
      ]
     },
     "execution_count": 69,
     "metadata": {},
     "output_type": "execute_result"
    }
   ],
   "source": [
    "all_data['odometer'].isnull().sum()"
   ]
  },
  {
   "cell_type": "markdown",
   "id": "8f527717",
   "metadata": {},
   "source": [
    "## 1.5 Добавление новых значений "
   ]
  },
  {
   "cell_type": "markdown",
   "id": "765245a7",
   "metadata": {},
   "source": [
    "Добавим новый столбец \"car_age\" - возраст автомобиля = год выпуска - год продажи и переименнуем столбец 'saledate' в 'saleyear' оставив информацию только о годе проаджи, так как время и месяц никак не влияют на цену"
   ]
  },
  {
   "cell_type": "code",
   "execution_count": 70,
   "id": "afe3bd41",
   "metadata": {},
   "outputs": [],
   "source": [
    "years = [str(year) for year in range(1970, 2025)]\n",
    "\n",
    "def add_sale_year(col):\n",
    "    for year in years:\n",
    "        if year in col:\n",
    "            return int(year)"
   ]
  },
  {
   "cell_type": "code",
   "execution_count": 71,
   "id": "0ca7fa3e",
   "metadata": {},
   "outputs": [],
   "source": [
    "all_data['saledate'] = all_data['saledate'].apply(add_sale_year)"
   ]
  },
  {
   "cell_type": "code",
   "execution_count": 72,
   "id": "16ed2781",
   "metadata": {
    "scrolled": true
   },
   "outputs": [],
   "source": [
    "all_data = all_data.rename(columns={'saledate': 'saleyear'})"
   ]
  },
  {
   "cell_type": "markdown",
   "id": "829623dc",
   "metadata": {},
   "source": [
    "столбец \"car_age\""
   ]
  },
  {
   "cell_type": "code",
   "execution_count": 73,
   "id": "0ad56226",
   "metadata": {},
   "outputs": [],
   "source": [
    "all_data['car_age'] = all_data['saleyear'] - all_data['year']"
   ]
  },
  {
   "cell_type": "markdown",
   "id": "38a777ca",
   "metadata": {},
   "source": [
    "# 2. Исследовательский анализ"
   ]
  },
  {
   "cell_type": "markdown",
   "id": "a06113d3",
   "metadata": {},
   "source": [
    "## 2.1 Гипотезы"
   ]
  },
  {
   "cell_type": "markdown",
   "id": "59ea1237",
   "metadata": {},
   "source": [
    "<b>Гипотеза 1</b><br>\n",
    "Между пробегом (odometer) и ценой (sellingprice) имеется линейная взаимосвязь<br>\n",
    "<b>Гипотеза 2</b><br>\n",
    "Между состояние (condition) и ценой (sellingprice) имеется линейная взаимосвязь, но нужно делать поправку на модель авто <br>\n",
    "<b> Гипотеза 3</b><br>\n",
    "состояние (condition), пробег (odometer) и возраст автомобиля (car_age) влияют на ценой (sellingprice) и их зависимоть можно описать линейным уравнением вида <b>sellingprice = b0 + b1 * odometer + b2 * car_age + b3 * condition.</b> Но стоит делать поправку на модель автомобиля</b>"
   ]
  },
  {
   "cell_type": "markdown",
   "id": "af93c53a",
   "metadata": {},
   "source": [
    "## 2.2 Проверка гипотез"
   ]
  },
  {
   "cell_type": "markdown",
   "id": "b2707047",
   "metadata": {},
   "source": [
    "### Проверка гипотезы 1.\n",
    "между пробегом (odometer) и ценой (sellingprice) имеется взаимосвязь"
   ]
  },
  {
   "cell_type": "markdown",
   "id": "fa1ddae1",
   "metadata": {},
   "source": [
    "<b>для проверки гипотезы проведем регрессионный анализ<b>"
   ]
  },
  {
   "cell_type": "code",
   "execution_count": 74,
   "id": "657e5a60",
   "metadata": {},
   "outputs": [],
   "source": [
    "hypotis_1 = all_data[['sellingprice', 'odometer']]"
   ]
  },
  {
   "cell_type": "code",
   "execution_count": 75,
   "id": "9c05d463",
   "metadata": {},
   "outputs": [
    {
     "data": {
      "text/plain": [
       "<Axes: xlabel='sellingprice', ylabel='odometer'>"
      ]
     },
     "execution_count": 75,
     "metadata": {},
     "output_type": "execute_result"
    },
    {
     "data": {
      "image/png": "[encoded data removed]",
      "text/plain": [
       "<Figure size 640x480 with 1 Axes>"
      ]
     },
     "metadata": {},
     "output_type": "display_data"
    }
   ],
   "source": [
    "hypotis_1.plot(x='sellingprice', y = 'odometer', kind='scatter')"
   ]
  },
  {
   "cell_type": "code",
   "execution_count": 76,
   "id": "af5c05a6",
   "metadata": {},
   "outputs": [],
   "source": [
    "correlation(hypotis_1['odometer'], hypotis_1['sellingprice'])"
   ]
  },
  {
   "cell_type": "markdown",
   "id": "f11a6e46",
   "metadata": {},
   "source": [
    "<b>Проведем логорифмическую трансформацию одного из признаков для улучшениея коэфицента корреляции<b>"
   ]
  },
  {
   "cell_type": "code",
   "execution_count": 77,
   "id": "f8b8f65f",
   "metadata": {},
   "outputs": [],
   "source": [
    "warnings.filterwarnings('ignore')\n",
    "hypotis_1['sellingprice'] = hypotis_1['sellingprice'].apply(log_transformation)"
   ]
  },
  {
   "cell_type": "code",
   "execution_count": 78,
   "id": "d7d76d5e",
   "metadata": {},
   "outputs": [],
   "source": [
    "correlation(hypotis_1['odometer'], hypotis_1['sellingprice'])"
   ]
  },
  {
   "cell_type": "code",
   "execution_count": 79,
   "id": "f867039f",
   "metadata": {},
   "outputs": [
    {
     "data": {
      "text/plain": [
       "<Axes: xlabel='odometer', ylabel='sellingprice'>"
      ]
     },
     "execution_count": 79,
     "metadata": {},
     "output_type": "execute_result"
    },
    {
     "data": {
      "image/png": "[encoded data removed]",
      "text/plain": [
       "<Figure size 640x480 with 1 Axes>"
      ]
     },
     "metadata": {},
     "output_type": "display_data"
    }
   ],
   "source": [
    "hypotis_1.plot(x='odometer', y = 'sellingprice', kind='scatter', alpha=0.05)"
   ]
  },
  {
   "cell_type": "markdown",
   "id": "0defa0e9",
   "metadata": {},
   "source": [
    "<b> Построение линейной регрессии"
   ]
  },
  {
   "cell_type": "code",
   "execution_count": 80,
   "id": "e37d88ec",
   "metadata": {},
   "outputs": [
    {
     "data": {
      "text/html": [
       "<table class=\"simpletable\">\n",
       "<caption>OLS Regression Results</caption>\n",
       "<tr>\n",
       "  <th>Dep. Variable:</th>        <td>odometer</td>     <th>  R-squared:         </th>  <td>   0.437</td>  \n",
       "</tr>\n",
       "<tr>\n",
       "  <th>Model:</th>                   <td>OLS</td>       <th>  Adj. R-squared:    </th>  <td>   0.437</td>  \n",
       "</tr>\n",
       "<tr>\n",
       "  <th>Method:</th>             <td>Least Squares</td>  <th>  F-statistic:       </th>  <td>4.154e+05</td> \n",
       "</tr>\n",
       "<tr>\n",
       "  <th>Date:</th>             <td>Mon, 14 Aug 2023</td> <th>  Prob (F-statistic):</th>   <td>  0.00</td>   \n",
       "</tr>\n",
       "<tr>\n",
       "  <th>Time:</th>                 <td>18:58:27</td>     <th>  Log-Likelihood:    </th> <td>-6.3992e+06</td>\n",
       "</tr>\n",
       "<tr>\n",
       "  <th>No. Observations:</th>      <td>534264</td>      <th>  AIC:               </th>  <td>1.280e+07</td> \n",
       "</tr>\n",
       "<tr>\n",
       "  <th>Df Residuals:</th>          <td>534262</td>      <th>  BIC:               </th>  <td>1.280e+07</td> \n",
       "</tr>\n",
       "<tr>\n",
       "  <th>Df Model:</th>              <td>     1</td>      <th>                     </th>      <td> </td>     \n",
       "</tr>\n",
       "<tr>\n",
       "  <th>Covariance Type:</th>      <td>nonrobust</td>    <th>                     </th>      <td> </td>     \n",
       "</tr>\n",
       "</table>\n",
       "<table class=\"simpletable\">\n",
       "<tr>\n",
       "        <td></td>          <th>coef</th>     <th>std err</th>      <th>t</th>      <th>P>|t|</th>  <th>[0.025</th>    <th>0.975]</th>  \n",
       "</tr>\n",
       "<tr>\n",
       "  <th>const</th>        <td> 3.601e+05</td> <td>  457.307</td> <td>  787.347</td> <td> 0.000</td> <td> 3.59e+05</td> <td> 3.61e+05</td>\n",
       "</tr>\n",
       "<tr>\n",
       "  <th>sellingprice</th> <td>-4.193e+04</td> <td>   65.056</td> <td> -644.528</td> <td> 0.000</td> <td>-4.21e+04</td> <td>-4.18e+04</td>\n",
       "</tr>\n",
       "</table>\n",
       "<table class=\"simpletable\">\n",
       "<tr>\n",
       "  <th>Omnibus:</th>       <td>125103.533</td> <th>  Durbin-Watson:     </th>  <td>   1.968</td> \n",
       "</tr>\n",
       "<tr>\n",
       "  <th>Prob(Omnibus):</th>   <td> 0.000</td>   <th>  Jarque-Bera (JB):  </th> <td>347766.856</td>\n",
       "</tr>\n",
       "<tr>\n",
       "  <th>Skew:</th>            <td> 1.245</td>   <th>  Prob(JB):          </th>  <td>    0.00</td> \n",
       "</tr>\n",
       "<tr>\n",
       "  <th>Kurtosis:</th>        <td> 6.070</td>   <th>  Cond. No.          </th>  <td>    62.2</td> \n",
       "</tr>\n",
       "</table><br/><br/>Notes:<br/>[1] Standard Errors assume that the covariance matrix of the errors is correctly specified."
      ],
      "text/plain": [
       "<class 'statsmodels.iolib.summary.Summary'>\n",
       "\"\"\"\n",
       "                            OLS Regression Results                            \n",
       "==============================================================================\n",
       "Dep. Variable:               odometer   R-squared:                       0.437\n",
       "Model:                            OLS   Adj. R-squared:                  0.437\n",
       "Method:                 Least Squares   F-statistic:                 4.154e+05\n",
       "Date:                Mon, 14 Aug 2023   Prob (F-statistic):               0.00\n",
       "Time:                        18:58:27   Log-Likelihood:            -6.3992e+06\n",
       "No. Observations:              534264   AIC:                         1.280e+07\n",
       "Df Residuals:                  534262   BIC:                         1.280e+07\n",
       "Df Model:                           1                                         \n",
       "Covariance Type:            nonrobust                                         \n",
       "================================================================================\n",
       "                   coef    std err          t      P>|t|      [0.025      0.975]\n",
       "--------------------------------------------------------------------------------\n",
       "const         3.601e+05    457.307    787.347      0.000    3.59e+05    3.61e+05\n",
       "sellingprice -4.193e+04     65.056   -644.528      0.000   -4.21e+04   -4.18e+04\n",
       "==============================================================================\n",
       "Omnibus:                   125103.533   Durbin-Watson:                   1.968\n",
       "Prob(Omnibus):                  0.000   Jarque-Bera (JB):           347766.856\n",
       "Skew:                           1.245   Prob(JB):                         0.00\n",
       "Kurtosis:                       6.070   Cond. No.                         62.2\n",
       "==============================================================================\n",
       "\n",
       "Notes:\n",
       "[1] Standard Errors assume that the covariance matrix of the errors is correctly specified.\n",
       "\"\"\""
      ]
     },
     "execution_count": 80,
     "metadata": {},
     "output_type": "execute_result"
    }
   ],
   "source": [
    "Y = hypotis_1['odometer']\n",
    "X = hypotis_1['sellingprice']\n",
    "X = sm.add_constant(X)\n",
    "\n",
    "linear_model = sm.OLS(Y, X).fit()\n",
    "linear_model.summary()"
   ]
  },
  {
   "cell_type": "markdown",
   "id": "595a427c",
   "metadata": {},
   "source": [
    "R-квадрат равен 0.437 , что указывает на то, что 0.437% дисперсии odometer можно объяснить изменением sellingprice. Уравнение имеет вид <b>odometer = 3.601e+05 - 4.193e+04 * log(sellingprice)</b>"
   ]
  },
  {
   "cell_type": "markdown",
   "id": "308aa270",
   "metadata": {},
   "source": [
    "<b>Проверка на гомоскедастичность"
   ]
  },
  {
   "cell_type": "markdown",
   "id": "c76f0a0f",
   "metadata": {},
   "source": [
    "посмотрим на распределение остатков"
   ]
  },
  {
   "cell_type": "code",
   "execution_count": 81,
   "id": "3fbd27d6",
   "metadata": {},
   "outputs": [],
   "source": [
    "remains = linear_model.resid"
   ]
  },
  {
   "cell_type": "code",
   "execution_count": 82,
   "id": "78cea488",
   "metadata": {},
   "outputs": [
    {
     "data": {
      "text/plain": [
       "count    5.342640e+05\n",
       "mean     1.123556e-08\n",
       "std      3.851203e+04\n",
       "min     -2.145198e+05\n",
       "25%     -2.592659e+04\n",
       "50%     -7.321849e+03\n",
       "75%      1.863041e+04\n",
       "max      2.905238e+05\n",
       "dtype: float64"
      ]
     },
     "execution_count": 82,
     "metadata": {},
     "output_type": "execute_result"
    },
    {
     "data": {
      "image/png": "[encoded data removed]",
      "text/plain": [
       "<Figure size 640x480 with 1 Axes>"
      ]
     },
     "metadata": {},
     "output_type": "display_data"
    }
   ],
   "source": [
    "remains.hist()\n",
    "remains.describe()"
   ]
  },
  {
   "cell_type": "code",
   "execution_count": 83,
   "id": "25149ac6",
   "metadata": {},
   "outputs": [
    {
     "data": {
      "text/plain": [
       "<matplotlib.collections.PathCollection at 0x16e93bf5e10>"
      ]
     },
     "execution_count": 83,
     "metadata": {},
     "output_type": "execute_result"
    },
    {
     "data": {
      "image/png": "[encoded data removed]",
      "text/plain": [
       "<Figure size 640x480 with 1 Axes>"
      ]
     },
     "metadata": {},
     "output_type": "display_data"
    }
   ],
   "source": [
    "plt.scatter(x=remains.index, y=remains.values, alpha=0.1)"
   ]
  },
  {
   "cell_type": "markdown",
   "id": "ae1df85d",
   "metadata": {},
   "source": [
    "Проверка остатков на нормальное распределение"
   ]
  },
  {
   "cell_type": "code",
   "execution_count": 86,
   "id": "5e2eca32",
   "metadata": {},
   "outputs": [
    {
     "name": "stdout",
     "output_type": "stream",
     "text": [
      "p-value =  0.0\n",
      "у нас не достаточно оснований принять H0. Данные  НЕ распределены НОРМАЛЬНО\n"
     ]
    },
    {
     "data": {
      "image/png": "[encoded data removed]",
      "text/plain": [
       "<Figure size 640x480 with 1 Axes>"
      ]
     },
     "metadata": {},
     "output_type": "display_data"
    }
   ],
   "source": [
    "warnings.filterwarnings('ignore')\n",
    "check_for_normal(remains, print_result=True)"
   ]
  },
  {
   "cell_type": "markdown",
   "id": "558daca8",
   "metadata": {},
   "source": [
    "### Вывод. Гипотеза 1"
   ]
  },
  {
   "cell_type": "markdown",
   "id": "bc523225",
   "metadata": {},
   "source": [
    "из-за отсутсвтия нормального распредления у остатков гомоскеданстичность отсутствует, зависимость вида odometer = 3.601e+05 - 4.193e+04 * log(sellingprice)\n",
    "не подтверждена. <b>ОПРОВЕРГНУТО между пробегом (odometer) и ценой (sellingprice) НЕТУ линенйой зависимости</b>"
   ]
  },
  {
   "cell_type": "markdown",
   "id": "9058af2b",
   "metadata": {},
   "source": [
    "### Допущение по Гипотезе 1"
   ]
  },
  {
   "cell_type": "markdown",
   "id": "085dd21d",
   "metadata": {},
   "source": [
    "Пусть у нас и отсутвует гомоскеданстичность из-за чего мы не можем принять гипотезу о наличии линейной зависимости между (odometer) и ценой (sellingprice), но мы можем проверить эту гипотезу для каждой марки автомобиля. Ведь очиыидно, что например ферари с проббегом 10 000 км будет все равно стоить дороже, чем kia c пробьегом в 5 000 км. Но ферари с пробегом 15 000 км, моэет стоить дешевле, чем ферари с пробегом в 5 000 км"
   ]
  },
  {
   "cell_type": "markdown",
   "id": "535abb11",
   "metadata": {},
   "source": [
    "### Проверка допущения по гипотезе 1"
   ]
  },
  {
   "cell_type": "markdown",
   "id": "43fdd9ac",
   "metadata": {},
   "source": [
    "Разобъем автомобили на модели и для каждой моедели проверим гипотизу о наличии линейной зависимости между пробегом (odometer) и ценой (sellingprice)"
   ]
  },
  {
   "cell_type": "markdown",
   "id": "8e0c4271",
   "metadata": {},
   "source": [
    "<b> Используемые функции </b>"
   ]
  },
  {
   "cell_type": "code",
   "execution_count": 87,
   "id": "f2079f68",
   "metadata": {},
   "outputs": [],
   "source": [
    "def add_another_type(col):\n",
    "    if col not in car_models:\n",
    "        return 'another'\n",
    "    else:\n",
    "        return col"
   ]
  },
  {
   "cell_type": "markdown",
   "id": "e7c005c2",
   "metadata": {},
   "source": [
    "<b> функция подбора логарифической трансофрмации</b>"
   ]
  },
  {
   "cell_type": "code",
   "execution_count": 88,
   "id": "c62114bd",
   "metadata": {},
   "outputs": [],
   "source": [
    "def choise_log_transf(data, independent_var):\n",
    "    best_res = correlation(data[independent_var], data['sellingprice'], return_result=True)\n",
    "\n",
    "    odo_log_data = data[independent_var].apply(log_transformation)\n",
    "    price_log_data = data['sellingprice'].apply(log_transformation)\n",
    "\n",
    "    odo_result = correlation(odo_log_data, data['sellingprice'], return_result=True)\n",
    "    price_result = correlation(data[independent_var], price_log_data, return_result=True)\n",
    "    odo_price_result = correlation(odo_log_data, price_log_data, return_result=True)\n",
    "\n",
    "\n",
    "    if abs(odo_price_result['cof_correlation']) > abs(best_res['cof_correlation']) and odo_price_result['is_significant_corr']:\n",
    "        data['sellingprice'] = price_log_data\n",
    "        data[independent_var] = odo_log_data\n",
    "        best_res = odo_price_result\n",
    "        models_stat['log_transf'].append(True)\n",
    "\n",
    "    else:\n",
    "        models_stat['log_transf'].append(False)\n",
    "        \n",
    "    models_stat['corr'].append(best_res['cof_correlation'])\n",
    "    models_stat['is_significant_corr'].append(best_res['is_significant_corr'])\n",
    "    \n",
    "    return data"
   ]
  },
  {
   "cell_type": "markdown",
   "id": "0ed5d503",
   "metadata": {},
   "source": [
    "<b>функция регрессионного анализа</b>"
   ]
  },
  {
   "cell_type": "code",
   "execution_count": 89,
   "id": "5836aa4d",
   "metadata": {},
   "outputs": [],
   "source": [
    "def regression_analysis(data, independent_var):\n",
    "    Y = data['sellingprice']\n",
    "    X = data[independent_var]\n",
    "    X = sm.add_constant(X)\n",
    "\n",
    "    linear_model = sm.OLS(Y, X).fit()\n",
    "    \n",
    "    remains = linear_model.resid\n",
    "    white_test = homo_test(remains, linear_model.model.exog, return_result=True)\n",
    "    models_stat['homo'].append(white_test['homo'])\n",
    "    models_stat['white_pvalue'].append(white_test['p_value'])"
   ]
  },
  {
   "cell_type": "markdown",
   "id": "80704daa",
   "metadata": {},
   "source": [
    "### Начало анализа"
   ]
  },
  {
   "cell_type": "markdown",
   "id": "9e7d02ad",
   "metadata": {},
   "source": [
    "для постороения уравнения ргересии возьмем оптимальное минимальное количество наблюдений ранвное 100. Отберем телько те модели, где количесвто наблюдений > 100. Моделям, которых меньше 100 дадим категорию \"another\""
   ]
  },
  {
   "cell_type": "code",
   "execution_count": 90,
   "id": "044363f4",
   "metadata": {},
   "outputs": [],
   "source": [
    "warnings.filterwarnings('ignore')\n",
    "count_models = all_data['model'].value_counts()\n",
    "car_models = count_models.loc[count_models > 100].index\n",
    "assumption_hyp_1 = all_data[['model', 'odometer', 'sellingprice']]\n",
    "assumption_hyp_1['model'] = assumption_hyp_1['model'].apply(add_another_type)"
   ]
  },
  {
   "cell_type": "code",
   "execution_count": 91,
   "id": "99684edd",
   "metadata": {},
   "outputs": [],
   "source": [
    "models_stat = {'model': [],\n",
    "              'corr': [],\n",
    "              'is_significant_corr': [],\n",
    "              'log_transf': [],\n",
    "              'white_pvalue': [],\n",
    "              'homo': [],\n",
    "              'count_model':[]}"
   ]
  },
  {
   "cell_type": "code",
   "execution_count": 92,
   "id": "fb0c7b7f",
   "metadata": {},
   "outputs": [],
   "source": [
    "models = assumption_hyp_1['model'].unique()"
   ]
  },
  {
   "cell_type": "markdown",
   "id": "493e09a3",
   "metadata": {},
   "source": [
    "<b>Проведение регрессионого анализа для всех типов моделей</b>"
   ]
  },
  {
   "cell_type": "code",
   "execution_count": 93,
   "id": "0e22d472",
   "metadata": {
    "scrolled": true
   },
   "outputs": [],
   "source": [
    "warnings.filterwarnings('ignore')\n",
    "for model in models:\n",
    "    count_model = assumption_hyp_1.loc[assumption_hyp_1['model'] == model]['model'].count()\n",
    "    models_stat['count_model'].append(count_model)\n",
    "    models_stat['model'].append(model)\n",
    "    \n",
    "    model_data = assumption_hyp_1.loc[assumption_hyp_1['model'] == model]\n",
    "    model_data = choise_log_transf(model_data, 'odometer')\n",
    "    regression_analysis(model_data, 'odometer')"
   ]
  },
  {
   "cell_type": "code",
   "execution_count": 94,
   "id": "77fae169",
   "metadata": {},
   "outputs": [],
   "source": [
    "reg_analysis_results = pd.DataFrame(models_stat)"
   ]
  },
  {
   "cell_type": "markdown",
   "id": "2095d5de",
   "metadata": {},
   "source": [
    "<b>резульаты</b>"
   ]
  },
  {
   "cell_type": "code",
   "execution_count": 95,
   "id": "6ce36d94",
   "metadata": {},
   "outputs": [
    {
     "data": {
      "text/html": [
       "<div>\n",
       "<style scoped>\n",
       "    .dataframe tbody tr th:only-of-type {\n",
       "        vertical-align: middle;\n",
       "    }\n",
       "\n",
       "    .dataframe tbody tr th {\n",
       "        vertical-align: top;\n",
       "    }\n",
       "\n",
       "    .dataframe thead th {\n",
       "        text-align: right;\n",
       "    }\n",
       "</style>\n",
       "<table border=\"1\" class=\"dataframe\">\n",
       "  <thead>\n",
       "    <tr style=\"text-align: right;\">\n",
       "      <th></th>\n",
       "      <th>model</th>\n",
       "      <th>corr</th>\n",
       "      <th>is_significant_corr</th>\n",
       "      <th>log_transf</th>\n",
       "      <th>white_pvalue</th>\n",
       "      <th>homo</th>\n",
       "      <th>count_model</th>\n",
       "    </tr>\n",
       "  </thead>\n",
       "  <tbody>\n",
       "    <tr>\n",
       "      <th>0</th>\n",
       "      <td>cts</td>\n",
       "      <td>-0.737963</td>\n",
       "      <td>True</td>\n",
       "      <td>False</td>\n",
       "      <td>8.956595e-34</td>\n",
       "      <td>False</td>\n",
       "      <td>1883</td>\n",
       "    </tr>\n",
       "    <tr>\n",
       "      <th>1</th>\n",
       "      <td>savana cargo</td>\n",
       "      <td>-0.699683</td>\n",
       "      <td>True</td>\n",
       "      <td>True</td>\n",
       "      <td>1.153355e-43</td>\n",
       "      <td>False</td>\n",
       "      <td>655</td>\n",
       "    </tr>\n",
       "    <tr>\n",
       "      <th>2</th>\n",
       "      <td>murano</td>\n",
       "      <td>-0.771594</td>\n",
       "      <td>True</td>\n",
       "      <td>False</td>\n",
       "      <td>9.711974e-143</td>\n",
       "      <td>False</td>\n",
       "      <td>2847</td>\n",
       "    </tr>\n",
       "    <tr>\n",
       "      <th>3</th>\n",
       "      <td>impala</td>\n",
       "      <td>-0.671919</td>\n",
       "      <td>True</td>\n",
       "      <td>True</td>\n",
       "      <td>0.000000e+00</td>\n",
       "      <td>False</td>\n",
       "      <td>7793</td>\n",
       "    </tr>\n",
       "    <tr>\n",
       "      <th>4</th>\n",
       "      <td>titan</td>\n",
       "      <td>-0.750590</td>\n",
       "      <td>True</td>\n",
       "      <td>False</td>\n",
       "      <td>1.298501e-17</td>\n",
       "      <td>False</td>\n",
       "      <td>773</td>\n",
       "    </tr>\n",
       "    <tr>\n",
       "      <th>...</th>\n",
       "      <td>...</td>\n",
       "      <td>...</td>\n",
       "      <td>...</td>\n",
       "      <td>...</td>\n",
       "      <td>...</td>\n",
       "      <td>...</td>\n",
       "      <td>...</td>\n",
       "    </tr>\n",
       "    <tr>\n",
       "      <th>393</th>\n",
       "      <td>venture</td>\n",
       "      <td>-0.207806</td>\n",
       "      <td>True</td>\n",
       "      <td>True</td>\n",
       "      <td>1.742369e-01</td>\n",
       "      <td>True</td>\n",
       "      <td>176</td>\n",
       "    </tr>\n",
       "    <tr>\n",
       "      <th>394</th>\n",
       "      <td>g5</td>\n",
       "      <td>-0.363522</td>\n",
       "      <td>True</td>\n",
       "      <td>True</td>\n",
       "      <td>3.054280e-03</td>\n",
       "      <td>False</td>\n",
       "      <td>134</td>\n",
       "    </tr>\n",
       "    <tr>\n",
       "      <th>395</th>\n",
       "      <td>bonneville</td>\n",
       "      <td>-0.285572</td>\n",
       "      <td>True</td>\n",
       "      <td>True</td>\n",
       "      <td>5.257229e-01</td>\n",
       "      <td>True</td>\n",
       "      <td>129</td>\n",
       "    </tr>\n",
       "    <tr>\n",
       "      <th>396</th>\n",
       "      <td>montero sport</td>\n",
       "      <td>-0.298204</td>\n",
       "      <td>True</td>\n",
       "      <td>True</td>\n",
       "      <td>3.954130e-01</td>\n",
       "      <td>True</td>\n",
       "      <td>149</td>\n",
       "    </tr>\n",
       "    <tr>\n",
       "      <th>397</th>\n",
       "      <td>rl</td>\n",
       "      <td>-0.550541</td>\n",
       "      <td>True</td>\n",
       "      <td>True</td>\n",
       "      <td>2.586192e-09</td>\n",
       "      <td>False</td>\n",
       "      <td>102</td>\n",
       "    </tr>\n",
       "  </tbody>\n",
       "</table>\n",
       "<p>398 rows × 7 columns</p>\n",
       "</div>"
      ],
      "text/plain": [
       "             model      corr  is_significant_corr  log_transf   white_pvalue  \\\n",
       "0              cts -0.737963                 True       False   8.956595e-34   \n",
       "1     savana cargo -0.699683                 True        True   1.153355e-43   \n",
       "2           murano -0.771594                 True       False  9.711974e-143   \n",
       "3           impala -0.671919                 True        True   0.000000e+00   \n",
       "4            titan -0.750590                 True       False   1.298501e-17   \n",
       "..             ...       ...                  ...         ...            ...   \n",
       "393        venture -0.207806                 True        True   1.742369e-01   \n",
       "394             g5 -0.363522                 True        True   3.054280e-03   \n",
       "395     bonneville -0.285572                 True        True   5.257229e-01   \n",
       "396  montero sport -0.298204                 True        True   3.954130e-01   \n",
       "397             rl -0.550541                 True        True   2.586192e-09   \n",
       "\n",
       "      homo  count_model  \n",
       "0    False         1883  \n",
       "1    False          655  \n",
       "2    False         2847  \n",
       "3    False         7793  \n",
       "4    False          773  \n",
       "..     ...          ...  \n",
       "393   True          176  \n",
       "394  False          134  \n",
       "395   True          129  \n",
       "396   True          149  \n",
       "397  False          102  \n",
       "\n",
       "[398 rows x 7 columns]"
      ]
     },
     "execution_count": 95,
     "metadata": {},
     "output_type": "execute_result"
    }
   ],
   "source": [
    "reg_analysis_results"
   ]
  },
  {
   "cell_type": "markdown",
   "id": "065201da",
   "metadata": {},
   "source": [
    "#### Анализ результатов"
   ]
  },
  {
   "cell_type": "code",
   "execution_count": 96,
   "id": "6f73e51d",
   "metadata": {},
   "outputs": [
    {
     "data": {
      "text/plain": [
       "False    351\n",
       "True      47\n",
       "Name: homo, dtype: int64"
      ]
     },
     "execution_count": 96,
     "metadata": {},
     "output_type": "execute_result"
    }
   ],
   "source": [
    "reg_analysis_results['homo'].value_counts()"
   ]
  },
  {
   "cell_type": "markdown",
   "id": "22e3cea0",
   "metadata": {},
   "source": [
    "в большинстве случаев (87%) гомоскедастичность отсутствует."
   ]
  },
  {
   "cell_type": "code",
   "execution_count": 97,
   "id": "047bc162",
   "metadata": {
    "scrolled": true
   },
   "outputs": [
    {
     "data": {
      "text/html": [
       "<div>\n",
       "<style scoped>\n",
       "    .dataframe tbody tr th:only-of-type {\n",
       "        vertical-align: middle;\n",
       "    }\n",
       "\n",
       "    .dataframe tbody tr th {\n",
       "        vertical-align: top;\n",
       "    }\n",
       "\n",
       "    .dataframe thead th {\n",
       "        text-align: right;\n",
       "    }\n",
       "</style>\n",
       "<table border=\"1\" class=\"dataframe\">\n",
       "  <thead>\n",
       "    <tr style=\"text-align: right;\">\n",
       "      <th></th>\n",
       "      <th>model</th>\n",
       "      <th>corr</th>\n",
       "      <th>is_significant_corr</th>\n",
       "      <th>log_transf</th>\n",
       "      <th>white_pvalue</th>\n",
       "      <th>homo</th>\n",
       "      <th>count_model</th>\n",
       "    </tr>\n",
       "  </thead>\n",
       "  <tbody>\n",
       "    <tr>\n",
       "      <th>12</th>\n",
       "      <td>fiesta</td>\n",
       "      <td>-0.390778</td>\n",
       "      <td>True</td>\n",
       "      <td>False</td>\n",
       "      <td>0.092489</td>\n",
       "      <td>True</td>\n",
       "      <td>2333</td>\n",
       "    </tr>\n",
       "    <tr>\n",
       "      <th>24</th>\n",
       "      <td>alero</td>\n",
       "      <td>-0.260520</td>\n",
       "      <td>True</td>\n",
       "      <td>True</td>\n",
       "      <td>0.654742</td>\n",
       "      <td>True</td>\n",
       "      <td>123</td>\n",
       "    </tr>\n",
       "    <tr>\n",
       "      <th>61</th>\n",
       "      <td>fr-s</td>\n",
       "      <td>-0.473369</td>\n",
       "      <td>True</td>\n",
       "      <td>False</td>\n",
       "      <td>0.542069</td>\n",
       "      <td>True</td>\n",
       "      <td>161</td>\n",
       "    </tr>\n",
       "    <tr>\n",
       "      <th>93</th>\n",
       "      <td>elantra gt</td>\n",
       "      <td>-0.401571</td>\n",
       "      <td>True</td>\n",
       "      <td>False</td>\n",
       "      <td>0.382426</td>\n",
       "      <td>True</td>\n",
       "      <td>236</td>\n",
       "    </tr>\n",
       "    <tr>\n",
       "      <th>102</th>\n",
       "      <td>sonic</td>\n",
       "      <td>-0.346592</td>\n",
       "      <td>True</td>\n",
       "      <td>False</td>\n",
       "      <td>0.354226</td>\n",
       "      <td>True</td>\n",
       "      <td>1756</td>\n",
       "    </tr>\n",
       "    <tr>\n",
       "      <th>106</th>\n",
       "      <td>dart</td>\n",
       "      <td>-0.456572</td>\n",
       "      <td>True</td>\n",
       "      <td>False</td>\n",
       "      <td>0.575441</td>\n",
       "      <td>True</td>\n",
       "      <td>998</td>\n",
       "    </tr>\n",
       "    <tr>\n",
       "      <th>130</th>\n",
       "      <td>tiburon</td>\n",
       "      <td>-0.477581</td>\n",
       "      <td>True</td>\n",
       "      <td>True</td>\n",
       "      <td>0.257788</td>\n",
       "      <td>True</td>\n",
       "      <td>187</td>\n",
       "    </tr>\n",
       "    <tr>\n",
       "      <th>146</th>\n",
       "      <td>century</td>\n",
       "      <td>-0.249619</td>\n",
       "      <td>True</td>\n",
       "      <td>True</td>\n",
       "      <td>0.065851</td>\n",
       "      <td>True</td>\n",
       "      <td>200</td>\n",
       "    </tr>\n",
       "    <tr>\n",
       "      <th>147</th>\n",
       "      <td>rogue select</td>\n",
       "      <td>-0.207054</td>\n",
       "      <td>True</td>\n",
       "      <td>False</td>\n",
       "      <td>0.125494</td>\n",
       "      <td>True</td>\n",
       "      <td>128</td>\n",
       "    </tr>\n",
       "    <tr>\n",
       "      <th>155</th>\n",
       "      <td>stratus</td>\n",
       "      <td>-0.243044</td>\n",
       "      <td>True</td>\n",
       "      <td>True</td>\n",
       "      <td>0.560551</td>\n",
       "      <td>True</td>\n",
       "      <td>287</td>\n",
       "    </tr>\n",
       "  </tbody>\n",
       "</table>\n",
       "</div>"
      ],
      "text/plain": [
       "            model      corr  is_significant_corr  log_transf  white_pvalue  \\\n",
       "12         fiesta -0.390778                 True       False      0.092489   \n",
       "24          alero -0.260520                 True        True      0.654742   \n",
       "61           fr-s -0.473369                 True       False      0.542069   \n",
       "93     elantra gt -0.401571                 True       False      0.382426   \n",
       "102         sonic -0.346592                 True       False      0.354226   \n",
       "106          dart -0.456572                 True       False      0.575441   \n",
       "130       tiburon -0.477581                 True        True      0.257788   \n",
       "146       century -0.249619                 True        True      0.065851   \n",
       "147  rogue select -0.207054                 True       False      0.125494   \n",
       "155       stratus -0.243044                 True        True      0.560551   \n",
       "\n",
       "     homo  count_model  \n",
       "12   True         2333  \n",
       "24   True          123  \n",
       "61   True          161  \n",
       "93   True          236  \n",
       "102  True         1756  \n",
       "106  True          998  \n",
       "130  True          187  \n",
       "146  True          200  \n",
       "147  True          128  \n",
       "155  True          287  "
      ]
     },
     "execution_count": 97,
     "metadata": {},
     "output_type": "execute_result"
    }
   ],
   "source": [
    "reg_analysis_results.loc[reg_analysis_results['homo'] == True].head(10)"
   ]
  },
  {
   "cell_type": "code",
   "execution_count": 98,
   "id": "825c2572",
   "metadata": {
    "scrolled": true
   },
   "outputs": [
    {
     "data": {
      "text/plain": [
       "181.0"
      ]
     },
     "execution_count": 98,
     "metadata": {},
     "output_type": "execute_result"
    }
   ],
   "source": [
    "reg_analysis_results.loc[reg_analysis_results['homo'] == True]['count_model'].median()"
   ]
  },
  {
   "cell_type": "markdown",
   "id": "5648c6ba",
   "metadata": {},
   "source": [
    "Данных о моделях, где пресутствует гомоседастичность и небольшой коэфицент корреляции всреднем 181, что и говорит об малом коэфиценте корреляции. Так же у нас недостаточно оснований принять наличие хоть како-нибудь гомоскедостичности, так как выборка, где она присутсвует слишком мала"
   ]
  },
  {
   "cell_type": "markdown",
   "id": "c0717753",
   "metadata": {},
   "source": [
    "### Общий вывод по допущению о гипотезе 1"
   ]
  },
  {
   "cell_type": "markdown",
   "id": "a5c89d61",
   "metadata": {},
   "source": [
    "<b> Гипотеза 1 - ОПРОВЕРГНУТО</b><br>\n",
    "<b> Допущение по гипотезе 1  - ОПРОВЕРГНУТО</b>."
   ]
  },
  {
   "cell_type": "markdown",
   "id": "37e4f6f1",
   "metadata": {},
   "source": [
    "Допущение о том, что все-таки линейная зависимость между ценой и на автомобиль и пробегом имеется, но нужно делать попраку на модель авто, не имеется возможным принять, так как недостаточно оснований.\n",
    "1. в 87% присутвовала гетероскадастичность\n",
    "2. в случаях, когда гомоскадастичность присутвовала, данных было мало, примерно 181"
   ]
  },
  {
   "cell_type": "markdown",
   "id": "dbff01f7",
   "metadata": {},
   "source": [
    "### Гипотеза 2."
   ]
  },
  {
   "cell_type": "markdown",
   "id": "8cfedb1d",
   "metadata": {},
   "source": [
    "Между цена автомобиля линейно зависима от состояние автомобиля, но нужно делать поправку на модель авто, ведь ферари в состояниеи 5/10 может стоить дороже, чем kia состоянием 8/10"
   ]
  },
  {
   "cell_type": "markdown",
   "id": "10a6324a",
   "metadata": {},
   "source": [
    "для постороения уравнения ргересии возьмем оптимальное минимальное количество наблюдений ранвное 100. Отберем телько те модели, где количесвто наблюдений > 100. Моделям, которых меньше 100 дадим категорию \"another\""
   ]
  },
  {
   "cell_type": "code",
   "execution_count": 99,
   "id": "d7c1541d",
   "metadata": {
    "scrolled": true
   },
   "outputs": [],
   "source": [
    "warnings.filterwarnings('ignore')\n",
    "count_models = all_data['model'].value_counts()\n",
    "car_models = count_models.loc[count_models > 100].index\n",
    "hyp_2 = all_data[['model', 'condition', 'sellingprice']]\n",
    "hyp_2['model'] = assumption_hyp_1['model'].apply(add_another_type)"
   ]
  },
  {
   "cell_type": "code",
   "execution_count": 100,
   "id": "989835bf",
   "metadata": {},
   "outputs": [],
   "source": [
    "models_stat = {'model': [],\n",
    "              'corr': [],\n",
    "              'is_significant_corr': [],\n",
    "              'log_transf': [],\n",
    "              'white_pvalue': [],\n",
    "              'homo': [],\n",
    "              'count_model':[]}"
   ]
  },
  {
   "cell_type": "code",
   "execution_count": 101,
   "id": "9daf8f10",
   "metadata": {},
   "outputs": [],
   "source": [
    "models = assumption_hyp_1['model'].unique()"
   ]
  },
  {
   "cell_type": "markdown",
   "id": "3908a539",
   "metadata": {},
   "source": [
    "<b>Проведение анализа для всех типов моеделей<b>"
   ]
  },
  {
   "cell_type": "code",
   "execution_count": 102,
   "id": "6e2792b0",
   "metadata": {},
   "outputs": [],
   "source": [
    "warnings.filterwarnings('ignore')\n",
    "for model in models:\n",
    "    count_model = hyp_2.loc[assumption_hyp_1['model'] == model]['model'].count()\n",
    "    models_stat['count_model'].append(count_model)\n",
    "    models_stat['model'].append(model)\n",
    "    \n",
    "    model_data = hyp_2.loc[assumption_hyp_1['model'] == model]\n",
    "    model_data = choise_log_transf(model_data, 'condition')\n",
    "    regression_analysis(model_data, 'condition')"
   ]
  },
  {
   "cell_type": "code",
   "execution_count": 103,
   "id": "11b11786",
   "metadata": {},
   "outputs": [],
   "source": [
    "reg_analysis_results = pd.DataFrame(models_stat)"
   ]
  },
  {
   "cell_type": "markdown",
   "id": "45738ddc",
   "metadata": {},
   "source": [
    "<b>Резултаты<b>"
   ]
  },
  {
   "cell_type": "code",
   "execution_count": 104,
   "id": "c8e962f4",
   "metadata": {
    "scrolled": true
   },
   "outputs": [
    {
     "data": {
      "text/html": [
       "<div>\n",
       "<style scoped>\n",
       "    .dataframe tbody tr th:only-of-type {\n",
       "        vertical-align: middle;\n",
       "    }\n",
       "\n",
       "    .dataframe tbody tr th {\n",
       "        vertical-align: top;\n",
       "    }\n",
       "\n",
       "    .dataframe thead th {\n",
       "        text-align: right;\n",
       "    }\n",
       "</style>\n",
       "<table border=\"1\" class=\"dataframe\">\n",
       "  <thead>\n",
       "    <tr style=\"text-align: right;\">\n",
       "      <th></th>\n",
       "      <th>model</th>\n",
       "      <th>corr</th>\n",
       "      <th>is_significant_corr</th>\n",
       "      <th>log_transf</th>\n",
       "      <th>white_pvalue</th>\n",
       "      <th>homo</th>\n",
       "      <th>count_model</th>\n",
       "    </tr>\n",
       "  </thead>\n",
       "  <tbody>\n",
       "    <tr>\n",
       "      <th>0</th>\n",
       "      <td>cts</td>\n",
       "      <td>0.553564</td>\n",
       "      <td>True</td>\n",
       "      <td>False</td>\n",
       "      <td>5.087457e-03</td>\n",
       "      <td>False</td>\n",
       "      <td>1883</td>\n",
       "    </tr>\n",
       "    <tr>\n",
       "      <th>1</th>\n",
       "      <td>savana cargo</td>\n",
       "      <td>0.513028</td>\n",
       "      <td>True</td>\n",
       "      <td>True</td>\n",
       "      <td>2.836539e-47</td>\n",
       "      <td>False</td>\n",
       "      <td>655</td>\n",
       "    </tr>\n",
       "    <tr>\n",
       "      <th>2</th>\n",
       "      <td>murano</td>\n",
       "      <td>0.603824</td>\n",
       "      <td>True</td>\n",
       "      <td>False</td>\n",
       "      <td>1.404193e-01</td>\n",
       "      <td>True</td>\n",
       "      <td>2847</td>\n",
       "    </tr>\n",
       "    <tr>\n",
       "      <th>3</th>\n",
       "      <td>impala</td>\n",
       "      <td>0.480620</td>\n",
       "      <td>True</td>\n",
       "      <td>True</td>\n",
       "      <td>4.712341e-246</td>\n",
       "      <td>False</td>\n",
       "      <td>7793</td>\n",
       "    </tr>\n",
       "    <tr>\n",
       "      <th>4</th>\n",
       "      <td>titan</td>\n",
       "      <td>0.648545</td>\n",
       "      <td>True</td>\n",
       "      <td>False</td>\n",
       "      <td>2.151878e-03</td>\n",
       "      <td>False</td>\n",
       "      <td>773</td>\n",
       "    </tr>\n",
       "    <tr>\n",
       "      <th>...</th>\n",
       "      <td>...</td>\n",
       "      <td>...</td>\n",
       "      <td>...</td>\n",
       "      <td>...</td>\n",
       "      <td>...</td>\n",
       "      <td>...</td>\n",
       "      <td>...</td>\n",
       "    </tr>\n",
       "    <tr>\n",
       "      <th>393</th>\n",
       "      <td>venture</td>\n",
       "      <td>0.266710</td>\n",
       "      <td>True</td>\n",
       "      <td>True</td>\n",
       "      <td>3.812012e-01</td>\n",
       "      <td>True</td>\n",
       "      <td>176</td>\n",
       "    </tr>\n",
       "    <tr>\n",
       "      <th>394</th>\n",
       "      <td>g5</td>\n",
       "      <td>0.048578</td>\n",
       "      <td>False</td>\n",
       "      <td>False</td>\n",
       "      <td>6.276196e-02</td>\n",
       "      <td>True</td>\n",
       "      <td>134</td>\n",
       "    </tr>\n",
       "    <tr>\n",
       "      <th>395</th>\n",
       "      <td>bonneville</td>\n",
       "      <td>0.436292</td>\n",
       "      <td>True</td>\n",
       "      <td>True</td>\n",
       "      <td>9.730533e-02</td>\n",
       "      <td>True</td>\n",
       "      <td>129</td>\n",
       "    </tr>\n",
       "    <tr>\n",
       "      <th>396</th>\n",
       "      <td>montero sport</td>\n",
       "      <td>0.258031</td>\n",
       "      <td>True</td>\n",
       "      <td>True</td>\n",
       "      <td>1.646326e-02</td>\n",
       "      <td>False</td>\n",
       "      <td>149</td>\n",
       "    </tr>\n",
       "    <tr>\n",
       "      <th>397</th>\n",
       "      <td>rl</td>\n",
       "      <td>0.363574</td>\n",
       "      <td>True</td>\n",
       "      <td>True</td>\n",
       "      <td>2.237524e-03</td>\n",
       "      <td>False</td>\n",
       "      <td>102</td>\n",
       "    </tr>\n",
       "  </tbody>\n",
       "</table>\n",
       "<p>398 rows × 7 columns</p>\n",
       "</div>"
      ],
      "text/plain": [
       "             model      corr  is_significant_corr  log_transf   white_pvalue  \\\n",
       "0              cts  0.553564                 True       False   5.087457e-03   \n",
       "1     savana cargo  0.513028                 True        True   2.836539e-47   \n",
       "2           murano  0.603824                 True       False   1.404193e-01   \n",
       "3           impala  0.480620                 True        True  4.712341e-246   \n",
       "4            titan  0.648545                 True       False   2.151878e-03   \n",
       "..             ...       ...                  ...         ...            ...   \n",
       "393        venture  0.266710                 True        True   3.812012e-01   \n",
       "394             g5  0.048578                False       False   6.276196e-02   \n",
       "395     bonneville  0.436292                 True        True   9.730533e-02   \n",
       "396  montero sport  0.258031                 True        True   1.646326e-02   \n",
       "397             rl  0.363574                 True        True   2.237524e-03   \n",
       "\n",
       "      homo  count_model  \n",
       "0    False         1883  \n",
       "1    False          655  \n",
       "2     True         2847  \n",
       "3    False         7793  \n",
       "4    False          773  \n",
       "..     ...          ...  \n",
       "393   True          176  \n",
       "394   True          134  \n",
       "395   True          129  \n",
       "396  False          149  \n",
       "397  False          102  \n",
       "\n",
       "[398 rows x 7 columns]"
      ]
     },
     "execution_count": 104,
     "metadata": {},
     "output_type": "execute_result"
    }
   ],
   "source": [
    "reg_analysis_results"
   ]
  },
  {
   "cell_type": "markdown",
   "id": "7f50398a",
   "metadata": {},
   "source": [
    "<b> Анализ результатов <b>"
   ]
  },
  {
   "cell_type": "code",
   "execution_count": 105,
   "id": "27f51a5c",
   "metadata": {},
   "outputs": [
    {
     "data": {
      "text/plain": [
       "False    330\n",
       "True      68\n",
       "Name: homo, dtype: int64"
      ]
     },
     "execution_count": 105,
     "metadata": {},
     "output_type": "execute_result"
    }
   ],
   "source": [
    "reg_analysis_results['homo'].value_counts()"
   ]
  },
  {
   "cell_type": "markdown",
   "id": "932d9ee4",
   "metadata": {},
   "source": [
    "в большинстве случаев (85%) гомоскедастичность отсутствует."
   ]
  },
  {
   "cell_type": "code",
   "execution_count": 106,
   "id": "4ceadc37",
   "metadata": {},
   "outputs": [
    {
     "data": {
      "text/plain": [
       "197.0"
      ]
     },
     "execution_count": 106,
     "metadata": {},
     "output_type": "execute_result"
    }
   ],
   "source": [
    "reg_analysis_results.loc[reg_analysis_results['homo'] == True]['count_model'].median()"
   ]
  },
  {
   "cell_type": "markdown",
   "id": "7a39c935",
   "metadata": {},
   "source": [
    "Данных о моделях, где пресутствует гомоседастичность и небольшой коэфицент корреляции, всреднем 197, что и говорит об малом коэфиценте корреляции. Так же у нас недостаточно оснований принять наличие хоть како-нибудь гомоскедостичности, так как выборка, где она присутсвует слишком мала"
   ]
  },
  {
   "cell_type": "markdown",
   "id": "01c8c409",
   "metadata": {},
   "source": [
    "### Вывод по гипотезе 2"
   ]
  },
  {
   "cell_type": "markdown",
   "id": "f9ce4bef",
   "metadata": {},
   "source": [
    "<b> Гипотеза 2 - ОПРОВЕРГНУТО</b><br>\n",
    "Допущение о том, что все-таки линейная зависимость между ценой и на автомобиль и его состоянием имеется, но нужно делать попраку на модель авто, не имеется возможным принять, так как недостаточно оснований.\n",
    "1. в 87% присутвовала гетероскадастичность\n",
    "2. в случаях, когда гомоскадастичность присутвовала, данных было мало, примерно 181"
   ]
  },
  {
   "cell_type": "markdown",
   "id": "932f3717",
   "metadata": {},
   "source": [
    "### Проверка гипотеза 3. "
   ]
  },
  {
   "cell_type": "markdown",
   "id": "d4b839d1",
   "metadata": {},
   "source": [
    "состояние (condition), пробег (odometer) и возраст автомобиля (car_age) влияют на ценой (sellingprice) и их зависимоть можно описать линейным уравнением вида <b>sellingprice = b0 + b1 * odometer + b2 * car_age + b3 * condition.</b> Но стоит делать поправку на модель автомобиля</b>"
   ]
  },
  {
   "cell_type": "markdown",
   "id": "aeb5e07a",
   "metadata": {},
   "source": [
    "для постороения уравнения ргересии возьмем оптимальное минимальное количество наблюдений ранвное 100. Отберем телько те модели, где количесвто наблюдений > 100. Моделям, которых меньше 100 дадим категорию \"another\""
   ]
  },
  {
   "cell_type": "markdown",
   "id": "19c93720",
   "metadata": {},
   "source": [
    "##### Используемые функции"
   ]
  },
  {
   "cell_type": "code",
   "execution_count": 107,
   "id": "7c652c9e",
   "metadata": {},
   "outputs": [],
   "source": [
    "def found_remains(model, X, Y):\n",
    "    return model.predict(X) - Y"
   ]
  },
  {
   "cell_type": "markdown",
   "id": "3e37f0ba",
   "metadata": {},
   "source": [
    "##### матрица корреляций"
   ]
  },
  {
   "cell_type": "code",
   "execution_count": 108,
   "id": "6fc83ff3",
   "metadata": {},
   "outputs": [],
   "source": [
    "def correlation_matrix(colums_1, columns_2):\n",
    "    corr_matrix = {'name_1': [],\n",
    "                   'name_2': [],\n",
    "                  'correlation': [],\n",
    "                  'is_significant_corr': []}\n",
    "\n",
    "    for col_1 in colums_1:\n",
    "        for col_2 in columns_2:\n",
    "            result = correlation(model_data[col_1], model_data[col_2], return_result=True)\n",
    "            corr_matrix['name_1'].append(col_1)\n",
    "            corr_matrix['name_2'].append(col_2)\n",
    "            corr_matrix['correlation'].append(result['cof_correlation'])\n",
    "            corr_matrix['is_significant_corr'].append(result['is_significant_corr'])\n",
    "            \n",
    "    return corr_matrix"
   ]
  },
  {
   "cell_type": "markdown",
   "id": "36b7079a",
   "metadata": {},
   "source": [
    "##### нахождение мультиколлиниарности"
   ]
  },
  {
   "cell_type": "code",
   "execution_count": 109,
   "id": "268a4c91",
   "metadata": {
    "scrolled": false
   },
   "outputs": [],
   "source": [
    "def found_multicollinarity(data):\n",
    "    multicollinarity_vars = {'name_1': [],\n",
    "                           'name_2': []}\n",
    "    \n",
    "    mult = False\n",
    "    \n",
    "    for i in range(len(data['name_1'])):\n",
    "        if (data['name_1'][i] != data['name_2'][i]) and data['correlation'][i] > 0.75 and data['is_significant_corr']:\n",
    "            multicollinarity_vars['name_1'].append(data['name_1'][i])\n",
    "            multicollinarity_vars['name_2'].append(data['name_2'][i])\n",
    "            mult = True\n",
    "            \n",
    "        \n",
    "    result_analysis['mult'].append(mult)        \n",
    "    return multicollinarity_vars"
   ]
  },
  {
   "cell_type": "markdown",
   "id": "d352e512",
   "metadata": {},
   "source": [
    "##### удаление мультиколлиниарности"
   ]
  },
  {
   "cell_type": "code",
   "execution_count": 110,
   "id": "abfaa4fa",
   "metadata": {},
   "outputs": [],
   "source": [
    "def del_multicollinarity(data, X):\n",
    "    if len(data['name_1']) != 0:\n",
    "        multicollinarity_col = data['name_1'][1]\n",
    "        X = X.drop(columns=multicollinarity_col, axis=1)"
   ]
  },
  {
   "cell_type": "markdown",
   "id": "9abc50ef",
   "metadata": {},
   "source": [
    "##### нахождение корреляции "
   ]
  },
  {
   "cell_type": "code",
   "execution_count": 111,
   "id": "8bfe659b",
   "metadata": {},
   "outputs": [],
   "source": [
    "def corr_Y_X(X, Y, X_col):\n",
    "    for col in X_col:\n",
    "        res = correlation(X[col], Y, return_result=True)\n",
    "        result_analysis[col].append(res['cof_correlation'])\n",
    "        result_analysis[col + '_stat'].append(res['is_significant_corr'])"
   ]
  },
  {
   "cell_type": "markdown",
   "id": "e79eef69",
   "metadata": {},
   "source": [
    "##### построение регресии"
   ]
  },
  {
   "cell_type": "code",
   "execution_count": 112,
   "id": "e107b161",
   "metadata": {},
   "outputs": [],
   "source": [
    "def regration_analysis_2(X, Y):\n",
    "    regration_model = LinearRegression().fit(X, Y)\n",
    "    remains = found_remains(regration_model, X, Y)\n",
    "    result = check_for_normal(remains, return_result=True)\n",
    "    if result['is_normal_distribution']:\n",
    "        result_analysis['remains_norm_dist'].append(True)\n",
    "    else:\n",
    "        result_analysis['remains_norm_dist'].append(False)"
   ]
  },
  {
   "cell_type": "code",
   "execution_count": 113,
   "id": "e9eed623",
   "metadata": {},
   "outputs": [],
   "source": [
    "warnings.filterwarnings('ignore')\n",
    "count_models = all_data['model'].value_counts()\n",
    "car_models = count_models.loc[count_models > 100].index\n",
    "hyp_3 = all_data[['sellingprice', 'odometer', 'car_age', 'condition', 'model']]\n",
    "hyp_3['model'] = assumption_hyp_1['model'].apply(add_another_type)"
   ]
  },
  {
   "cell_type": "code",
   "execution_count": 114,
   "id": "71465177",
   "metadata": {},
   "outputs": [],
   "source": [
    "result_analysis = {\n",
    "    'model': [],\n",
    "    'odometer':[],\n",
    "    'odometer_stat':[],\n",
    "    'car_age': [],\n",
    "    'car_age_stat':[],\n",
    "    'condition':[],\n",
    "    'condition_stat':[],\n",
    "    'mult': [],\n",
    "    'remains_norm_dist': [],\n",
    "    'count_model':[]\n",
    "}"
   ]
  },
  {
   "cell_type": "code",
   "execution_count": 115,
   "id": "9884c5c4",
   "metadata": {},
   "outputs": [],
   "source": [
    "models = assumption_hyp_1['model'].unique()"
   ]
  },
  {
   "cell_type": "markdown",
   "id": "658a4343",
   "metadata": {},
   "source": [
    "<b> Проведение анализа для каждой модели авто <b>"
   ]
  },
  {
   "cell_type": "code",
   "execution_count": 116,
   "id": "ebcf24f8",
   "metadata": {
    "scrolled": true
   },
   "outputs": [],
   "source": [
    "warnings.filterwarnings('ignore')\n",
    "for model in models:    \n",
    "    model_data = hyp_3.loc[assumption_hyp_1['model'] == model]\n",
    "    result_analysis['model'].append(model)\n",
    "    count_model = hyp_3.loc[hyp_3['model'] == model]['model'].count()\n",
    "    result_analysis['count_model'].append(count_model)\n",
    "    \n",
    "    X = model_data[['odometer', 'car_age', 'condition']]\n",
    "    Y = model_data['sellingprice']\n",
    "\n",
    "    corr_matrix = correlation_matrix(['odometer', 'car_age', 'condition'], ['odometer', 'car_age', 'condition'])\n",
    "    corr_Y_X(X, Y, ['odometer', 'car_age', 'condition'])\n",
    "    found_mult_result = found_multicollinarity(corr_matrix)\n",
    "    \n",
    "    del_multicollinarity(found_mult_result, X)\n",
    "\n",
    "    regration_analysis_2(X, Y)"
   ]
  },
  {
   "cell_type": "code",
   "execution_count": 117,
   "id": "e572926a",
   "metadata": {},
   "outputs": [],
   "source": [
    "result_analysis_frame = pd.DataFrame(result_analysis)"
   ]
  },
  {
   "cell_type": "markdown",
   "id": "6c11ab26",
   "metadata": {},
   "source": [
    "<b> Результаты <b>"
   ]
  },
  {
   "cell_type": "code",
   "execution_count": 118,
   "id": "23b194e0",
   "metadata": {
    "scrolled": false
   },
   "outputs": [
    {
     "data": {
      "text/html": [
       "<div>\n",
       "<style scoped>\n",
       "    .dataframe tbody tr th:only-of-type {\n",
       "        vertical-align: middle;\n",
       "    }\n",
       "\n",
       "    .dataframe tbody tr th {\n",
       "        vertical-align: top;\n",
       "    }\n",
       "\n",
       "    .dataframe thead th {\n",
       "        text-align: right;\n",
       "    }\n",
       "</style>\n",
       "<table border=\"1\" class=\"dataframe\">\n",
       "  <thead>\n",
       "    <tr style=\"text-align: right;\">\n",
       "      <th></th>\n",
       "      <th>model</th>\n",
       "      <th>odometer</th>\n",
       "      <th>odometer_stat</th>\n",
       "      <th>car_age</th>\n",
       "      <th>car_age_stat</th>\n",
       "      <th>condition</th>\n",
       "      <th>condition_stat</th>\n",
       "      <th>mult</th>\n",
       "      <th>remains_norm_dist</th>\n",
       "      <th>count_model</th>\n",
       "    </tr>\n",
       "  </thead>\n",
       "  <tbody>\n",
       "    <tr>\n",
       "      <th>0</th>\n",
       "      <td>cts</td>\n",
       "      <td>-0.737963</td>\n",
       "      <td>True</td>\n",
       "      <td>-0.795884</td>\n",
       "      <td>True</td>\n",
       "      <td>0.553564</td>\n",
       "      <td>True</td>\n",
       "      <td>False</td>\n",
       "      <td>False</td>\n",
       "      <td>1883</td>\n",
       "    </tr>\n",
       "    <tr>\n",
       "      <th>1</th>\n",
       "      <td>savana cargo</td>\n",
       "      <td>-0.653659</td>\n",
       "      <td>True</td>\n",
       "      <td>-0.653469</td>\n",
       "      <td>True</td>\n",
       "      <td>0.428454</td>\n",
       "      <td>True</td>\n",
       "      <td>True</td>\n",
       "      <td>False</td>\n",
       "      <td>655</td>\n",
       "    </tr>\n",
       "    <tr>\n",
       "      <th>2</th>\n",
       "      <td>murano</td>\n",
       "      <td>-0.771594</td>\n",
       "      <td>True</td>\n",
       "      <td>-0.790215</td>\n",
       "      <td>True</td>\n",
       "      <td>0.603824</td>\n",
       "      <td>True</td>\n",
       "      <td>True</td>\n",
       "      <td>False</td>\n",
       "      <td>2847</td>\n",
       "    </tr>\n",
       "    <tr>\n",
       "      <th>3</th>\n",
       "      <td>impala</td>\n",
       "      <td>-0.669445</td>\n",
       "      <td>True</td>\n",
       "      <td>-0.632590</td>\n",
       "      <td>True</td>\n",
       "      <td>0.446752</td>\n",
       "      <td>True</td>\n",
       "      <td>True</td>\n",
       "      <td>False</td>\n",
       "      <td>7793</td>\n",
       "    </tr>\n",
       "    <tr>\n",
       "      <th>4</th>\n",
       "      <td>titan</td>\n",
       "      <td>-0.750590</td>\n",
       "      <td>True</td>\n",
       "      <td>-0.772647</td>\n",
       "      <td>True</td>\n",
       "      <td>0.648545</td>\n",
       "      <td>True</td>\n",
       "      <td>False</td>\n",
       "      <td>False</td>\n",
       "      <td>773</td>\n",
       "    </tr>\n",
       "    <tr>\n",
       "      <th>...</th>\n",
       "      <td>...</td>\n",
       "      <td>...</td>\n",
       "      <td>...</td>\n",
       "      <td>...</td>\n",
       "      <td>...</td>\n",
       "      <td>...</td>\n",
       "      <td>...</td>\n",
       "      <td>...</td>\n",
       "      <td>...</td>\n",
       "      <td>...</td>\n",
       "    </tr>\n",
       "    <tr>\n",
       "      <th>393</th>\n",
       "      <td>venture</td>\n",
       "      <td>-0.050593</td>\n",
       "      <td>False</td>\n",
       "      <td>-0.003237</td>\n",
       "      <td>False</td>\n",
       "      <td>0.096330</td>\n",
       "      <td>False</td>\n",
       "      <td>False</td>\n",
       "      <td>False</td>\n",
       "      <td>176</td>\n",
       "    </tr>\n",
       "    <tr>\n",
       "      <th>394</th>\n",
       "      <td>g5</td>\n",
       "      <td>-0.207510</td>\n",
       "      <td>True</td>\n",
       "      <td>-0.174127</td>\n",
       "      <td>True</td>\n",
       "      <td>0.048578</td>\n",
       "      <td>False</td>\n",
       "      <td>False</td>\n",
       "      <td>False</td>\n",
       "      <td>134</td>\n",
       "    </tr>\n",
       "    <tr>\n",
       "      <th>395</th>\n",
       "      <td>bonneville</td>\n",
       "      <td>-0.104490</td>\n",
       "      <td>False</td>\n",
       "      <td>-0.039908</td>\n",
       "      <td>False</td>\n",
       "      <td>0.280050</td>\n",
       "      <td>True</td>\n",
       "      <td>False</td>\n",
       "      <td>False</td>\n",
       "      <td>129</td>\n",
       "    </tr>\n",
       "    <tr>\n",
       "      <th>396</th>\n",
       "      <td>montero sport</td>\n",
       "      <td>-0.137885</td>\n",
       "      <td>False</td>\n",
       "      <td>-0.019094</td>\n",
       "      <td>False</td>\n",
       "      <td>0.128165</td>\n",
       "      <td>False</td>\n",
       "      <td>False</td>\n",
       "      <td>False</td>\n",
       "      <td>149</td>\n",
       "    </tr>\n",
       "    <tr>\n",
       "      <th>397</th>\n",
       "      <td>rl</td>\n",
       "      <td>-0.535465</td>\n",
       "      <td>True</td>\n",
       "      <td>-0.620593</td>\n",
       "      <td>True</td>\n",
       "      <td>0.340738</td>\n",
       "      <td>True</td>\n",
       "      <td>False</td>\n",
       "      <td>False</td>\n",
       "      <td>102</td>\n",
       "    </tr>\n",
       "  </tbody>\n",
       "</table>\n",
       "<p>398 rows × 10 columns</p>\n",
       "</div>"
      ],
      "text/plain": [
       "             model  odometer  odometer_stat   car_age  car_age_stat  \\\n",
       "0              cts -0.737963           True -0.795884          True   \n",
       "1     savana cargo -0.653659           True -0.653469          True   \n",
       "2           murano -0.771594           True -0.790215          True   \n",
       "3           impala -0.669445           True -0.632590          True   \n",
       "4            titan -0.750590           True -0.772647          True   \n",
       "..             ...       ...            ...       ...           ...   \n",
       "393        venture -0.050593          False -0.003237         False   \n",
       "394             g5 -0.207510           True -0.174127          True   \n",
       "395     bonneville -0.104490          False -0.039908         False   \n",
       "396  montero sport -0.137885          False -0.019094         False   \n",
       "397             rl -0.535465           True -0.620593          True   \n",
       "\n",
       "     condition  condition_stat   mult  remains_norm_dist  count_model  \n",
       "0     0.553564            True  False              False         1883  \n",
       "1     0.428454            True   True              False          655  \n",
       "2     0.603824            True   True              False         2847  \n",
       "3     0.446752            True   True              False         7793  \n",
       "4     0.648545            True  False              False          773  \n",
       "..         ...             ...    ...                ...          ...  \n",
       "393   0.096330           False  False              False          176  \n",
       "394   0.048578           False  False              False          134  \n",
       "395   0.280050            True  False              False          129  \n",
       "396   0.128165           False  False              False          149  \n",
       "397   0.340738            True  False              False          102  \n",
       "\n",
       "[398 rows x 10 columns]"
      ]
     },
     "execution_count": 118,
     "metadata": {},
     "output_type": "execute_result"
    }
   ],
   "source": [
    "result_analysis_frame"
   ]
  },
  {
   "cell_type": "markdown",
   "id": "351679bc",
   "metadata": {},
   "source": [
    "<b> Анализ результатов<b>"
   ]
  },
  {
   "cell_type": "code",
   "execution_count": 119,
   "id": "fe625983",
   "metadata": {},
   "outputs": [
    {
     "data": {
      "text/plain": [
       "False    392\n",
       "True       6\n",
       "Name: remains_norm_dist, dtype: int64"
      ]
     },
     "execution_count": 119,
     "metadata": {},
     "output_type": "execute_result"
    }
   ],
   "source": [
    "result_analysis_frame['remains_norm_dist'].value_counts()"
   ]
  },
  {
   "cell_type": "markdown",
   "id": "d0ace1b1",
   "metadata": {},
   "source": [
    "только в 1% случаев остатки были распредлены нормально."
   ]
  },
  {
   "cell_type": "markdown",
   "id": "0029e764",
   "metadata": {},
   "source": [
    "Медианное значения корреляциий"
   ]
  },
  {
   "cell_type": "code",
   "execution_count": 120,
   "id": "efee41d2",
   "metadata": {
    "scrolled": true
   },
   "outputs": [
    {
     "name": "stdout",
     "output_type": "stream",
     "text": [
      "Медианное значение корреляции, odometer  и \"sellingprice\":  -0.577771458207575\n",
      "Медианное значение корреляции, car_age  и \"sellingprice\":  -0.5515212534709244\n",
      "Медианное значение корреляции, condition  и \"sellingprice\":  0.4123325441284204\n"
     ]
    }
   ],
   "source": [
    "for var in ['odometer', 'car_age', 'condition']:\n",
    "    print('Медианное значение корреляции,', var, ' и \"sellingprice\": ', result_analysis_frame[var].median())"
   ]
  },
  {
   "cell_type": "markdown",
   "id": "8ccad9ce",
   "metadata": {},
   "source": [
    "корреляции odometer и car_age с sellingprice примерно одинаковые. Корреляции очень низкие, что говорит о слабой зависимости "
   ]
  },
  {
   "cell_type": "code",
   "execution_count": 121,
   "id": "d6b697bd",
   "metadata": {
    "scrolled": true
   },
   "outputs": [
    {
     "name": "stdout",
     "output_type": "stream",
     "text": [
      "=========== odometer_stat ============\n",
      "True     374\n",
      "False     24\n",
      "Name: odometer_stat, dtype: int64\n",
      "=========== car_age_stat ============\n",
      "True     343\n",
      "False     55\n",
      "Name: car_age_stat, dtype: int64\n",
      "=========== condition_stat ============\n",
      "True     360\n",
      "False     38\n",
      "Name: condition_stat, dtype: int64\n"
     ]
    }
   ],
   "source": [
    "for var in ['odometer_stat', 'car_age_stat', 'condition_stat']:\n",
    "    print('===========', var, '============')\n",
    "    print(result_analysis_frame[var].value_counts())"
   ]
  },
  {
   "cell_type": "markdown",
   "id": "fffb3c90",
   "metadata": {},
   "source": [
    "в большинстве случаев, коэйифенты корреляция c sellingprice статистически значимы"
   ]
  },
  {
   "cell_type": "code",
   "execution_count": 122,
   "id": "f630439e",
   "metadata": {
    "scrolled": true
   },
   "outputs": [
    {
     "data": {
      "text/plain": [
       "False    263\n",
       "True     135\n",
       "Name: mult, dtype: int64"
      ]
     },
     "execution_count": 122,
     "metadata": {},
     "output_type": "execute_result"
    }
   ],
   "source": [
    "result_analysis_frame['mult'].value_counts()"
   ]
  },
  {
   "cell_type": "markdown",
   "id": "6bf5c868",
   "metadata": {},
   "source": [
    "в 33% случаев была мультиколлиниарность. Скорее всего, это между car_age и odometer"
   ]
  },
  {
   "cell_type": "markdown",
   "id": "27bedc9e",
   "metadata": {},
   "source": [
    "<b>Проверим наличие мульиколлиниарнсоти между odometer и condition во общих данных</b>"
   ]
  },
  {
   "cell_type": "code",
   "execution_count": 123,
   "id": "5ea48cf6",
   "metadata": {
    "scrolled": false
   },
   "outputs": [
    {
     "name": "stdout",
     "output_type": "stream",
     "text": [
      "======= correalation condition with car_age  ======\n",
      "coef correlation =  -0.5390712980962913\n",
      "p-value = 0.0\n",
      "стaтистически значемый коэфицент\n",
      "====================================================\n",
      "======= correalation condition with condition  ======\n",
      "coef correlation =  0.999999999999999\n",
      "p-value = 0.0\n",
      "стaтистически значемый коэфицент\n",
      "====================================================\n",
      "======= correalation odometer with car_age  ======\n",
      "coef correlation =  0.7987505792691068\n",
      "p-value = 0.0\n",
      "стaтистически значемый коэфицент\n",
      "====================================================\n",
      "======= correalation odometer with condition  ======\n",
      "coef correlation =  -0.5436590462420671\n",
      "p-value = 0.0\n",
      "стaтистически значемый коэфицент\n",
      "====================================================\n",
      "======= correalation car_age with car_age  ======\n",
      "coef correlation =  1.0\n",
      "p-value = 0.0\n",
      "стaтистически значемый коэфицент\n",
      "====================================================\n",
      "======= correalation car_age with condition  ======\n",
      "coef correlation =  -0.5390712980962913\n",
      "p-value = 0.0\n",
      "стaтистически значемый коэфицент\n",
      "====================================================\n"
     ]
    }
   ],
   "source": [
    "for col_1 in ['condition', 'odometer', 'car_age']:\n",
    "    for col_2 in ['car_age', 'condition']:\n",
    "        print('======= correalation', col_1, 'with', col_2,' ======')\n",
    "        correlation(all_data[col_1], all_data[col_2], print_result=True)\n",
    "        print('====================================================')"
   ]
  },
  {
   "cell_type": "markdown",
   "id": "142248ce",
   "metadata": {},
   "source": [
    "car_age и odometer имеют статистически значммы и выской коэфицент корреляции - 80%, что говрит о <b>наличие мультиколлиниарнсоти в общих данных</b>"
   ]
  },
  {
   "cell_type": "markdown",
   "id": "27169b7f",
   "metadata": {},
   "source": [
    "### Вывод по гипотезе 3\n",
    "состояние (condition), пробег (odometer) и возраст автомобиля (car_age) влияют на ценой (sellingprice) и их зависимоть можно описать линейным уравнением вида <b>sellingprice = b0 + b1 * odometer + b2 * car_age + b3 * condition.</b> Но стоит делать поправку на модель автомобиля</b>"
   ]
  },
  {
   "cell_type": "markdown",
   "id": "82beff0e",
   "metadata": {},
   "source": [
    "1. Отсутсвие нормального распредления остатков, говорит о том, что коэфиценты регресси b0..b3 являются смещенныим,что моежет говорить либо об отсутсвие линейной зависимости, либо о сильных выбросах. \n",
    "2. Mедианное значение коэфицентов корреляции для odometer, car_age, condition слишком низкое: -57, -55. -41 соответсвенно, что также говрит о слабой линейной зависимости с sellingprice.\n",
    "3. Так же, отсутвия в python пакетов со статистическими тестами для проверки множественной ргересии на гетероскадстичность и невозможност провести данные тесте не дает основания для принятие гипотизы и линейно зависимости вида sellingprice = b0 + b1 * odometer + b2 * car_age + b3 * condition\n",
    "4. в 33% в случаев была мультиколлиниарность\n",
    "5. только в 1% случаев остатки были распредлены нормально.<br>\n",
    "<b> У нас не достаточно оснований для принятия гипотезы 3</b>"
   ]
  },
  {
   "cell_type": "markdown",
   "id": "1bb09a5a",
   "metadata": {},
   "source": [
    "# Общий вывод по исследовательскому анализу "
   ]
  },
  {
   "cell_type": "markdown",
   "id": "eff1eefc",
   "metadata": {},
   "source": [
    "1. Линейной зависимости между пробегом(odometer) и ценой (sellingprice) нету, точно так же, как и между состоянием (condition) и ценой, даже несмотря на допущение о том, что нужно учитывать модель автомобиля. Возможно имеется другая, не линейная свзяь\n",
    "2. У нас не имеется достаточных онсований для описания зависимости цены вида sellingprice = b0 + b1 * odometer + b2 * car_age + b3 * condition\n",
    "3. В данных общих данных была найдена мультиколлиниарнсоть между car_age и odometer.\n",
    "4. Были рассмотренны переменные которые больше моугт влять на цену и значений которых достаточно для проведения анлиза, а именно odometer, age_year, condition, model.\n",
    "5. На основе экспертного подхода был сдела вывод, что такие переменные, как trim, body, seller, inetrior, state, color, make никак не влияют или вляют оченб слабо на цену\n",
    "\n",
    "<b> У нас недостаточно оснований для утверждения, что между зависимой переменной sellingprice и объясняющими переменными имеется линенйая зависиомсть, которую можно описать регрессионным уравнением.</b> Вследствии чего, для для дальнейшей модели описания данных в предиктивной аналитике будут использоваться нелинейные модели"
   ]
  },
  {
   "cell_type": "markdown",
   "id": "7ba16ce5",
   "metadata": {},
   "source": [
    "# 2. Предиктивная аналитика"
   ]
  },
  {
   "cell_type": "markdown",
   "id": "6637dfe4",
   "metadata": {},
   "source": [
    "##### Используемые функции"
   ]
  },
  {
   "cell_type": "markdown",
   "id": "3297e739",
   "metadata": {},
   "source": [
    "##### кодирование данных"
   ]
  },
  {
   "cell_type": "code",
   "execution_count": 101,
   "id": "949cb210",
   "metadata": {},
   "outputs": [],
   "source": [
    "def ordinal_encoding(X_train, X_test, X_categorical):    \n",
    "    encoder = OrdinalEncoder(handle_unknown='use_encoded_value', unknown_value=-1)\n",
    "    encoder.fit(X_train[X_categorical])\n",
    "    X_train[X_categorical] = encoder.transform(X_train[X_categorical])\n",
    "    X_test[X_categorical] = encoder.transform(X_test[X_categorical])\n",
    "    \n",
    "    return X_train, X_test, encoder"
   ]
  },
  {
   "cell_type": "code",
   "execution_count": 102,
   "id": "c5ad6cde",
   "metadata": {},
   "outputs": [],
   "source": [
    "def ohe_encoding(X_train, X_test, X_categorical):\n",
    "    encoder = OneHotEncoder(handle_unknown='ignore', sparse=False, drop='first')\n",
    "    encoder.fit(X_train[X_categorical])\n",
    "                            \n",
    "    X_train_tranform = pd.DataFrame(data = encoder.transform(X_train[X_categorical]),\n",
    "                                       columns = encoder.get_feature_names_out(),\n",
    "                                       index = X_train.index)\n",
    "\n",
    "    X_test_tranform = pd.DataFrame(data = encoder.transform(X_test[X_categorical]),\n",
    "                                       columns = encoder.get_feature_names_out(),\n",
    "                                       index = X_test.index)\n",
    "                            \n",
    "                \n",
    "    X_train_ohe = X_train.drop(X_categorical, axis=1)\n",
    "    X_train_ohe = X_train_ohe.join(X_train_tranform)\n",
    "    \n",
    "    X_test_ohe = X_test.drop(X_categorical, axis=1)\n",
    "    X_test_ohe = X_test_ohe.join(X_test_tranform)\n",
    "                            \n",
    "    return X_train_ohe, X_test_ohe, encoder"
   ]
  },
  {
   "cell_type": "markdown",
   "id": "40c1f66d",
   "metadata": {},
   "source": [
    "##### стандартизация данных"
   ]
  },
  {
   "cell_type": "code",
   "execution_count": 103,
   "id": "8dbaa205",
   "metadata": {},
   "outputs": [],
   "source": [
    "def data_standartization(X_train, X_test, columns_to_transform):\n",
    "    pd.options.mode.chained_assignment = None\n",
    "    \n",
    "    scalar = StandardScaler()\n",
    "    scalar.fit(X_train[columns_to_transform])\n",
    "    \n",
    "    X_train[columns_to_transform] = scalar.transform(X_train[columns_to_transform])\n",
    "    X_test[columns_to_transform] = scalar.transform(X_test[columns_to_transform])\n",
    "    \n",
    "    return X_train, X_test, scalar"
   ]
  },
  {
   "cell_type": "markdown",
   "id": "ceb2bbc2",
   "metadata": {},
   "source": [
    "## 2.1 Подготовка данных"
   ]
  },
  {
   "cell_type": "code",
   "execution_count": 104,
   "id": "aa865fae",
   "metadata": {},
   "outputs": [],
   "source": [
    "X_var = all_data.drop(['sellingprice', 'car_age', 'vin', 'saleyear', 'seller'], axis=1)\n",
    "Y_var = all_data['sellingprice']"
   ]
  },
  {
   "cell_type": "markdown",
   "id": "ba07fedc",
   "metadata": {},
   "source": [
    "### 2.1.1 Разбиение на независимые переменные X и зависимую переменную Y"
   ]
  },
  {
   "cell_type": "code",
   "execution_count": 105,
   "id": "9117eca1",
   "metadata": {},
   "outputs": [],
   "source": [
    "X_train, X_test, Y_train, Y_test = train_test_split(X_var, Y_var, \n",
    "                                                    test_size = 0.2059992812542114, \n",
    "                                                    random_state = 42)"
   ]
  },
  {
   "cell_type": "code",
   "execution_count": 106,
   "id": "8848819a",
   "metadata": {
    "scrolled": true
   },
   "outputs": [
    {
     "data": {
      "text/html": [
       "<div>\n",
       "<style scoped>\n",
       "    .dataframe tbody tr th:only-of-type {\n",
       "        vertical-align: middle;\n",
       "    }\n",
       "\n",
       "    .dataframe tbody tr th {\n",
       "        vertical-align: top;\n",
       "    }\n",
       "\n",
       "    .dataframe thead th {\n",
       "        text-align: right;\n",
       "    }\n",
       "</style>\n",
       "<table border=\"1\" class=\"dataframe\">\n",
       "  <thead>\n",
       "    <tr style=\"text-align: right;\">\n",
       "      <th></th>\n",
       "      <th>year</th>\n",
       "      <th>make</th>\n",
       "      <th>model</th>\n",
       "      <th>trim</th>\n",
       "      <th>body</th>\n",
       "      <th>transmission</th>\n",
       "      <th>state</th>\n",
       "      <th>condition</th>\n",
       "      <th>odometer</th>\n",
       "      <th>color</th>\n",
       "      <th>interior</th>\n",
       "    </tr>\n",
       "  </thead>\n",
       "  <tbody>\n",
       "    <tr>\n",
       "      <th>140754</th>\n",
       "      <td>2014</td>\n",
       "      <td>dodge</td>\n",
       "      <td>grand caravan</td>\n",
       "      <td>sxt</td>\n",
       "      <td>minivan</td>\n",
       "      <td>automatic</td>\n",
       "      <td>tn</td>\n",
       "      <td>1.0</td>\n",
       "      <td>37894.0</td>\n",
       "      <td>silver</td>\n",
       "      <td>black</td>\n",
       "    </tr>\n",
       "    <tr>\n",
       "      <th>67153</th>\n",
       "      <td>2012</td>\n",
       "      <td>mercedes-benz</td>\n",
       "      <td>c-class</td>\n",
       "      <td>c300 luxury 4matic</td>\n",
       "      <td>sedan</td>\n",
       "      <td>automatic</td>\n",
       "      <td>ga</td>\n",
       "      <td>2.9</td>\n",
       "      <td>19480.0</td>\n",
       "      <td>black</td>\n",
       "      <td>black</td>\n",
       "    </tr>\n",
       "    <tr>\n",
       "      <th>178214</th>\n",
       "      <td>2007</td>\n",
       "      <td>saturn</td>\n",
       "      <td>aura</td>\n",
       "      <td>xr</td>\n",
       "      <td>sedan</td>\n",
       "      <td>automatic</td>\n",
       "      <td>md</td>\n",
       "      <td>3.5</td>\n",
       "      <td>89172.0</td>\n",
       "      <td>gray</td>\n",
       "      <td>gray</td>\n",
       "    </tr>\n",
       "    <tr>\n",
       "      <th>121348</th>\n",
       "      <td>2011</td>\n",
       "      <td>nissan</td>\n",
       "      <td>maxima</td>\n",
       "      <td>3.5 s</td>\n",
       "      <td>sedan</td>\n",
       "      <td>automatic</td>\n",
       "      <td>ca</td>\n",
       "      <td>2.3</td>\n",
       "      <td>87432.0</td>\n",
       "      <td>gray</td>\n",
       "      <td>black</td>\n",
       "    </tr>\n",
       "    <tr>\n",
       "      <th>21661</th>\n",
       "      <td>2008</td>\n",
       "      <td>dodge</td>\n",
       "      <td>nitro</td>\n",
       "      <td>slt</td>\n",
       "      <td>suv</td>\n",
       "      <td>automatic</td>\n",
       "      <td>nc</td>\n",
       "      <td>2.0</td>\n",
       "      <td>82762.0</td>\n",
       "      <td>black</td>\n",
       "      <td>gray</td>\n",
       "    </tr>\n",
       "    <tr>\n",
       "      <th>...</th>\n",
       "      <td>...</td>\n",
       "      <td>...</td>\n",
       "      <td>...</td>\n",
       "      <td>...</td>\n",
       "      <td>...</td>\n",
       "      <td>...</td>\n",
       "      <td>...</td>\n",
       "      <td>...</td>\n",
       "      <td>...</td>\n",
       "      <td>...</td>\n",
       "      <td>...</td>\n",
       "    </tr>\n",
       "    <tr>\n",
       "      <th>3485</th>\n",
       "      <td>2014</td>\n",
       "      <td>dodge</td>\n",
       "      <td>charger</td>\n",
       "      <td>se</td>\n",
       "      <td>sedan</td>\n",
       "      <td>automatic</td>\n",
       "      <td>ga</td>\n",
       "      <td>2.0</td>\n",
       "      <td>25145.0</td>\n",
       "      <td>white</td>\n",
       "      <td>black</td>\n",
       "    </tr>\n",
       "    <tr>\n",
       "      <th>156827</th>\n",
       "      <td>2014</td>\n",
       "      <td>nissan</td>\n",
       "      <td>altima</td>\n",
       "      <td>2.5 s</td>\n",
       "      <td>sedan</td>\n",
       "      <td>automatic</td>\n",
       "      <td>nc</td>\n",
       "      <td>4.3</td>\n",
       "      <td>25622.0</td>\n",
       "      <td>silver</td>\n",
       "      <td>black</td>\n",
       "    </tr>\n",
       "    <tr>\n",
       "      <th>266648</th>\n",
       "      <td>2013</td>\n",
       "      <td>ford</td>\n",
       "      <td>escape</td>\n",
       "      <td>se</td>\n",
       "      <td>suv</td>\n",
       "      <td>automatic</td>\n",
       "      <td>tn</td>\n",
       "      <td>4.2</td>\n",
       "      <td>16117.0</td>\n",
       "      <td>green</td>\n",
       "      <td>gray</td>\n",
       "    </tr>\n",
       "    <tr>\n",
       "      <th>25795</th>\n",
       "      <td>2006</td>\n",
       "      <td>dodge</td>\n",
       "      <td>ram pickup 1500</td>\n",
       "      <td>laramie</td>\n",
       "      <td>quad cab</td>\n",
       "      <td>automatic</td>\n",
       "      <td>nj</td>\n",
       "      <td>2.9</td>\n",
       "      <td>85819.0</td>\n",
       "      <td>white</td>\n",
       "      <td>gray</td>\n",
       "    </tr>\n",
       "    <tr>\n",
       "      <th>15522</th>\n",
       "      <td>2010</td>\n",
       "      <td>volkswagen</td>\n",
       "      <td>new beetle</td>\n",
       "      <td>2.5l red rock edition</td>\n",
       "      <td>hatchback</td>\n",
       "      <td>automatic</td>\n",
       "      <td>fl</td>\n",
       "      <td>3.9</td>\n",
       "      <td>76961.0</td>\n",
       "      <td>green</td>\n",
       "      <td>black</td>\n",
       "    </tr>\n",
       "  </tbody>\n",
       "</table>\n",
       "<p>424206 rows × 11 columns</p>\n",
       "</div>"
      ],
      "text/plain": [
       "        year           make            model                   trim  \\\n",
       "140754  2014          dodge    grand caravan                    sxt   \n",
       "67153   2012  mercedes-benz          c-class     c300 luxury 4matic   \n",
       "178214  2007         saturn             aura                     xr   \n",
       "121348  2011         nissan           maxima                  3.5 s   \n",
       "21661   2008          dodge            nitro                    slt   \n",
       "...      ...            ...              ...                    ...   \n",
       "3485    2014          dodge          charger                     se   \n",
       "156827  2014         nissan           altima                  2.5 s   \n",
       "266648  2013           ford           escape                     se   \n",
       "25795   2006          dodge  ram pickup 1500                laramie   \n",
       "15522   2010     volkswagen       new beetle  2.5l red rock edition   \n",
       "\n",
       "             body transmission state  condition  odometer   color interior  \n",
       "140754    minivan    automatic    tn        1.0   37894.0  silver    black  \n",
       "67153       sedan    automatic    ga        2.9   19480.0   black    black  \n",
       "178214      sedan    automatic    md        3.5   89172.0    gray     gray  \n",
       "121348      sedan    automatic    ca        2.3   87432.0    gray    black  \n",
       "21661         suv    automatic    nc        2.0   82762.0   black     gray  \n",
       "...           ...          ...   ...        ...       ...     ...      ...  \n",
       "3485        sedan    automatic    ga        2.0   25145.0   white    black  \n",
       "156827      sedan    automatic    nc        4.3   25622.0  silver    black  \n",
       "266648        suv    automatic    tn        4.2   16117.0   green     gray  \n",
       "25795    quad cab    automatic    nj        2.9   85819.0   white     gray  \n",
       "15522   hatchback    automatic    fl        3.9   76961.0   green    black  \n",
       "\n",
       "[424206 rows x 11 columns]"
      ]
     },
     "execution_count": 106,
     "metadata": {},
     "output_type": "execute_result"
    }
   ],
   "source": [
    "X_train"
   ]
  },
  {
   "cell_type": "markdown",
   "id": "f6dfe5d5",
   "metadata": {},
   "source": [
    "### 2.1.2 Стандартизация данных"
   ]
  },
  {
   "cell_type": "code",
   "execution_count": 107,
   "id": "93485f1e",
   "metadata": {},
   "outputs": [],
   "source": [
    "columns_to_transform = ['odometer', 'condition', 'year']"
   ]
  },
  {
   "cell_type": "code",
   "execution_count": 108,
   "id": "9b894c6a",
   "metadata": {},
   "outputs": [],
   "source": [
    "X_train, X_test, scalar = data_standartization(X_train, X_test, columns_to_transform)"
   ]
  },
  {
   "cell_type": "code",
   "execution_count": 109,
   "id": "af3ff965",
   "metadata": {},
   "outputs": [
    {
     "data": {
      "text/html": [
       "<div>\n",
       "<style scoped>\n",
       "    .dataframe tbody tr th:only-of-type {\n",
       "        vertical-align: middle;\n",
       "    }\n",
       "\n",
       "    .dataframe tbody tr th {\n",
       "        vertical-align: top;\n",
       "    }\n",
       "\n",
       "    .dataframe thead th {\n",
       "        text-align: right;\n",
       "    }\n",
       "</style>\n",
       "<table border=\"1\" class=\"dataframe\">\n",
       "  <thead>\n",
       "    <tr style=\"text-align: right;\">\n",
       "      <th></th>\n",
       "      <th>year</th>\n",
       "      <th>make</th>\n",
       "      <th>model</th>\n",
       "      <th>trim</th>\n",
       "      <th>body</th>\n",
       "      <th>transmission</th>\n",
       "      <th>state</th>\n",
       "      <th>condition</th>\n",
       "      <th>odometer</th>\n",
       "      <th>color</th>\n",
       "      <th>interior</th>\n",
       "    </tr>\n",
       "  </thead>\n",
       "  <tbody>\n",
       "    <tr>\n",
       "      <th>140754</th>\n",
       "      <td>0.992439</td>\n",
       "      <td>dodge</td>\n",
       "      <td>grand caravan</td>\n",
       "      <td>sxt</td>\n",
       "      <td>minivan</td>\n",
       "      <td>automatic</td>\n",
       "      <td>tn</td>\n",
       "      <td>-2.608126</td>\n",
       "      <td>-0.572744</td>\n",
       "      <td>silver</td>\n",
       "      <td>black</td>\n",
       "    </tr>\n",
       "    <tr>\n",
       "      <th>67153</th>\n",
       "      <td>0.475970</td>\n",
       "      <td>mercedes-benz</td>\n",
       "      <td>c-class</td>\n",
       "      <td>c300 luxury 4matic</td>\n",
       "      <td>sedan</td>\n",
       "      <td>automatic</td>\n",
       "      <td>ga</td>\n",
       "      <td>-0.575475</td>\n",
       "      <td>-0.931473</td>\n",
       "      <td>black</td>\n",
       "      <td>black</td>\n",
       "    </tr>\n",
       "    <tr>\n",
       "      <th>178214</th>\n",
       "      <td>-0.815201</td>\n",
       "      <td>saturn</td>\n",
       "      <td>aura</td>\n",
       "      <td>xr</td>\n",
       "      <td>sedan</td>\n",
       "      <td>automatic</td>\n",
       "      <td>md</td>\n",
       "      <td>0.066415</td>\n",
       "      <td>0.426218</td>\n",
       "      <td>gray</td>\n",
       "      <td>gray</td>\n",
       "    </tr>\n",
       "    <tr>\n",
       "      <th>121348</th>\n",
       "      <td>0.217736</td>\n",
       "      <td>nissan</td>\n",
       "      <td>maxima</td>\n",
       "      <td>3.5 s</td>\n",
       "      <td>sedan</td>\n",
       "      <td>automatic</td>\n",
       "      <td>ca</td>\n",
       "      <td>-1.217365</td>\n",
       "      <td>0.392321</td>\n",
       "      <td>gray</td>\n",
       "      <td>black</td>\n",
       "    </tr>\n",
       "    <tr>\n",
       "      <th>21661</th>\n",
       "      <td>-0.556967</td>\n",
       "      <td>dodge</td>\n",
       "      <td>nitro</td>\n",
       "      <td>slt</td>\n",
       "      <td>suv</td>\n",
       "      <td>automatic</td>\n",
       "      <td>nc</td>\n",
       "      <td>-1.538309</td>\n",
       "      <td>0.301343</td>\n",
       "      <td>black</td>\n",
       "      <td>gray</td>\n",
       "    </tr>\n",
       "    <tr>\n",
       "      <th>...</th>\n",
       "      <td>...</td>\n",
       "      <td>...</td>\n",
       "      <td>...</td>\n",
       "      <td>...</td>\n",
       "      <td>...</td>\n",
       "      <td>...</td>\n",
       "      <td>...</td>\n",
       "      <td>...</td>\n",
       "      <td>...</td>\n",
       "      <td>...</td>\n",
       "      <td>...</td>\n",
       "    </tr>\n",
       "    <tr>\n",
       "      <th>3485</th>\n",
       "      <td>0.992439</td>\n",
       "      <td>dodge</td>\n",
       "      <td>charger</td>\n",
       "      <td>se</td>\n",
       "      <td>sedan</td>\n",
       "      <td>automatic</td>\n",
       "      <td>ga</td>\n",
       "      <td>-1.538309</td>\n",
       "      <td>-0.821112</td>\n",
       "      <td>white</td>\n",
       "      <td>black</td>\n",
       "    </tr>\n",
       "    <tr>\n",
       "      <th>156827</th>\n",
       "      <td>0.992439</td>\n",
       "      <td>nissan</td>\n",
       "      <td>altima</td>\n",
       "      <td>2.5 s</td>\n",
       "      <td>sedan</td>\n",
       "      <td>automatic</td>\n",
       "      <td>nc</td>\n",
       "      <td>0.922268</td>\n",
       "      <td>-0.811819</td>\n",
       "      <td>silver</td>\n",
       "      <td>black</td>\n",
       "    </tr>\n",
       "    <tr>\n",
       "      <th>266648</th>\n",
       "      <td>0.734205</td>\n",
       "      <td>ford</td>\n",
       "      <td>escape</td>\n",
       "      <td>se</td>\n",
       "      <td>suv</td>\n",
       "      <td>automatic</td>\n",
       "      <td>tn</td>\n",
       "      <td>0.815286</td>\n",
       "      <td>-0.996989</td>\n",
       "      <td>green</td>\n",
       "      <td>gray</td>\n",
       "    </tr>\n",
       "    <tr>\n",
       "      <th>25795</th>\n",
       "      <td>-1.073435</td>\n",
       "      <td>dodge</td>\n",
       "      <td>ram pickup 1500</td>\n",
       "      <td>laramie</td>\n",
       "      <td>quad cab</td>\n",
       "      <td>automatic</td>\n",
       "      <td>nj</td>\n",
       "      <td>-0.575475</td>\n",
       "      <td>0.360898</td>\n",
       "      <td>white</td>\n",
       "      <td>gray</td>\n",
       "    </tr>\n",
       "    <tr>\n",
       "      <th>15522</th>\n",
       "      <td>-0.040498</td>\n",
       "      <td>volkswagen</td>\n",
       "      <td>new beetle</td>\n",
       "      <td>2.5l red rock edition</td>\n",
       "      <td>hatchback</td>\n",
       "      <td>automatic</td>\n",
       "      <td>fl</td>\n",
       "      <td>0.494341</td>\n",
       "      <td>0.188332</td>\n",
       "      <td>green</td>\n",
       "      <td>black</td>\n",
       "    </tr>\n",
       "  </tbody>\n",
       "</table>\n",
       "<p>424206 rows × 11 columns</p>\n",
       "</div>"
      ],
      "text/plain": [
       "            year           make            model                   trim  \\\n",
       "140754  0.992439          dodge    grand caravan                    sxt   \n",
       "67153   0.475970  mercedes-benz          c-class     c300 luxury 4matic   \n",
       "178214 -0.815201         saturn             aura                     xr   \n",
       "121348  0.217736         nissan           maxima                  3.5 s   \n",
       "21661  -0.556967          dodge            nitro                    slt   \n",
       "...          ...            ...              ...                    ...   \n",
       "3485    0.992439          dodge          charger                     se   \n",
       "156827  0.992439         nissan           altima                  2.5 s   \n",
       "266648  0.734205           ford           escape                     se   \n",
       "25795  -1.073435          dodge  ram pickup 1500                laramie   \n",
       "15522  -0.040498     volkswagen       new beetle  2.5l red rock edition   \n",
       "\n",
       "             body transmission state  condition  odometer   color interior  \n",
       "140754    minivan    automatic    tn  -2.608126 -0.572744  silver    black  \n",
       "67153       sedan    automatic    ga  -0.575475 -0.931473   black    black  \n",
       "178214      sedan    automatic    md   0.066415  0.426218    gray     gray  \n",
       "121348      sedan    automatic    ca  -1.217365  0.392321    gray    black  \n",
       "21661         suv    automatic    nc  -1.538309  0.301343   black     gray  \n",
       "...           ...          ...   ...        ...       ...     ...      ...  \n",
       "3485        sedan    automatic    ga  -1.538309 -0.821112   white    black  \n",
       "156827      sedan    automatic    nc   0.922268 -0.811819  silver    black  \n",
       "266648        suv    automatic    tn   0.815286 -0.996989   green     gray  \n",
       "25795    quad cab    automatic    nj  -0.575475  0.360898   white     gray  \n",
       "15522   hatchback    automatic    fl   0.494341  0.188332   green    black  \n",
       "\n",
       "[424206 rows x 11 columns]"
      ]
     },
     "execution_count": 109,
     "metadata": {},
     "output_type": "execute_result"
    }
   ],
   "source": [
    "X_train"
   ]
  },
  {
   "cell_type": "markdown",
   "id": "c2408724",
   "metadata": {},
   "source": [
    "### 2.1.2 Добавление фиктивынх переменных "
   ]
  },
  {
   "cell_type": "code",
   "execution_count": 110,
   "id": "f2090add",
   "metadata": {},
   "outputs": [],
   "source": [
    "columns_to_endcoder = ['make', 'model', 'trim', 'body', 'transmission',\n",
    "                       'state', 'color', 'interior']"
   ]
  },
  {
   "cell_type": "markdown",
   "id": "63f27e8b",
   "metadata": {},
   "source": [
    "#### 2.1.2.1 Ordinal encoder"
   ]
  },
  {
   "cell_type": "code",
   "execution_count": 111,
   "id": "c09f8327",
   "metadata": {},
   "outputs": [],
   "source": [
    "X_train_ord, X_test_ord, ordinal_encoder = ordinal_encoding(X_train, X_test, columns_to_endcoder)"
   ]
  },
  {
   "cell_type": "markdown",
   "id": "bcc16e26",
   "metadata": {},
   "source": [
    "## 2.2 Подбор гиперпараметров и обучение"
   ]
  },
  {
   "cell_type": "code",
   "execution_count": 112,
   "id": "75d70f32",
   "metadata": {},
   "outputs": [],
   "source": [
    "max_depth = list(range (2,20))\n",
    "n_estimators = list(range(7,50,2))\n",
    "min_samples_split = list(range(6,15,2))\n",
    "min_samples_leaf =  list(range(4,15))\n",
    "ccp_alpha = np.arange(0, 1, 0.05)\n",
    "criterion = ['gini', 'entropy', 'log_loss']"
   ]
  },
  {
   "cell_type": "code",
   "execution_count": 113,
   "id": "4d734a03",
   "metadata": {},
   "outputs": [],
   "source": [
    "estimators_values_list = np.arange(10, 50, 5)\n",
    "reg_alpha_values_list = np.arange(0, 1, 0.05)\n",
    "depth_values_list = np.arange(10, 50, 5)"
   ]
  },
  {
   "cell_type": "code",
   "execution_count": 114,
   "id": "acdd1267",
   "metadata": {},
   "outputs": [],
   "source": [
    "test_grid = {'rf__n_estimators': estimators_values_list,\n",
    "              'rf__max_depth': depth_values_list,  \n",
    "              'rf__ccp_alpha': reg_alpha_values_list}"
   ]
  },
  {
   "cell_type": "markdown",
   "id": "278f1825",
   "metadata": {},
   "source": [
    "### 2.2.1 Ансамбль градиентного бустинга"
   ]
  },
  {
   "cell_type": "code",
   "execution_count": 115,
   "id": "0098eda9",
   "metadata": {},
   "outputs": [],
   "source": [
    "lgbm_params_dict = { \n",
    "        \"lgbm__max_depth\": max_depth,\n",
    "        \"lgbm__n_estimators\": n_estimators,\n",
    "        \"lgbm__min_samples_split\": min_samples_split,\n",
    "        \"lgbm__min_samples_leaf\": min_samples_leaf,\n",
    "        \"lgbm__ccp_alpha\": ccp_alpha,\n",
    "        \"lgbm__criterion\": criterion\n",
    "    }"
   ]
  },
  {
   "cell_type": "code",
   "execution_count": 128,
   "id": "bb359902",
   "metadata": {},
   "outputs": [],
   "source": [
    "def lgbm_select_hyper_params(X_train, Y_train, params_dict):\n",
    "    \n",
    "    \n",
    "    pipeline = Pipeline([ ('lgbm', lgb.LGBMModel(objective='regression', verbose = -1)) ])\n",
    "    \n",
    "    grid_search = RandomizedSearchCV(estimator=pipeline,\n",
    "                                param_distributions=params_dict,\n",
    "                                n_iter=200,    \n",
    "                                scoring = 'neg_mean_squared_error',\n",
    "                                cv=5,\n",
    "                                n_jobs=-1,\n",
    "                                random_state=423\n",
    "                                )\n",
    "    grid_search.fit(X_train, Y_train)\n",
    "    \n",
    "    print(\"Best Hyperparameters: \", grid_search.best_params_)\n",
    "    print(\"Best train score: \", grid_search.best_score_)\n",
    "    \n",
    "    return grid_search.best_params_,  grid_search.best_score_"
   ]
  },
  {
   "cell_type": "code",
   "execution_count": 129,
   "id": "a9ffcba2",
   "metadata": {},
   "outputs": [
    {
     "name": "stdout",
     "output_type": "stream",
     "text": [
      "Best Hyperparameters: {'lgbm__n_estimators': 49, 'lgbm__min_samples_split': 6, 'lgbm__min_samples_leaf': 13, 'lgbm__max_depth': 11, 'lgbm__criterion': 'gini', 'lgbm__ccp_alpha': 0.75}\n",
      "Best train score -236298.49575487612\n"
     ]
    }
   ],
   "source": [
    "lgbm_hyper_params, lgbm_train_best_score = lgbm_select_hyper_params(X_train_ord, Y_train, lgbm_params_dict)"
   ]
  },
  {
   "cell_type": "markdown",
   "id": "d5514219",
   "metadata": {},
   "source": [
    "### 2.2.2 Случайный лес"
   ]
  },
  {
   "cell_type": "code",
   "execution_count": 130,
   "id": "3730fd0d",
   "metadata": {},
   "outputs": [],
   "source": [
    "rf_params_dict = {\n",
    "        \"rf__max_depth\": max_depth,\n",
    "        \"rf__n_estimators\": n_estimators,\n",
    "        \"rf__min_samples_split\": min_samples_split,\n",
    "        \"rf__min_samples_leaf\": min_samples_leaf,\n",
    "        \"rf__ccp_alpha\": ccp_alpha\n",
    "    }"
   ]
  },
  {
   "cell_type": "code",
   "execution_count": 133,
   "id": "4479c15d",
   "metadata": {
    "scrolled": true
   },
   "outputs": [],
   "source": [
    "def rf_select_hyper_params(X_train, Y_train, params_dict):\n",
    "    \n",
    "    pipeline = Pipeline([\n",
    "    ('rf', RandomForestRegressor(random_state=42))\n",
    "        ])\n",
    "    \n",
    "    grid_search = RandomizedSearchCV(estimator=pipeline,\n",
    "                                param_distributions=params_dict,\n",
    "                                n_iter=200,\n",
    "                                scoring = 'neg_mean_squared_error',\n",
    "                                cv=5,\n",
    "                                n_jobs=-1,\n",
    "                                random_state=42)\n",
    "    grid_search.fit(X_train, Y_train)\n",
    "    \n",
    "    print(\"Best Hyperparameters:\", grid_search.best_params_)\n",
    "    print(\"Best train score\", grid_search.best_score_)\n",
    "    \n",
    "    return grid_search.best_score_, grid_search.best_score_"
   ]
  },
  {
   "cell_type": "code",
   "execution_count": 134,
   "id": "80dcfa2f",
   "metadata": {},
   "outputs": [
    {
     "name": "stdout",
     "output_type": "stream",
     "text": [
      "Best Hyperparameters: {'rf__n_estimators': 43, 'rf__min_samples_split': 6, 'rf__min_samples_leaf': 6, 'rf__max_depth': 18, 'rf__ccp_alpha': 0.55}\n",
      "Best train score -189015.31927157362\n"
     ]
    }
   ],
   "source": [
    "rf_hyper_params, rf_train_best_score = rf_select_hyper_params(X_train_ord, Y_train, rf_params_dict)"
   ]
  },
  {
   "cell_type": "markdown",
   "id": "4ba15e07",
   "metadata": {},
   "source": [
    "## 2.3 Выбор наилучшей модели"
   ]
  },
  {
   "cell_type": "markdown",
   "id": "96a10703",
   "metadata": {},
   "source": [
    "Так как ансамбль градиентного бустинга показал лучше оценку прри обучении, чем случайный лес - neg_mean_squared_error = -189015 для случайного леса и neg_mean_squared_error = -236298 для градиентного бустинга, то будет выбрана модель ансамбля градиентго бустинга со следующими гиперпараметрами: <br>\n",
    "n_estimators = 49<br>\n",
    "min_samples_split= 6<br>\n",
    "min_samples_leaf = 6<br>\n",
    "max_depth = 18 <br>\n",
    "ccp_alpha = 0.55 <br>"
   ]
  },
  {
   "cell_type": "markdown",
   "id": "fa736588",
   "metadata": {},
   "source": [
    "# 3.  Обучение и тестовый прогноз"
   ]
  },
  {
   "cell_type": "code",
   "execution_count": 140,
   "id": "129c627d",
   "metadata": {},
   "outputs": [],
   "source": [
    "final_model = lgb.LGBMModel(objective='regression',\n",
    "                            verbose = -1,\n",
    "                            max_depth=18, \n",
    "                            min_samples_split = 6,\n",
    "                            n_estimators = 49,\n",
    "                            min_samples_leaf = 6,\n",
    "                            ccp_alpha = 0.55,\n",
    "                            criterion = 'gini',\n",
    "                            random_state=123, \n",
    "                            n_jobs = -1)\n",
    "\n",
    "final_model.fit(X_train_ord, Y_train)\n",
    "Y_predict = final_model.predict(X_test_ord)\n",
    "MSE = mean_squared_error(Y_test, Y_predict)\n",
    "MAPE = mean_absolute_percentage_error(Y_test, Y_predict)\n",
    "R2 = r2_score(Y_test, Y_predict)"
   ]
  },
  {
   "cell_type": "code",
   "execution_count": 141,
   "id": "e233f267",
   "metadata": {},
   "outputs": [
    {
     "name": "stdout",
     "output_type": "stream",
     "text": [
      "MSE:  237271.85701593274\n",
      "MAPE: 0.5041777106033973\n",
      "R2:  0.6712291574715015\n"
     ]
    }
   ],
   "source": [
    "print('MSE: ', MSE)\n",
    "print('MAPE:', MAPE)\n",
    "print('R2: ', R2)"
   ]
  },
  {
   "cell_type": "code",
   "execution_count": 142,
   "id": "3628f73d",
   "metadata": {
    "scrolled": false
   },
   "outputs": [
    {
     "data": {
      "text/html": [
       "<div>\n",
       "<style scoped>\n",
       "    .dataframe tbody tr th:only-of-type {\n",
       "        vertical-align: middle;\n",
       "    }\n",
       "\n",
       "    .dataframe tbody tr th {\n",
       "        vertical-align: top;\n",
       "    }\n",
       "\n",
       "    .dataframe thead th {\n",
       "        text-align: right;\n",
       "    }\n",
       "</style>\n",
       "<table border=\"1\" class=\"dataframe\">\n",
       "  <thead>\n",
       "    <tr style=\"text-align: right;\">\n",
       "      <th></th>\n",
       "      <th>Feature</th>\n",
       "      <th>importances coef</th>\n",
       "    </tr>\n",
       "  </thead>\n",
       "  <tbody>\n",
       "    <tr>\n",
       "      <th>2</th>\n",
       "      <td>model</td>\n",
       "      <td>347</td>\n",
       "    </tr>\n",
       "    <tr>\n",
       "      <th>1</th>\n",
       "      <td>make</td>\n",
       "      <td>312</td>\n",
       "    </tr>\n",
       "    <tr>\n",
       "      <th>3</th>\n",
       "      <td>trim</td>\n",
       "      <td>273</td>\n",
       "    </tr>\n",
       "    <tr>\n",
       "      <th>4</th>\n",
       "      <td>body</td>\n",
       "      <td>231</td>\n",
       "    </tr>\n",
       "    <tr>\n",
       "      <th>0</th>\n",
       "      <td>year</td>\n",
       "      <td>109</td>\n",
       "    </tr>\n",
       "    <tr>\n",
       "      <th>8</th>\n",
       "      <td>odometer</td>\n",
       "      <td>86</td>\n",
       "    </tr>\n",
       "    <tr>\n",
       "      <th>7</th>\n",
       "      <td>condition</td>\n",
       "      <td>65</td>\n",
       "    </tr>\n",
       "    <tr>\n",
       "      <th>10</th>\n",
       "      <td>interior</td>\n",
       "      <td>25</td>\n",
       "    </tr>\n",
       "    <tr>\n",
       "      <th>9</th>\n",
       "      <td>color</td>\n",
       "      <td>15</td>\n",
       "    </tr>\n",
       "    <tr>\n",
       "      <th>6</th>\n",
       "      <td>state</td>\n",
       "      <td>7</td>\n",
       "    </tr>\n",
       "    <tr>\n",
       "      <th>5</th>\n",
       "      <td>transmission</td>\n",
       "      <td>0</td>\n",
       "    </tr>\n",
       "  </tbody>\n",
       "</table>\n",
       "</div>"
      ],
      "text/plain": [
       "         Feature  importances coef\n",
       "2          model               347\n",
       "1           make               312\n",
       "3           trim               273\n",
       "4           body               231\n",
       "0           year               109\n",
       "8       odometer                86\n",
       "7      condition                65\n",
       "10      interior                25\n",
       "9          color                15\n",
       "6          state                 7\n",
       "5   transmission                 0"
      ]
     },
     "execution_count": 142,
     "metadata": {},
     "output_type": "execute_result"
    }
   ],
   "source": [
    "feature_importances = pd.DataFrame({\n",
    "    'Feature': X_train.columns,\n",
    "    'importances coef': final_model.feature_importances_\n",
    "})\n",
    "feature_importances.sort_values('importances coef', ascending=False)"
   ]
  },
  {
   "cell_type": "markdown",
   "id": "37215abe",
   "metadata": {},
   "source": [
    "Больше всего на цену влияет model, make, trim, boody"
   ]
  },
  {
   "cell_type": "code",
   "execution_count": 143,
   "id": "4ddffe5e",
   "metadata": {},
   "outputs": [],
   "source": [
    "test_predict = pd.Series(Y_predict, name='predict')"
   ]
  },
  {
   "cell_type": "markdown",
   "id": "e3df362a",
   "metadata": {},
   "source": [
    "## Вывод по предиктивной аналитике "
   ]
  },
  {
   "cell_type": "markdown",
   "id": "be540a8e",
   "metadata": {},
   "source": [
    "Были выявленны признаки, котороые влияют на цену больше всего:<br>\n",
    "1. model <br>\n",
    "2. make <br>\n",
    "3. trim <br>\n",
    "4. body <br>\n",
    "Однако выский показатель MAPE = 0.5 и не столь выской R2 = 0.67 для построенной моедели не дает оснований для предположения о налисии четкой зависимости в данных"
   ]
  },
  {
   "cell_type": "markdown",
   "id": "a6576a8f",
   "metadata": {},
   "source": [
    "# Общий вывод по работе"
   ]
  },
  {
   "cell_type": "markdown",
   "id": "466b70f5",
   "metadata": {},
   "source": [
    "<b>Сильной зависимости между данными не удлаось обноружить.<br><b>\n",
    "1. Линейной взаимосвязи нету по причине того, что при регрессионном анализе объясняющих перменных, которые больше всего могут влиять на цену автомобиля (odometer, condition, car_age) не были выполнены условия успешного регрессионного анализа: Остатки модели не подчиняются гаусовскому распределению, наличие гетероскдастичности, наличие маленькой корреляции.<br>\n",
    "2. Допущение о том, что линейная зависимость имеется между ценой и пробегом авто, но важным фактором является модель автомобиля также не подтверждена. Псоле проведения регрессионного анализа отдельно для каждой моедли улсовия успешного регрессионного анализа также не были выполнены. в 87% случаях присутвовала гетероскадастичность<br>\n",
    "3. Преположение, что зависимость можно описать уравнением вида sellingprice = b0 + b1 * odometer + b2 * car_age + b3 * condition\n",
    "после проведения регрессионного анализа для каждой модели автомобиля, так же не было принято, так как только в 1% случаев остатки были распредлены нормально. Так же отстутвие пакетов в python для проверки на гомосеедастичность множетсвенную регрессию не дает возможность подтвердить или опровергнуть наличие гетероскдастичности<br>\n",
    "4. Наличие большой вариативности данных в номинативвных переменнах не предоставляет возможным провезти полноценный регрессионный анализ и попытатья выразить зависимость цены уравнением линейного вида. В каждой номинативной переменной может находится до 14 000 различных вариаций данных, например в переменной seller 14 000 различных выдов продацов.<br>\n",
    "5. Наличие высокого значения MAPE = 0.5 и не столь выское значение R2 = 0.67 говорит о невозможности четко описать зависимоть в данных неленейной моделью описания gradient boosting random forest<br>\n",
    "6. Обнаружены факторы, влияющие больше всего на цену - model, make, trim, boody но из-за не состоятельности модели описания у нас нету оснований принять достоверность их влияния<br>"
   ]
  },
  {
   "cell_type": "code",
   "execution_count": null,
   "id": "54313411",
   "metadata": {},
   "outputs": [],
   "source": []
  }
 ],
 "metadata": {
  "kernelspec": {
   "display_name": "Python 3 (ipykernel)",
   "language": "python",
   "name": "python3"
  },
  "language_info": {
   "codemirror_mode": {
    "name": "ipython",
    "version": 3
   },
   "file_extension": ".py",
   "mimetype": "text/x-python",
   "name": "python",
   "nbconvert_exporter": "python",
   "pygments_lexer": "ipython3",
   "version": "3.10.9"
  }
 },
 "nbformat": 4,
 "nbformat_minor": 5
}
